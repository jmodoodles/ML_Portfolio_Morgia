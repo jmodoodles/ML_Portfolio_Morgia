{
 "cells": [
  {
   "cell_type": "markdown",
   "metadata": {},
   "source": [
    "# 9 Clustering "
   ]
  },
  {
   "cell_type": "code",
   "execution_count": 93,
   "metadata": {
    "collapsed": true
   },
   "outputs": [],
   "source": [
    "import pandas as pd\n",
    "# allow plots to appear in the notebook\n",
    "%matplotlib notebook\n",
    "%matplotlib inline\n",
    "import matplotlib.pyplot as plt\n",
    "import numpy as np\n",
    "import seaborn\n",
    "from mpl_toolkits.mplot3d import Axes3D\n",
    "plt.rcParams['font.size'] = 14\n",
    "# plt.rcParams['figure.figsize'] = (20.0, 10.0)\n",
    "\n"
   ]
  },
  {
   "cell_type": "markdown",
   "metadata": {},
   "source": [
    "**Note:** The next few lines of code will read in data and variables used in lesson 9, prior to approaching the DBSCAN portion of the assignment."
   ]
  },
  {
   "cell_type": "code",
   "execution_count": null,
   "metadata": {},
   "outputs": [],
   "source": [
    "#read in the road data used in Lesson 9, renaming data file from X to roads\n",
    "\n",
    "roads = pd.read_csv('/Users/jMac/Documents/ML_Portfolio_Morgia/data/3D_spatial_network.txt', header=None, names=['osm', 'lat','lon','alt'])\n",
    "# renaming columns lat, lon, alt, osm\n",
    "\n",
    "roads = roads.drop(['osm'], axis=1).sample(10000) #drops the osm column; picks out 10,000 datapoints\n",
    "roads.head()\n",
    "\n",
    "#remember there is no y (no classification predefined)"
   ]
  },
  {
   "cell_type": "code",
   "execution_count": null,
   "metadata": {},
   "outputs": [],
   "source": [
    "# K-means with N clusters\n",
    "N = 7\n",
    "from sklearn.cluster import KMeans\n",
    "km = KMeans(n_clusters=N, random_state=1)\n",
    "km.fit(roads)\n",
    "\n"
   ]
  },
  {
   "cell_type": "code",
   "execution_count": null,
   "metadata": {},
   "outputs": [],
   "source": [
    "# review the cluster labels\n",
    "set(km.labels_)"
   ]
  },
  {
   "cell_type": "code",
   "execution_count": null,
   "metadata": {
    "collapsed": true
   },
   "outputs": [],
   "source": [
    "roads['cluster'] = km.predict(roads)"
   ]
  },
  {
   "cell_type": "code",
   "execution_count": null,
   "metadata": {},
   "outputs": [],
   "source": [
    "roads.cluster.value_counts()"
   ]
  },
  {
   "cell_type": "code",
   "execution_count": null,
   "metadata": {
    "collapsed": true
   },
   "outputs": [],
   "source": [
    "fig = plt.figure()\n",
    "plt.clf()\n",
    "ax = Axes3D(fig, rect=[0, 0, .95, 1], elev=48, azim=140)\n",
    "colors=np.array(['r','b','g','y'])\n",
    "\n",
    "plt.cla()\n",
    "\n",
    "ax.scatter(roads['lat'], roads['lon'], roads['alt'], c=colors[roads.cluster], s=5)\n",
    "\n",
    "ax.set_xlabel('lat')\n",
    "ax.set_ylabel('lon')\n",
    "ax.set_zlabel('alt')\n",
    "plt.show()"
   ]
  },
  {
   "cell_type": "code",
   "execution_count": null,
   "metadata": {
    "collapsed": true
   },
   "outputs": [],
   "source": [
    "roads2 = roads.copy()\n",
    "roads2['alt'] = (roads.alt - roads.alt.mean())/roads.alt.std()\n",
    "roads2['lat'] = (roads.lat - roads.lat.mean())/roads.lat.std()\n",
    "roads2['lon'] = (roads.lon - roads.lon.mean())/roads.lon.std()\n"
   ]
  },
  {
   "cell_type": "code",
   "execution_count": null,
   "metadata": {
    "collapsed": true
   },
   "outputs": [],
   "source": [
    "\n",
    "\n",
    "km = KMeans(n_clusters=N, random_state=1)\n",
    "roads2['cluster'] = km.fit_predict(roads2[['lon', 'lat', 'alt']])\n",
    "\n"
   ]
  },
  {
   "cell_type": "code",
   "execution_count": null,
   "metadata": {
    "collapsed": true
   },
   "outputs": [],
   "source": [
    "\n",
    "\n",
    "fig = plt.figure()\n",
    "plt.scatter(roads2.lon, roads2.alt, c=roads2.cluster, s=5, cmap='Paired')\n",
    "\n",
    "plt.xlabel('lon')\n",
    "plt.ylabel('alt')\n",
    "plt.show()\n",
    "\n"
   ]
  },
  {
   "cell_type": "code",
   "execution_count": null,
   "metadata": {
    "collapsed": true
   },
   "outputs": [],
   "source": []
  },
  {
   "cell_type": "markdown",
   "metadata": {},
   "source": [
    "## 1. DBSCAN\n",
    "Using DBSCAN iterate (for-loop) through different values of `min_samples` (1 to 10) and `epsilon` (.05 to .5, in steps of .01)  to find clusters in the road-data used in the Lesson and calculate the Silohouette Coeff for `min_samples` and `epsilon`. Plot **_one_** line plot with the multiple lines generated from the min_samples and epsilon values. Use a 2D array to store the SilCoeff values, one dimension represents `min_samples`, the other represents epsilon."
   ]
  },
  {
   "cell_type": "code",
   "execution_count": null,
   "metadata": {
    "collapsed": true
   },
   "outputs": [],
   "source": [
    "#Init signature: DBSCAN(eps=0.5, min_samples=5, metric='euclidean', \n",
    "    #algorithm='auto', leaf_size=30, p=None, n_jobs=1)"
   ]
  },
  {
   "cell_type": "code",
   "execution_count": null,
   "metadata": {
    "collapsed": true
   },
   "outputs": [],
   "source": [
    "from sklearn.cluster import DBSCAN\n",
    "colors=np.array(['r','b','g','y'])\n"
   ]
  },
  {
   "cell_type": "code",
   "execution_count": null,
   "metadata": {
    "scrolled": true
   },
   "outputs": [],
   "source": [
    "\n",
    "dbscan = DBSCAN()\n",
    "roads.cluster = dbscan.fit_predict(roads[['lat','lon', 'alt']])\n",
    "\n"
   ]
  },
  {
   "cell_type": "code",
   "execution_count": null,
   "metadata": {
    "collapsed": true
   },
   "outputs": [],
   "source": [
    "#iterate values of min_samples from 1 to 10 and epsilon from 0.05 to 0.5 in steps of 0.01.\n",
    "\n",
    "for i, min_samples in enumerate([1,2,3,4,5,6,7,8,9,10]):\n",
    "    for j, eps in enumerate([.05, .10, .15, .20,.25,.30,.35,.40,.45,.5]):\n",
    "        dbscan = DBSCAN(eps=eps, min_samples=min_samples)\n"
   ]
  },
  {
   "cell_type": "code",
   "execution_count": null,
   "metadata": {},
   "outputs": [],
   "source": [
    "dbscan"
   ]
  },
  {
   "cell_type": "code",
   "execution_count": null,
   "metadata": {},
   "outputs": [],
   "source": [
    "next(r)"
   ]
  },
  {
   "cell_type": "code",
   "execution_count": null,
   "metadata": {
    "collapsed": true
   },
   "outputs": [],
   "source": [
    "DBSCAN(eps==next(epsi), min_samples==next(samples), metric='euclidean', alogrithm='auto', leaf_size=30, n_jobs=1)\n"
   ]
  },
  {
   "cell_type": "code",
   "execution_count": null,
   "metadata": {
    "collapsed": true
   },
   "outputs": [],
   "source": [
    "for k in k_range:\n",
    "    km = KMeans(n_clusters=k, random_state=1)\n",
    "    labels = km.fit_predict(XX[['lon', 'lat', 'alt']])\n",
    "    scores.append(metrics.silhouette_score(XX[['lon', 'lat', 'alt']], labels))"
   ]
  },
  {
   "cell_type": "code",
   "execution_count": null,
   "metadata": {},
   "outputs": [],
   "source": [
    "fig,axes=plt.subplots(3,4,figsize=(12,6), subplot_kw={'xticks': (), 'yticks': ()})\n",
    "\n",
    "for i, min_samples in enumerate([1,2,3,4,5,6,7,8,9,10]):\n",
    "    for j, eps in enumerate([0.05, ])\n",
    "\n",
    "\n",
    "for i, min_samples in enumerate([2,3,5]):\n",
    "    for j, eps in enumerate([1,1.5,2,3]):\n",
    "        dbscan=DBSCAN(min_samples=min_samples,eps=eps)\n",
    "        clusters=dbscan.fit_predict(roads)\n",
    "        print('min_samples: %d eps: %.1f clusters: %s'%(min_samples,eps,clusters))\n",
    "        sizes=30*np.ones(roads.shape[0])\n",
    "        sizes[dbscan.core_sample_indices_]*=8 ###enlarge the core points by 8 times\n",
    "        axes[i,j].scatter(roads[:,0],roads[:,1],c=colors[clusters],s=sizes)\n",
    "        axes[i,j].set_title('min_samples: %d eps: %0.1f'%(min_samples,eps))\n",
    "fig.tight_layout()\n",
    "plt.show()"
   ]
  },
  {
   "cell_type": "code",
   "execution_count": null,
   "metadata": {
    "collapsed": true
   },
   "outputs": [],
   "source": []
  },
  {
   "cell_type": "code",
   "execution_count": null,
   "metadata": {
    "collapsed": true
   },
   "outputs": [],
   "source": []
  },
  {
   "cell_type": "code",
   "execution_count": null,
   "metadata": {
    "collapsed": true
   },
   "outputs": [],
   "source": []
  },
  {
   "cell_type": "code",
   "execution_count": null,
   "metadata": {
    "collapsed": true
   },
   "outputs": [],
   "source": []
  },
  {
   "cell_type": "code",
   "execution_count": null,
   "metadata": {
    "collapsed": true
   },
   "outputs": [],
   "source": []
  },
  {
   "cell_type": "code",
   "execution_count": null,
   "metadata": {
    "collapsed": true
   },
   "outputs": [],
   "source": []
  },
  {
   "cell_type": "code",
   "execution_count": null,
   "metadata": {
    "collapsed": true
   },
   "outputs": [],
   "source": []
  },
  {
   "cell_type": "code",
   "execution_count": null,
   "metadata": {
    "collapsed": true
   },
   "outputs": [],
   "source": []
  },
  {
   "cell_type": "code",
   "execution_count": null,
   "metadata": {
    "collapsed": true
   },
   "outputs": [],
   "source": []
  },
  {
   "cell_type": "code",
   "execution_count": null,
   "metadata": {
    "collapsed": true
   },
   "outputs": [],
   "source": []
  },
  {
   "cell_type": "code",
   "execution_count": null,
   "metadata": {
    "collapsed": true
   },
   "outputs": [],
   "source": []
  },
  {
   "cell_type": "code",
   "execution_count": null,
   "metadata": {
    "collapsed": true
   },
   "outputs": [],
   "source": []
  },
  {
   "cell_type": "code",
   "execution_count": null,
   "metadata": {
    "collapsed": true
   },
   "outputs": [],
   "source": []
  },
  {
   "cell_type": "code",
   "execution_count": null,
   "metadata": {
    "collapsed": true
   },
   "outputs": [],
   "source": [
    "fig = plt.figure(1)\n",
    "plt.clf()\n",
    "ax = Axes3D(fig, rect=[0, 0, .95, 1], elev=48, azim=140)\n",
    "\n",
    "plt.cla()\n",
    "\n",
    "ax.scatter(XX['lon'], XX['lat'], XX['alt'], c=XX.cluster, s=5, cmap='Paired')\n",
    "\n",
    "ax.set_xlabel('lon')\n",
    "ax.set_ylabel('lat')\n",
    "ax.set_zlabel('alt')\n",
    "plt.show()"
   ]
  },
  {
   "cell_type": "code",
   "execution_count": null,
   "metadata": {
    "collapsed": true
   },
   "outputs": [],
   "source": []
  },
  {
   "cell_type": "code",
   "execution_count": null,
   "metadata": {
    "collapsed": true
   },
   "outputs": [],
   "source": []
  },
  {
   "cell_type": "code",
   "execution_count": null,
   "metadata": {
    "collapsed": true
   },
   "outputs": [],
   "source": []
  },
  {
   "cell_type": "code",
   "execution_count": null,
   "metadata": {
    "collapsed": true
   },
   "outputs": [],
   "source": []
  },
  {
   "cell_type": "code",
   "execution_count": null,
   "metadata": {
    "collapsed": true
   },
   "outputs": [],
   "source": []
  },
  {
   "cell_type": "code",
   "execution_count": null,
   "metadata": {
    "collapsed": true
   },
   "outputs": [],
   "source": []
  },
  {
   "cell_type": "code",
   "execution_count": null,
   "metadata": {
    "collapsed": true
   },
   "outputs": [],
   "source": []
  },
  {
   "cell_type": "code",
   "execution_count": null,
   "metadata": {
    "collapsed": true
   },
   "outputs": [],
   "source": []
  },
  {
   "cell_type": "code",
   "execution_count": null,
   "metadata": {
    "collapsed": true
   },
   "outputs": [],
   "source": [
    "from sklearn.preprocessing import StandardScaler\n",
    "from sklearn.preprocessing import StandardScaler"
   ]
  },
  {
   "cell_type": "code",
   "execution_count": null,
   "metadata": {
    "collapsed": true
   },
   "outputs": [],
   "source": []
  },
  {
   "cell_type": "code",
   "execution_count": null,
   "metadata": {
    "collapsed": true
   },
   "outputs": [],
   "source": []
  },
  {
   "cell_type": "code",
   "execution_count": null,
   "metadata": {
    "collapsed": true
   },
   "outputs": [],
   "source": []
  },
  {
   "cell_type": "code",
   "execution_count": null,
   "metadata": {
    "collapsed": true
   },
   "outputs": [],
   "source": []
  },
  {
   "cell_type": "code",
   "execution_count": null,
   "metadata": {
    "collapsed": true
   },
   "outputs": [],
   "source": []
  },
  {
   "cell_type": "markdown",
   "metadata": {},
   "source": [
    "## 2. Clustering your own data\n",
    "Using your own data, find relevant clusters/groups within your data. If your data is labeled already, with a class that you are attempting to predict, be sure to not use it in fitting/training/predicting. \n",
    "\n",
    "You may use the labels to compare with predictions to show how well the clustering performed using one of the clustering metrics (http://scikit-learn.org/stable/modules/clustering.html#clustering-performance-evaluation). \n",
    "\n",
    "If you don't have labels, use the silhouette coefficient to show performance. Find the optimal fit for your data but you don't need to be as exhaustive as above.\n",
    "\n",
    "Additionally, show the clusters in 2D and 3D plots. \n",
    "\n",
    "For bonus, try using PCA first to condense your data from N columns to less than N.\n",
    "\n",
    "Two items are expected: \n",
    "- Metric Evaluation Plot\n",
    "- Plots of the clustered data"
   ]
  },
  {
   "cell_type": "markdown",
   "metadata": {},
   "source": [
    "### Note: Analyzing the auto.csv file because it's a smaller file and actually ran on my machine.  I was having issues with a much larger dataset (MBs instead of KBs) and even the sampling was causing errors. \n",
    "\n",
    "In this analysis, we can look at how mpg's are affected by horespower and weight. For most automobiles, particularly those made before the fuel-efficiency craze of the past decade, the higher the horsepower the less miles per gallon. However, there have been exceptions to the rule-- most notably the Corvette-- which has decent mpg considering its high horsepower output. This may be due to its weight and aerodynamic design, I'm interested to test out this theory.\n",
    "\n",
    "The following algorithms will determine groupings within the data.  "
   ]
  },
  {
   "cell_type": "code",
   "execution_count": 106,
   "metadata": {},
   "outputs": [
    {
     "data": {
      "text/html": [
       "<div>\n",
       "<style>\n",
       "    .dataframe thead tr:only-child th {\n",
       "        text-align: right;\n",
       "    }\n",
       "\n",
       "    .dataframe thead th {\n",
       "        text-align: left;\n",
       "    }\n",
       "\n",
       "    .dataframe tbody tr th {\n",
       "        vertical-align: top;\n",
       "    }\n",
       "</style>\n",
       "<table border=\"1\" class=\"dataframe\">\n",
       "  <thead>\n",
       "    <tr style=\"text-align: right;\">\n",
       "      <th></th>\n",
       "      <th>mpg</th>\n",
       "      <th>cylinders</th>\n",
       "      <th>displacement</th>\n",
       "      <th>horsepower</th>\n",
       "      <th>weight</th>\n",
       "      <th>acceleration</th>\n",
       "      <th>year</th>\n",
       "      <th>origin</th>\n",
       "    </tr>\n",
       "  </thead>\n",
       "  <tbody>\n",
       "    <tr>\n",
       "      <th>0</th>\n",
       "      <td>18.0</td>\n",
       "      <td>8</td>\n",
       "      <td>307.0</td>\n",
       "      <td>130</td>\n",
       "      <td>3504</td>\n",
       "      <td>12.0</td>\n",
       "      <td>70</td>\n",
       "      <td>1</td>\n",
       "    </tr>\n",
       "    <tr>\n",
       "      <th>1</th>\n",
       "      <td>15.0</td>\n",
       "      <td>8</td>\n",
       "      <td>350.0</td>\n",
       "      <td>165</td>\n",
       "      <td>3693</td>\n",
       "      <td>11.5</td>\n",
       "      <td>70</td>\n",
       "      <td>1</td>\n",
       "    </tr>\n",
       "    <tr>\n",
       "      <th>2</th>\n",
       "      <td>18.0</td>\n",
       "      <td>8</td>\n",
       "      <td>318.0</td>\n",
       "      <td>150</td>\n",
       "      <td>3436</td>\n",
       "      <td>11.0</td>\n",
       "      <td>70</td>\n",
       "      <td>1</td>\n",
       "    </tr>\n",
       "    <tr>\n",
       "      <th>3</th>\n",
       "      <td>16.0</td>\n",
       "      <td>8</td>\n",
       "      <td>304.0</td>\n",
       "      <td>150</td>\n",
       "      <td>3433</td>\n",
       "      <td>12.0</td>\n",
       "      <td>70</td>\n",
       "      <td>1</td>\n",
       "    </tr>\n",
       "    <tr>\n",
       "      <th>4</th>\n",
       "      <td>17.0</td>\n",
       "      <td>8</td>\n",
       "      <td>302.0</td>\n",
       "      <td>140</td>\n",
       "      <td>3449</td>\n",
       "      <td>10.5</td>\n",
       "      <td>70</td>\n",
       "      <td>1</td>\n",
       "    </tr>\n",
       "  </tbody>\n",
       "</table>\n",
       "</div>"
      ],
      "text/plain": [
       "    mpg  cylinders  displacement horsepower  weight  acceleration  year  \\\n",
       "0  18.0          8         307.0        130    3504          12.0    70   \n",
       "1  15.0          8         350.0        165    3693          11.5    70   \n",
       "2  18.0          8         318.0        150    3436          11.0    70   \n",
       "3  16.0          8         304.0        150    3433          12.0    70   \n",
       "4  17.0          8         302.0        140    3449          10.5    70   \n",
       "\n",
       "   origin  \n",
       "0       1  \n",
       "1       1  \n",
       "2       1  \n",
       "3       1  \n",
       "4       1  "
      ]
     },
     "execution_count": 106,
     "metadata": {},
     "output_type": "execute_result"
    }
   ],
   "source": [
    "#read in  auto dataset (18kb large), many variables to include mpg, weight, hp, cylinders, etc\n",
    "\n",
    "auto = pd.read_csv('/Users/jMac/Desktop/Autos.csv')\n",
    "auto.dropna(inplace=True) #discards all na values\n",
    "\n",
    "auto = auto.drop(['name'], axis=1)\n",
    "auto.head()"
   ]
  },
  {
   "cell_type": "code",
   "execution_count": 107,
   "metadata": {},
   "outputs": [
    {
     "data": {
      "text/plain": [
       "mpg             float64\n",
       "cylinders         int64\n",
       "displacement    float64\n",
       "horsepower       object\n",
       "weight            int64\n",
       "acceleration    float64\n",
       "year              int64\n",
       "origin            int64\n",
       "dtype: object"
      ]
     },
     "execution_count": 107,
     "metadata": {},
     "output_type": "execute_result"
    }
   ],
   "source": [
    "auto.dtypes"
   ]
  },
  {
   "cell_type": "markdown",
   "metadata": {},
   "source": [
    "**Note:** Because horsepower is an object data type, we need to convert it to an integer."
   ]
  },
  {
   "cell_type": "code",
   "execution_count": 108,
   "metadata": {
    "collapsed": true
   },
   "outputs": [],
   "source": [
    "auto['horsepower'] = pd.to_numeric(auto['horsepower'], errors='coerce')"
   ]
  },
  {
   "cell_type": "code",
   "execution_count": 109,
   "metadata": {},
   "outputs": [
    {
     "data": {
      "text/plain": [
       "mpg             False\n",
       "cylinders       False\n",
       "displacement    False\n",
       "horsepower       True\n",
       "weight          False\n",
       "acceleration    False\n",
       "year            False\n",
       "origin          False\n",
       "dtype: bool"
      ]
     },
     "execution_count": 109,
     "metadata": {},
     "output_type": "execute_result"
    }
   ],
   "source": [
    "auto.isnull().any()"
   ]
  },
  {
   "cell_type": "code",
   "execution_count": 110,
   "metadata": {},
   "outputs": [],
   "source": [
    "auto = auto.fillna(method='ffill') #need to fill in any missing values"
   ]
  },
  {
   "cell_type": "code",
   "execution_count": 111,
   "metadata": {},
   "outputs": [
    {
     "data": {
      "text/plain": [
       "mpg             float64\n",
       "cylinders         int64\n",
       "displacement    float64\n",
       "horsepower      float64\n",
       "weight            int64\n",
       "acceleration    float64\n",
       "year              int64\n",
       "origin            int64\n",
       "dtype: object"
      ]
     },
     "execution_count": 111,
     "metadata": {},
     "output_type": "execute_result"
    }
   ],
   "source": [
    "auto.dtypes"
   ]
  },
  {
   "cell_type": "code",
   "execution_count": 112,
   "metadata": {},
   "outputs": [
    {
     "data": {
      "text/plain": [
       "mpg             False\n",
       "cylinders       False\n",
       "displacement    False\n",
       "horsepower      False\n",
       "weight          False\n",
       "acceleration    False\n",
       "year            False\n",
       "origin          False\n",
       "dtype: bool"
      ]
     },
     "execution_count": 112,
     "metadata": {},
     "output_type": "execute_result"
    }
   ],
   "source": [
    "auto.isnull().any()"
   ]
  },
  {
   "cell_type": "markdown",
   "metadata": {},
   "source": [
    "### After formatting the data with the correct data types and eliminating or filling in for missing values. Now on to K-means with clusters."
   ]
  },
  {
   "cell_type": "code",
   "execution_count": 122,
   "metadata": {},
   "outputs": [
    {
     "data": {
      "text/plain": [
       "KMeans(algorithm='auto', copy_x=True, init='k-means++', max_iter=300,\n",
       "    n_clusters=5, n_init=10, n_jobs=1, precompute_distances='auto',\n",
       "    random_state=1, tol=0.0001, verbose=0)"
      ]
     },
     "execution_count": 122,
     "metadata": {},
     "output_type": "execute_result"
    }
   ],
   "source": [
    "# K-means with N clusters\n",
    "N = 5\n",
    "from sklearn.cluster import KMeans\n",
    "km = KMeans(n_clusters=N, random_state=1)\n",
    "km.fit(auto)\n"
   ]
  },
  {
   "cell_type": "code",
   "execution_count": 123,
   "metadata": {},
   "outputs": [
    {
     "data": {
      "text/plain": [
       "{0, 1, 2, 3, 4}"
      ]
     },
     "execution_count": 123,
     "metadata": {},
     "output_type": "execute_result"
    }
   ],
   "source": [
    "# review the cluster labels\n",
    "set(km.labels_)"
   ]
  },
  {
   "cell_type": "code",
   "execution_count": 124,
   "metadata": {
    "collapsed": true
   },
   "outputs": [],
   "source": [
    "auto['cluster'] = km.predict(auto)"
   ]
  },
  {
   "cell_type": "code",
   "execution_count": 125,
   "metadata": {},
   "outputs": [
    {
     "data": {
      "text/plain": [
       "2    139\n",
       "0     95\n",
       "4     70\n",
       "1     52\n",
       "3     41\n",
       "Name: cluster, dtype: int64"
      ]
     },
     "execution_count": 125,
     "metadata": {},
     "output_type": "execute_result"
    }
   ],
   "source": [
    "auto.cluster.value_counts()"
   ]
  },
  {
   "cell_type": "code",
   "execution_count": 126,
   "metadata": {
    "scrolled": true
   },
   "outputs": [
    {
     "data": {
      "text/html": [
       "<div>\n",
       "<style>\n",
       "    .dataframe thead tr:only-child th {\n",
       "        text-align: right;\n",
       "    }\n",
       "\n",
       "    .dataframe thead th {\n",
       "        text-align: left;\n",
       "    }\n",
       "\n",
       "    .dataframe tbody tr th {\n",
       "        vertical-align: top;\n",
       "    }\n",
       "</style>\n",
       "<table border=\"1\" class=\"dataframe\">\n",
       "  <thead>\n",
       "    <tr style=\"text-align: right;\">\n",
       "      <th></th>\n",
       "      <th>mpg</th>\n",
       "      <th>cylinders</th>\n",
       "      <th>displacement</th>\n",
       "      <th>horsepower</th>\n",
       "      <th>weight</th>\n",
       "      <th>acceleration</th>\n",
       "      <th>year</th>\n",
       "      <th>origin</th>\n",
       "      <th>cluster</th>\n",
       "    </tr>\n",
       "  </thead>\n",
       "  <tbody>\n",
       "    <tr>\n",
       "      <th>0</th>\n",
       "      <td>18.0</td>\n",
       "      <td>8</td>\n",
       "      <td>307.0</td>\n",
       "      <td>130.0</td>\n",
       "      <td>3504</td>\n",
       "      <td>12.0</td>\n",
       "      <td>70</td>\n",
       "      <td>1</td>\n",
       "      <td>4</td>\n",
       "    </tr>\n",
       "    <tr>\n",
       "      <th>1</th>\n",
       "      <td>15.0</td>\n",
       "      <td>8</td>\n",
       "      <td>350.0</td>\n",
       "      <td>165.0</td>\n",
       "      <td>3693</td>\n",
       "      <td>11.5</td>\n",
       "      <td>70</td>\n",
       "      <td>1</td>\n",
       "      <td>1</td>\n",
       "    </tr>\n",
       "    <tr>\n",
       "      <th>2</th>\n",
       "      <td>18.0</td>\n",
       "      <td>8</td>\n",
       "      <td>318.0</td>\n",
       "      <td>150.0</td>\n",
       "      <td>3436</td>\n",
       "      <td>11.0</td>\n",
       "      <td>70</td>\n",
       "      <td>1</td>\n",
       "      <td>4</td>\n",
       "    </tr>\n",
       "    <tr>\n",
       "      <th>3</th>\n",
       "      <td>16.0</td>\n",
       "      <td>8</td>\n",
       "      <td>304.0</td>\n",
       "      <td>150.0</td>\n",
       "      <td>3433</td>\n",
       "      <td>12.0</td>\n",
       "      <td>70</td>\n",
       "      <td>1</td>\n",
       "      <td>4</td>\n",
       "    </tr>\n",
       "    <tr>\n",
       "      <th>4</th>\n",
       "      <td>17.0</td>\n",
       "      <td>8</td>\n",
       "      <td>302.0</td>\n",
       "      <td>140.0</td>\n",
       "      <td>3449</td>\n",
       "      <td>10.5</td>\n",
       "      <td>70</td>\n",
       "      <td>1</td>\n",
       "      <td>4</td>\n",
       "    </tr>\n",
       "    <tr>\n",
       "      <th>5</th>\n",
       "      <td>15.0</td>\n",
       "      <td>8</td>\n",
       "      <td>429.0</td>\n",
       "      <td>198.0</td>\n",
       "      <td>4341</td>\n",
       "      <td>10.0</td>\n",
       "      <td>70</td>\n",
       "      <td>1</td>\n",
       "      <td>3</td>\n",
       "    </tr>\n",
       "    <tr>\n",
       "      <th>6</th>\n",
       "      <td>14.0</td>\n",
       "      <td>8</td>\n",
       "      <td>454.0</td>\n",
       "      <td>220.0</td>\n",
       "      <td>4354</td>\n",
       "      <td>9.0</td>\n",
       "      <td>70</td>\n",
       "      <td>1</td>\n",
       "      <td>3</td>\n",
       "    </tr>\n",
       "    <tr>\n",
       "      <th>7</th>\n",
       "      <td>14.0</td>\n",
       "      <td>8</td>\n",
       "      <td>440.0</td>\n",
       "      <td>215.0</td>\n",
       "      <td>4312</td>\n",
       "      <td>8.5</td>\n",
       "      <td>70</td>\n",
       "      <td>1</td>\n",
       "      <td>3</td>\n",
       "    </tr>\n",
       "    <tr>\n",
       "      <th>8</th>\n",
       "      <td>14.0</td>\n",
       "      <td>8</td>\n",
       "      <td>455.0</td>\n",
       "      <td>225.0</td>\n",
       "      <td>4425</td>\n",
       "      <td>10.0</td>\n",
       "      <td>70</td>\n",
       "      <td>1</td>\n",
       "      <td>3</td>\n",
       "    </tr>\n",
       "    <tr>\n",
       "      <th>9</th>\n",
       "      <td>15.0</td>\n",
       "      <td>8</td>\n",
       "      <td>390.0</td>\n",
       "      <td>190.0</td>\n",
       "      <td>3850</td>\n",
       "      <td>8.5</td>\n",
       "      <td>70</td>\n",
       "      <td>1</td>\n",
       "      <td>1</td>\n",
       "    </tr>\n",
       "    <tr>\n",
       "      <th>10</th>\n",
       "      <td>15.0</td>\n",
       "      <td>8</td>\n",
       "      <td>383.0</td>\n",
       "      <td>170.0</td>\n",
       "      <td>3563</td>\n",
       "      <td>10.0</td>\n",
       "      <td>70</td>\n",
       "      <td>1</td>\n",
       "      <td>4</td>\n",
       "    </tr>\n",
       "    <tr>\n",
       "      <th>11</th>\n",
       "      <td>14.0</td>\n",
       "      <td>8</td>\n",
       "      <td>340.0</td>\n",
       "      <td>160.0</td>\n",
       "      <td>3609</td>\n",
       "      <td>8.0</td>\n",
       "      <td>70</td>\n",
       "      <td>1</td>\n",
       "      <td>4</td>\n",
       "    </tr>\n",
       "    <tr>\n",
       "      <th>12</th>\n",
       "      <td>15.0</td>\n",
       "      <td>8</td>\n",
       "      <td>400.0</td>\n",
       "      <td>150.0</td>\n",
       "      <td>3761</td>\n",
       "      <td>9.5</td>\n",
       "      <td>70</td>\n",
       "      <td>1</td>\n",
       "      <td>1</td>\n",
       "    </tr>\n",
       "    <tr>\n",
       "      <th>13</th>\n",
       "      <td>14.0</td>\n",
       "      <td>8</td>\n",
       "      <td>455.0</td>\n",
       "      <td>225.0</td>\n",
       "      <td>3086</td>\n",
       "      <td>10.0</td>\n",
       "      <td>70</td>\n",
       "      <td>1</td>\n",
       "      <td>4</td>\n",
       "    </tr>\n",
       "    <tr>\n",
       "      <th>14</th>\n",
       "      <td>24.0</td>\n",
       "      <td>4</td>\n",
       "      <td>113.0</td>\n",
       "      <td>95.0</td>\n",
       "      <td>2372</td>\n",
       "      <td>15.0</td>\n",
       "      <td>70</td>\n",
       "      <td>3</td>\n",
       "      <td>2</td>\n",
       "    </tr>\n",
       "    <tr>\n",
       "      <th>15</th>\n",
       "      <td>22.0</td>\n",
       "      <td>6</td>\n",
       "      <td>198.0</td>\n",
       "      <td>95.0</td>\n",
       "      <td>2833</td>\n",
       "      <td>15.5</td>\n",
       "      <td>70</td>\n",
       "      <td>1</td>\n",
       "      <td>0</td>\n",
       "    </tr>\n",
       "    <tr>\n",
       "      <th>16</th>\n",
       "      <td>18.0</td>\n",
       "      <td>6</td>\n",
       "      <td>199.0</td>\n",
       "      <td>97.0</td>\n",
       "      <td>2774</td>\n",
       "      <td>15.5</td>\n",
       "      <td>70</td>\n",
       "      <td>1</td>\n",
       "      <td>0</td>\n",
       "    </tr>\n",
       "    <tr>\n",
       "      <th>17</th>\n",
       "      <td>21.0</td>\n",
       "      <td>6</td>\n",
       "      <td>200.0</td>\n",
       "      <td>85.0</td>\n",
       "      <td>2587</td>\n",
       "      <td>16.0</td>\n",
       "      <td>70</td>\n",
       "      <td>1</td>\n",
       "      <td>0</td>\n",
       "    </tr>\n",
       "    <tr>\n",
       "      <th>18</th>\n",
       "      <td>27.0</td>\n",
       "      <td>4</td>\n",
       "      <td>97.0</td>\n",
       "      <td>88.0</td>\n",
       "      <td>2130</td>\n",
       "      <td>14.5</td>\n",
       "      <td>70</td>\n",
       "      <td>3</td>\n",
       "      <td>2</td>\n",
       "    </tr>\n",
       "    <tr>\n",
       "      <th>19</th>\n",
       "      <td>26.0</td>\n",
       "      <td>4</td>\n",
       "      <td>97.0</td>\n",
       "      <td>46.0</td>\n",
       "      <td>1835</td>\n",
       "      <td>20.5</td>\n",
       "      <td>70</td>\n",
       "      <td>2</td>\n",
       "      <td>2</td>\n",
       "    </tr>\n",
       "    <tr>\n",
       "      <th>20</th>\n",
       "      <td>25.0</td>\n",
       "      <td>4</td>\n",
       "      <td>110.0</td>\n",
       "      <td>87.0</td>\n",
       "      <td>2672</td>\n",
       "      <td>17.5</td>\n",
       "      <td>70</td>\n",
       "      <td>2</td>\n",
       "      <td>0</td>\n",
       "    </tr>\n",
       "    <tr>\n",
       "      <th>21</th>\n",
       "      <td>24.0</td>\n",
       "      <td>4</td>\n",
       "      <td>107.0</td>\n",
       "      <td>90.0</td>\n",
       "      <td>2430</td>\n",
       "      <td>14.5</td>\n",
       "      <td>70</td>\n",
       "      <td>2</td>\n",
       "      <td>0</td>\n",
       "    </tr>\n",
       "    <tr>\n",
       "      <th>22</th>\n",
       "      <td>25.0</td>\n",
       "      <td>4</td>\n",
       "      <td>104.0</td>\n",
       "      <td>95.0</td>\n",
       "      <td>2375</td>\n",
       "      <td>17.5</td>\n",
       "      <td>70</td>\n",
       "      <td>2</td>\n",
       "      <td>2</td>\n",
       "    </tr>\n",
       "    <tr>\n",
       "      <th>23</th>\n",
       "      <td>26.0</td>\n",
       "      <td>4</td>\n",
       "      <td>121.0</td>\n",
       "      <td>113.0</td>\n",
       "      <td>2234</td>\n",
       "      <td>12.5</td>\n",
       "      <td>70</td>\n",
       "      <td>2</td>\n",
       "      <td>2</td>\n",
       "    </tr>\n",
       "    <tr>\n",
       "      <th>24</th>\n",
       "      <td>21.0</td>\n",
       "      <td>6</td>\n",
       "      <td>199.0</td>\n",
       "      <td>90.0</td>\n",
       "      <td>2648</td>\n",
       "      <td>15.0</td>\n",
       "      <td>70</td>\n",
       "      <td>1</td>\n",
       "      <td>0</td>\n",
       "    </tr>\n",
       "    <tr>\n",
       "      <th>25</th>\n",
       "      <td>10.0</td>\n",
       "      <td>8</td>\n",
       "      <td>360.0</td>\n",
       "      <td>215.0</td>\n",
       "      <td>4615</td>\n",
       "      <td>14.0</td>\n",
       "      <td>70</td>\n",
       "      <td>1</td>\n",
       "      <td>3</td>\n",
       "    </tr>\n",
       "    <tr>\n",
       "      <th>26</th>\n",
       "      <td>10.0</td>\n",
       "      <td>8</td>\n",
       "      <td>307.0</td>\n",
       "      <td>200.0</td>\n",
       "      <td>4376</td>\n",
       "      <td>15.0</td>\n",
       "      <td>70</td>\n",
       "      <td>1</td>\n",
       "      <td>3</td>\n",
       "    </tr>\n",
       "    <tr>\n",
       "      <th>27</th>\n",
       "      <td>11.0</td>\n",
       "      <td>8</td>\n",
       "      <td>318.0</td>\n",
       "      <td>210.0</td>\n",
       "      <td>4382</td>\n",
       "      <td>13.5</td>\n",
       "      <td>70</td>\n",
       "      <td>1</td>\n",
       "      <td>3</td>\n",
       "    </tr>\n",
       "    <tr>\n",
       "      <th>28</th>\n",
       "      <td>9.0</td>\n",
       "      <td>8</td>\n",
       "      <td>304.0</td>\n",
       "      <td>193.0</td>\n",
       "      <td>4732</td>\n",
       "      <td>18.5</td>\n",
       "      <td>70</td>\n",
       "      <td>1</td>\n",
       "      <td>3</td>\n",
       "    </tr>\n",
       "    <tr>\n",
       "      <th>29</th>\n",
       "      <td>27.0</td>\n",
       "      <td>4</td>\n",
       "      <td>97.0</td>\n",
       "      <td>88.0</td>\n",
       "      <td>2130</td>\n",
       "      <td>14.5</td>\n",
       "      <td>71</td>\n",
       "      <td>3</td>\n",
       "      <td>2</td>\n",
       "    </tr>\n",
       "    <tr>\n",
       "      <th>...</th>\n",
       "      <td>...</td>\n",
       "      <td>...</td>\n",
       "      <td>...</td>\n",
       "      <td>...</td>\n",
       "      <td>...</td>\n",
       "      <td>...</td>\n",
       "      <td>...</td>\n",
       "      <td>...</td>\n",
       "      <td>...</td>\n",
       "    </tr>\n",
       "    <tr>\n",
       "      <th>367</th>\n",
       "      <td>28.0</td>\n",
       "      <td>4</td>\n",
       "      <td>112.0</td>\n",
       "      <td>88.0</td>\n",
       "      <td>2605</td>\n",
       "      <td>19.6</td>\n",
       "      <td>82</td>\n",
       "      <td>1</td>\n",
       "      <td>0</td>\n",
       "    </tr>\n",
       "    <tr>\n",
       "      <th>368</th>\n",
       "      <td>27.0</td>\n",
       "      <td>4</td>\n",
       "      <td>112.0</td>\n",
       "      <td>88.0</td>\n",
       "      <td>2640</td>\n",
       "      <td>18.6</td>\n",
       "      <td>82</td>\n",
       "      <td>1</td>\n",
       "      <td>0</td>\n",
       "    </tr>\n",
       "    <tr>\n",
       "      <th>369</th>\n",
       "      <td>34.0</td>\n",
       "      <td>4</td>\n",
       "      <td>112.0</td>\n",
       "      <td>88.0</td>\n",
       "      <td>2395</td>\n",
       "      <td>18.0</td>\n",
       "      <td>82</td>\n",
       "      <td>1</td>\n",
       "      <td>2</td>\n",
       "    </tr>\n",
       "    <tr>\n",
       "      <th>370</th>\n",
       "      <td>31.0</td>\n",
       "      <td>4</td>\n",
       "      <td>112.0</td>\n",
       "      <td>85.0</td>\n",
       "      <td>2575</td>\n",
       "      <td>16.2</td>\n",
       "      <td>82</td>\n",
       "      <td>1</td>\n",
       "      <td>0</td>\n",
       "    </tr>\n",
       "    <tr>\n",
       "      <th>371</th>\n",
       "      <td>29.0</td>\n",
       "      <td>4</td>\n",
       "      <td>135.0</td>\n",
       "      <td>84.0</td>\n",
       "      <td>2525</td>\n",
       "      <td>16.0</td>\n",
       "      <td>82</td>\n",
       "      <td>1</td>\n",
       "      <td>0</td>\n",
       "    </tr>\n",
       "    <tr>\n",
       "      <th>372</th>\n",
       "      <td>27.0</td>\n",
       "      <td>4</td>\n",
       "      <td>151.0</td>\n",
       "      <td>90.0</td>\n",
       "      <td>2735</td>\n",
       "      <td>18.0</td>\n",
       "      <td>82</td>\n",
       "      <td>1</td>\n",
       "      <td>0</td>\n",
       "    </tr>\n",
       "    <tr>\n",
       "      <th>373</th>\n",
       "      <td>24.0</td>\n",
       "      <td>4</td>\n",
       "      <td>140.0</td>\n",
       "      <td>92.0</td>\n",
       "      <td>2865</td>\n",
       "      <td>16.4</td>\n",
       "      <td>82</td>\n",
       "      <td>1</td>\n",
       "      <td>0</td>\n",
       "    </tr>\n",
       "    <tr>\n",
       "      <th>374</th>\n",
       "      <td>36.0</td>\n",
       "      <td>4</td>\n",
       "      <td>105.0</td>\n",
       "      <td>74.0</td>\n",
       "      <td>1980</td>\n",
       "      <td>15.3</td>\n",
       "      <td>82</td>\n",
       "      <td>2</td>\n",
       "      <td>2</td>\n",
       "    </tr>\n",
       "    <tr>\n",
       "      <th>375</th>\n",
       "      <td>37.0</td>\n",
       "      <td>4</td>\n",
       "      <td>91.0</td>\n",
       "      <td>68.0</td>\n",
       "      <td>2025</td>\n",
       "      <td>18.2</td>\n",
       "      <td>82</td>\n",
       "      <td>3</td>\n",
       "      <td>2</td>\n",
       "    </tr>\n",
       "    <tr>\n",
       "      <th>376</th>\n",
       "      <td>31.0</td>\n",
       "      <td>4</td>\n",
       "      <td>91.0</td>\n",
       "      <td>68.0</td>\n",
       "      <td>1970</td>\n",
       "      <td>17.6</td>\n",
       "      <td>82</td>\n",
       "      <td>3</td>\n",
       "      <td>2</td>\n",
       "    </tr>\n",
       "    <tr>\n",
       "      <th>377</th>\n",
       "      <td>38.0</td>\n",
       "      <td>4</td>\n",
       "      <td>105.0</td>\n",
       "      <td>63.0</td>\n",
       "      <td>2125</td>\n",
       "      <td>14.7</td>\n",
       "      <td>82</td>\n",
       "      <td>1</td>\n",
       "      <td>2</td>\n",
       "    </tr>\n",
       "    <tr>\n",
       "      <th>378</th>\n",
       "      <td>36.0</td>\n",
       "      <td>4</td>\n",
       "      <td>98.0</td>\n",
       "      <td>70.0</td>\n",
       "      <td>2125</td>\n",
       "      <td>17.3</td>\n",
       "      <td>82</td>\n",
       "      <td>1</td>\n",
       "      <td>2</td>\n",
       "    </tr>\n",
       "    <tr>\n",
       "      <th>379</th>\n",
       "      <td>36.0</td>\n",
       "      <td>4</td>\n",
       "      <td>120.0</td>\n",
       "      <td>88.0</td>\n",
       "      <td>2160</td>\n",
       "      <td>14.5</td>\n",
       "      <td>82</td>\n",
       "      <td>3</td>\n",
       "      <td>2</td>\n",
       "    </tr>\n",
       "    <tr>\n",
       "      <th>380</th>\n",
       "      <td>36.0</td>\n",
       "      <td>4</td>\n",
       "      <td>107.0</td>\n",
       "      <td>75.0</td>\n",
       "      <td>2205</td>\n",
       "      <td>14.5</td>\n",
       "      <td>82</td>\n",
       "      <td>3</td>\n",
       "      <td>2</td>\n",
       "    </tr>\n",
       "    <tr>\n",
       "      <th>381</th>\n",
       "      <td>34.0</td>\n",
       "      <td>4</td>\n",
       "      <td>108.0</td>\n",
       "      <td>70.0</td>\n",
       "      <td>2245</td>\n",
       "      <td>16.9</td>\n",
       "      <td>82</td>\n",
       "      <td>3</td>\n",
       "      <td>2</td>\n",
       "    </tr>\n",
       "    <tr>\n",
       "      <th>382</th>\n",
       "      <td>38.0</td>\n",
       "      <td>4</td>\n",
       "      <td>91.0</td>\n",
       "      <td>67.0</td>\n",
       "      <td>1965</td>\n",
       "      <td>15.0</td>\n",
       "      <td>82</td>\n",
       "      <td>3</td>\n",
       "      <td>2</td>\n",
       "    </tr>\n",
       "    <tr>\n",
       "      <th>383</th>\n",
       "      <td>32.0</td>\n",
       "      <td>4</td>\n",
       "      <td>91.0</td>\n",
       "      <td>67.0</td>\n",
       "      <td>1965</td>\n",
       "      <td>15.7</td>\n",
       "      <td>82</td>\n",
       "      <td>3</td>\n",
       "      <td>2</td>\n",
       "    </tr>\n",
       "    <tr>\n",
       "      <th>384</th>\n",
       "      <td>38.0</td>\n",
       "      <td>4</td>\n",
       "      <td>91.0</td>\n",
       "      <td>67.0</td>\n",
       "      <td>1995</td>\n",
       "      <td>16.2</td>\n",
       "      <td>82</td>\n",
       "      <td>3</td>\n",
       "      <td>2</td>\n",
       "    </tr>\n",
       "    <tr>\n",
       "      <th>385</th>\n",
       "      <td>25.0</td>\n",
       "      <td>6</td>\n",
       "      <td>181.0</td>\n",
       "      <td>110.0</td>\n",
       "      <td>2945</td>\n",
       "      <td>16.4</td>\n",
       "      <td>82</td>\n",
       "      <td>1</td>\n",
       "      <td>0</td>\n",
       "    </tr>\n",
       "    <tr>\n",
       "      <th>386</th>\n",
       "      <td>38.0</td>\n",
       "      <td>6</td>\n",
       "      <td>262.0</td>\n",
       "      <td>85.0</td>\n",
       "      <td>3015</td>\n",
       "      <td>17.0</td>\n",
       "      <td>82</td>\n",
       "      <td>1</td>\n",
       "      <td>0</td>\n",
       "    </tr>\n",
       "    <tr>\n",
       "      <th>387</th>\n",
       "      <td>26.0</td>\n",
       "      <td>4</td>\n",
       "      <td>156.0</td>\n",
       "      <td>92.0</td>\n",
       "      <td>2585</td>\n",
       "      <td>14.5</td>\n",
       "      <td>82</td>\n",
       "      <td>1</td>\n",
       "      <td>0</td>\n",
       "    </tr>\n",
       "    <tr>\n",
       "      <th>388</th>\n",
       "      <td>22.0</td>\n",
       "      <td>6</td>\n",
       "      <td>232.0</td>\n",
       "      <td>112.0</td>\n",
       "      <td>2835</td>\n",
       "      <td>14.7</td>\n",
       "      <td>82</td>\n",
       "      <td>1</td>\n",
       "      <td>0</td>\n",
       "    </tr>\n",
       "    <tr>\n",
       "      <th>389</th>\n",
       "      <td>32.0</td>\n",
       "      <td>4</td>\n",
       "      <td>144.0</td>\n",
       "      <td>96.0</td>\n",
       "      <td>2665</td>\n",
       "      <td>13.9</td>\n",
       "      <td>82</td>\n",
       "      <td>3</td>\n",
       "      <td>0</td>\n",
       "    </tr>\n",
       "    <tr>\n",
       "      <th>390</th>\n",
       "      <td>36.0</td>\n",
       "      <td>4</td>\n",
       "      <td>135.0</td>\n",
       "      <td>84.0</td>\n",
       "      <td>2370</td>\n",
       "      <td>13.0</td>\n",
       "      <td>82</td>\n",
       "      <td>1</td>\n",
       "      <td>2</td>\n",
       "    </tr>\n",
       "    <tr>\n",
       "      <th>391</th>\n",
       "      <td>27.0</td>\n",
       "      <td>4</td>\n",
       "      <td>151.0</td>\n",
       "      <td>90.0</td>\n",
       "      <td>2950</td>\n",
       "      <td>17.3</td>\n",
       "      <td>82</td>\n",
       "      <td>1</td>\n",
       "      <td>0</td>\n",
       "    </tr>\n",
       "    <tr>\n",
       "      <th>392</th>\n",
       "      <td>27.0</td>\n",
       "      <td>4</td>\n",
       "      <td>140.0</td>\n",
       "      <td>86.0</td>\n",
       "      <td>2790</td>\n",
       "      <td>15.6</td>\n",
       "      <td>82</td>\n",
       "      <td>1</td>\n",
       "      <td>0</td>\n",
       "    </tr>\n",
       "    <tr>\n",
       "      <th>393</th>\n",
       "      <td>44.0</td>\n",
       "      <td>4</td>\n",
       "      <td>97.0</td>\n",
       "      <td>52.0</td>\n",
       "      <td>2130</td>\n",
       "      <td>24.6</td>\n",
       "      <td>82</td>\n",
       "      <td>2</td>\n",
       "      <td>2</td>\n",
       "    </tr>\n",
       "    <tr>\n",
       "      <th>394</th>\n",
       "      <td>32.0</td>\n",
       "      <td>4</td>\n",
       "      <td>135.0</td>\n",
       "      <td>84.0</td>\n",
       "      <td>2295</td>\n",
       "      <td>11.6</td>\n",
       "      <td>82</td>\n",
       "      <td>1</td>\n",
       "      <td>2</td>\n",
       "    </tr>\n",
       "    <tr>\n",
       "      <th>395</th>\n",
       "      <td>28.0</td>\n",
       "      <td>4</td>\n",
       "      <td>120.0</td>\n",
       "      <td>79.0</td>\n",
       "      <td>2625</td>\n",
       "      <td>18.6</td>\n",
       "      <td>82</td>\n",
       "      <td>1</td>\n",
       "      <td>0</td>\n",
       "    </tr>\n",
       "    <tr>\n",
       "      <th>396</th>\n",
       "      <td>31.0</td>\n",
       "      <td>4</td>\n",
       "      <td>119.0</td>\n",
       "      <td>82.0</td>\n",
       "      <td>2720</td>\n",
       "      <td>19.4</td>\n",
       "      <td>82</td>\n",
       "      <td>1</td>\n",
       "      <td>0</td>\n",
       "    </tr>\n",
       "  </tbody>\n",
       "</table>\n",
       "<p>397 rows × 9 columns</p>\n",
       "</div>"
      ],
      "text/plain": [
       "      mpg  cylinders  displacement  horsepower  weight  acceleration  year  \\\n",
       "0    18.0          8         307.0       130.0    3504          12.0    70   \n",
       "1    15.0          8         350.0       165.0    3693          11.5    70   \n",
       "2    18.0          8         318.0       150.0    3436          11.0    70   \n",
       "3    16.0          8         304.0       150.0    3433          12.0    70   \n",
       "4    17.0          8         302.0       140.0    3449          10.5    70   \n",
       "5    15.0          8         429.0       198.0    4341          10.0    70   \n",
       "6    14.0          8         454.0       220.0    4354           9.0    70   \n",
       "7    14.0          8         440.0       215.0    4312           8.5    70   \n",
       "8    14.0          8         455.0       225.0    4425          10.0    70   \n",
       "9    15.0          8         390.0       190.0    3850           8.5    70   \n",
       "10   15.0          8         383.0       170.0    3563          10.0    70   \n",
       "11   14.0          8         340.0       160.0    3609           8.0    70   \n",
       "12   15.0          8         400.0       150.0    3761           9.5    70   \n",
       "13   14.0          8         455.0       225.0    3086          10.0    70   \n",
       "14   24.0          4         113.0        95.0    2372          15.0    70   \n",
       "15   22.0          6         198.0        95.0    2833          15.5    70   \n",
       "16   18.0          6         199.0        97.0    2774          15.5    70   \n",
       "17   21.0          6         200.0        85.0    2587          16.0    70   \n",
       "18   27.0          4          97.0        88.0    2130          14.5    70   \n",
       "19   26.0          4          97.0        46.0    1835          20.5    70   \n",
       "20   25.0          4         110.0        87.0    2672          17.5    70   \n",
       "21   24.0          4         107.0        90.0    2430          14.5    70   \n",
       "22   25.0          4         104.0        95.0    2375          17.5    70   \n",
       "23   26.0          4         121.0       113.0    2234          12.5    70   \n",
       "24   21.0          6         199.0        90.0    2648          15.0    70   \n",
       "25   10.0          8         360.0       215.0    4615          14.0    70   \n",
       "26   10.0          8         307.0       200.0    4376          15.0    70   \n",
       "27   11.0          8         318.0       210.0    4382          13.5    70   \n",
       "28    9.0          8         304.0       193.0    4732          18.5    70   \n",
       "29   27.0          4          97.0        88.0    2130          14.5    71   \n",
       "..    ...        ...           ...         ...     ...           ...   ...   \n",
       "367  28.0          4         112.0        88.0    2605          19.6    82   \n",
       "368  27.0          4         112.0        88.0    2640          18.6    82   \n",
       "369  34.0          4         112.0        88.0    2395          18.0    82   \n",
       "370  31.0          4         112.0        85.0    2575          16.2    82   \n",
       "371  29.0          4         135.0        84.0    2525          16.0    82   \n",
       "372  27.0          4         151.0        90.0    2735          18.0    82   \n",
       "373  24.0          4         140.0        92.0    2865          16.4    82   \n",
       "374  36.0          4         105.0        74.0    1980          15.3    82   \n",
       "375  37.0          4          91.0        68.0    2025          18.2    82   \n",
       "376  31.0          4          91.0        68.0    1970          17.6    82   \n",
       "377  38.0          4         105.0        63.0    2125          14.7    82   \n",
       "378  36.0          4          98.0        70.0    2125          17.3    82   \n",
       "379  36.0          4         120.0        88.0    2160          14.5    82   \n",
       "380  36.0          4         107.0        75.0    2205          14.5    82   \n",
       "381  34.0          4         108.0        70.0    2245          16.9    82   \n",
       "382  38.0          4          91.0        67.0    1965          15.0    82   \n",
       "383  32.0          4          91.0        67.0    1965          15.7    82   \n",
       "384  38.0          4          91.0        67.0    1995          16.2    82   \n",
       "385  25.0          6         181.0       110.0    2945          16.4    82   \n",
       "386  38.0          6         262.0        85.0    3015          17.0    82   \n",
       "387  26.0          4         156.0        92.0    2585          14.5    82   \n",
       "388  22.0          6         232.0       112.0    2835          14.7    82   \n",
       "389  32.0          4         144.0        96.0    2665          13.9    82   \n",
       "390  36.0          4         135.0        84.0    2370          13.0    82   \n",
       "391  27.0          4         151.0        90.0    2950          17.3    82   \n",
       "392  27.0          4         140.0        86.0    2790          15.6    82   \n",
       "393  44.0          4          97.0        52.0    2130          24.6    82   \n",
       "394  32.0          4         135.0        84.0    2295          11.6    82   \n",
       "395  28.0          4         120.0        79.0    2625          18.6    82   \n",
       "396  31.0          4         119.0        82.0    2720          19.4    82   \n",
       "\n",
       "     origin  cluster  \n",
       "0         1        4  \n",
       "1         1        1  \n",
       "2         1        4  \n",
       "3         1        4  \n",
       "4         1        4  \n",
       "5         1        3  \n",
       "6         1        3  \n",
       "7         1        3  \n",
       "8         1        3  \n",
       "9         1        1  \n",
       "10        1        4  \n",
       "11        1        4  \n",
       "12        1        1  \n",
       "13        1        4  \n",
       "14        3        2  \n",
       "15        1        0  \n",
       "16        1        0  \n",
       "17        1        0  \n",
       "18        3        2  \n",
       "19        2        2  \n",
       "20        2        0  \n",
       "21        2        0  \n",
       "22        2        2  \n",
       "23        2        2  \n",
       "24        1        0  \n",
       "25        1        3  \n",
       "26        1        3  \n",
       "27        1        3  \n",
       "28        1        3  \n",
       "29        3        2  \n",
       "..      ...      ...  \n",
       "367       1        0  \n",
       "368       1        0  \n",
       "369       1        2  \n",
       "370       1        0  \n",
       "371       1        0  \n",
       "372       1        0  \n",
       "373       1        0  \n",
       "374       2        2  \n",
       "375       3        2  \n",
       "376       3        2  \n",
       "377       1        2  \n",
       "378       1        2  \n",
       "379       3        2  \n",
       "380       3        2  \n",
       "381       3        2  \n",
       "382       3        2  \n",
       "383       3        2  \n",
       "384       3        2  \n",
       "385       1        0  \n",
       "386       1        0  \n",
       "387       1        0  \n",
       "388       1        0  \n",
       "389       3        0  \n",
       "390       1        2  \n",
       "391       1        0  \n",
       "392       1        0  \n",
       "393       2        2  \n",
       "394       1        2  \n",
       "395       1        0  \n",
       "396       1        0  \n",
       "\n",
       "[397 rows x 9 columns]"
      ]
     },
     "execution_count": 126,
     "metadata": {},
     "output_type": "execute_result"
    }
   ],
   "source": [
    "auto"
   ]
  },
  {
   "cell_type": "markdown",
   "metadata": {},
   "source": [
    "**Note:** There's a nice distribution of the 397 points into the four clusters (and as shown by the new column, \"cluster\").  Let's see how this plots out."
   ]
  },
  {
   "cell_type": "code",
   "execution_count": 135,
   "metadata": {
    "collapsed": true
   },
   "outputs": [],
   "source": [
    "# create a \"colors\" array for plotting\n",
    "import numpy as np\n",
    "colors = np.array(['red', 'green', 'blue', 'purple', 'gray'])"
   ]
  },
  {
   "cell_type": "code",
   "execution_count": 146,
   "metadata": {},
   "outputs": [
    {
     "data": {
      "image/png": "[encoded data removed]",
      "text/plain": [
       "<matplotlib.figure.Figure at 0x11061ac50>"
      ]
     },
     "metadata": {},
     "output_type": "display_data"
    }
   ],
   "source": [
    "#first plot of the values, looking at how mpg is affected by horsepower and weight\n",
    "\n",
    "fig = plt.figure()\n",
    "plt.clf()\n",
    "ax = Axes3D(fig, rect=[0, 0, .95, 1], elev=10, azim=60)\n",
    "\n",
    "plt.cla()\n",
    "\n",
    "ax.scatter(auto['mpg'], auto['horsepower'], auto['weight'], c=colors[auto.cluster], s=20)\n",
    "\n",
    "ax.set_xlabel('horsepower')\n",
    "ax.set_ylabel('weight')\n",
    "ax.set_zlabel('mpg')\n",
    "plt.show()\n",
    "\n"
   ]
  },
  {
   "cell_type": "code",
   "execution_count": 145,
   "metadata": {},
   "outputs": [
    {
     "data": {
      "image/png": "[encoded data removed]",
      "text/plain": [
       "<matplotlib.figure.Figure at 0x1106ed400>"
      ]
     },
     "metadata": {},
     "output_type": "display_data"
    }
   ],
   "source": [
    "#first plot of the values, looking at how mpg is affected by horsepower and weight. Now with color pairs in 2D\n",
    "\n",
    "fig = plt.figure()\n",
    "plt.scatter(auto.horsepower, auto.mpg, c=auto.cluster, s=20, cmap='Paired')\n",
    "\n",
    "plt.xlabel('horsepower')\n",
    "plt.ylabel('mpg')\n",
    "plt.show()\n",
    "\n"
   ]
  },
  {
   "cell_type": "markdown",
   "metadata": {},
   "source": [
    "**Observation:** It appers from plotting the data that there is an inverse relationship between horsepower and mpg (that is the higher the HP the lower the mpg).  But looking at the clusters, particularly factoring weight, there seems to be clear groupings and some points that don't fit this paradigm of an inverse relationship. Let's see what happens when we normalize the data."
   ]
  },
  {
   "cell_type": "code",
   "execution_count": 153,
   "metadata": {
    "collapsed": true
   },
   "outputs": [],
   "source": [
    "auto2 = pd.read_csv('/Users/jMac/Desktop/Autos.csv')\n",
    "\n",
    "auto2.dropna(inplace=True) #discards all na values\n",
    "\n",
    "auto2 = auto2.drop(['name'], axis=1)"
   ]
  },
  {
   "cell_type": "code",
   "execution_count": 154,
   "metadata": {
    "collapsed": true
   },
   "outputs": [],
   "source": [
    "auto2['horsepower'] = pd.to_numeric(auto2['horsepower'], errors='coerce')\n",
    "auto2 = auto2.fillna(method='ffill') #need to fill in any missing values\n"
   ]
  },
  {
   "cell_type": "code",
   "execution_count": 155,
   "metadata": {},
   "outputs": [
    {
     "data": {
      "text/plain": [
       "mpg             False\n",
       "cylinders       False\n",
       "displacement    False\n",
       "horsepower      False\n",
       "weight          False\n",
       "acceleration    False\n",
       "year            False\n",
       "origin          False\n",
       "dtype: bool"
      ]
     },
     "execution_count": 155,
     "metadata": {},
     "output_type": "execute_result"
    }
   ],
   "source": [
    "auto2.isnull().any() #check for nulls"
   ]
  },
  {
   "cell_type": "code",
   "execution_count": 156,
   "metadata": {
    "collapsed": true
   },
   "outputs": [],
   "source": [
    "# auto2 = auto.copy()  NOTE: this function did not work as well as hoped.  Kept getting TypeError: 'KMeans' object does not support item assignment\n",
    "auto2['horsepower'] = (auto.horsepower - auto.horsepower.mean())/auto.horsepower.std()\n",
    "auto2['weight'] = (auto.weight - auto.weight.mean())/auto.weight.std()\n",
    "auto2['mpg'] = (auto.mpg - auto.mpg.mean())/auto.mpg.std()"
   ]
  },
  {
   "cell_type": "code",
   "execution_count": 157,
   "metadata": {
    "scrolled": true
   },
   "outputs": [
    {
     "data": {
      "text/html": [
       "<div>\n",
       "<style>\n",
       "    .dataframe thead tr:only-child th {\n",
       "        text-align: right;\n",
       "    }\n",
       "\n",
       "    .dataframe thead th {\n",
       "        text-align: left;\n",
       "    }\n",
       "\n",
       "    .dataframe tbody tr th {\n",
       "        vertical-align: top;\n",
       "    }\n",
       "</style>\n",
       "<table border=\"1\" class=\"dataframe\">\n",
       "  <thead>\n",
       "    <tr style=\"text-align: right;\">\n",
       "      <th></th>\n",
       "      <th>mpg</th>\n",
       "      <th>cylinders</th>\n",
       "      <th>displacement</th>\n",
       "      <th>horsepower</th>\n",
       "      <th>weight</th>\n",
       "      <th>acceleration</th>\n",
       "      <th>year</th>\n",
       "      <th>origin</th>\n",
       "    </tr>\n",
       "  </thead>\n",
       "  <tbody>\n",
       "    <tr>\n",
       "      <th>0</th>\n",
       "      <td>-0.704831</td>\n",
       "      <td>8</td>\n",
       "      <td>307.0</td>\n",
       "      <td>0.672720</td>\n",
       "      <td>0.629479</td>\n",
       "      <td>12.0</td>\n",
       "      <td>70</td>\n",
       "      <td>1</td>\n",
       "    </tr>\n",
       "    <tr>\n",
       "      <th>1</th>\n",
       "      <td>-1.088178</td>\n",
       "      <td>8</td>\n",
       "      <td>350.0</td>\n",
       "      <td>1.585647</td>\n",
       "      <td>0.852382</td>\n",
       "      <td>11.5</td>\n",
       "      <td>70</td>\n",
       "      <td>1</td>\n",
       "    </tr>\n",
       "    <tr>\n",
       "      <th>2</th>\n",
       "      <td>-0.704831</td>\n",
       "      <td>8</td>\n",
       "      <td>318.0</td>\n",
       "      <td>1.194392</td>\n",
       "      <td>0.549281</td>\n",
       "      <td>11.0</td>\n",
       "      <td>70</td>\n",
       "      <td>1</td>\n",
       "    </tr>\n",
       "    <tr>\n",
       "      <th>3</th>\n",
       "      <td>-0.960396</td>\n",
       "      <td>8</td>\n",
       "      <td>304.0</td>\n",
       "      <td>1.194392</td>\n",
       "      <td>0.545743</td>\n",
       "      <td>12.0</td>\n",
       "      <td>70</td>\n",
       "      <td>1</td>\n",
       "    </tr>\n",
       "    <tr>\n",
       "      <th>4</th>\n",
       "      <td>-0.832613</td>\n",
       "      <td>8</td>\n",
       "      <td>302.0</td>\n",
       "      <td>0.933556</td>\n",
       "      <td>0.564613</td>\n",
       "      <td>10.5</td>\n",
       "      <td>70</td>\n",
       "      <td>1</td>\n",
       "    </tr>\n",
       "    <tr>\n",
       "      <th>5</th>\n",
       "      <td>-1.088178</td>\n",
       "      <td>8</td>\n",
       "      <td>429.0</td>\n",
       "      <td>2.446405</td>\n",
       "      <td>1.616619</td>\n",
       "      <td>10.0</td>\n",
       "      <td>70</td>\n",
       "      <td>1</td>\n",
       "    </tr>\n",
       "    <tr>\n",
       "      <th>6</th>\n",
       "      <td>-1.215961</td>\n",
       "      <td>8</td>\n",
       "      <td>454.0</td>\n",
       "      <td>3.020245</td>\n",
       "      <td>1.631951</td>\n",
       "      <td>9.0</td>\n",
       "      <td>70</td>\n",
       "      <td>1</td>\n",
       "    </tr>\n",
       "    <tr>\n",
       "      <th>7</th>\n",
       "      <td>-1.215961</td>\n",
       "      <td>8</td>\n",
       "      <td>440.0</td>\n",
       "      <td>2.889827</td>\n",
       "      <td>1.582417</td>\n",
       "      <td>8.5</td>\n",
       "      <td>70</td>\n",
       "      <td>1</td>\n",
       "    </tr>\n",
       "    <tr>\n",
       "      <th>8</th>\n",
       "      <td>-1.215961</td>\n",
       "      <td>8</td>\n",
       "      <td>455.0</td>\n",
       "      <td>3.150663</td>\n",
       "      <td>1.715687</td>\n",
       "      <td>10.0</td>\n",
       "      <td>70</td>\n",
       "      <td>1</td>\n",
       "    </tr>\n",
       "    <tr>\n",
       "      <th>9</th>\n",
       "      <td>-1.088178</td>\n",
       "      <td>8</td>\n",
       "      <td>390.0</td>\n",
       "      <td>2.237737</td>\n",
       "      <td>1.037544</td>\n",
       "      <td>8.5</td>\n",
       "      <td>70</td>\n",
       "      <td>1</td>\n",
       "    </tr>\n",
       "    <tr>\n",
       "      <th>10</th>\n",
       "      <td>-1.088178</td>\n",
       "      <td>8</td>\n",
       "      <td>383.0</td>\n",
       "      <td>1.716065</td>\n",
       "      <td>0.699063</td>\n",
       "      <td>10.0</td>\n",
       "      <td>70</td>\n",
       "      <td>1</td>\n",
       "    </tr>\n",
       "    <tr>\n",
       "      <th>11</th>\n",
       "      <td>-1.215961</td>\n",
       "      <td>8</td>\n",
       "      <td>340.0</td>\n",
       "      <td>1.455229</td>\n",
       "      <td>0.753314</td>\n",
       "      <td>8.0</td>\n",
       "      <td>70</td>\n",
       "      <td>1</td>\n",
       "    </tr>\n",
       "    <tr>\n",
       "      <th>12</th>\n",
       "      <td>-1.088178</td>\n",
       "      <td>8</td>\n",
       "      <td>400.0</td>\n",
       "      <td>1.194392</td>\n",
       "      <td>0.932580</td>\n",
       "      <td>9.5</td>\n",
       "      <td>70</td>\n",
       "      <td>1</td>\n",
       "    </tr>\n",
       "    <tr>\n",
       "      <th>13</th>\n",
       "      <td>-1.215961</td>\n",
       "      <td>8</td>\n",
       "      <td>455.0</td>\n",
       "      <td>3.150663</td>\n",
       "      <td>0.136499</td>\n",
       "      <td>10.0</td>\n",
       "      <td>70</td>\n",
       "      <td>1</td>\n",
       "    </tr>\n",
       "    <tr>\n",
       "      <th>14</th>\n",
       "      <td>0.061863</td>\n",
       "      <td>4</td>\n",
       "      <td>113.0</td>\n",
       "      <td>-0.240206</td>\n",
       "      <td>-0.705577</td>\n",
       "      <td>15.0</td>\n",
       "      <td>70</td>\n",
       "      <td>3</td>\n",
       "    </tr>\n",
       "    <tr>\n",
       "      <th>15</th>\n",
       "      <td>-0.193701</td>\n",
       "      <td>6</td>\n",
       "      <td>198.0</td>\n",
       "      <td>-0.240206</td>\n",
       "      <td>-0.161884</td>\n",
       "      <td>15.5</td>\n",
       "      <td>70</td>\n",
       "      <td>1</td>\n",
       "    </tr>\n",
       "    <tr>\n",
       "      <th>16</th>\n",
       "      <td>-0.704831</td>\n",
       "      <td>6</td>\n",
       "      <td>199.0</td>\n",
       "      <td>-0.188038</td>\n",
       "      <td>-0.231467</td>\n",
       "      <td>15.5</td>\n",
       "      <td>70</td>\n",
       "      <td>1</td>\n",
       "    </tr>\n",
       "    <tr>\n",
       "      <th>17</th>\n",
       "      <td>-0.321484</td>\n",
       "      <td>6</td>\n",
       "      <td>200.0</td>\n",
       "      <td>-0.501042</td>\n",
       "      <td>-0.452011</td>\n",
       "      <td>16.0</td>\n",
       "      <td>70</td>\n",
       "      <td>1</td>\n",
       "    </tr>\n",
       "    <tr>\n",
       "      <th>18</th>\n",
       "      <td>0.445211</td>\n",
       "      <td>4</td>\n",
       "      <td>97.0</td>\n",
       "      <td>-0.422791</td>\n",
       "      <td>-0.990987</td>\n",
       "      <td>14.5</td>\n",
       "      <td>70</td>\n",
       "      <td>3</td>\n",
       "    </tr>\n",
       "    <tr>\n",
       "      <th>19</th>\n",
       "      <td>0.317428</td>\n",
       "      <td>4</td>\n",
       "      <td>97.0</td>\n",
       "      <td>-1.518302</td>\n",
       "      <td>-1.338904</td>\n",
       "      <td>20.5</td>\n",
       "      <td>70</td>\n",
       "      <td>2</td>\n",
       "    </tr>\n",
       "    <tr>\n",
       "      <th>20</th>\n",
       "      <td>0.189646</td>\n",
       "      <td>4</td>\n",
       "      <td>110.0</td>\n",
       "      <td>-0.448874</td>\n",
       "      <td>-0.351764</td>\n",
       "      <td>17.5</td>\n",
       "      <td>70</td>\n",
       "      <td>2</td>\n",
       "    </tr>\n",
       "    <tr>\n",
       "      <th>21</th>\n",
       "      <td>0.061863</td>\n",
       "      <td>4</td>\n",
       "      <td>107.0</td>\n",
       "      <td>-0.370624</td>\n",
       "      <td>-0.637173</td>\n",
       "      <td>14.5</td>\n",
       "      <td>70</td>\n",
       "      <td>2</td>\n",
       "    </tr>\n",
       "    <tr>\n",
       "      <th>22</th>\n",
       "      <td>0.189646</td>\n",
       "      <td>4</td>\n",
       "      <td>104.0</td>\n",
       "      <td>-0.240206</td>\n",
       "      <td>-0.702039</td>\n",
       "      <td>17.5</td>\n",
       "      <td>70</td>\n",
       "      <td>2</td>\n",
       "    </tr>\n",
       "    <tr>\n",
       "      <th>23</th>\n",
       "      <td>0.317428</td>\n",
       "      <td>4</td>\n",
       "      <td>121.0</td>\n",
       "      <td>0.229299</td>\n",
       "      <td>-0.868332</td>\n",
       "      <td>12.5</td>\n",
       "      <td>70</td>\n",
       "      <td>2</td>\n",
       "    </tr>\n",
       "    <tr>\n",
       "      <th>24</th>\n",
       "      <td>-0.321484</td>\n",
       "      <td>6</td>\n",
       "      <td>199.0</td>\n",
       "      <td>-0.370624</td>\n",
       "      <td>-0.380069</td>\n",
       "      <td>15.0</td>\n",
       "      <td>70</td>\n",
       "      <td>1</td>\n",
       "    </tr>\n",
       "    <tr>\n",
       "      <th>25</th>\n",
       "      <td>-1.727090</td>\n",
       "      <td>8</td>\n",
       "      <td>360.0</td>\n",
       "      <td>2.889827</td>\n",
       "      <td>1.939769</td>\n",
       "      <td>14.0</td>\n",
       "      <td>70</td>\n",
       "      <td>1</td>\n",
       "    </tr>\n",
       "    <tr>\n",
       "      <th>26</th>\n",
       "      <td>-1.727090</td>\n",
       "      <td>8</td>\n",
       "      <td>307.0</td>\n",
       "      <td>2.498573</td>\n",
       "      <td>1.657897</td>\n",
       "      <td>15.0</td>\n",
       "      <td>70</td>\n",
       "      <td>1</td>\n",
       "    </tr>\n",
       "    <tr>\n",
       "      <th>27</th>\n",
       "      <td>-1.599308</td>\n",
       "      <td>8</td>\n",
       "      <td>318.0</td>\n",
       "      <td>2.759409</td>\n",
       "      <td>1.664974</td>\n",
       "      <td>13.5</td>\n",
       "      <td>70</td>\n",
       "      <td>1</td>\n",
       "    </tr>\n",
       "    <tr>\n",
       "      <th>28</th>\n",
       "      <td>-1.854873</td>\n",
       "      <td>8</td>\n",
       "      <td>304.0</td>\n",
       "      <td>2.315987</td>\n",
       "      <td>2.077756</td>\n",
       "      <td>18.5</td>\n",
       "      <td>70</td>\n",
       "      <td>1</td>\n",
       "    </tr>\n",
       "    <tr>\n",
       "      <th>29</th>\n",
       "      <td>0.445211</td>\n",
       "      <td>4</td>\n",
       "      <td>97.0</td>\n",
       "      <td>-0.422791</td>\n",
       "      <td>-0.990987</td>\n",
       "      <td>14.5</td>\n",
       "      <td>71</td>\n",
       "      <td>3</td>\n",
       "    </tr>\n",
       "    <tr>\n",
       "      <th>...</th>\n",
       "      <td>...</td>\n",
       "      <td>...</td>\n",
       "      <td>...</td>\n",
       "      <td>...</td>\n",
       "      <td>...</td>\n",
       "      <td>...</td>\n",
       "      <td>...</td>\n",
       "      <td>...</td>\n",
       "    </tr>\n",
       "    <tr>\n",
       "      <th>367</th>\n",
       "      <td>0.572993</td>\n",
       "      <td>4</td>\n",
       "      <td>112.0</td>\n",
       "      <td>-0.422791</td>\n",
       "      <td>-0.430782</td>\n",
       "      <td>19.6</td>\n",
       "      <td>82</td>\n",
       "      <td>1</td>\n",
       "    </tr>\n",
       "    <tr>\n",
       "      <th>368</th>\n",
       "      <td>0.445211</td>\n",
       "      <td>4</td>\n",
       "      <td>112.0</td>\n",
       "      <td>-0.422791</td>\n",
       "      <td>-0.389504</td>\n",
       "      <td>18.6</td>\n",
       "      <td>82</td>\n",
       "      <td>1</td>\n",
       "    </tr>\n",
       "    <tr>\n",
       "      <th>369</th>\n",
       "      <td>1.339687</td>\n",
       "      <td>4</td>\n",
       "      <td>112.0</td>\n",
       "      <td>-0.422791</td>\n",
       "      <td>-0.678452</td>\n",
       "      <td>18.0</td>\n",
       "      <td>82</td>\n",
       "      <td>1</td>\n",
       "    </tr>\n",
       "    <tr>\n",
       "      <th>370</th>\n",
       "      <td>0.956340</td>\n",
       "      <td>4</td>\n",
       "      <td>112.0</td>\n",
       "      <td>-0.501042</td>\n",
       "      <td>-0.466164</td>\n",
       "      <td>16.2</td>\n",
       "      <td>82</td>\n",
       "      <td>1</td>\n",
       "    </tr>\n",
       "    <tr>\n",
       "      <th>371</th>\n",
       "      <td>0.700775</td>\n",
       "      <td>4</td>\n",
       "      <td>135.0</td>\n",
       "      <td>-0.527125</td>\n",
       "      <td>-0.525132</td>\n",
       "      <td>16.0</td>\n",
       "      <td>82</td>\n",
       "      <td>1</td>\n",
       "    </tr>\n",
       "    <tr>\n",
       "      <th>372</th>\n",
       "      <td>0.445211</td>\n",
       "      <td>4</td>\n",
       "      <td>151.0</td>\n",
       "      <td>-0.370624</td>\n",
       "      <td>-0.277463</td>\n",
       "      <td>18.0</td>\n",
       "      <td>82</td>\n",
       "      <td>1</td>\n",
       "    </tr>\n",
       "    <tr>\n",
       "      <th>373</th>\n",
       "      <td>0.061863</td>\n",
       "      <td>4</td>\n",
       "      <td>140.0</td>\n",
       "      <td>-0.318456</td>\n",
       "      <td>-0.124144</td>\n",
       "      <td>16.4</td>\n",
       "      <td>82</td>\n",
       "      <td>1</td>\n",
       "    </tr>\n",
       "    <tr>\n",
       "      <th>374</th>\n",
       "      <td>1.595252</td>\n",
       "      <td>4</td>\n",
       "      <td>105.0</td>\n",
       "      <td>-0.787961</td>\n",
       "      <td>-1.167894</td>\n",
       "      <td>15.3</td>\n",
       "      <td>82</td>\n",
       "      <td>2</td>\n",
       "    </tr>\n",
       "    <tr>\n",
       "      <th>375</th>\n",
       "      <td>1.723035</td>\n",
       "      <td>4</td>\n",
       "      <td>91.0</td>\n",
       "      <td>-0.944463</td>\n",
       "      <td>-1.114822</td>\n",
       "      <td>18.2</td>\n",
       "      <td>82</td>\n",
       "      <td>3</td>\n",
       "    </tr>\n",
       "    <tr>\n",
       "      <th>376</th>\n",
       "      <td>0.956340</td>\n",
       "      <td>4</td>\n",
       "      <td>91.0</td>\n",
       "      <td>-0.944463</td>\n",
       "      <td>-1.179688</td>\n",
       "      <td>17.6</td>\n",
       "      <td>82</td>\n",
       "      <td>3</td>\n",
       "    </tr>\n",
       "    <tr>\n",
       "      <th>377</th>\n",
       "      <td>1.850817</td>\n",
       "      <td>4</td>\n",
       "      <td>105.0</td>\n",
       "      <td>-1.074881</td>\n",
       "      <td>-0.996884</td>\n",
       "      <td>14.7</td>\n",
       "      <td>82</td>\n",
       "      <td>1</td>\n",
       "    </tr>\n",
       "    <tr>\n",
       "      <th>378</th>\n",
       "      <td>1.595252</td>\n",
       "      <td>4</td>\n",
       "      <td>98.0</td>\n",
       "      <td>-0.892296</td>\n",
       "      <td>-0.996884</td>\n",
       "      <td>17.3</td>\n",
       "      <td>82</td>\n",
       "      <td>1</td>\n",
       "    </tr>\n",
       "    <tr>\n",
       "      <th>379</th>\n",
       "      <td>1.595252</td>\n",
       "      <td>4</td>\n",
       "      <td>120.0</td>\n",
       "      <td>-0.422791</td>\n",
       "      <td>-0.955606</td>\n",
       "      <td>14.5</td>\n",
       "      <td>82</td>\n",
       "      <td>3</td>\n",
       "    </tr>\n",
       "    <tr>\n",
       "      <th>380</th>\n",
       "      <td>1.595252</td>\n",
       "      <td>4</td>\n",
       "      <td>107.0</td>\n",
       "      <td>-0.761878</td>\n",
       "      <td>-0.902534</td>\n",
       "      <td>14.5</td>\n",
       "      <td>82</td>\n",
       "      <td>3</td>\n",
       "    </tr>\n",
       "    <tr>\n",
       "      <th>381</th>\n",
       "      <td>1.339687</td>\n",
       "      <td>4</td>\n",
       "      <td>108.0</td>\n",
       "      <td>-0.892296</td>\n",
       "      <td>-0.855358</td>\n",
       "      <td>16.9</td>\n",
       "      <td>82</td>\n",
       "      <td>3</td>\n",
       "    </tr>\n",
       "    <tr>\n",
       "      <th>382</th>\n",
       "      <td>1.850817</td>\n",
       "      <td>4</td>\n",
       "      <td>91.0</td>\n",
       "      <td>-0.970547</td>\n",
       "      <td>-1.185584</td>\n",
       "      <td>15.0</td>\n",
       "      <td>82</td>\n",
       "      <td>3</td>\n",
       "    </tr>\n",
       "    <tr>\n",
       "      <th>383</th>\n",
       "      <td>1.084123</td>\n",
       "      <td>4</td>\n",
       "      <td>91.0</td>\n",
       "      <td>-0.970547</td>\n",
       "      <td>-1.185584</td>\n",
       "      <td>15.7</td>\n",
       "      <td>82</td>\n",
       "      <td>3</td>\n",
       "    </tr>\n",
       "    <tr>\n",
       "      <th>384</th>\n",
       "      <td>1.850817</td>\n",
       "      <td>4</td>\n",
       "      <td>91.0</td>\n",
       "      <td>-0.970547</td>\n",
       "      <td>-1.150203</td>\n",
       "      <td>16.2</td>\n",
       "      <td>82</td>\n",
       "      <td>3</td>\n",
       "    </tr>\n",
       "    <tr>\n",
       "      <th>385</th>\n",
       "      <td>0.189646</td>\n",
       "      <td>6</td>\n",
       "      <td>181.0</td>\n",
       "      <td>0.151048</td>\n",
       "      <td>-0.029793</td>\n",
       "      <td>16.4</td>\n",
       "      <td>82</td>\n",
       "      <td>1</td>\n",
       "    </tr>\n",
       "    <tr>\n",
       "      <th>386</th>\n",
       "      <td>1.850817</td>\n",
       "      <td>6</td>\n",
       "      <td>262.0</td>\n",
       "      <td>-0.501042</td>\n",
       "      <td>0.052763</td>\n",
       "      <td>17.0</td>\n",
       "      <td>82</td>\n",
       "      <td>1</td>\n",
       "    </tr>\n",
       "    <tr>\n",
       "      <th>387</th>\n",
       "      <td>0.317428</td>\n",
       "      <td>4</td>\n",
       "      <td>156.0</td>\n",
       "      <td>-0.318456</td>\n",
       "      <td>-0.454370</td>\n",
       "      <td>14.5</td>\n",
       "      <td>82</td>\n",
       "      <td>1</td>\n",
       "    </tr>\n",
       "    <tr>\n",
       "      <th>388</th>\n",
       "      <td>-0.193701</td>\n",
       "      <td>6</td>\n",
       "      <td>232.0</td>\n",
       "      <td>0.203216</td>\n",
       "      <td>-0.159525</td>\n",
       "      <td>14.7</td>\n",
       "      <td>82</td>\n",
       "      <td>1</td>\n",
       "    </tr>\n",
       "    <tr>\n",
       "      <th>389</th>\n",
       "      <td>1.084123</td>\n",
       "      <td>4</td>\n",
       "      <td>144.0</td>\n",
       "      <td>-0.214122</td>\n",
       "      <td>-0.360019</td>\n",
       "      <td>13.9</td>\n",
       "      <td>82</td>\n",
       "      <td>3</td>\n",
       "    </tr>\n",
       "    <tr>\n",
       "      <th>390</th>\n",
       "      <td>1.595252</td>\n",
       "      <td>4</td>\n",
       "      <td>135.0</td>\n",
       "      <td>-0.527125</td>\n",
       "      <td>-0.707936</td>\n",
       "      <td>13.0</td>\n",
       "      <td>82</td>\n",
       "      <td>1</td>\n",
       "    </tr>\n",
       "    <tr>\n",
       "      <th>391</th>\n",
       "      <td>0.445211</td>\n",
       "      <td>4</td>\n",
       "      <td>151.0</td>\n",
       "      <td>-0.370624</td>\n",
       "      <td>-0.023897</td>\n",
       "      <td>17.3</td>\n",
       "      <td>82</td>\n",
       "      <td>1</td>\n",
       "    </tr>\n",
       "    <tr>\n",
       "      <th>392</th>\n",
       "      <td>0.445211</td>\n",
       "      <td>4</td>\n",
       "      <td>140.0</td>\n",
       "      <td>-0.474958</td>\n",
       "      <td>-0.212597</td>\n",
       "      <td>15.6</td>\n",
       "      <td>82</td>\n",
       "      <td>1</td>\n",
       "    </tr>\n",
       "    <tr>\n",
       "      <th>393</th>\n",
       "      <td>2.617511</td>\n",
       "      <td>4</td>\n",
       "      <td>97.0</td>\n",
       "      <td>-1.361801</td>\n",
       "      <td>-0.990987</td>\n",
       "      <td>24.6</td>\n",
       "      <td>82</td>\n",
       "      <td>2</td>\n",
       "    </tr>\n",
       "    <tr>\n",
       "      <th>394</th>\n",
       "      <td>1.084123</td>\n",
       "      <td>4</td>\n",
       "      <td>135.0</td>\n",
       "      <td>-0.527125</td>\n",
       "      <td>-0.796390</td>\n",
       "      <td>11.6</td>\n",
       "      <td>82</td>\n",
       "      <td>1</td>\n",
       "    </tr>\n",
       "    <tr>\n",
       "      <th>395</th>\n",
       "      <td>0.572993</td>\n",
       "      <td>4</td>\n",
       "      <td>120.0</td>\n",
       "      <td>-0.657543</td>\n",
       "      <td>-0.407195</td>\n",
       "      <td>18.6</td>\n",
       "      <td>82</td>\n",
       "      <td>1</td>\n",
       "    </tr>\n",
       "    <tr>\n",
       "      <th>396</th>\n",
       "      <td>0.956340</td>\n",
       "      <td>4</td>\n",
       "      <td>119.0</td>\n",
       "      <td>-0.579293</td>\n",
       "      <td>-0.295154</td>\n",
       "      <td>19.4</td>\n",
       "      <td>82</td>\n",
       "      <td>1</td>\n",
       "    </tr>\n",
       "  </tbody>\n",
       "</table>\n",
       "<p>397 rows × 8 columns</p>\n",
       "</div>"
      ],
      "text/plain": [
       "          mpg  cylinders  displacement  horsepower    weight  acceleration  \\\n",
       "0   -0.704831          8         307.0    0.672720  0.629479          12.0   \n",
       "1   -1.088178          8         350.0    1.585647  0.852382          11.5   \n",
       "2   -0.704831          8         318.0    1.194392  0.549281          11.0   \n",
       "3   -0.960396          8         304.0    1.194392  0.545743          12.0   \n",
       "4   -0.832613          8         302.0    0.933556  0.564613          10.5   \n",
       "5   -1.088178          8         429.0    2.446405  1.616619          10.0   \n",
       "6   -1.215961          8         454.0    3.020245  1.631951           9.0   \n",
       "7   -1.215961          8         440.0    2.889827  1.582417           8.5   \n",
       "8   -1.215961          8         455.0    3.150663  1.715687          10.0   \n",
       "9   -1.088178          8         390.0    2.237737  1.037544           8.5   \n",
       "10  -1.088178          8         383.0    1.716065  0.699063          10.0   \n",
       "11  -1.215961          8         340.0    1.455229  0.753314           8.0   \n",
       "12  -1.088178          8         400.0    1.194392  0.932580           9.5   \n",
       "13  -1.215961          8         455.0    3.150663  0.136499          10.0   \n",
       "14   0.061863          4         113.0   -0.240206 -0.705577          15.0   \n",
       "15  -0.193701          6         198.0   -0.240206 -0.161884          15.5   \n",
       "16  -0.704831          6         199.0   -0.188038 -0.231467          15.5   \n",
       "17  -0.321484          6         200.0   -0.501042 -0.452011          16.0   \n",
       "18   0.445211          4          97.0   -0.422791 -0.990987          14.5   \n",
       "19   0.317428          4          97.0   -1.518302 -1.338904          20.5   \n",
       "20   0.189646          4         110.0   -0.448874 -0.351764          17.5   \n",
       "21   0.061863          4         107.0   -0.370624 -0.637173          14.5   \n",
       "22   0.189646          4         104.0   -0.240206 -0.702039          17.5   \n",
       "23   0.317428          4         121.0    0.229299 -0.868332          12.5   \n",
       "24  -0.321484          6         199.0   -0.370624 -0.380069          15.0   \n",
       "25  -1.727090          8         360.0    2.889827  1.939769          14.0   \n",
       "26  -1.727090          8         307.0    2.498573  1.657897          15.0   \n",
       "27  -1.599308          8         318.0    2.759409  1.664974          13.5   \n",
       "28  -1.854873          8         304.0    2.315987  2.077756          18.5   \n",
       "29   0.445211          4          97.0   -0.422791 -0.990987          14.5   \n",
       "..        ...        ...           ...         ...       ...           ...   \n",
       "367  0.572993          4         112.0   -0.422791 -0.430782          19.6   \n",
       "368  0.445211          4         112.0   -0.422791 -0.389504          18.6   \n",
       "369  1.339687          4         112.0   -0.422791 -0.678452          18.0   \n",
       "370  0.956340          4         112.0   -0.501042 -0.466164          16.2   \n",
       "371  0.700775          4         135.0   -0.527125 -0.525132          16.0   \n",
       "372  0.445211          4         151.0   -0.370624 -0.277463          18.0   \n",
       "373  0.061863          4         140.0   -0.318456 -0.124144          16.4   \n",
       "374  1.595252          4         105.0   -0.787961 -1.167894          15.3   \n",
       "375  1.723035          4          91.0   -0.944463 -1.114822          18.2   \n",
       "376  0.956340          4          91.0   -0.944463 -1.179688          17.6   \n",
       "377  1.850817          4         105.0   -1.074881 -0.996884          14.7   \n",
       "378  1.595252          4          98.0   -0.892296 -0.996884          17.3   \n",
       "379  1.595252          4         120.0   -0.422791 -0.955606          14.5   \n",
       "380  1.595252          4         107.0   -0.761878 -0.902534          14.5   \n",
       "381  1.339687          4         108.0   -0.892296 -0.855358          16.9   \n",
       "382  1.850817          4          91.0   -0.970547 -1.185584          15.0   \n",
       "383  1.084123          4          91.0   -0.970547 -1.185584          15.7   \n",
       "384  1.850817          4          91.0   -0.970547 -1.150203          16.2   \n",
       "385  0.189646          6         181.0    0.151048 -0.029793          16.4   \n",
       "386  1.850817          6         262.0   -0.501042  0.052763          17.0   \n",
       "387  0.317428          4         156.0   -0.318456 -0.454370          14.5   \n",
       "388 -0.193701          6         232.0    0.203216 -0.159525          14.7   \n",
       "389  1.084123          4         144.0   -0.214122 -0.360019          13.9   \n",
       "390  1.595252          4         135.0   -0.527125 -0.707936          13.0   \n",
       "391  0.445211          4         151.0   -0.370624 -0.023897          17.3   \n",
       "392  0.445211          4         140.0   -0.474958 -0.212597          15.6   \n",
       "393  2.617511          4          97.0   -1.361801 -0.990987          24.6   \n",
       "394  1.084123          4         135.0   -0.527125 -0.796390          11.6   \n",
       "395  0.572993          4         120.0   -0.657543 -0.407195          18.6   \n",
       "396  0.956340          4         119.0   -0.579293 -0.295154          19.4   \n",
       "\n",
       "     year  origin  \n",
       "0      70       1  \n",
       "1      70       1  \n",
       "2      70       1  \n",
       "3      70       1  \n",
       "4      70       1  \n",
       "5      70       1  \n",
       "6      70       1  \n",
       "7      70       1  \n",
       "8      70       1  \n",
       "9      70       1  \n",
       "10     70       1  \n",
       "11     70       1  \n",
       "12     70       1  \n",
       "13     70       1  \n",
       "14     70       3  \n",
       "15     70       1  \n",
       "16     70       1  \n",
       "17     70       1  \n",
       "18     70       3  \n",
       "19     70       2  \n",
       "20     70       2  \n",
       "21     70       2  \n",
       "22     70       2  \n",
       "23     70       2  \n",
       "24     70       1  \n",
       "25     70       1  \n",
       "26     70       1  \n",
       "27     70       1  \n",
       "28     70       1  \n",
       "29     71       3  \n",
       "..    ...     ...  \n",
       "367    82       1  \n",
       "368    82       1  \n",
       "369    82       1  \n",
       "370    82       1  \n",
       "371    82       1  \n",
       "372    82       1  \n",
       "373    82       1  \n",
       "374    82       2  \n",
       "375    82       3  \n",
       "376    82       3  \n",
       "377    82       1  \n",
       "378    82       1  \n",
       "379    82       3  \n",
       "380    82       3  \n",
       "381    82       3  \n",
       "382    82       3  \n",
       "383    82       3  \n",
       "384    82       3  \n",
       "385    82       1  \n",
       "386    82       1  \n",
       "387    82       1  \n",
       "388    82       1  \n",
       "389    82       3  \n",
       "390    82       1  \n",
       "391    82       1  \n",
       "392    82       1  \n",
       "393    82       2  \n",
       "394    82       1  \n",
       "395    82       1  \n",
       "396    82       1  \n",
       "\n",
       "[397 rows x 8 columns]"
      ]
     },
     "execution_count": 157,
     "metadata": {},
     "output_type": "execute_result"
    }
   ],
   "source": [
    "auto2"
   ]
  },
  {
   "cell_type": "code",
   "execution_count": 162,
   "metadata": {},
   "outputs": [
    {
     "data": {
      "text/plain": [
       "KMeans(algorithm='auto', copy_x=True, init='k-means++', max_iter=300,\n",
       "    n_clusters=5, n_init=10, n_jobs=1, precompute_distances='auto',\n",
       "    random_state=1, tol=0.0001, verbose=0)"
      ]
     },
     "execution_count": 162,
     "metadata": {},
     "output_type": "execute_result"
    }
   ],
   "source": [
    "# K-means with N clusters\n",
    "N = 5\n",
    "from sklearn.cluster import KMeans\n",
    "km2 = KMeans(n_clusters=N, random_state=1)\n",
    "km2.fit(auto2)"
   ]
  },
  {
   "cell_type": "code",
   "execution_count": 163,
   "metadata": {},
   "outputs": [
    {
     "data": {
      "text/plain": [
       "{0, 1, 2, 3, 4}"
      ]
     },
     "execution_count": 163,
     "metadata": {},
     "output_type": "execute_result"
    }
   ],
   "source": [
    "set(km2.labels_)"
   ]
  },
  {
   "cell_type": "code",
   "execution_count": 164,
   "metadata": {},
   "outputs": [],
   "source": [
    "auto2['cluster2'] = km2.predict(auto2)\n"
   ]
  },
  {
   "cell_type": "code",
   "execution_count": 166,
   "metadata": {},
   "outputs": [
    {
     "data": {
      "text/plain": [
       "1    132\n",
       "3     94\n",
       "4     73\n",
       "0     73\n",
       "2     25\n",
       "Name: cluster2, dtype: int64"
      ]
     },
     "execution_count": 166,
     "metadata": {},
     "output_type": "execute_result"
    }
   ],
   "source": [
    "auto2.cluster2.value_counts()"
   ]
  },
  {
   "cell_type": "markdown",
   "metadata": {},
   "source": [
    "**Note:** There was some trouble getting the fit and predict line of code to run, i.e. auto2['cluster'] = km.fit_predict(auto2[['horsepower', 'weight', 'mpg']]). Kept getting TypeError: 'KMeans' object does not support item assignment. Breaking it up into the component parts, allowed it to work.\n",
    "\n",
    "**Observation:** In the normalized dataset, the clusters are different and the value counts are different. It's an interesting find in our 397 data points. The cluster with the most values in the unnormalized values (cluster 2) now has the least number of values. "
   ]
  },
  {
   "cell_type": "code",
   "execution_count": 169,
   "metadata": {},
   "outputs": [
    {
     "data": {
      "image/png": "[encoded data removed]",
      "text/plain": [
       "<matplotlib.figure.Figure at 0x10eea2550>"
      ]
     },
     "metadata": {},
     "output_type": "display_data"
    }
   ],
   "source": [
    "# plot of the values from the normalized dataset, looking at how mpg is affected by horsepower and weight. in 3D\n",
    "\n",
    "fig = plt.figure()\n",
    "plt.clf()\n",
    "ax = Axes3D(fig, rect=[0, 0, .95, 1], elev=10, azim=60)\n",
    "\n",
    "plt.cla()\n",
    "\n",
    "ax.scatter(auto2['mpg'], auto2['horsepower'], auto2['weight'], c=colors[auto2.cluster2], s=20)\n",
    "\n",
    "ax.set_xlabel('horsepower')\n",
    "ax.set_ylabel('weight')\n",
    "ax.set_zlabel('mpg')\n",
    "plt.show()\n"
   ]
  },
  {
   "cell_type": "code",
   "execution_count": 170,
   "metadata": {},
   "outputs": [
    {
     "data": {
      "image/png": "[encoded data removed]",
      "text/plain": [
       "<matplotlib.figure.Figure at 0x110198ac8>"
      ]
     },
     "metadata": {},
     "output_type": "display_data"
    }
   ],
   "source": [
    "# plot of the values from the normalized dataset, looking at how mpg is affected by horsepower and weight. Now with color pairs in 2D\n",
    "\n",
    "fig = plt.figure()\n",
    "plt.scatter(auto2.horsepower, auto2.mpg, c=auto2.cluster2, s=20, cmap='Paired')\n",
    "\n",
    "plt.xlabel('horsepower')\n",
    "plt.ylabel('mpg')\n",
    "plt.show()\n"
   ]
  },
  {
   "cell_type": "markdown",
   "metadata": {},
   "source": [
    "**Observation:** Though the relationship in the 2D plot shows a similar inverse relationship between horsepower and mpg, the number of data points in each band is different than the unnormalized dataset. It appears in the normalized dataset that there is a greater spread within the bands (more overlaps than before). Additionally, in the 3D plot, it shows the distribution of the dots are less spread out (meaning there is more similarity in the clusters on the left side than the right side of the plot).\n",
    "\n"
   ]
  },
  {
   "cell_type": "markdown",
   "metadata": {},
   "source": [
    "### Clustering with DBSCAN"
   ]
  },
  {
   "cell_type": "code",
   "execution_count": 188,
   "metadata": {},
   "outputs": [
    {
     "data": {
      "text/plain": [
       "mpg             False\n",
       "cylinders       False\n",
       "displacement    False\n",
       "horsepower      False\n",
       "weight          False\n",
       "acceleration    False\n",
       "year            False\n",
       "origin          False\n",
       "dtype: bool"
      ]
     },
     "execution_count": 188,
     "metadata": {},
     "output_type": "execute_result"
    }
   ],
   "source": [
    "auto3 = pd.read_csv('/Users/jMac/Desktop/Autos.csv')\n",
    "\n",
    "auto3.dropna(inplace=True) #discards all na values\n",
    "\n",
    "auto3 = auto3.drop(['name'], axis=1)\n",
    "\n",
    "auto3['horsepower'] = pd.to_numeric(auto3['horsepower'], errors='coerce')\n",
    "auto3 = auto3.fillna(method='ffill') #need to fill in any missing values\n",
    "auto3.isnull().any() #check for nulls"
   ]
  },
  {
   "cell_type": "code",
   "execution_count": 189,
   "metadata": {
    "collapsed": true
   },
   "outputs": [],
   "source": [
    "auto3['horsepower'] = (auto3.horsepower - auto3.horsepower.mean())/auto3.horsepower.std()\n",
    "auto3['weight'] = (auto3.weight - auto3.weight.mean())/auto3.weight.std()\n",
    "auto3['mpg'] = (auto3.mpg - auto3.mpg.mean())/auto3.mpg.std()"
   ]
  },
  {
   "cell_type": "code",
   "execution_count": 190,
   "metadata": {
    "scrolled": true
   },
   "outputs": [
    {
     "data": {
      "text/html": [
       "<div>\n",
       "<style>\n",
       "    .dataframe thead tr:only-child th {\n",
       "        text-align: right;\n",
       "    }\n",
       "\n",
       "    .dataframe thead th {\n",
       "        text-align: left;\n",
       "    }\n",
       "\n",
       "    .dataframe tbody tr th {\n",
       "        vertical-align: top;\n",
       "    }\n",
       "</style>\n",
       "<table border=\"1\" class=\"dataframe\">\n",
       "  <thead>\n",
       "    <tr style=\"text-align: right;\">\n",
       "      <th></th>\n",
       "      <th>mpg</th>\n",
       "      <th>cylinders</th>\n",
       "      <th>displacement</th>\n",
       "      <th>horsepower</th>\n",
       "      <th>weight</th>\n",
       "      <th>acceleration</th>\n",
       "      <th>year</th>\n",
       "      <th>origin</th>\n",
       "    </tr>\n",
       "  </thead>\n",
       "  <tbody>\n",
       "    <tr>\n",
       "      <th>0</th>\n",
       "      <td>-0.704831</td>\n",
       "      <td>8</td>\n",
       "      <td>307.0</td>\n",
       "      <td>0.672720</td>\n",
       "      <td>0.629479</td>\n",
       "      <td>12.0</td>\n",
       "      <td>70</td>\n",
       "      <td>1</td>\n",
       "    </tr>\n",
       "    <tr>\n",
       "      <th>1</th>\n",
       "      <td>-1.088178</td>\n",
       "      <td>8</td>\n",
       "      <td>350.0</td>\n",
       "      <td>1.585647</td>\n",
       "      <td>0.852382</td>\n",
       "      <td>11.5</td>\n",
       "      <td>70</td>\n",
       "      <td>1</td>\n",
       "    </tr>\n",
       "    <tr>\n",
       "      <th>2</th>\n",
       "      <td>-0.704831</td>\n",
       "      <td>8</td>\n",
       "      <td>318.0</td>\n",
       "      <td>1.194392</td>\n",
       "      <td>0.549281</td>\n",
       "      <td>11.0</td>\n",
       "      <td>70</td>\n",
       "      <td>1</td>\n",
       "    </tr>\n",
       "    <tr>\n",
       "      <th>3</th>\n",
       "      <td>-0.960396</td>\n",
       "      <td>8</td>\n",
       "      <td>304.0</td>\n",
       "      <td>1.194392</td>\n",
       "      <td>0.545743</td>\n",
       "      <td>12.0</td>\n",
       "      <td>70</td>\n",
       "      <td>1</td>\n",
       "    </tr>\n",
       "    <tr>\n",
       "      <th>4</th>\n",
       "      <td>-0.832613</td>\n",
       "      <td>8</td>\n",
       "      <td>302.0</td>\n",
       "      <td>0.933556</td>\n",
       "      <td>0.564613</td>\n",
       "      <td>10.5</td>\n",
       "      <td>70</td>\n",
       "      <td>1</td>\n",
       "    </tr>\n",
       "    <tr>\n",
       "      <th>5</th>\n",
       "      <td>-1.088178</td>\n",
       "      <td>8</td>\n",
       "      <td>429.0</td>\n",
       "      <td>2.446405</td>\n",
       "      <td>1.616619</td>\n",
       "      <td>10.0</td>\n",
       "      <td>70</td>\n",
       "      <td>1</td>\n",
       "    </tr>\n",
       "    <tr>\n",
       "      <th>6</th>\n",
       "      <td>-1.215961</td>\n",
       "      <td>8</td>\n",
       "      <td>454.0</td>\n",
       "      <td>3.020245</td>\n",
       "      <td>1.631951</td>\n",
       "      <td>9.0</td>\n",
       "      <td>70</td>\n",
       "      <td>1</td>\n",
       "    </tr>\n",
       "    <tr>\n",
       "      <th>7</th>\n",
       "      <td>-1.215961</td>\n",
       "      <td>8</td>\n",
       "      <td>440.0</td>\n",
       "      <td>2.889827</td>\n",
       "      <td>1.582417</td>\n",
       "      <td>8.5</td>\n",
       "      <td>70</td>\n",
       "      <td>1</td>\n",
       "    </tr>\n",
       "    <tr>\n",
       "      <th>8</th>\n",
       "      <td>-1.215961</td>\n",
       "      <td>8</td>\n",
       "      <td>455.0</td>\n",
       "      <td>3.150663</td>\n",
       "      <td>1.715687</td>\n",
       "      <td>10.0</td>\n",
       "      <td>70</td>\n",
       "      <td>1</td>\n",
       "    </tr>\n",
       "    <tr>\n",
       "      <th>9</th>\n",
       "      <td>-1.088178</td>\n",
       "      <td>8</td>\n",
       "      <td>390.0</td>\n",
       "      <td>2.237737</td>\n",
       "      <td>1.037544</td>\n",
       "      <td>8.5</td>\n",
       "      <td>70</td>\n",
       "      <td>1</td>\n",
       "    </tr>\n",
       "    <tr>\n",
       "      <th>10</th>\n",
       "      <td>-1.088178</td>\n",
       "      <td>8</td>\n",
       "      <td>383.0</td>\n",
       "      <td>1.716065</td>\n",
       "      <td>0.699063</td>\n",
       "      <td>10.0</td>\n",
       "      <td>70</td>\n",
       "      <td>1</td>\n",
       "    </tr>\n",
       "    <tr>\n",
       "      <th>11</th>\n",
       "      <td>-1.215961</td>\n",
       "      <td>8</td>\n",
       "      <td>340.0</td>\n",
       "      <td>1.455229</td>\n",
       "      <td>0.753314</td>\n",
       "      <td>8.0</td>\n",
       "      <td>70</td>\n",
       "      <td>1</td>\n",
       "    </tr>\n",
       "    <tr>\n",
       "      <th>12</th>\n",
       "      <td>-1.088178</td>\n",
       "      <td>8</td>\n",
       "      <td>400.0</td>\n",
       "      <td>1.194392</td>\n",
       "      <td>0.932580</td>\n",
       "      <td>9.5</td>\n",
       "      <td>70</td>\n",
       "      <td>1</td>\n",
       "    </tr>\n",
       "    <tr>\n",
       "      <th>13</th>\n",
       "      <td>-1.215961</td>\n",
       "      <td>8</td>\n",
       "      <td>455.0</td>\n",
       "      <td>3.150663</td>\n",
       "      <td>0.136499</td>\n",
       "      <td>10.0</td>\n",
       "      <td>70</td>\n",
       "      <td>1</td>\n",
       "    </tr>\n",
       "    <tr>\n",
       "      <th>14</th>\n",
       "      <td>0.061863</td>\n",
       "      <td>4</td>\n",
       "      <td>113.0</td>\n",
       "      <td>-0.240206</td>\n",
       "      <td>-0.705577</td>\n",
       "      <td>15.0</td>\n",
       "      <td>70</td>\n",
       "      <td>3</td>\n",
       "    </tr>\n",
       "    <tr>\n",
       "      <th>15</th>\n",
       "      <td>-0.193701</td>\n",
       "      <td>6</td>\n",
       "      <td>198.0</td>\n",
       "      <td>-0.240206</td>\n",
       "      <td>-0.161884</td>\n",
       "      <td>15.5</td>\n",
       "      <td>70</td>\n",
       "      <td>1</td>\n",
       "    </tr>\n",
       "    <tr>\n",
       "      <th>16</th>\n",
       "      <td>-0.704831</td>\n",
       "      <td>6</td>\n",
       "      <td>199.0</td>\n",
       "      <td>-0.188038</td>\n",
       "      <td>-0.231467</td>\n",
       "      <td>15.5</td>\n",
       "      <td>70</td>\n",
       "      <td>1</td>\n",
       "    </tr>\n",
       "    <tr>\n",
       "      <th>17</th>\n",
       "      <td>-0.321484</td>\n",
       "      <td>6</td>\n",
       "      <td>200.0</td>\n",
       "      <td>-0.501042</td>\n",
       "      <td>-0.452011</td>\n",
       "      <td>16.0</td>\n",
       "      <td>70</td>\n",
       "      <td>1</td>\n",
       "    </tr>\n",
       "    <tr>\n",
       "      <th>18</th>\n",
       "      <td>0.445211</td>\n",
       "      <td>4</td>\n",
       "      <td>97.0</td>\n",
       "      <td>-0.422791</td>\n",
       "      <td>-0.990987</td>\n",
       "      <td>14.5</td>\n",
       "      <td>70</td>\n",
       "      <td>3</td>\n",
       "    </tr>\n",
       "    <tr>\n",
       "      <th>19</th>\n",
       "      <td>0.317428</td>\n",
       "      <td>4</td>\n",
       "      <td>97.0</td>\n",
       "      <td>-1.518302</td>\n",
       "      <td>-1.338904</td>\n",
       "      <td>20.5</td>\n",
       "      <td>70</td>\n",
       "      <td>2</td>\n",
       "    </tr>\n",
       "    <tr>\n",
       "      <th>20</th>\n",
       "      <td>0.189646</td>\n",
       "      <td>4</td>\n",
       "      <td>110.0</td>\n",
       "      <td>-0.448874</td>\n",
       "      <td>-0.351764</td>\n",
       "      <td>17.5</td>\n",
       "      <td>70</td>\n",
       "      <td>2</td>\n",
       "    </tr>\n",
       "    <tr>\n",
       "      <th>21</th>\n",
       "      <td>0.061863</td>\n",
       "      <td>4</td>\n",
       "      <td>107.0</td>\n",
       "      <td>-0.370624</td>\n",
       "      <td>-0.637173</td>\n",
       "      <td>14.5</td>\n",
       "      <td>70</td>\n",
       "      <td>2</td>\n",
       "    </tr>\n",
       "    <tr>\n",
       "      <th>22</th>\n",
       "      <td>0.189646</td>\n",
       "      <td>4</td>\n",
       "      <td>104.0</td>\n",
       "      <td>-0.240206</td>\n",
       "      <td>-0.702039</td>\n",
       "      <td>17.5</td>\n",
       "      <td>70</td>\n",
       "      <td>2</td>\n",
       "    </tr>\n",
       "    <tr>\n",
       "      <th>23</th>\n",
       "      <td>0.317428</td>\n",
       "      <td>4</td>\n",
       "      <td>121.0</td>\n",
       "      <td>0.229299</td>\n",
       "      <td>-0.868332</td>\n",
       "      <td>12.5</td>\n",
       "      <td>70</td>\n",
       "      <td>2</td>\n",
       "    </tr>\n",
       "    <tr>\n",
       "      <th>24</th>\n",
       "      <td>-0.321484</td>\n",
       "      <td>6</td>\n",
       "      <td>199.0</td>\n",
       "      <td>-0.370624</td>\n",
       "      <td>-0.380069</td>\n",
       "      <td>15.0</td>\n",
       "      <td>70</td>\n",
       "      <td>1</td>\n",
       "    </tr>\n",
       "    <tr>\n",
       "      <th>25</th>\n",
       "      <td>-1.727090</td>\n",
       "      <td>8</td>\n",
       "      <td>360.0</td>\n",
       "      <td>2.889827</td>\n",
       "      <td>1.939769</td>\n",
       "      <td>14.0</td>\n",
       "      <td>70</td>\n",
       "      <td>1</td>\n",
       "    </tr>\n",
       "    <tr>\n",
       "      <th>26</th>\n",
       "      <td>-1.727090</td>\n",
       "      <td>8</td>\n",
       "      <td>307.0</td>\n",
       "      <td>2.498573</td>\n",
       "      <td>1.657897</td>\n",
       "      <td>15.0</td>\n",
       "      <td>70</td>\n",
       "      <td>1</td>\n",
       "    </tr>\n",
       "    <tr>\n",
       "      <th>27</th>\n",
       "      <td>-1.599308</td>\n",
       "      <td>8</td>\n",
       "      <td>318.0</td>\n",
       "      <td>2.759409</td>\n",
       "      <td>1.664974</td>\n",
       "      <td>13.5</td>\n",
       "      <td>70</td>\n",
       "      <td>1</td>\n",
       "    </tr>\n",
       "    <tr>\n",
       "      <th>28</th>\n",
       "      <td>-1.854873</td>\n",
       "      <td>8</td>\n",
       "      <td>304.0</td>\n",
       "      <td>2.315987</td>\n",
       "      <td>2.077756</td>\n",
       "      <td>18.5</td>\n",
       "      <td>70</td>\n",
       "      <td>1</td>\n",
       "    </tr>\n",
       "    <tr>\n",
       "      <th>29</th>\n",
       "      <td>0.445211</td>\n",
       "      <td>4</td>\n",
       "      <td>97.0</td>\n",
       "      <td>-0.422791</td>\n",
       "      <td>-0.990987</td>\n",
       "      <td>14.5</td>\n",
       "      <td>71</td>\n",
       "      <td>3</td>\n",
       "    </tr>\n",
       "    <tr>\n",
       "      <th>...</th>\n",
       "      <td>...</td>\n",
       "      <td>...</td>\n",
       "      <td>...</td>\n",
       "      <td>...</td>\n",
       "      <td>...</td>\n",
       "      <td>...</td>\n",
       "      <td>...</td>\n",
       "      <td>...</td>\n",
       "    </tr>\n",
       "    <tr>\n",
       "      <th>367</th>\n",
       "      <td>0.572993</td>\n",
       "      <td>4</td>\n",
       "      <td>112.0</td>\n",
       "      <td>-0.422791</td>\n",
       "      <td>-0.430782</td>\n",
       "      <td>19.6</td>\n",
       "      <td>82</td>\n",
       "      <td>1</td>\n",
       "    </tr>\n",
       "    <tr>\n",
       "      <th>368</th>\n",
       "      <td>0.445211</td>\n",
       "      <td>4</td>\n",
       "      <td>112.0</td>\n",
       "      <td>-0.422791</td>\n",
       "      <td>-0.389504</td>\n",
       "      <td>18.6</td>\n",
       "      <td>82</td>\n",
       "      <td>1</td>\n",
       "    </tr>\n",
       "    <tr>\n",
       "      <th>369</th>\n",
       "      <td>1.339687</td>\n",
       "      <td>4</td>\n",
       "      <td>112.0</td>\n",
       "      <td>-0.422791</td>\n",
       "      <td>-0.678452</td>\n",
       "      <td>18.0</td>\n",
       "      <td>82</td>\n",
       "      <td>1</td>\n",
       "    </tr>\n",
       "    <tr>\n",
       "      <th>370</th>\n",
       "      <td>0.956340</td>\n",
       "      <td>4</td>\n",
       "      <td>112.0</td>\n",
       "      <td>-0.501042</td>\n",
       "      <td>-0.466164</td>\n",
       "      <td>16.2</td>\n",
       "      <td>82</td>\n",
       "      <td>1</td>\n",
       "    </tr>\n",
       "    <tr>\n",
       "      <th>371</th>\n",
       "      <td>0.700775</td>\n",
       "      <td>4</td>\n",
       "      <td>135.0</td>\n",
       "      <td>-0.527125</td>\n",
       "      <td>-0.525132</td>\n",
       "      <td>16.0</td>\n",
       "      <td>82</td>\n",
       "      <td>1</td>\n",
       "    </tr>\n",
       "    <tr>\n",
       "      <th>372</th>\n",
       "      <td>0.445211</td>\n",
       "      <td>4</td>\n",
       "      <td>151.0</td>\n",
       "      <td>-0.370624</td>\n",
       "      <td>-0.277463</td>\n",
       "      <td>18.0</td>\n",
       "      <td>82</td>\n",
       "      <td>1</td>\n",
       "    </tr>\n",
       "    <tr>\n",
       "      <th>373</th>\n",
       "      <td>0.061863</td>\n",
       "      <td>4</td>\n",
       "      <td>140.0</td>\n",
       "      <td>-0.318456</td>\n",
       "      <td>-0.124144</td>\n",
       "      <td>16.4</td>\n",
       "      <td>82</td>\n",
       "      <td>1</td>\n",
       "    </tr>\n",
       "    <tr>\n",
       "      <th>374</th>\n",
       "      <td>1.595252</td>\n",
       "      <td>4</td>\n",
       "      <td>105.0</td>\n",
       "      <td>-0.787961</td>\n",
       "      <td>-1.167894</td>\n",
       "      <td>15.3</td>\n",
       "      <td>82</td>\n",
       "      <td>2</td>\n",
       "    </tr>\n",
       "    <tr>\n",
       "      <th>375</th>\n",
       "      <td>1.723035</td>\n",
       "      <td>4</td>\n",
       "      <td>91.0</td>\n",
       "      <td>-0.944463</td>\n",
       "      <td>-1.114822</td>\n",
       "      <td>18.2</td>\n",
       "      <td>82</td>\n",
       "      <td>3</td>\n",
       "    </tr>\n",
       "    <tr>\n",
       "      <th>376</th>\n",
       "      <td>0.956340</td>\n",
       "      <td>4</td>\n",
       "      <td>91.0</td>\n",
       "      <td>-0.944463</td>\n",
       "      <td>-1.179688</td>\n",
       "      <td>17.6</td>\n",
       "      <td>82</td>\n",
       "      <td>3</td>\n",
       "    </tr>\n",
       "    <tr>\n",
       "      <th>377</th>\n",
       "      <td>1.850817</td>\n",
       "      <td>4</td>\n",
       "      <td>105.0</td>\n",
       "      <td>-1.074881</td>\n",
       "      <td>-0.996884</td>\n",
       "      <td>14.7</td>\n",
       "      <td>82</td>\n",
       "      <td>1</td>\n",
       "    </tr>\n",
       "    <tr>\n",
       "      <th>378</th>\n",
       "      <td>1.595252</td>\n",
       "      <td>4</td>\n",
       "      <td>98.0</td>\n",
       "      <td>-0.892296</td>\n",
       "      <td>-0.996884</td>\n",
       "      <td>17.3</td>\n",
       "      <td>82</td>\n",
       "      <td>1</td>\n",
       "    </tr>\n",
       "    <tr>\n",
       "      <th>379</th>\n",
       "      <td>1.595252</td>\n",
       "      <td>4</td>\n",
       "      <td>120.0</td>\n",
       "      <td>-0.422791</td>\n",
       "      <td>-0.955606</td>\n",
       "      <td>14.5</td>\n",
       "      <td>82</td>\n",
       "      <td>3</td>\n",
       "    </tr>\n",
       "    <tr>\n",
       "      <th>380</th>\n",
       "      <td>1.595252</td>\n",
       "      <td>4</td>\n",
       "      <td>107.0</td>\n",
       "      <td>-0.761878</td>\n",
       "      <td>-0.902534</td>\n",
       "      <td>14.5</td>\n",
       "      <td>82</td>\n",
       "      <td>3</td>\n",
       "    </tr>\n",
       "    <tr>\n",
       "      <th>381</th>\n",
       "      <td>1.339687</td>\n",
       "      <td>4</td>\n",
       "      <td>108.0</td>\n",
       "      <td>-0.892296</td>\n",
       "      <td>-0.855358</td>\n",
       "      <td>16.9</td>\n",
       "      <td>82</td>\n",
       "      <td>3</td>\n",
       "    </tr>\n",
       "    <tr>\n",
       "      <th>382</th>\n",
       "      <td>1.850817</td>\n",
       "      <td>4</td>\n",
       "      <td>91.0</td>\n",
       "      <td>-0.970547</td>\n",
       "      <td>-1.185584</td>\n",
       "      <td>15.0</td>\n",
       "      <td>82</td>\n",
       "      <td>3</td>\n",
       "    </tr>\n",
       "    <tr>\n",
       "      <th>383</th>\n",
       "      <td>1.084123</td>\n",
       "      <td>4</td>\n",
       "      <td>91.0</td>\n",
       "      <td>-0.970547</td>\n",
       "      <td>-1.185584</td>\n",
       "      <td>15.7</td>\n",
       "      <td>82</td>\n",
       "      <td>3</td>\n",
       "    </tr>\n",
       "    <tr>\n",
       "      <th>384</th>\n",
       "      <td>1.850817</td>\n",
       "      <td>4</td>\n",
       "      <td>91.0</td>\n",
       "      <td>-0.970547</td>\n",
       "      <td>-1.150203</td>\n",
       "      <td>16.2</td>\n",
       "      <td>82</td>\n",
       "      <td>3</td>\n",
       "    </tr>\n",
       "    <tr>\n",
       "      <th>385</th>\n",
       "      <td>0.189646</td>\n",
       "      <td>6</td>\n",
       "      <td>181.0</td>\n",
       "      <td>0.151048</td>\n",
       "      <td>-0.029793</td>\n",
       "      <td>16.4</td>\n",
       "      <td>82</td>\n",
       "      <td>1</td>\n",
       "    </tr>\n",
       "    <tr>\n",
       "      <th>386</th>\n",
       "      <td>1.850817</td>\n",
       "      <td>6</td>\n",
       "      <td>262.0</td>\n",
       "      <td>-0.501042</td>\n",
       "      <td>0.052763</td>\n",
       "      <td>17.0</td>\n",
       "      <td>82</td>\n",
       "      <td>1</td>\n",
       "    </tr>\n",
       "    <tr>\n",
       "      <th>387</th>\n",
       "      <td>0.317428</td>\n",
       "      <td>4</td>\n",
       "      <td>156.0</td>\n",
       "      <td>-0.318456</td>\n",
       "      <td>-0.454370</td>\n",
       "      <td>14.5</td>\n",
       "      <td>82</td>\n",
       "      <td>1</td>\n",
       "    </tr>\n",
       "    <tr>\n",
       "      <th>388</th>\n",
       "      <td>-0.193701</td>\n",
       "      <td>6</td>\n",
       "      <td>232.0</td>\n",
       "      <td>0.203216</td>\n",
       "      <td>-0.159525</td>\n",
       "      <td>14.7</td>\n",
       "      <td>82</td>\n",
       "      <td>1</td>\n",
       "    </tr>\n",
       "    <tr>\n",
       "      <th>389</th>\n",
       "      <td>1.084123</td>\n",
       "      <td>4</td>\n",
       "      <td>144.0</td>\n",
       "      <td>-0.214122</td>\n",
       "      <td>-0.360019</td>\n",
       "      <td>13.9</td>\n",
       "      <td>82</td>\n",
       "      <td>3</td>\n",
       "    </tr>\n",
       "    <tr>\n",
       "      <th>390</th>\n",
       "      <td>1.595252</td>\n",
       "      <td>4</td>\n",
       "      <td>135.0</td>\n",
       "      <td>-0.527125</td>\n",
       "      <td>-0.707936</td>\n",
       "      <td>13.0</td>\n",
       "      <td>82</td>\n",
       "      <td>1</td>\n",
       "    </tr>\n",
       "    <tr>\n",
       "      <th>391</th>\n",
       "      <td>0.445211</td>\n",
       "      <td>4</td>\n",
       "      <td>151.0</td>\n",
       "      <td>-0.370624</td>\n",
       "      <td>-0.023897</td>\n",
       "      <td>17.3</td>\n",
       "      <td>82</td>\n",
       "      <td>1</td>\n",
       "    </tr>\n",
       "    <tr>\n",
       "      <th>392</th>\n",
       "      <td>0.445211</td>\n",
       "      <td>4</td>\n",
       "      <td>140.0</td>\n",
       "      <td>-0.474958</td>\n",
       "      <td>-0.212597</td>\n",
       "      <td>15.6</td>\n",
       "      <td>82</td>\n",
       "      <td>1</td>\n",
       "    </tr>\n",
       "    <tr>\n",
       "      <th>393</th>\n",
       "      <td>2.617511</td>\n",
       "      <td>4</td>\n",
       "      <td>97.0</td>\n",
       "      <td>-1.361801</td>\n",
       "      <td>-0.990987</td>\n",
       "      <td>24.6</td>\n",
       "      <td>82</td>\n",
       "      <td>2</td>\n",
       "    </tr>\n",
       "    <tr>\n",
       "      <th>394</th>\n",
       "      <td>1.084123</td>\n",
       "      <td>4</td>\n",
       "      <td>135.0</td>\n",
       "      <td>-0.527125</td>\n",
       "      <td>-0.796390</td>\n",
       "      <td>11.6</td>\n",
       "      <td>82</td>\n",
       "      <td>1</td>\n",
       "    </tr>\n",
       "    <tr>\n",
       "      <th>395</th>\n",
       "      <td>0.572993</td>\n",
       "      <td>4</td>\n",
       "      <td>120.0</td>\n",
       "      <td>-0.657543</td>\n",
       "      <td>-0.407195</td>\n",
       "      <td>18.6</td>\n",
       "      <td>82</td>\n",
       "      <td>1</td>\n",
       "    </tr>\n",
       "    <tr>\n",
       "      <th>396</th>\n",
       "      <td>0.956340</td>\n",
       "      <td>4</td>\n",
       "      <td>119.0</td>\n",
       "      <td>-0.579293</td>\n",
       "      <td>-0.295154</td>\n",
       "      <td>19.4</td>\n",
       "      <td>82</td>\n",
       "      <td>1</td>\n",
       "    </tr>\n",
       "  </tbody>\n",
       "</table>\n",
       "<p>397 rows × 8 columns</p>\n",
       "</div>"
      ],
      "text/plain": [
       "          mpg  cylinders  displacement  horsepower    weight  acceleration  \\\n",
       "0   -0.704831          8         307.0    0.672720  0.629479          12.0   \n",
       "1   -1.088178          8         350.0    1.585647  0.852382          11.5   \n",
       "2   -0.704831          8         318.0    1.194392  0.549281          11.0   \n",
       "3   -0.960396          8         304.0    1.194392  0.545743          12.0   \n",
       "4   -0.832613          8         302.0    0.933556  0.564613          10.5   \n",
       "5   -1.088178          8         429.0    2.446405  1.616619          10.0   \n",
       "6   -1.215961          8         454.0    3.020245  1.631951           9.0   \n",
       "7   -1.215961          8         440.0    2.889827  1.582417           8.5   \n",
       "8   -1.215961          8         455.0    3.150663  1.715687          10.0   \n",
       "9   -1.088178          8         390.0    2.237737  1.037544           8.5   \n",
       "10  -1.088178          8         383.0    1.716065  0.699063          10.0   \n",
       "11  -1.215961          8         340.0    1.455229  0.753314           8.0   \n",
       "12  -1.088178          8         400.0    1.194392  0.932580           9.5   \n",
       "13  -1.215961          8         455.0    3.150663  0.136499          10.0   \n",
       "14   0.061863          4         113.0   -0.240206 -0.705577          15.0   \n",
       "15  -0.193701          6         198.0   -0.240206 -0.161884          15.5   \n",
       "16  -0.704831          6         199.0   -0.188038 -0.231467          15.5   \n",
       "17  -0.321484          6         200.0   -0.501042 -0.452011          16.0   \n",
       "18   0.445211          4          97.0   -0.422791 -0.990987          14.5   \n",
       "19   0.317428          4          97.0   -1.518302 -1.338904          20.5   \n",
       "20   0.189646          4         110.0   -0.448874 -0.351764          17.5   \n",
       "21   0.061863          4         107.0   -0.370624 -0.637173          14.5   \n",
       "22   0.189646          4         104.0   -0.240206 -0.702039          17.5   \n",
       "23   0.317428          4         121.0    0.229299 -0.868332          12.5   \n",
       "24  -0.321484          6         199.0   -0.370624 -0.380069          15.0   \n",
       "25  -1.727090          8         360.0    2.889827  1.939769          14.0   \n",
       "26  -1.727090          8         307.0    2.498573  1.657897          15.0   \n",
       "27  -1.599308          8         318.0    2.759409  1.664974          13.5   \n",
       "28  -1.854873          8         304.0    2.315987  2.077756          18.5   \n",
       "29   0.445211          4          97.0   -0.422791 -0.990987          14.5   \n",
       "..        ...        ...           ...         ...       ...           ...   \n",
       "367  0.572993          4         112.0   -0.422791 -0.430782          19.6   \n",
       "368  0.445211          4         112.0   -0.422791 -0.389504          18.6   \n",
       "369  1.339687          4         112.0   -0.422791 -0.678452          18.0   \n",
       "370  0.956340          4         112.0   -0.501042 -0.466164          16.2   \n",
       "371  0.700775          4         135.0   -0.527125 -0.525132          16.0   \n",
       "372  0.445211          4         151.0   -0.370624 -0.277463          18.0   \n",
       "373  0.061863          4         140.0   -0.318456 -0.124144          16.4   \n",
       "374  1.595252          4         105.0   -0.787961 -1.167894          15.3   \n",
       "375  1.723035          4          91.0   -0.944463 -1.114822          18.2   \n",
       "376  0.956340          4          91.0   -0.944463 -1.179688          17.6   \n",
       "377  1.850817          4         105.0   -1.074881 -0.996884          14.7   \n",
       "378  1.595252          4          98.0   -0.892296 -0.996884          17.3   \n",
       "379  1.595252          4         120.0   -0.422791 -0.955606          14.5   \n",
       "380  1.595252          4         107.0   -0.761878 -0.902534          14.5   \n",
       "381  1.339687          4         108.0   -0.892296 -0.855358          16.9   \n",
       "382  1.850817          4          91.0   -0.970547 -1.185584          15.0   \n",
       "383  1.084123          4          91.0   -0.970547 -1.185584          15.7   \n",
       "384  1.850817          4          91.0   -0.970547 -1.150203          16.2   \n",
       "385  0.189646          6         181.0    0.151048 -0.029793          16.4   \n",
       "386  1.850817          6         262.0   -0.501042  0.052763          17.0   \n",
       "387  0.317428          4         156.0   -0.318456 -0.454370          14.5   \n",
       "388 -0.193701          6         232.0    0.203216 -0.159525          14.7   \n",
       "389  1.084123          4         144.0   -0.214122 -0.360019          13.9   \n",
       "390  1.595252          4         135.0   -0.527125 -0.707936          13.0   \n",
       "391  0.445211          4         151.0   -0.370624 -0.023897          17.3   \n",
       "392  0.445211          4         140.0   -0.474958 -0.212597          15.6   \n",
       "393  2.617511          4          97.0   -1.361801 -0.990987          24.6   \n",
       "394  1.084123          4         135.0   -0.527125 -0.796390          11.6   \n",
       "395  0.572993          4         120.0   -0.657543 -0.407195          18.6   \n",
       "396  0.956340          4         119.0   -0.579293 -0.295154          19.4   \n",
       "\n",
       "     year  origin  \n",
       "0      70       1  \n",
       "1      70       1  \n",
       "2      70       1  \n",
       "3      70       1  \n",
       "4      70       1  \n",
       "5      70       1  \n",
       "6      70       1  \n",
       "7      70       1  \n",
       "8      70       1  \n",
       "9      70       1  \n",
       "10     70       1  \n",
       "11     70       1  \n",
       "12     70       1  \n",
       "13     70       1  \n",
       "14     70       3  \n",
       "15     70       1  \n",
       "16     70       1  \n",
       "17     70       1  \n",
       "18     70       3  \n",
       "19     70       2  \n",
       "20     70       2  \n",
       "21     70       2  \n",
       "22     70       2  \n",
       "23     70       2  \n",
       "24     70       1  \n",
       "25     70       1  \n",
       "26     70       1  \n",
       "27     70       1  \n",
       "28     70       1  \n",
       "29     71       3  \n",
       "..    ...     ...  \n",
       "367    82       1  \n",
       "368    82       1  \n",
       "369    82       1  \n",
       "370    82       1  \n",
       "371    82       1  \n",
       "372    82       1  \n",
       "373    82       1  \n",
       "374    82       2  \n",
       "375    82       3  \n",
       "376    82       3  \n",
       "377    82       1  \n",
       "378    82       1  \n",
       "379    82       3  \n",
       "380    82       3  \n",
       "381    82       3  \n",
       "382    82       3  \n",
       "383    82       3  \n",
       "384    82       3  \n",
       "385    82       1  \n",
       "386    82       1  \n",
       "387    82       1  \n",
       "388    82       1  \n",
       "389    82       3  \n",
       "390    82       1  \n",
       "391    82       1  \n",
       "392    82       1  \n",
       "393    82       2  \n",
       "394    82       1  \n",
       "395    82       1  \n",
       "396    82       1  \n",
       "\n",
       "[397 rows x 8 columns]"
      ]
     },
     "execution_count": 190,
     "metadata": {},
     "output_type": "execute_result"
    }
   ],
   "source": [
    "auto3"
   ]
  },
  {
   "cell_type": "markdown",
   "metadata": {},
   "source": [
    "**Note:** Had to reload the original file, I was having a few ValueErrors when either making a copy of the file or reusing Auto2 for the DBSCAN.   "
   ]
  },
  {
   "cell_type": "code",
   "execution_count": 224,
   "metadata": {},
   "outputs": [
    {
     "data": {
      "text/plain": [
       "<matplotlib.axes._subplots.AxesSubplot at 0x1173776a0>"
      ]
     },
     "execution_count": 224,
     "metadata": {},
     "output_type": "execute_result"
    },
    {
     "data": {
      "image/png": "[encoded data removed]",
      "text/plain": [
       "<matplotlib.figure.Figure at 0x1173776d8>"
      ]
     },
     "metadata": {},
     "output_type": "display_data"
    }
   ],
   "source": [
    "fig = plt.figure()\n",
    "auto3.mpg.hist(bins=80)"
   ]
  },
  {
   "cell_type": "code",
   "execution_count": 222,
   "metadata": {},
   "outputs": [
    {
     "data": {
      "text/plain": [
       "<matplotlib.collections.PathCollection at 0x1174075c0>"
      ]
     },
     "execution_count": 222,
     "metadata": {},
     "output_type": "execute_result"
    },
    {
     "data": {
      "image/png": "[encoded data removed]",
      "text/plain": [
       "<matplotlib.figure.Figure at 0x117312438>"
      ]
     },
     "metadata": {},
     "output_type": "display_data"
    }
   ],
   "source": [
    "fig = plt.figure()\n",
    "plt.scatter(auto2.horsepower, auto2.mpg, alpha=.1, s=20, c='red')"
   ]
  },
  {
   "cell_type": "markdown",
   "metadata": {},
   "source": [
    "**Note:** In the histogram plot above, we see that the majority of the data points lie between -1 and 1.  Let's try DBSCAN and vary the epsilon and min_samples to see how the clustering pans out."
   ]
  },
  {
   "cell_type": "markdown",
   "metadata": {},
   "source": [
    "#### DBSCAN with epsilon = 0.5 and min_samples = 20"
   ]
  },
  {
   "cell_type": "code",
   "execution_count": 248,
   "metadata": {
    "collapsed": true
   },
   "outputs": [],
   "source": [
    "from sklearn.cluster import DBSCAN\n",
    "dbscan = DBSCAN(eps=.5, min_samples = 20)"
   ]
  },
  {
   "cell_type": "code",
   "execution_count": 249,
   "metadata": {},
   "outputs": [],
   "source": [
    "auto3.cluster = dbscan.fit_predict(auto3[['horsepower', 'weight', 'mpg']])\n",
    "\n",
    "\n",
    "# the value counts was running into an AttributeError: numpy.ndarray object has no attribute value_counts\n",
    "#auto3.cluster.value_counts()"
   ]
  },
  {
   "cell_type": "code",
   "execution_count": 250,
   "metadata": {},
   "outputs": [
    {
     "data": {
      "text/plain": [
       "DBSCAN(algorithm='auto', eps=0.5, leaf_size=30, metric='euclidean',\n",
       "    min_samples=20, n_jobs=1, p=None)"
      ]
     },
     "execution_count": 250,
     "metadata": {},
     "output_type": "execute_result"
    }
   ],
   "source": [
    "dbscan.fit(auto3)"
   ]
  },
  {
   "cell_type": "code",
   "execution_count": 251,
   "metadata": {},
   "outputs": [
    {
     "data": {
      "image/png": "[encoded data removed]",
      "text/plain": [
       "<matplotlib.figure.Figure at 0x118167cc0>"
      ]
     },
     "metadata": {},
     "output_type": "display_data"
    }
   ],
   "source": [
    "fig = plt.figure()\n",
    "plt.clf()\n",
    "ax = Axes3D(fig, rect=[0, 0, .95, 1], elev=10, azim=60)\n",
    "\n",
    "plt.cla()\n",
    "\n",
    "ax.scatter(auto3['mpg'], auto3['horsepower'], auto3['weight'], c=colors[auto3.cluster], s=20)\n",
    "\n",
    "ax.set_xlabel('horsepower')\n",
    "ax.set_ylabel('weight')\n",
    "ax.set_zlabel('mpg')\n",
    "plt.show()\n",
    "\n"
   ]
  },
  {
   "cell_type": "code",
   "execution_count": 252,
   "metadata": {},
   "outputs": [
    {
     "data": {
      "image/png": "[encoded data removed]",
      "text/plain": [
       "<matplotlib.figure.Figure at 0x10ee8ec18>"
      ]
     },
     "metadata": {},
     "output_type": "display_data"
    }
   ],
   "source": [
    "fig = plt.figure()\n",
    "plt.scatter(auto3.horsepower, auto3.mpg, c=auto3.cluster, s=20, cmap='Paired')\n",
    "\n",
    "plt.xlabel('horsepower')\n",
    "plt.ylabel('mpg')\n",
    "plt.show()"
   ]
  },
  {
   "cell_type": "markdown",
   "metadata": {},
   "source": [
    "#### DBSCAN with epsilon = 0.1 and min_samples = 20"
   ]
  },
  {
   "cell_type": "code",
   "execution_count": 272,
   "metadata": {
    "collapsed": true
   },
   "outputs": [],
   "source": [
    "dbscan2 = DBSCAN(eps=.1, min_samples = 20)\n",
    "auto3.cluster = dbscan2.fit_predict(auto3[['horsepower', 'weight', 'mpg']])"
   ]
  },
  {
   "cell_type": "code",
   "execution_count": 273,
   "metadata": {},
   "outputs": [
    {
     "data": {
      "image/png": "[encoded data removed]",
      "text/plain": [
       "<matplotlib.figure.Figure at 0x118cc0c18>"
      ]
     },
     "metadata": {},
     "output_type": "display_data"
    }
   ],
   "source": [
    "fig = plt.figure()\n",
    "plt.clf()\n",
    "ax = Axes3D(fig, rect=[0, 0, .95, 1], elev=10, azim=60)\n",
    "\n",
    "plt.cla()\n",
    "\n",
    "ax.scatter(auto3['mpg'], auto3['horsepower'], auto3['weight'], c=colors[auto3.cluster], s=20)\n",
    "\n",
    "ax.set_xlabel('horsepower')\n",
    "ax.set_ylabel('weight')\n",
    "ax.set_zlabel('mpg')\n",
    "plt.show()"
   ]
  },
  {
   "cell_type": "code",
   "execution_count": 274,
   "metadata": {},
   "outputs": [
    {
     "data": {
      "image/png": "[encoded data removed]",
      "text/plain": [
       "<matplotlib.figure.Figure at 0x118ea9710>"
      ]
     },
     "metadata": {},
     "output_type": "display_data"
    }
   ],
   "source": [
    "fig = plt.figure()\n",
    "plt.scatter(auto3.horsepower, auto3.mpg, c=auto3.cluster, s=20, cmap='Paired')\n",
    "\n",
    "plt.xlabel('horsepower')\n",
    "plt.ylabel('mpg')\n",
    "plt.show()"
   ]
  },
  {
   "cell_type": "markdown",
   "metadata": {},
   "source": [
    "#### DBSCAN with epsilon = 0.5 and min_samples = 2"
   ]
  },
  {
   "cell_type": "code",
   "execution_count": 256,
   "metadata": {
    "collapsed": true
   },
   "outputs": [],
   "source": [
    "dbscan3 = DBSCAN(eps=.5, min_samples = 2)\n",
    "auto3.cluster = dbscan3.fit_predict(auto3[['horsepower', 'weight', 'mpg']])"
   ]
  },
  {
   "cell_type": "code",
   "execution_count": 257,
   "metadata": {},
   "outputs": [
    {
     "data": {
      "image/png": "[encoded data removed]",
      "text/plain": [
       "<matplotlib.figure.Figure at 0x1186efb00>"
      ]
     },
     "metadata": {},
     "output_type": "display_data"
    }
   ],
   "source": [
    "fig = plt.figure()\n",
    "plt.clf()\n",
    "ax = Axes3D(fig, rect=[0, 0, .95, 1], elev=10, azim=60)\n",
    "\n",
    "plt.cla()\n",
    "\n",
    "ax.scatter(auto3['mpg'], auto3['horsepower'], auto3['weight'], c=colors[auto3.cluster], s=20)\n",
    "\n",
    "ax.set_xlabel('horsepower')\n",
    "ax.set_ylabel('weight')\n",
    "ax.set_zlabel('mpg')\n",
    "plt.show()"
   ]
  },
  {
   "cell_type": "code",
   "execution_count": 258,
   "metadata": {},
   "outputs": [
    {
     "data": {
      "image/png": "[encoded data removed]",
      "text/plain": [
       "<matplotlib.figure.Figure at 0x1187fc320>"
      ]
     },
     "metadata": {},
     "output_type": "display_data"
    }
   ],
   "source": [
    "fig = plt.figure()\n",
    "plt.scatter(auto3.horsepower, auto3.mpg, c=auto3.cluster, s=20, cmap='Paired')\n",
    "\n",
    "plt.xlabel('horsepower')\n",
    "plt.ylabel('mpg')\n",
    "plt.show()"
   ]
  },
  {
   "cell_type": "markdown",
   "metadata": {},
   "source": [
    "#### DBSCAN with epsilon = 0.3 and min_samples = 5"
   ]
  },
  {
   "cell_type": "code",
   "execution_count": 269,
   "metadata": {
    "collapsed": true
   },
   "outputs": [],
   "source": [
    "dbscan4 = DBSCAN(eps= 0.3, min_samples = 5)\n",
    "auto3.cluster = dbscan4.fit_predict(auto3[['horsepower', 'weight', 'mpg']])"
   ]
  },
  {
   "cell_type": "code",
   "execution_count": 270,
   "metadata": {},
   "outputs": [
    {
     "data": {
      "image/png": "[encoded data removed]",
      "text/plain": [
       "<matplotlib.figure.Figure at 0x11916e470>"
      ]
     },
     "metadata": {},
     "output_type": "display_data"
    }
   ],
   "source": [
    "fig = plt.figure()\n",
    "plt.clf()\n",
    "ax = Axes3D(fig, rect=[0, 0, .95, 1], elev=10, azim=60)\n",
    "\n",
    "plt.cla()\n",
    "\n",
    "ax.scatter(auto3['mpg'], auto3['horsepower'], auto3['weight'], c=colors[auto3.cluster], s=20)\n",
    "\n",
    "ax.set_xlabel('horsepower')\n",
    "ax.set_ylabel('weight')\n",
    "ax.set_zlabel('mpg')\n",
    "plt.show()"
   ]
  },
  {
   "cell_type": "code",
   "execution_count": 271,
   "metadata": {},
   "outputs": [
    {
     "data": {
      "image/png": "[encoded data removed]",
      "text/plain": [
       "<matplotlib.figure.Figure at 0x118e9d198>"
      ]
     },
     "metadata": {},
     "output_type": "display_data"
    }
   ],
   "source": [
    "fig = plt.figure()\n",
    "plt.scatter(auto3.horsepower, auto3.mpg, c=auto3.cluster, s=20, cmap='Paired')\n",
    "\n",
    "plt.xlabel('horsepower')\n",
    "plt.ylabel('mpg')\n",
    "plt.show()\n"
   ]
  },
  {
   "cell_type": "markdown",
   "metadata": {},
   "source": [
    "**Observation:** It appears that the KMeans clustering algorithm works best with this dataset. In the DBSCAN runs, the results improved when the epsilon value was less than 0.5 and the min_samples was greater than 3. Though there wasn't as much stratification as there was in the KMeans results. Let's work through some clustering performance evaluations to see how they did. "
   ]
  },
  {
   "cell_type": "markdown",
   "metadata": {},
   "source": [
    "### Clustering Performance Evaluations"
   ]
  },
  {
   "cell_type": "markdown",
   "metadata": {},
   "source": [
    "**Note:** Because we do not have labeled predicted values (e.g., we're not predicting a yes or no answer, such as has heart disease or not), we will have to use the silhouette coefficient to show performance."
   ]
  },
  {
   "cell_type": "code",
   "execution_count": 279,
   "metadata": {},
   "outputs": [
    {
     "data": {
      "text/plain": [
       "0.5665974152864085"
      ]
     },
     "execution_count": 279,
     "metadata": {},
     "output_type": "execute_result"
    }
   ],
   "source": [
    "# calculate SC for K=7\n",
    "from sklearn import metrics\n",
    "metrics.silhouette_score(auto[['horsepower', 'weight', 'mpg']], auto.cluster)"
   ]
  },
  {
   "cell_type": "markdown",
   "metadata": {},
   "source": [
    "**Observation:** Looking at the clusters before normalizing the data, our score was 0.56.  Not that great, but not horrible.  Let's check it out with the normalized values."
   ]
  },
  {
   "cell_type": "code",
   "execution_count": 280,
   "metadata": {},
   "outputs": [
    {
     "data": {
      "text/plain": [
       "0.23197605939682003"
      ]
     },
     "execution_count": 280,
     "metadata": {},
     "output_type": "execute_result"
    }
   ],
   "source": [
    "metrics.silhouette_score(auto2[['horsepower', 'weight', 'mpg']], auto2.cluster2)"
   ]
  },
  {
   "cell_type": "markdown",
   "metadata": {},
   "source": [
    "**Observation:** It appears that our score was much better with the non-normalized data, as this SC showed 0.23.  "
   ]
  },
  {
   "cell_type": "code",
   "execution_count": 282,
   "metadata": {},
   "outputs": [],
   "source": [
    "# calculate SC for K=2 through K=19\n",
    "k_range = range(2, 40)\n",
    "scores = []\n",
    "for k in k_range:\n",
    "    km = KMeans(n_clusters=k, random_state=1)\n",
    "    labels = km.fit_predict(auto[['horsepower', 'weight', 'mpg']])\n",
    "    scores.append(metrics.silhouette_score(auto[['horsepower', 'weight', 'mpg']], labels))"
   ]
  },
  {
   "cell_type": "code",
   "execution_count": 283,
   "metadata": {},
   "outputs": [
    {
     "data": {
      "image/png": "[encoded data removed]",
      "text/plain": [
       "<matplotlib.figure.Figure at 0x118ace2e8>"
      ]
     },
     "metadata": {},
     "output_type": "display_data"
    }
   ],
   "source": [
    "# plot the results\n",
    "plt.figure()\n",
    "plt.plot(k_range, scores)\n",
    "plt.xlabel('Number of clusters')\n",
    "plt.ylabel('Silhouette Coefficient')\n",
    "plt.grid(True)\n",
    "plt.show()\n",
    "\n"
   ]
  },
  {
   "cell_type": "code",
   "execution_count": 284,
   "metadata": {
    "collapsed": true
   },
   "outputs": [],
   "source": [
    "# calculate SC for K=2 through K=19\n",
    "k_range = range(2, 40)\n",
    "scores = []\n",
    "for k in k_range:\n",
    "    km2 = KMeans(n_clusters=k, random_state=1)\n",
    "    labels = km2.fit_predict(auto2[['horsepower', 'weight', 'mpg']])\n",
    "    scores.append(metrics.silhouette_score(auto2[['horsepower', 'weight', 'mpg']], labels))"
   ]
  },
  {
   "cell_type": "code",
   "execution_count": 285,
   "metadata": {},
   "outputs": [
    {
     "data": {
      "image/png": "[encoded data removed]",
      "text/plain": [
       "<matplotlib.figure.Figure at 0x116fe9e80>"
      ]
     },
     "metadata": {},
     "output_type": "display_data"
    }
   ],
   "source": [
    "# plot the results\n",
    "plt.figure()\n",
    "plt.plot(k_range, scores)\n",
    "plt.xlabel('Number of clusters')\n",
    "plt.ylabel('Silhouette Coefficient')\n",
    "plt.grid(True)\n",
    "plt.show()\n"
   ]
  },
  {
   "cell_type": "markdown",
   "metadata": {},
   "source": [
    "**Observation:** Plotted the scores for both the non-normalized dataset (\"auto\") and the normalized dataset (\"auto2\").  In both graphs, it appears that the performance generally decays as the number of clusters increases. This demonstrates that the non-normalized data appears to have the higher SC values, reaching between 0.5 and 0.63 when clusters were less than 5.  "
   ]
  },
  {
   "cell_type": "markdown",
   "metadata": {},
   "source": [
    "### PCA [BONUS]\n",
    "\n",
    "In PCA, we can plot the various dimensions and see them in clusters. PCA could help decompose the data from 8 dimensions to less."
   ]
  },
  {
   "cell_type": "code",
   "execution_count": 286,
   "metadata": {
    "collapsed": true
   },
   "outputs": [],
   "source": [
    "import numpy as np\n",
    "import matplotlib.pyplot as plt\n",
    "from mpl_toolkits.mplot3d import Axes3D\n",
    "\n",
    "from sklearn import decomposition\n",
    "from sklearn import datasets\n",
    "from sklearn.decomposition import PCA #decomposing data in PCA\n",
    "from sklearn.discriminant_analysis import LinearDiscriminantAnalysis\n",
    "\n"
   ]
  },
  {
   "cell_type": "code",
   "execution_count": 295,
   "metadata": {},
   "outputs": [
    {
     "data": {
      "text/plain": [
       "mpg             False\n",
       "cylinders       False\n",
       "displacement    False\n",
       "horsepower      False\n",
       "weight          False\n",
       "acceleration    False\n",
       "year            False\n",
       "origin          False\n",
       "name            False\n",
       "dtype: bool"
      ]
     },
     "execution_count": 295,
     "metadata": {},
     "output_type": "execute_result"
    }
   ],
   "source": [
    "auto4 = pd.read_csv('/Users/jMac/Desktop/Autos.csv')\n",
    "\n",
    "auto4.dropna(inplace=True) #discards all na values\n",
    "\n",
    "\n",
    "auto4['horsepower'] = pd.to_numeric(auto4['horsepower'], errors='coerce')\n",
    "auto4 = auto4.fillna(method='ffill') #need to fill in any missing values\n",
    "auto4.isnull().any() #check for nulls"
   ]
  },
  {
   "cell_type": "code",
   "execution_count": 296,
   "metadata": {},
   "outputs": [
    {
     "data": {
      "text/plain": [
       "mpg             float64\n",
       "cylinders         int64\n",
       "displacement    float64\n",
       "horsepower      float64\n",
       "weight            int64\n",
       "acceleration    float64\n",
       "year              int64\n",
       "origin            int64\n",
       "name             object\n",
       "dtype: object"
      ]
     },
     "execution_count": 296,
     "metadata": {},
     "output_type": "execute_result"
    }
   ],
   "source": [
    "auto4.dtypes"
   ]
  },
  {
   "cell_type": "code",
   "execution_count": 297,
   "metadata": {
    "collapsed": true
   },
   "outputs": [],
   "source": [
    "auto4 = auto4.drop(['name'], axis=1)\n"
   ]
  },
  {
   "cell_type": "markdown",
   "metadata": {},
   "source": [
    "#### Now that all columns are integers, let's try to apply PCA. Where we are clustering to predict the mpg values of various automobiles."
   ]
  },
  {
   "cell_type": "code",
   "execution_count": 298,
   "metadata": {
    "collapsed": true
   },
   "outputs": [],
   "source": [
    "centers = [[1, 1], [-1, -1], [1, -1]]\n",
    "\n",
    "X = auto4[auto4.columns[1:-1]]\n",
    "y = auto4['mpg']"
   ]
  },
  {
   "cell_type": "code",
   "execution_count": null,
   "metadata": {
    "collapsed": true
   },
   "outputs": [],
   "source": [
    "X = X.as_matrix().astype(np.float)\n",
    "y = y.as_matrix().astype(np.float)"
   ]
  },
  {
   "cell_type": "code",
   "execution_count": null,
   "metadata": {
    "collapsed": true
   },
   "outputs": [],
   "source": []
  },
  {
   "cell_type": "code",
   "execution_count": null,
   "metadata": {
    "collapsed": true
   },
   "outputs": [],
   "source": []
  },
  {
   "cell_type": "code",
   "execution_count": null,
   "metadata": {
    "collapsed": true
   },
   "outputs": [],
   "source": []
  },
  {
   "cell_type": "code",
   "execution_count": null,
   "metadata": {
    "collapsed": true
   },
   "outputs": [],
   "source": []
  },
  {
   "cell_type": "code",
   "execution_count": null,
   "metadata": {
    "collapsed": true
   },
   "outputs": [],
   "source": []
  },
  {
   "cell_type": "code",
   "execution_count": null,
   "metadata": {
    "collapsed": true
   },
   "outputs": [],
   "source": []
  },
  {
   "cell_type": "code",
   "execution_count": null,
   "metadata": {
    "collapsed": true
   },
   "outputs": [],
   "source": []
  },
  {
   "cell_type": "code",
   "execution_count": null,
   "metadata": {
    "collapsed": true
   },
   "outputs": [],
   "source": []
  },
  {
   "cell_type": "code",
   "execution_count": null,
   "metadata": {
    "collapsed": true
   },
   "outputs": [],
   "source": []
  },
  {
   "cell_type": "code",
   "execution_count": null,
   "metadata": {
    "collapsed": true
   },
   "outputs": [],
   "source": []
  },
  {
   "cell_type": "code",
   "execution_count": null,
   "metadata": {
    "collapsed": true
   },
   "outputs": [],
   "source": []
  },
  {
   "cell_type": "code",
   "execution_count": null,
   "metadata": {
    "collapsed": true
   },
   "outputs": [],
   "source": []
  },
  {
   "cell_type": "code",
   "execution_count": null,
   "metadata": {
    "collapsed": true
   },
   "outputs": [],
   "source": []
  },
  {
   "cell_type": "code",
   "execution_count": null,
   "metadata": {
    "collapsed": true
   },
   "outputs": [],
   "source": []
  },
  {
   "cell_type": "markdown",
   "metadata": {},
   "source": [
    "## Note\n",
    "You may use any for both parts 1 and 2, I only recommend using the data I used in the Lesson for part 1. I've included several new datasets in the `data/` folder, such as `beers.csv`, `snow_tweets.csv`, `data/USCensus1990.data.txt.gz`. You do not need to unzip or ungzip any data files. Pandas can open these files on its own."
   ]
  },
  {
   "cell_type": "code",
   "execution_count": null,
   "metadata": {
    "collapsed": true
   },
   "outputs": [],
   "source": []
  }
 ],
 "metadata": {
  "kernelspec": {
   "display_name": "Python 3",
   "language": "python",
   "name": "python3"
  },
  "language_info": {
   "codemirror_mode": {
    "name": "ipython",
    "version": 3
   },
   "file_extension": ".py",
   "mimetype": "text/x-python",
   "name": "python",
   "nbconvert_exporter": "python",
   "pygments_lexer": "ipython3",
   "version": "3.6.1"
  }
 },
 "nbformat": 4,
 "nbformat_minor": 2
}
