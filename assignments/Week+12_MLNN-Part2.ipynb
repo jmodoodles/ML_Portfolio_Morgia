{
 "cells": [
  {
   "cell_type": "markdown",
   "metadata": {},
   "source": [
    "# Assignment 12 - Neural Networks image recognition\n",
    "Use both MLNN and the ConvNet to solve the following problem.\n",
    "\n",
    "1. Add random noise (i.e. `np.random.normal`) to the images in training and testing. Make sure each image gets a different noise feature added to it. Inspect by printing out an image. \n",
    "2. Compare the loss/accuracy (train, val) after N epochs for both MLNN and ConvNet with and without noise. \n",
    "3. Vary the amount of noise (multiply `np.random.normal` by a factor) and keep track of the accuracy and loss (for training and validation) and plot these results."
   ]
  },
  {
   "cell_type": "markdown",
   "metadata": {},
   "source": [
    "## Note on assignment:  \n",
    "Because of time constraints, I was not able to complete the 3rd prompt with more varied amounts of noise or run models to find ideal parameters. The processing for both the MLNN and CNNs on my laptop were very time intensive.  I was also running into multiple error codes which I had trouble remedying directly (and thus had to create multiple jupyter notebooks with different kernels)."
   ]
  },
  {
   "cell_type": "markdown",
   "metadata": {},
   "source": [
    "# Neural Networks - Image Recognition "
   ]
  },
  {
   "cell_type": "code",
   "execution_count": 1,
   "metadata": {},
   "outputs": [
    {
     "name": "stderr",
     "output_type": "stream",
     "text": [
      "Using TensorFlow backend.\n"
     ]
    }
   ],
   "source": [
    "import keras\n",
    "from keras.datasets import mnist\n",
    "from keras.models import Sequential\n",
    "from keras.optimizers import RMSprop, Nadam, Adadelta\n",
    "from keras.layers import Dense, Dropout, Flatten\n",
    "from keras.layers import Conv2D, MaxPooling2D\n",
    "from keras import backend\n",
    "\n",
    "import numpy as np\n",
    "import matplotlib.pyplot as  plt\n",
    "%matplotlib inline"
   ]
  },
  {
   "cell_type": "markdown",
   "metadata": {},
   "source": [
    "# Summary of Results for Parts 1-3\n",
    "Compare the loss/accuracy (train, val) after N epochs for both MLNN and ConvNet with and without noise. \n",
    "\n",
    "The table below shows the results of the various models.  You can see that generally the Convolutional Neural Networks performed better than the Multi-layer Neural Networks even against noisy data."
   ]
  },
  {
   "cell_type": "markdown",
   "metadata": {},
   "source": [
    "### Accuracy Scores\n",
    "\n",
    "**Model Type**&nbsp;   || *No Noise* || *With Noise* || *With Amplified Noise* ||\n",
    "\n",
    "**MLNN**&emsp;&emsp;&emsp;   || &nbsp;     98.5%&nbsp;    &nbsp;      ||   &nbsp;    81.2% &nbsp; &nbsp;         || &nbsp;       80.2%              ||\n",
    "\n",
    "**CNN**&emsp;&emsp;&emsp;&ensp;&nbsp;   ||  &nbsp;    99.2% &nbsp; &nbsp;        ||  &nbsp;     97.5% &nbsp; &nbsp;         || &nbsp;       97.4%              ||\n",
    "\n",
    "\n",
    "\n",
    "### Loss Scores\n",
    "\n",
    "**Model Type**&nbsp;   || *No Noise* || *With Noise* || *With Amplified Noise* ||\n",
    "\n",
    "**MLNN**&emsp;&emsp;&emsp;   || &nbsp; &nbsp;    0.11&nbsp;    &nbsp;&nbsp;      ||   &nbsp;  &nbsp;  0.92 &nbsp;&nbsp; &nbsp; &nbsp;        || &nbsp;  &nbsp;&nbsp;     0.82  &nbsp;&nbsp;            ||\n",
    "\n",
    "**CNN**&emsp;&emsp;&emsp;&ensp;&nbsp;  || &nbsp; &nbsp;    0.03&nbsp;    &nbsp;  &nbsp;    ||   &nbsp;  &nbsp;  0.09 &nbsp;&nbsp; &nbsp; &nbsp;         || &nbsp;  &nbsp;&nbsp;     0.08  &nbsp;&nbsp;            ||\n"
   ]
  },
  {
   "cell_type": "markdown",
   "metadata": {},
   "source": [
    "# Part 2: With noise (np.random.normal)\n",
    "1. Add random noise (i.e. `np.random.normal`) to the images in training and testing. Make sure each image gets a different noise feature added to it. Inspect by printing out an image. "
   ]
  },
  {
   "cell_type": "markdown",
   "metadata": {},
   "source": [
    "## Multi Layer Neural Network\n",
    "Trains a simple deep NN on the MNIST dataset.\n",
    "Previous model gets to 98.40% test accuracy after 20 epochs\n",
    "(there is *a lot* of margin for parameter tuning)."
   ]
  },
  {
   "cell_type": "code",
   "execution_count": 3,
   "metadata": {
    "collapsed": true
   },
   "outputs": [],
   "source": [
    "# the data, shuffled and split between train and test sets\n",
    "(x_train, y_train), (x_test, y_test) = mnist.load_data()"
   ]
  },
  {
   "cell_type": "code",
   "execution_count": 4,
   "metadata": {
    "collapsed": true
   },
   "outputs": [],
   "source": [
    "#add in the noise by multiplying by np.random.normal\n",
    "\n",
    "x2_train = x_train * np.random.normal(loc=0.0, scale=1.0, size=x_train.shape)\n",
    "x2_test = x_test * np.random.normal(loc=0.0, scale=1.0, size=x_test.shape)"
   ]
  },
  {
   "cell_type": "code",
   "execution_count": 5,
   "metadata": {},
   "outputs": [
    {
     "name": "stdout",
     "output_type": "stream",
     "text": [
      "(60000, 784) train samples\n",
      "(10000, 784) test samples\n"
     ]
    }
   ],
   "source": [
    "x2_train = x2_train.reshape(60000, 784)\n",
    "x2_test = x2_test.reshape(10000, 784)\n",
    "\n",
    "x2_train = x2_train.astype('float32')\n",
    "x2_test = x2_test.astype('float32')\n",
    "x2_train /= 255\n",
    "x2_test /= 255\n",
    "print(x2_train.shape, 'train samples')\n",
    "print(x2_test.shape, 'test samples')"
   ]
  },
  {
   "cell_type": "code",
   "execution_count": 6,
   "metadata": {},
   "outputs": [
    {
     "data": {
      "image/png": "[encoded data removed]",
      "text/plain": [
       "<matplotlib.figure.Figure at 0x122151c50>"
      ]
     },
     "metadata": {},
     "output_type": "display_data"
    }
   ],
   "source": [
    "#check out an image from training set\n",
    "plt.imshow(x2_train[0].reshape(28,28)) #need to add in .reshape to the shape of the matrix to plot\n",
    "plt.show()"
   ]
  },
  {
   "cell_type": "code",
   "execution_count": 7,
   "metadata": {},
   "outputs": [
    {
     "data": {
      "image/png": "[encoded data removed]",
      "text/plain": [
       "<matplotlib.figure.Figure at 0x124e79748>"
      ]
     },
     "metadata": {},
     "output_type": "display_data"
    }
   ],
   "source": [
    "#check out an image from test set\n",
    "plt.imshow(x2_test[0].reshape(28,28)) #need to add in .reshape to the shape of the matrix to plot\n",
    "plt.show()"
   ]
  },
  {
   "cell_type": "markdown",
   "metadata": {},
   "source": [
    "**Observation:** The images above show a very pixelated/grainy/noisy image.  "
   ]
  },
  {
   "cell_type": "code",
   "execution_count": 8,
   "metadata": {},
   "outputs": [
    {
     "name": "stdout",
     "output_type": "stream",
     "text": [
      "_________________________________________________________________\n",
      "Layer (type)                 Output Shape              Param #   \n",
      "=================================================================\n",
      "dense_1 (Dense)              (None, 512)               401920    \n",
      "_________________________________________________________________\n",
      "dropout_1 (Dropout)          (None, 512)               0         \n",
      "_________________________________________________________________\n",
      "dense_2 (Dense)              (None, 512)               262656    \n",
      "_________________________________________________________________\n",
      "dropout_2 (Dropout)          (None, 512)               0         \n",
      "_________________________________________________________________\n",
      "dense_3 (Dense)              (None, 512)               262656    \n",
      "_________________________________________________________________\n",
      "dropout_3 (Dropout)          (None, 512)               0         \n",
      "_________________________________________________________________\n",
      "dense_4 (Dense)              (None, 10)                5130      \n",
      "=================================================================\n",
      "Total params: 932,362\n",
      "Trainable params: 932,362\n",
      "Non-trainable params: 0\n",
      "_________________________________________________________________\n",
      "Train on 60000 samples, validate on 10000 samples\n",
      "Epoch 1/30\n",
      "60000/60000 [==============================] - 48s - loss: 1.8535 - acc: 0.3137 - val_loss: 1.3265 - val_acc: 0.5099\n",
      "Epoch 2/30\n",
      "60000/60000 [==============================] - 47s - loss: 1.1141 - acc: 0.5953 - val_loss: 0.9588 - val_acc: 0.6581\n",
      "Epoch 3/30\n",
      "60000/60000 [==============================] - 50s - loss: 0.8004 - acc: 0.7149 - val_loss: 0.8161 - val_acc: 0.7143\n",
      "Epoch 4/30\n",
      "60000/60000 [==============================] - 47s - loss: 0.6264 - acc: 0.7802 - val_loss: 0.8022 - val_acc: 0.7344\n",
      "Epoch 5/30\n",
      "60000/60000 [==============================] - 41s - loss: 0.5094 - acc: 0.8204 - val_loss: 0.7363 - val_acc: 0.7550\n",
      "Epoch 6/30\n",
      "60000/60000 [==============================] - 40s - loss: 0.4301 - acc: 0.8503 - val_loss: 0.7353 - val_acc: 0.7677\n",
      "Epoch 7/30\n",
      "60000/60000 [==============================] - 42s - loss: 0.3682 - acc: 0.8744 - val_loss: 0.7281 - val_acc: 0.7736\n",
      "Epoch 8/30\n",
      "60000/60000 [==============================] - 44s - loss: 0.3196 - acc: 0.8896 - val_loss: 0.7532 - val_acc: 0.7796\n",
      "Epoch 9/30\n",
      "60000/60000 [==============================] - 55s - loss: 0.2817 - acc: 0.9026 - val_loss: 0.7757 - val_acc: 0.7775\n",
      "Epoch 10/30\n",
      "60000/60000 [==============================] - 60s - loss: 0.2481 - acc: 0.9141 - val_loss: 0.7952 - val_acc: 0.7805\n",
      "Epoch 11/30\n",
      "60000/60000 [==============================] - 46s - loss: 0.2237 - acc: 0.9230 - val_loss: 0.7687 - val_acc: 0.7886\n",
      "Epoch 12/30\n",
      "60000/60000 [==============================] - 47s - loss: 0.2036 - acc: 0.9316 - val_loss: 0.7704 - val_acc: 0.7905\n",
      "Epoch 13/30\n",
      "60000/60000 [==============================] - 52s - loss: 0.1864 - acc: 0.9360 - val_loss: 0.8234 - val_acc: 0.7927\n",
      "Epoch 14/30\n",
      "60000/60000 [==============================] - 47s - loss: 0.1718 - acc: 0.9409 - val_loss: 0.8189 - val_acc: 0.7977\n",
      "Epoch 15/30\n",
      "60000/60000 [==============================] - 48s - loss: 0.1642 - acc: 0.9434 - val_loss: 0.8242 - val_acc: 0.7950\n",
      "Epoch 16/30\n",
      "60000/60000 [==============================] - 51s - loss: 0.1483 - acc: 0.9491 - val_loss: 0.8543 - val_acc: 0.7974\n",
      "Epoch 17/30\n",
      "60000/60000 [==============================] - 48s - loss: 0.1447 - acc: 0.9517 - val_loss: 0.8694 - val_acc: 0.7910\n",
      "Epoch 18/30\n",
      "60000/60000 [==============================] - 57s - loss: 0.1407 - acc: 0.9518 - val_loss: 0.8322 - val_acc: 0.7953\n",
      "Epoch 19/30\n",
      "60000/60000 [==============================] - 51s - loss: 0.1319 - acc: 0.9558 - val_loss: 0.8625 - val_acc: 0.7997\n",
      "Epoch 20/30\n",
      "60000/60000 [==============================] - 53s - loss: 0.1268 - acc: 0.9568 - val_loss: 0.8459 - val_acc: 0.7985\n",
      "Epoch 21/30\n",
      "60000/60000 [==============================] - 50s - loss: 0.1233 - acc: 0.9582 - val_loss: 0.8444 - val_acc: 0.8088\n",
      "Epoch 22/30\n",
      "60000/60000 [==============================] - 49s - loss: 0.1165 - acc: 0.9608 - val_loss: 0.8608 - val_acc: 0.8044\n",
      "Epoch 23/30\n",
      "60000/60000 [==============================] - 60s - loss: 0.1109 - acc: 0.9634 - val_loss: 0.8889 - val_acc: 0.8105\n",
      "Epoch 24/30\n",
      "60000/60000 [==============================] - 56s - loss: 0.1069 - acc: 0.9646 - val_loss: 0.8973 - val_acc: 0.8089\n",
      "Epoch 25/30\n",
      "60000/60000 [==============================] - 52s - loss: 0.1011 - acc: 0.9675 - val_loss: 0.9237 - val_acc: 0.8056\n",
      "Epoch 26/30\n",
      "60000/60000 [==============================] - 41s - loss: 0.1025 - acc: 0.9671 - val_loss: 0.9245 - val_acc: 0.8053\n",
      "Epoch 27/30\n",
      "60000/60000 [==============================] - 41s - loss: 0.1015 - acc: 0.9673 - val_loss: 0.9368 - val_acc: 0.8055\n",
      "Epoch 28/30\n",
      "60000/60000 [==============================] - 43s - loss: 0.0975 - acc: 0.9684 - val_loss: 0.9269 - val_acc: 0.8087\n",
      "Epoch 29/30\n",
      "60000/60000 [==============================] - 55s - loss: 0.0944 - acc: 0.9692 - val_loss: 0.9133 - val_acc: 0.8044\n",
      "Epoch 30/30\n",
      "60000/60000 [==============================] - 45s - loss: 0.0910 - acc: 0.9701 - val_loss: 0.9206 - val_acc: 0.8119\n",
      "Test loss: 0.920594368088\n",
      "Test accuracy: 0.8119\n"
     ]
    }
   ],
   "source": [
    "batch_size = 128\n",
    "num_classes = 10\n",
    "epochs = 30\n",
    "\n",
    "\n",
    "# convert class vectors to binary class matrices\n",
    "y_train = keras.utils.to_categorical(y_train, num_classes)\n",
    "y_test = keras.utils.to_categorical(y_test, num_classes)\n",
    "\n",
    "\n",
    "model = Sequential()\n",
    "model.add(Dense(512, activation='relu', input_shape=(784,)))\n",
    "model.add(Dropout(0.2))\n",
    "model.add(Dense(512, activation='relu'))\n",
    "model.add(Dropout(0.2))\n",
    "model.add(Dense(512, activation='sigmoid'))\n",
    "model.add(Dropout(0.2))\n",
    "model.add(Dense(10, activation='softmax'))\n",
    "\n",
    "model.summary()\n",
    "\n",
    "model.compile(loss='categorical_crossentropy',\n",
    "              optimizer=RMSprop(),\n",
    "              metrics=['accuracy'])\n",
    "\n",
    "history = model.fit(x2_train, y_train,\n",
    "                    batch_size=batch_size,\n",
    "                    epochs=epochs,\n",
    "                    verbose=1,\n",
    "                    validation_data=(x2_test, y_test))\n",
    "score = model.evaluate(x2_test, y_test, verbose=0)\n",
    "print('Test loss:', score[0])\n",
    "print('Test accuracy:', score[1])"
   ]
  },
  {
   "cell_type": "markdown",
   "metadata": {
    "collapsed": true
   },
   "source": [
    "**Observation:** As expected, the accuracy decreased dramatically when noise was introduced.  The accuracy for this model without noise was 98.5%, for the model with noisy data the accuracy dropped to 81.2%."
   ]
  },
  {
   "cell_type": "markdown",
   "metadata": {},
   "source": [
    "## Conv Net\n",
    "Trains a simple convnet on the MNIST dataset.\n",
    "Previous model got to 99.25% test accuracy after 12 epochs\n",
    "(there is still a lot of margin for parameter tuning).\n"
   ]
  },
  {
   "cell_type": "code",
   "execution_count": 2,
   "metadata": {
    "collapsed": true
   },
   "outputs": [],
   "source": [
    "# input image dimensions\n",
    "img_rows, img_cols = 28, 28\n",
    "\n",
    "# the data, shuffled and split between train and test sets\n",
    "(x_train, y_train), (x_test, y_test) = mnist.load_data()\n",
    "\n",
    "# insert random noise\n",
    "x2c_train = x_train * np.random.normal(loc=0.0, scale=1.0, size=x_train.shape)\n",
    "x2c_test = x_test * np.random.normal(loc=0.0, scale=1.0, size=x_test.shape)"
   ]
  },
  {
   "cell_type": "code",
   "execution_count": 3,
   "metadata": {},
   "outputs": [
    {
     "data": {
      "image/png": "[encoded data removed]",
      "text/plain": [
       "<matplotlib.figure.Figure at 0x12447b518>"
      ]
     },
     "metadata": {},
     "output_type": "display_data"
    }
   ],
   "source": [
    "#check out an image from training set\n",
    "plt.imshow(x2c_train[0].reshape(28,28)) #need to add in .reshape to the shape of the matrix to plot\n",
    "plt.show()"
   ]
  },
  {
   "cell_type": "code",
   "execution_count": 4,
   "metadata": {},
   "outputs": [
    {
     "name": "stdout",
     "output_type": "stream",
     "text": [
      "x2c_train shape: (60000, 28, 28, 1)\n",
      "60000 train samples\n",
      "10000 test samples\n"
     ]
    }
   ],
   "source": [
    "if backend.image_data_format() == 'channels_first':\n",
    "    x2c_train = x2c_train.reshape(x2c_train.shape[0], 1, img_rows, img_cols)\n",
    "    x2c_test = x2c_test.reshape(x2c_test.shape[0], 1, img_rows, img_cols)\n",
    "    input_shape = (1, img_rows, img_cols)\n",
    "else:\n",
    "    x2c_train = x2c_train.reshape(x2c_train.shape[0], img_rows, img_cols, 1)\n",
    "    x2c_test = x2c_test.reshape(x2c_test.shape[0], img_rows, img_cols, 1)\n",
    "    input_shape = (img_rows, img_cols, 1)\n",
    "\n",
    "x2c_train = x2c_train.astype('float32')\n",
    "x2c_test = x2c_test.astype('float32')\n",
    "x2c_train /= 255\n",
    "x2c_test /= 255\n",
    "print('x2c_train shape:', x2c_train.shape)\n",
    "print(x2c_train.shape[0], 'train samples')\n",
    "print(x2c_test.shape[0], 'test samples')"
   ]
  },
  {
   "cell_type": "code",
   "execution_count": 5,
   "metadata": {},
   "outputs": [
    {
     "name": "stdout",
     "output_type": "stream",
     "text": [
      "Train on 60000 samples, validate on 10000 samples\n",
      "Epoch 1/8\n",
      "60000/60000 [==============================] - 236s - loss: 0.6568 - acc: 0.7860 - val_loss: 0.1795 - val_acc: 0.94596580 - acc: 0.\n",
      "Epoch 2/8\n",
      "60000/60000 [==============================] - 260s - loss: 0.3330 - acc: 0.8971 - val_loss: 0.1225 - val_acc: 0.9619\n",
      "Epoch 3/8\n",
      "60000/60000 [==============================] - 232s - loss: 0.2675 - acc: 0.9168 - val_loss: 0.1081 - val_acc: 0.9656\n",
      "Epoch 4/8\n",
      "60000/60000 [==============================] - 232s - loss: 0.2352 - acc: 0.9286 - val_loss: 0.0974 - val_acc: 0.9697\n",
      "Epoch 5/8\n",
      "60000/60000 [==============================] - 234s - loss: 0.2114 - acc: 0.9358 - val_loss: 0.0907 - val_acc: 0.9728\n",
      "Epoch 6/8\n",
      "60000/60000 [==============================] - 237s - loss: 0.1956 - acc: 0.9389 - val_loss: 0.0919 - val_acc: 0.9704\n",
      "Epoch 7/8\n",
      "60000/60000 [==============================] - 278s - loss: 0.1819 - acc: 0.9434 - val_loss: 0.0855 - val_acc: 0.9740\n",
      "Epoch 8/8\n",
      "60000/60000 [==============================] - 246s - loss: 0.1728 - acc: 0.9455 - val_loss: 0.0866 - val_acc: 0.9747\n",
      "Test loss: 0.0865935281153\n",
      "Test accuracy: 0.9747\n"
     ]
    }
   ],
   "source": [
    "#changed parameters for model, changed optimizer, decreased batch size, decrease epochs, decrease neurons (to speed up processing)\n",
    "\n",
    "batch_size = 64\n",
    "num_classes = 10\n",
    "epochs = 8\n",
    "\n",
    "# convert class vectors to binary class matrices\n",
    "y_train = keras.utils.to_categorical(y_train, num_classes)\n",
    "y_test = keras.utils.to_categorical(y_test, num_classes)\n",
    "\n",
    "model2 = Sequential()\n",
    "model2.add(Conv2D(16, kernel_size=(3, 3),\n",
    "                 activation='relu',\n",
    "                 input_shape=input_shape))\n",
    "model2.add(Conv2D(32, (3, 3), activation='relu'))\n",
    "model2.add(MaxPooling2D(pool_size=(2, 2)))\n",
    "model2.add(Dropout(0.25))\n",
    "model2.add(Flatten())\n",
    "model2.add(Dense(64, activation='relu'))\n",
    "model2.add(Dropout(0.5))\n",
    "model2.add(Dense(num_classes, activation='softmax'))\n",
    "\n",
    "model2.compile(loss=keras.losses.categorical_crossentropy,\n",
    "              optimizer=Nadam(),\n",
    "              metrics=['accuracy'])\n",
    "\n",
    "model2.fit(x2c_train, y_train,\n",
    "          batch_size=batch_size,\n",
    "          epochs=epochs,\n",
    "          verbose=1,\n",
    "          validation_data=(x2c_test, y_test))\n",
    "score = model2.evaluate(x2c_test, y_test, verbose=0)\n",
    "print('Test loss:', score[0])\n",
    "print('Test accuracy:', score[1])"
   ]
  },
  {
   "cell_type": "markdown",
   "metadata": {
    "collapsed": true
   },
   "source": [
    "**Observation:** Even though this CNN model performed worse than the model without noisy data (which had an accuracy score of 99.2%), with an accuracy of 97.5% it performed far better than our results for the multi-layer neural network.  This is likely because CNNs also flatten the images and the use of a drop out provides flexiblity on the network and finds the core elements which makes those numbers."
   ]
  },
  {
   "cell_type": "markdown",
   "metadata": {
    "collapsed": true
   },
   "source": [
    "# Part 3: Amplified Noise Data\n",
    "Vary the amount of noise (multiply `np.random.normal` by a factor) and keep track of the accuracy and loss (for training and validation) and plot these results."
   ]
  },
  {
   "cell_type": "markdown",
   "metadata": {},
   "source": [
    "## Multi Layer Neural Network with Amplified Noise Data"
   ]
  },
  {
   "cell_type": "code",
   "execution_count": 20,
   "metadata": {
    "collapsed": true
   },
   "outputs": [],
   "source": [
    "#add in the noise by multiplying by np.random.normal\n",
    "\n",
    "\n",
    "x3_train = (x_train * (10*np.random.normal(loc=0.0, scale=1.0, size=x_train.shape)))\n",
    "x3_test = (x_test * (10*np.random.normal(loc=0.0, scale=1.0, size=x_test.shape)))"
   ]
  },
  {
   "cell_type": "code",
   "execution_count": 21,
   "metadata": {},
   "outputs": [
    {
     "name": "stdout",
     "output_type": "stream",
     "text": [
      "(60000, 784) train samples\n",
      "(10000, 784) test samples\n"
     ]
    }
   ],
   "source": [
    "x3_train = x3_train.reshape(60000, 784)\n",
    "x3_test = x3_test.reshape(10000, 784)\n",
    "\n",
    "x3_train = x3_train.astype('float32')\n",
    "x3_test = x3_test.astype('float32')\n",
    "x3_train /= 255\n",
    "x3_test /= 255\n",
    "print(x3_train.shape, 'train samples')\n",
    "print(x3_test.shape, 'test samples')"
   ]
  },
  {
   "cell_type": "code",
   "execution_count": 22,
   "metadata": {},
   "outputs": [
    {
     "data": {
      "image/png": "[encoded data removed]",
      "text/plain": [
       "<matplotlib.figure.Figure at 0x1293f8908>"
      ]
     },
     "metadata": {},
     "output_type": "display_data"
    }
   ],
   "source": [
    "#check out an image from training set\n",
    "plt.imshow(x3_train[0].reshape(28,28)) #need to add in .reshape to the shape of the matrix to plot\n",
    "plt.show()"
   ]
  },
  {
   "cell_type": "code",
   "execution_count": 23,
   "metadata": {},
   "outputs": [
    {
     "data": {
      "image/png": "[encoded data removed]",
      "text/plain": [
       "<matplotlib.figure.Figure at 0x129309748>"
      ]
     },
     "metadata": {},
     "output_type": "display_data"
    }
   ],
   "source": [
    "#check out an image from test set\n",
    "plt.imshow(x3_test[0].reshape(28,28)) #need to add in .reshape to the shape of the matrix to plot\n",
    "plt.show()"
   ]
  },
  {
   "cell_type": "markdown",
   "metadata": {},
   "source": [
    "**Observation:** The images are even more pixelated and there's less yellow spots than before."
   ]
  },
  {
   "cell_type": "code",
   "execution_count": 24,
   "metadata": {},
   "outputs": [
    {
     "name": "stdout",
     "output_type": "stream",
     "text": [
      "_________________________________________________________________\n",
      "Layer (type)                 Output Shape              Param #   \n",
      "=================================================================\n",
      "dense_5 (Dense)              (None, 512)               401920    \n",
      "_________________________________________________________________\n",
      "dropout_4 (Dropout)          (None, 512)               0         \n",
      "_________________________________________________________________\n",
      "dense_6 (Dense)              (None, 512)               262656    \n",
      "_________________________________________________________________\n",
      "dropout_5 (Dropout)          (None, 512)               0         \n",
      "_________________________________________________________________\n",
      "dense_7 (Dense)              (None, 512)               262656    \n",
      "_________________________________________________________________\n",
      "dropout_6 (Dropout)          (None, 512)               0         \n",
      "_________________________________________________________________\n",
      "dense_8 (Dense)              (None, 10)                5130      \n",
      "=================================================================\n",
      "Total params: 932,362\n",
      "Trainable params: 932,362\n",
      "Non-trainable params: 0\n",
      "_________________________________________________________________\n",
      "Train on 60000 samples, validate on 10000 samples\n",
      "Epoch 1/30\n",
      "60000/60000 [==============================] - 46s - loss: 1.9615 - acc: 0.2853 - val_loss: 1.4548 - val_acc: 0.4693\n",
      "Epoch 2/30\n",
      "60000/60000 [==============================] - 39s - loss: 1.2662 - acc: 0.5443 - val_loss: 1.0722 - val_acc: 0.6179\n",
      "Epoch 3/30\n",
      "60000/60000 [==============================] - 40s - loss: 0.9679 - acc: 0.6542 - val_loss: 0.9384 - val_acc: 0.6681\n",
      "Epoch 4/30\n",
      "60000/60000 [==============================] - 39s - loss: 0.8151 - acc: 0.7110 - val_loss: 0.8707 - val_acc: 0.7010\n",
      "Epoch 5/30\n",
      "60000/60000 [==============================] - 39s - loss: 0.7042 - acc: 0.7494 - val_loss: 0.8354 - val_acc: 0.7136\n",
      "Epoch 6/30\n",
      "60000/60000 [==============================] - 39s - loss: 0.6297 - acc: 0.7767 - val_loss: 0.8137 - val_acc: 0.7220\n",
      "Epoch 7/30\n",
      "60000/60000 [==============================] - 39s - loss: 0.5662 - acc: 0.8010 - val_loss: 0.8055 - val_acc: 0.7251\n",
      "Epoch 8/30\n",
      "60000/60000 [==============================] - 39s - loss: 0.5261 - acc: 0.8180 - val_loss: 0.7734 - val_acc: 0.7478\n",
      "Epoch 9/30\n",
      "60000/60000 [==============================] - 46s - loss: 0.4834 - acc: 0.8332 - val_loss: 0.7997 - val_acc: 0.7482\n",
      "Epoch 10/30\n",
      "60000/60000 [==============================] - 45s - loss: 0.4544 - acc: 0.8441 - val_loss: 0.7867 - val_acc: 0.7589\n",
      "Epoch 11/30\n",
      "60000/60000 [==============================] - 46s - loss: 0.4173 - acc: 0.8569 - val_loss: 0.7500 - val_acc: 0.7572\n",
      "Epoch 12/30\n",
      "60000/60000 [==============================] - 44s - loss: 0.3947 - acc: 0.8646 - val_loss: 0.7864 - val_acc: 0.7540\n",
      "Epoch 13/30\n",
      "60000/60000 [==============================] - 45s - loss: 0.3768 - acc: 0.8711 - val_loss: 0.7700 - val_acc: 0.7693\n",
      "Epoch 14/30\n",
      "60000/60000 [==============================] - 49s - loss: 0.3618 - acc: 0.8761 - val_loss: 0.8035 - val_acc: 0.7660\n",
      "Epoch 15/30\n",
      "60000/60000 [==============================] - 50s - loss: 0.3479 - acc: 0.8828 - val_loss: 0.7473 - val_acc: 0.7760\n",
      "Epoch 16/30\n",
      "60000/60000 [==============================] - 49s - loss: 0.3263 - acc: 0.8900 - val_loss: 0.7740 - val_acc: 0.7814\n",
      "Epoch 17/30\n",
      "60000/60000 [==============================] - 50s - loss: 0.3229 - acc: 0.8894 - val_loss: 0.7808 - val_acc: 0.7779\n",
      "Epoch 18/30\n",
      "60000/60000 [==============================] - 45s - loss: 0.3077 - acc: 0.8964 - val_loss: 0.7517 - val_acc: 0.7807\n",
      "Epoch 19/30\n",
      "60000/60000 [==============================] - 52s - loss: 0.2967 - acc: 0.9007 - val_loss: 0.8133 - val_acc: 0.7793\n",
      "Epoch 20/30\n",
      "60000/60000 [==============================] - 52s - loss: 0.2914 - acc: 0.9028 - val_loss: 0.7904 - val_acc: 0.7883\n",
      "Epoch 21/30\n",
      "60000/60000 [==============================] - 44s - loss: 0.2779 - acc: 0.9059 - val_loss: 0.7921 - val_acc: 0.7833\n",
      "Epoch 22/30\n",
      "60000/60000 [==============================] - 42s - loss: 0.2660 - acc: 0.9107 - val_loss: 0.8037 - val_acc: 0.7945\n",
      "Epoch 23/30\n",
      "60000/60000 [==============================] - 42s - loss: 0.2643 - acc: 0.9108 - val_loss: 0.8208 - val_acc: 0.7842\n",
      "Epoch 24/30\n",
      "60000/60000 [==============================] - 41s - loss: 0.2615 - acc: 0.9123 - val_loss: 0.7696 - val_acc: 0.7958\n",
      "Epoch 25/30\n",
      "60000/60000 [==============================] - 42s - loss: 0.2486 - acc: 0.9175 - val_loss: 0.8394 - val_acc: 0.7897\n",
      "Epoch 26/30\n",
      "60000/60000 [==============================] - 41s - loss: 0.2440 - acc: 0.9179 - val_loss: 0.8226 - val_acc: 0.7927\n",
      "Epoch 27/30\n",
      "60000/60000 [==============================] - 42s - loss: 0.2392 - acc: 0.9210 - val_loss: 0.7922 - val_acc: 0.7977\n",
      "Epoch 28/30\n",
      "60000/60000 [==============================] - 42s - loss: 0.2388 - acc: 0.9215 - val_loss: 0.8279 - val_acc: 0.7918\n",
      "Epoch 29/30\n",
      "60000/60000 [==============================] - 43s - loss: 0.2235 - acc: 0.9259 - val_loss: 0.8100 - val_acc: 0.7962\n",
      "Epoch 30/30\n",
      "60000/60000 [==============================] - 44s - loss: 0.2252 - acc: 0.9249 - val_loss: 0.8186 - val_acc: 0.8019\n",
      "Test loss: 0.818587893331\n",
      "Test accuracy: 0.8019\n"
     ]
    }
   ],
   "source": [
    "model2 = Sequential()\n",
    "model2.add(Dense(512, activation='relu', input_shape=(784,)))\n",
    "model2.add(Dropout(0.2))\n",
    "model2.add(Dense(512, activation='relu'))\n",
    "model2.add(Dropout(0.2))\n",
    "model2.add(Dense(512, activation='sigmoid'))\n",
    "model2.add(Dropout(0.2))\n",
    "model2.add(Dense(10, activation='softmax'))\n",
    "\n",
    "model2.summary()\n",
    "\n",
    "model2.compile(loss='categorical_crossentropy',\n",
    "              optimizer=RMSprop(),\n",
    "              metrics=['accuracy'])\n",
    "\n",
    "history = model2.fit(x3_train, y_train,\n",
    "                    batch_size=batch_size,\n",
    "                    epochs=epochs,\n",
    "                    verbose=1,\n",
    "                    validation_data=(x3_test, y_test))\n",
    "score = model2.evaluate(x3_test, y_test, verbose=0)\n",
    "print('Test loss:', score[0])\n",
    "print('Test accuracy:', score[1])"
   ]
  },
  {
   "cell_type": "markdown",
   "metadata": {},
   "source": [
    "**Observation:** With the adding in of a factor added to the random noise (amplifying the noise), the accuracy score decreased yet again from initally 98.5% (no noise), to 81.2% (random noise), to 80.2% (varied random noise). "
   ]
  },
  {
   "cell_type": "markdown",
   "metadata": {},
   "source": [
    "## Conv Net with Varied Noise Data"
   ]
  },
  {
   "cell_type": "code",
   "execution_count": 6,
   "metadata": {},
   "outputs": [
    {
     "name": "stdout",
     "output_type": "stream",
     "text": [
      "x3c_train shape: (60000, 28, 28, 1)\n",
      "60000 train samples\n",
      "10000 test samples\n"
     ]
    }
   ],
   "source": [
    "# input image dimensions\n",
    "img_rows, img_cols = 28, 28\n",
    "\n",
    "# the data, shuffled and split between train and test sets\n",
    "(x_train, y_train), (x_test, y_test) = mnist.load_data()\n",
    "\n",
    "\n",
    "#add in the noise by multiplying by np.random.normal\n",
    "x3c_train = (x_train * (10*np.random.normal(loc=0.0, scale=1.0, size=x_train.shape)))\n",
    "x3c_test = (x_test * (10*np.random.normal(loc=0.0, scale=1.0, size=x_test.shape)))\n",
    "\n",
    "if backend.image_data_format() == 'channels_first':\n",
    "    x3c_train = x3c_train.reshape(x3c_train.shape[0], 1, img_rows, img_cols)\n",
    "    x3c_test = x3c_test.reshape(x3c_test.shape[0], 1, img_rows, img_cols)\n",
    "    input_shape = (1, img_rows, img_cols)\n",
    "else:\n",
    "    x3c_train = x3c_train.reshape(x3c_train.shape[0], img_rows, img_cols, 1)\n",
    "    x3c_test = x3c_test.reshape(x3c_test.shape[0], img_rows, img_cols, 1)\n",
    "    input_shape = (img_rows, img_cols, 1)\n",
    "\n",
    "x3c_train = x3c_train.astype('float32')\n",
    "x3c_test = x3c_test.astype('float32')\n",
    "x3c_train /= 255\n",
    "x3c_test /= 255\n",
    "print('x3c_train shape:', x3c_train.shape)\n",
    "print(x3c_train.shape[0], 'train samples')\n",
    "print(x3c_test.shape[0], 'test samples')"
   ]
  },
  {
   "cell_type": "code",
   "execution_count": 7,
   "metadata": {},
   "outputs": [
    {
     "name": "stdout",
     "output_type": "stream",
     "text": [
      "Train on 60000 samples, validate on 10000 samples\n",
      "Epoch 1/8\n",
      "60000/60000 [==============================] - 238s - loss: 0.6931 - acc: 0.7738 - val_loss: 0.1658 - val_acc: 0.9539\n",
      "Epoch 2/8\n",
      "60000/60000 [==============================] - 258s - loss: 0.3318 - acc: 0.8986 - val_loss: 0.1376 - val_acc: 0.9566\n",
      "Epoch 3/8\n",
      "60000/60000 [==============================] - 234s - loss: 0.2642 - acc: 0.9197 - val_loss: 0.1153 - val_acc: 0.9633\n",
      "Epoch 4/8\n",
      "60000/60000 [==============================] - 214s - loss: 0.2300 - acc: 0.9308 - val_loss: 0.1011 - val_acc: 0.9696\n",
      "Epoch 5/8\n",
      "60000/60000 [==============================] - 222s - loss: 0.2031 - acc: 0.9386 - val_loss: 0.0977 - val_acc: 0.9697\n",
      "Epoch 6/8\n",
      "60000/60000 [==============================] - 210s - loss: 0.1863 - acc: 0.9427 - val_loss: 0.0838 - val_acc: 0.9734\n",
      "Epoch 7/8\n",
      "60000/60000 [==============================] - 211s - loss: 0.1692 - acc: 0.9481 - val_loss: 0.0852 - val_acc: 0.9739\n",
      "Epoch 8/8\n",
      "60000/60000 [==============================] - 206s - loss: 0.1566 - acc: 0.9520 - val_loss: 0.0796 - val_acc: 0.9744\n"
     ]
    },
    {
     "data": {
      "text/plain": [
       "<keras.callbacks.History at 0x12cb7ff60>"
      ]
     },
     "execution_count": 7,
     "metadata": {},
     "output_type": "execute_result"
    }
   ],
   "source": [
    "batch_size = 64\n",
    "num_classes = 10\n",
    "epochs = 8\n",
    "\n",
    "# convert class vectors to binary class matrices\n",
    "y_train = keras.utils.to_categorical(y_train, num_classes)\n",
    "y_test = keras.utils.to_categorical(y_test, num_classes)\n",
    "\n",
    "model3 = Sequential()\n",
    "model3.add(Conv2D(16, kernel_size=(3, 3),\n",
    "                 activation='relu',\n",
    "                 input_shape=input_shape))\n",
    "model3.add(Conv2D(32, (3, 3), activation='relu'))\n",
    "model3.add(MaxPooling2D(pool_size=(2, 2)))\n",
    "model3.add(Dropout(0.25))\n",
    "model3.add(Flatten())\n",
    "model3.add(Dense(64, activation='relu'))\n",
    "model3.add(Dropout(0.5))\n",
    "model3.add(Dense(num_classes, activation='softmax'))\n",
    "\n",
    "model3.compile(loss=keras.losses.categorical_crossentropy,\n",
    "              optimizer=Nadam(),\n",
    "              metrics=['accuracy'])\n",
    "\n",
    "model3.fit(x3c_train, y_train,\n",
    "          batch_size=batch_size,\n",
    "          epochs=epochs,\n",
    "          verbose=1,\n",
    "          validation_data=(x3c_test, y_test))"
   ]
  },
  {
   "cell_type": "code",
   "execution_count": 8,
   "metadata": {},
   "outputs": [
    {
     "name": "stdout",
     "output_type": "stream",
     "text": [
      "Test loss: 0.0795782163342\n",
      "Test accuracy: 0.9744\n"
     ]
    }
   ],
   "source": [
    "score = model3.evaluate(x3c_test, y_test, verbose=0)\n",
    "print('Test loss:', score[0])\n",
    "print('Test accuracy:', score[1])"
   ]
  },
  {
   "cell_type": "markdown",
   "metadata": {
    "collapsed": true
   },
   "source": [
    "**Observation:** With the noisier data, the accuracy score decreased by 0.03 from 97.47% to 97.44%, only a slight difference. The loss score decreased though."
   ]
  },
  {
   "cell_type": "code",
   "execution_count": null,
   "metadata": {
    "collapsed": true
   },
   "outputs": [],
   "source": []
  }
 ],
 "metadata": {
  "kernelspec": {
   "display_name": "Python 3",
   "language": "python",
   "name": "python3"
  },
  "language_info": {
   "codemirror_mode": {
    "name": "ipython",
    "version": 3
   },
   "file_extension": ".py",
   "mimetype": "text/x-python",
   "name": "python",
   "nbconvert_exporter": "python",
   "pygments_lexer": "ipython3",
   "version": "3.6.0"
  }
 },
 "nbformat": 4,
 "nbformat_minor": 2
}
