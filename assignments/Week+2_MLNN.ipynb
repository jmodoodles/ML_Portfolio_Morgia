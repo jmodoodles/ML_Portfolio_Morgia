{
 "cells": [
  {
   "cell_type": "code",
   "execution_count": 113,
   "metadata": {
    "collapsed": true
   },
   "outputs": [],
   "source": [
    "import numpy as np\n",
    "import pandas as pd\n",
    "import scipy as sp"
   ]
  },
  {
   "cell_type": "code",
   "execution_count": 174,
   "metadata": {
    "collapsed": false
   },
   "outputs": [],
   "source": [
    "%matplotlib inline\n",
    "import matplotlib.pyplot as plt\n",
    "plt.style.use('ggplot')"
   ]
  },
  {
   "cell_type": "code",
   "execution_count": 154,
   "metadata": {
    "collapsed": false
   },
   "outputs": [
    {
     "name": "stdout",
     "output_type": "stream",
     "text": [
      "Writing hw_data.csv\n"
     ]
    }
   ],
   "source": [
    "%%file hw_data.csv\n",
    "id,sex,weight,height\n",
    "1,M,190,77\n",
    "2,F,120,70\n",
    "3,F,110,68\n",
    "4,M,150,72\n",
    "5,O,120,66\n",
    "6,M,120,60\n",
    "7,F,140,70"
   ]
  },
  {
   "cell_type": "markdown",
   "metadata": {},
   "source": [
    "# Python"
   ]
  },
  {
   "cell_type": "markdown",
   "metadata": {},
   "source": [
    "## 1. Finish creating the following function that takes a list and returns the average value."
   ]
  },
  {
   "cell_type": "code",
   "execution_count": 13,
   "metadata": {
    "collapsed": false
   },
   "outputs": [
    {
     "data": {
      "text/plain": [
       "3.375"
      ]
     },
     "execution_count": 13,
     "metadata": {},
     "output_type": "execute_result"
    }
   ],
   "source": [
    "def average(my_list):\n",
    "    total = sum(my_list)\n",
    "    for item in my_list: float(total)\n",
    "        #do something with item!\n",
    "\n",
    "    return total/len(my_list)\n",
    "\n",
    "average([1,2,1,4,3,2,5,9])"
   ]
  },
  {
   "cell_type": "markdown",
   "metadata": {},
   "source": [
    "Lesson note to self: as the above included a for loop, that means the function iterates over each of the 8 integers in the list. Because the average is the sum of the list divided by the count of numbers in the list, we had to ensure that \"item\" kept returning the sum of the list.  "
   ]
  },
  {
   "cell_type": "markdown",
   "metadata": {},
   "source": [
    "## 2. Using a Dictionary keep track of the count of numbers (or items) from a list"
   ]
  },
  {
   "cell_type": "code",
   "execution_count": 20,
   "metadata": {
    "collapsed": false
   },
   "outputs": [
    {
     "data": {
      "text/plain": [
       "{1: 2, 2: 2, 3: 1, 4: 1, 5: 1, 9: 1}"
      ]
     },
     "execution_count": 20,
     "metadata": {},
     "output_type": "execute_result"
    }
   ],
   "source": [
    "def counts(my_list):\n",
    "    counts = dict()\n",
    "    for item in my_list:   counts[item] = counts.get(item, 0) + 1\n",
    "        #do something with item!\n",
    "    \n",
    "    return counts\n",
    "\n",
    "counts([1,2,1,4,3,2,5,9])    "
   ]
  },
  {
   "cell_type": "markdown",
   "metadata": {},
   "source": [
    "Lesson note to self: as the above included a for loop, the loop iterates over each of the numbers in the list.  The dictonary keeps track of each instance of the number and the operation counts.get cycles through each item and counts the number it appears in the list, and then goes to the next number up and counts that number."
   ]
  },
  {
   "cell_type": "markdown",
   "metadata": {},
   "source": [
    "## 3.  Using the `counts()` function and the `.split()` function, return a dictionary of most occuring words from the following paragraph. Bonus, remove punctuation from words."
   ]
  },
  {
   "cell_type": "code",
   "execution_count": 52,
   "metadata": {
    "collapsed": false
   },
   "outputs": [
    {
     "data": {
      "text/plain": [
       "{'\\nFor': 1,\n",
       " 'Alice': 2,\n",
       " 'Alice,': 1,\n",
       " 'An': 2,\n",
       " 'And': 1,\n",
       " 'But': 1,\n",
       " 'Duchess': 1,\n",
       " 'Duchess.': 1,\n",
       " 'First,': 1,\n",
       " 'Fish-Footman': 2,\n",
       " 'Footman': 2,\n",
       " 'Footman,': 1,\n",
       " 'Footman’s': 1,\n",
       " 'For': 1,\n",
       " 'Frog-Footman': 1,\n",
       " 'He': 1,\n",
       " 'I': 3,\n",
       " 'It': 1,\n",
       " 'I’m': 1,\n",
       " 'Queen': 1,\n",
       " 'Queen.': 1,\n",
       " 'She': 1,\n",
       " 'The': 1,\n",
       " 'a': 15,\n",
       " 'about,': 1,\n",
       " 'against': 1,\n",
       " 'all': 3,\n",
       " 'aloud.\\n‘I': 1,\n",
       " 'am': 2,\n",
       " 'and': 16,\n",
       " 'another': 1,\n",
       " 'answer': 1,\n",
       " 'any': 1,\n",
       " 'are': 1,\n",
       " 'are;': 1,\n",
       " 'arm': 1,\n",
       " 'as': 4,\n",
       " 'at': 6,\n",
       " 'attending': 1,\n",
       " 'back': 1,\n",
       " 'be': 2,\n",
       " 'because': 3,\n",
       " 'been': 1,\n",
       " 'began': 1,\n",
       " 'behind': 1,\n",
       " 'between': 1,\n",
       " 'both': 2,\n",
       " 'bowed': 1,\n",
       " 'broke': 1,\n",
       " 'broken': 1,\n",
       " 'by': 3,\n",
       " 'called': 1,\n",
       " 'came': 2,\n",
       " 'can’t': 1,\n",
       " 'certainly': 1,\n",
       " 'changing': 1,\n",
       " 'considered': 1,\n",
       " 'constant': 1,\n",
       " 'could': 2,\n",
       " 'crash,': 1,\n",
       " 'crept': 1,\n",
       " 'croquet.’': 1,\n",
       " 'croquet.’\\nThen': 1,\n",
       " 'curious': 1,\n",
       " 'curled': 1,\n",
       " 'curls': 1,\n",
       " 'decidedly': 1,\n",
       " 'dish': 1,\n",
       " 'do': 1,\n",
       " 'door': 4,\n",
       " 'door,': 2,\n",
       " 'entangled': 1,\n",
       " 'every': 1,\n",
       " 'extraordinary': 1,\n",
       " 'eyes': 2,\n",
       " 'face': 1,\n",
       " 'face,': 1,\n",
       " 'fear': 1,\n",
       " 'felt': 1,\n",
       " 'fish)—and': 1,\n",
       " 'footman': 3,\n",
       " 'footmen,': 1,\n",
       " 'for': 3,\n",
       " 'frog;': 1,\n",
       " 'from': 2,\n",
       " 'get': 2,\n",
       " 'going': 1,\n",
       " 'gone,': 1,\n",
       " 'got': 1,\n",
       " 'grazed': 1,\n",
       " 'great': 2,\n",
       " 'ground': 1,\n",
       " 'had': 4,\n",
       " 'hair': 1,\n",
       " 'handed': 1,\n",
       " 'have': 1,\n",
       " 'he': 5,\n",
       " 'head.': 1,\n",
       " 'head:': 1,\n",
       " 'heads.': 1,\n",
       " 'hear': 1,\n",
       " 'hearing': 1,\n",
       " 'help': 1,\n",
       " 'her,': 1,\n",
       " 'her;': 1,\n",
       " 'here,’': 1,\n",
       " 'herself;': 1,\n",
       " 'him': 2,\n",
       " 'him.': 1,\n",
       " 'himself,': 1,\n",
       " 'his': 5,\n",
       " 'house': 1,\n",
       " 'house,': 1,\n",
       " 'howling': 1,\n",
       " 'if': 2,\n",
       " 'in': 7,\n",
       " 'in?’': 1,\n",
       " 'in?’\\n‘There': 1,\n",
       " 'inside,': 2,\n",
       " 'instance,': 1,\n",
       " 'into': 3,\n",
       " 'invitation': 2,\n",
       " 'it': 2,\n",
       " 'it,’': 1,\n",
       " 'judging': 1,\n",
       " 'just': 1,\n",
       " 'kettle': 1,\n",
       " 'knock,': 1,\n",
       " 'knocked.\\n‘There’s': 1,\n",
       " 'knocking,’': 2,\n",
       " 'know': 1,\n",
       " 'know.’': 1,\n",
       " 'knuckles.': 1,\n",
       " 'large': 3,\n",
       " 'laughed': 1,\n",
       " 'let': 1,\n",
       " 'letter,': 1,\n",
       " 'like': 1,\n",
       " 'listen.\\nThe': 1,\n",
       " 'little': 1,\n",
       " 'little,': 1,\n",
       " 'livery': 1,\n",
       " 'livery,': 1,\n",
       " 'livery:': 1,\n",
       " 'looking': 2,\n",
       " 'loudly': 1,\n",
       " 'low,': 1,\n",
       " 'making': 1,\n",
       " 'might': 3,\n",
       " 'minute': 1,\n",
       " 'moment': 1,\n",
       " 'most': 1,\n",
       " 'much': 1,\n",
       " 'near': 1,\n",
       " 'nearly': 2,\n",
       " 'next': 1,\n",
       " 'next,': 1,\n",
       " 'no': 2,\n",
       " 'noise': 2,\n",
       " 'nose,': 1,\n",
       " 'noticed,': 1,\n",
       " 'now': 1,\n",
       " 'of': 9,\n",
       " 'on': 4,\n",
       " 'one': 2,\n",
       " 'only': 1,\n",
       " 'only,': 1,\n",
       " 'opened': 1,\n",
       " 'opened,': 1,\n",
       " 'or': 2,\n",
       " 'order': 1,\n",
       " 'other': 1,\n",
       " 'other,': 1,\n",
       " 'otherwise,': 1,\n",
       " 'out': 3,\n",
       " 'out,': 2,\n",
       " 'over': 2,\n",
       " 'peeped': 1,\n",
       " 'perhaps': 1,\n",
       " 'pieces': 1,\n",
       " 'pieces.\\n‘Please,': 1,\n",
       " 'plate': 1,\n",
       " 'play': 2,\n",
       " 'possibly': 1,\n",
       " 'powdered': 1,\n",
       " 'producing': 1,\n",
       " 'questions.—How': 1,\n",
       " 'rapped': 1,\n",
       " 'rate': 1,\n",
       " 'reasons.': 1,\n",
       " 'remarked,': 1,\n",
       " 'repeated,': 2,\n",
       " 'round': 1,\n",
       " 'run': 1,\n",
       " 'running': 1,\n",
       " 'said': 3,\n",
       " 'same': 2,\n",
       " 'saying,': 1,\n",
       " 'secondly,': 1,\n",
       " 'sense': 1,\n",
       " 'shall': 1,\n",
       " 'she': 6,\n",
       " 'side': 1,\n",
       " 'sit': 1,\n",
       " 'sitting': 1,\n",
       " 'skimming': 1,\n",
       " 'sky': 1,\n",
       " 'sky.\\nAlice': 1,\n",
       " 'sneezing,': 1,\n",
       " 'so': 2,\n",
       " 'solemn': 2,\n",
       " 'some': 1,\n",
       " 'sort': 1,\n",
       " 'speaking,': 1,\n",
       " 'staring': 1,\n",
       " 'stood': 1,\n",
       " 'straight': 1,\n",
       " 'stupidly': 1,\n",
       " 'such': 1,\n",
       " 'suddenly': 1,\n",
       " 'that': 3,\n",
       " 'the': 32,\n",
       " 'their': 3,\n",
       " 'then': 1,\n",
       " 'then,’': 1,\n",
       " 'there': 1,\n",
       " 'they': 1,\n",
       " 'they’re': 1,\n",
       " 'this': 3,\n",
       " 'this,': 1,\n",
       " 'thought': 1,\n",
       " 'time': 1,\n",
       " 'timidly': 1,\n",
       " 'to': 15,\n",
       " 'together.\\nAlice': 1,\n",
       " 'tomorrow—’\\nAt': 1,\n",
       " 'tone,': 2,\n",
       " 'top': 1,\n",
       " 'trees': 1,\n",
       " 'two': 2,\n",
       " 'uncivil.': 1,\n",
       " 'under': 1,\n",
       " 'up': 3,\n",
       " 'us.': 1,\n",
       " 'use': 1,\n",
       " 'very': 2,\n",
       " 'was': 8,\n",
       " 'way': 1,\n",
       " 'we': 1,\n",
       " 'went': 2,\n",
       " 'were': 1,\n",
       " 'what': 2,\n",
       " 'when': 2,\n",
       " 'with': 2,\n",
       " 'within—a': 1,\n",
       " 'without': 1,\n",
       " 'wondering': 1,\n",
       " 'wood': 2,\n",
       " 'wood—(she': 1,\n",
       " 'words': 1,\n",
       " 'would': 1,\n",
       " 'you': 5,\n",
       " 'you.’': 1,\n",
       " 'your': 1,\n",
       " '‘But': 1,\n",
       " '‘For': 1,\n",
       " '‘From': 1,\n",
       " '‘and': 1,\n",
       " '‘his': 1,\n",
       " '‘how': 1,\n",
       " '‘if': 1,\n",
       " '‘till': 1}"
      ]
     },
     "execution_count": 52,
     "metadata": {},
     "output_type": "execute_result"
    }
   ],
   "source": [
    "paragraph_text = '''\n",
    "For a minute or two she stood looking at the house, and wondering what to do next, when suddenly a footman in livery came running out of the wood—(she considered him to be a footman because he was in livery: otherwise, judging by his face only, she would have called him a fish)—and rapped loudly at the door with his knuckles. It was opened by another footman in livery, with a round face, and large eyes like a frog; and both footmen, Alice noticed, had powdered hair that curled all over their heads. She felt very curious to know what it was all about, and crept a little way out of the wood to listen.\n",
    "The Fish-Footman began by producing from under his arm a great letter, nearly as large as himself, and this he handed over to the other, saying, in a solemn tone, ‘For the Duchess. An invitation from the Queen to play croquet.’ The Frog-Footman repeated, in the same solemn tone, only changing the order of the words a little, ‘From the Queen. An invitation for the Duchess to play croquet.’\n",
    "Then they both bowed low, and their curls got entangled together.\n",
    "Alice laughed so much at this, that she had to run back into the wood for fear of their hearing her; and when she next peeped out the Fish-Footman was gone, and the other was sitting on the ground near the door, staring stupidly up into the sky.\n",
    "Alice went timidly up to the door, and knocked.\n",
    "‘There’s no sort of use in knocking,’ said the Footman, ‘and that for two reasons. First, because I’m on the same side of the door as you are; secondly, because they’re making such a noise inside, no one could possibly hear you.’ And certainly there was a most extraordinary noise going on within—a constant howling and sneezing, and every now and then a great crash, as if a dish or kettle had been broken to pieces.\n",
    "‘Please, then,’ said Alice, ‘how am I to get in?’\n",
    "‘There might be some sense in your knocking,’ the Footman went on without attending to her, ‘if we had the door between us. For instance, if you were inside, you might knock, and I could let you out, you know.’ He was looking up into the sky all the time he was speaking, and this Alice thought decidedly uncivil. ‘But perhaps he can’t help it,’ she said to herself; ‘his eyes are so very nearly at the top of his head. But at any rate he might answer questions.—How am I to get in?’ she repeated, aloud.\n",
    "‘I shall sit here,’ the Footman remarked, ‘till tomorrow—’\n",
    "At this moment the door of the house opened, and a large plate came skimming out, straight at the Footman’s head: it just grazed his nose, and broke to pieces against one of the trees behind him.'''\n",
    "\n",
    "words = paragraph_text.split(\" \")\n",
    "\n",
    "counts(words)\n"
   ]
  },
  {
   "cell_type": "markdown",
   "metadata": {},
   "source": [
    "## 4. Read in a file and write each line from the file to a new file Title-ized\n",
    "\n",
    "`This is the first line` ->  `This Is The First Line`\n",
    "\n",
    "Hint: There's a function to do this"
   ]
  },
  {
   "cell_type": "code",
   "execution_count": 101,
   "metadata": {
    "collapsed": false
   },
   "outputs": [
    {
     "name": "stdout",
     "output_type": "stream",
     "text": [
      "['My bonnie lies over the ocean\\n', 'My bonnie lies over the sea\\n', 'My bonnie lies over the ocean\\n', 'Oh bring back my Bonnie to me\\n']\n"
     ]
    }
   ],
   "source": [
    "#read in the file\n",
    "tf = '/Users/user/Documents/_JHU/2017/SU17_Machine Learning and Neural Networks/Week 2/MyBonnie Lyrics.txt'\n",
    "f = open(tf)\n",
    "printlines = f.readlines()\n",
    "\n",
    "#check that it read in each line\n",
    "print(printlines)"
   ]
  },
  {
   "cell_type": "code",
   "execution_count": 227,
   "metadata": {
    "collapsed": false
   },
   "outputs": [],
   "source": [
    "#write the lines with title case\n",
    "outlines = [line.title() for line in printlines]\n",
    "\n",
    "#write an output file\n",
    "outF = open(\"Bonnieoutput.txt\", \"w\")\n",
    "\n",
    "#use a for loop to write each line of the original file into the new outputfile\n",
    "for line in outlines:\n",
    "    outF.write(line)\n",
    "    outF.write(\"\\n\")\n",
    "outF.close()"
   ]
  },
  {
   "cell_type": "markdown",
   "metadata": {},
   "source": [
    "# Numpy"
   ]
  },
  {
   "cell_type": "markdown",
   "metadata": {},
   "source": [
    "## 1. Given a list, find the average using a numpy function. "
   ]
  },
  {
   "cell_type": "code",
   "execution_count": 115,
   "metadata": {
    "collapsed": false
   },
   "outputs": [
    {
     "data": {
      "text/plain": [
       "3.375"
      ]
     },
     "execution_count": 115,
     "metadata": {},
     "output_type": "execute_result"
    }
   ],
   "source": [
    "simple_list = [1,2,1,4,3,2,5,9]\n",
    "\n",
    "np.mean(simple_list)"
   ]
  },
  {
   "cell_type": "markdown",
   "metadata": {},
   "source": [
    "## 2. Given two lists of Heights and Weights of individual, calculate the BMI of those individuals, without writing a `for-loop`"
   ]
  },
  {
   "cell_type": "code",
   "execution_count": 128,
   "metadata": {
    "collapsed": false
   },
   "outputs": [
    {
     "name": "stdout",
     "output_type": "stream",
     "text": [
      "[ 0.00290659  0.00277323  0.00307394  0.00241633  0.00263329]\n"
     ]
    }
   ],
   "source": [
    "heights = [174, 173, 173, 175, 171]\n",
    "weights = [88, 83, 92, 74, 77]\n",
    "\n",
    "#BMI is calculated by weight (kg) divided by height (cm)^squared\n",
    "\n",
    "heights_cm = np.array(heights)\n",
    "weights_kg = np.array(weights)\n",
    "\n",
    "BMI = weights_kg / heights_cm **2\n",
    "print(BMI)"
   ]
  },
  {
   "cell_type": "markdown",
   "metadata": {},
   "source": [
    "## 3. Create an array of length 20 filled with random values (between 0 to 1) "
   ]
  },
  {
   "cell_type": "code",
   "execution_count": 129,
   "metadata": {
    "collapsed": false
   },
   "outputs": [
    {
     "data": {
      "text/plain": [
       "array([[ 0.88196923,  0.88174632,  0.18317711,  0.3928176 ,  0.93243557],\n",
       "       [ 0.58591128,  0.93202698,  0.61216747,  0.13826497,  0.96878226],\n",
       "       [ 0.05042693,  0.98522826,  0.45896031,  0.20945756,  0.62493267],\n",
       "       [ 0.03235941,  0.24230717,  0.96832719,  0.12336128,  0.8507303 ]])"
      ]
     },
     "execution_count": 129,
     "metadata": {},
     "output_type": "execute_result"
    }
   ],
   "source": [
    "#uniform random numbers in [0,1]\n",
    "np.random.rand(4,5)\n"
   ]
  },
  {
   "cell_type": "markdown",
   "metadata": {},
   "source": [
    "Lesson note to self: in np.random.rand(rows,columns)"
   ]
  },
  {
   "cell_type": "markdown",
   "metadata": {},
   "source": [
    "## Bonus. 1. Create an array with a large (>1000) length filled with random numbers from different distributions (normal, uniform, etc.). 2. Then, plot a histogram of these values. "
   ]
  },
  {
   "cell_type": "code",
   "execution_count": 152,
   "metadata": {
    "collapsed": false
   },
   "outputs": [
    {
     "data": {
      "text/plain": [
       "array([[  8.81803251e-02,  -1.56159701e+00,  -5.12851072e-01,\n",
       "         -9.53709819e-01,  -5.03731622e-02,  -5.68836495e-01,\n",
       "         -1.54984321e+00,  -1.02412974e-01,   5.89332694e-01,\n",
       "          5.42288640e-01],\n",
       "       [ -7.44775715e-01,   1.25450872e+00,  -7.97612516e-01,\n",
       "         -4.82244015e-02,   7.97696802e-01,  -3.82243343e-01,\n",
       "         -9.18624547e-01,  -4.31449722e-01,  -1.17068512e+00,\n",
       "         -4.48657854e-01],\n",
       "       [ -1.14977289e+00,   7.49766278e-02,  -5.64492447e-01,\n",
       "          6.07028124e-01,   1.51385478e+00,  -5.74851095e-01,\n",
       "          1.58791273e+00,  -2.25377994e-01,   1.15872687e-02,\n",
       "          2.35604483e+00],\n",
       "       [  1.98747791e+00,  -4.79287795e-01,   7.01934156e-01,\n",
       "         -3.32963601e-01,   4.45114500e-01,  -7.48948482e-01,\n",
       "          2.42646333e+00,   4.85353333e-01,   1.61068012e-01,\n",
       "         -9.63203934e-01],\n",
       "       [  2.47112158e-01,   8.84255002e-01,  -1.84700020e+00,\n",
       "          1.23184674e+00,   1.14226034e-01,   2.23984946e+00,\n",
       "          1.25599657e+00,   5.82360035e-02,   4.18748215e-01,\n",
       "          7.81454035e-01],\n",
       "       [  1.29253744e+00,   1.03803819e+00,  -4.69197833e-01,\n",
       "         -1.58453017e+00,   1.89525300e-02,   1.94803467e-02,\n",
       "         -1.16658476e+00,  -5.57962046e-02,  -1.81447326e-01,\n",
       "         -1.27908728e+00],\n",
       "       [ -2.21094464e-01,   1.34682268e+00,   8.62602158e-01,\n",
       "          1.80949410e+00,   4.87957027e-01,  -1.37499378e+00,\n",
       "         -1.12526684e+00,   9.95164973e-01,   3.77517550e+00,\n",
       "          2.08145931e-01],\n",
       "       [  1.08951067e-01,  -5.73783028e-01,  -3.66523221e-01,\n",
       "         -4.71500834e-01,   1.51807732e+00,   2.43845975e-02,\n",
       "          5.20237958e-01,  -9.16450565e-01,  -2.74561328e-01,\n",
       "         -6.57390742e-02],\n",
       "       [ -9.05008318e-01,  -1.43623058e-02,   1.71430962e+00,\n",
       "          1.79206733e+00,   9.61857242e-01,   3.22492591e-01,\n",
       "         -8.49461981e-02,   1.20830554e+00,  -1.87602282e-02,\n",
       "          1.48698732e+00],\n",
       "       [ -1.09216676e+00,   6.23278917e-01,  -7.81879894e-01,\n",
       "         -5.45073630e-01,  -2.80174934e-01,  -1.95077213e-01,\n",
       "         -6.94239521e-01,   6.65062137e-01,   1.39288168e+00,\n",
       "          6.95345748e-01],\n",
       "       [ -1.03103905e+00,  -1.28375672e+00,  -1.39962351e+00,\n",
       "         -9.21204902e-02,  -3.41500775e-01,  -1.02192011e+00,\n",
       "          2.86966692e+00,   1.12385396e+00,   5.93830361e-01,\n",
       "         -1.33995405e+00],\n",
       "       [ -1.94649141e-01,  -3.91113995e-01,  -1.31099484e+00,\n",
       "         -1.66412490e+00,  -6.69376450e-01,  -7.77369676e-01,\n",
       "         -6.01248225e-01,  -4.09158183e-01,  -5.80952877e-01,\n",
       "         -3.72604934e-01],\n",
       "       [  2.06249731e+00,  -7.42440450e-01,   1.69703843e-01,\n",
       "         -1.29377824e+00,   9.90636021e-01,   1.30204259e+00,\n",
       "         -1.21854396e+00,   1.28043948e+00,   1.19070735e-01,\n",
       "         -1.69417702e+00],\n",
       "       [  9.88999319e-01,  -1.05351157e+00,   1.43576200e+00,\n",
       "         -7.39549155e-01,   2.36461203e-01,   5.31910091e-01,\n",
       "         -2.80131078e-03,   9.18186467e-01,  -1.03012493e+00,\n",
       "         -1.18258181e+00],\n",
       "       [ -1.72299834e-01,   8.29783006e-02,  -3.37072108e-01,\n",
       "         -1.41790008e+00,  -1.48025225e-01,  -3.44405389e-01,\n",
       "          2.66070636e-01,  -3.78205566e-01,   9.42794450e-02,\n",
       "          3.78614189e-01],\n",
       "       [  7.20746509e-01,   1.78224114e+00,  -1.67211884e+00,\n",
       "         -5.83057200e-01,  -1.00220944e+00,  -1.62551021e+00,\n",
       "         -1.04537620e+00,  -1.12895532e+00,  -1.06473786e+00,\n",
       "          6.44298612e-01],\n",
       "       [ -1.00403710e+00,   3.98968083e-01,   4.31198744e-01,\n",
       "         -6.60766785e-01,   1.14971912e+00,  -5.11034525e-01,\n",
       "          1.92619335e+00,   8.43154943e-01,  -2.41537576e-02,\n",
       "          5.57398107e-01],\n",
       "       [  1.39345079e+00,  -1.43297828e+00,  -1.04215071e+00,\n",
       "          9.06463342e-01,  -1.95013147e+00,   2.23411236e-01,\n",
       "         -3.02700198e-02,  -8.47517577e-01,  -1.26165886e+00,\n",
       "          2.00852432e-01],\n",
       "       [  2.38085306e-01,   1.60626293e+00,  -6.72610239e-02,\n",
       "          7.38773349e-01,   9.08876846e-01,   3.02183187e-01,\n",
       "         -3.63362439e-01,   2.35385011e-01,   2.91351995e-01,\n",
       "         -2.57960106e+00],\n",
       "       [ -4.93317638e-01,  -2.46170913e-01,  -3.43933305e-02,\n",
       "         -1.69128892e+00,  -9.70143342e-01,  -9.67662209e-01,\n",
       "         -1.72433713e+00,   3.87125775e-01,  -1.46202593e+00,\n",
       "          1.04836538e-01],\n",
       "       [ -4.21747075e-01,  -6.88921857e-01,  -1.86557029e+00,\n",
       "          3.59998018e-01,  -4.50041244e-03,  -5.55812792e-01,\n",
       "          5.21881687e-01,  -4.68562168e-01,  -6.65436167e-01,\n",
       "         -2.03795012e-01],\n",
       "       [  1.43141751e+00,   8.90331581e-01,   9.96226646e-01,\n",
       "         -8.40691502e-01,  -5.57281659e-01,  -5.90028389e-01,\n",
       "         -4.73299734e-01,  -2.78579346e-01,   2.51059764e-01,\n",
       "         -7.39442522e-01],\n",
       "       [ -5.61022928e-02,   6.33759826e-01,  -2.72491025e+00,\n",
       "          2.26947147e-01,  -3.96234980e-01,  -1.85544129e-01,\n",
       "         -7.44577827e-01,  -1.15403989e+00,   3.51706020e-01,\n",
       "          4.35493139e-01],\n",
       "       [  5.04165736e-01,  -4.77861818e-01,  -2.89017195e-01,\n",
       "         -1.44149728e+00,  -2.65191493e-01,  -7.40134418e-01,\n",
       "         -3.52882455e-01,  -2.61525857e+00,   1.33273513e+00,\n",
       "          1.25849547e-01],\n",
       "       [ -7.70774910e-01,   1.01875610e+00,  -7.12730456e-01,\n",
       "         -4.82459200e-01,  -3.11580810e-01,  -4.06079837e-01,\n",
       "          5.69209545e-01,  -1.28464688e+00,  -4.66322951e-01,\n",
       "         -6.60222784e-01],\n",
       "       [  2.12834573e-01,   8.56685042e-01,  -9.62520872e-01,\n",
       "          6.01036588e-01,  -1.36000231e+00,   7.82948808e-01,\n",
       "          6.13452403e-01,   7.00254893e-03,   2.09443555e+00,\n",
       "          5.20472291e-01],\n",
       "       [  7.97017902e-02,  -3.37535484e-01,  -1.48210524e+00,\n",
       "          3.62718361e-02,   5.08423503e-02,  -5.94869523e-01,\n",
       "         -1.90437331e-01,   5.80876022e-01,  -1.65777415e+00,\n",
       "         -1.28822496e+00],\n",
       "       [ -1.12365558e+00,  -1.94576196e+00,   9.03535484e-01,\n",
       "         -1.08484787e+00,  -1.00562439e+00,   1.04489034e+00,\n",
       "          3.41266808e-01,  -9.23412313e-01,   5.94204460e-01,\n",
       "         -6.43272730e-01],\n",
       "       [  7.81643176e-01,   5.62348960e-01,   1.50006675e+00,\n",
       "          1.37488809e+00,  -7.05715608e-02,  -2.25736076e+00,\n",
       "          1.34095783e+00,  -1.51858628e+00,  -1.95234356e-01,\n",
       "         -8.61197971e-01],\n",
       "       [ -1.55684775e+00,  -2.13725106e-01,  -2.66641082e-01,\n",
       "         -1.02203699e+00,  -1.92804767e-02,   7.08287757e-01,\n",
       "          6.85172496e-02,  -1.25193094e-01,  -1.32103058e+00,\n",
       "          3.37876256e-01],\n",
       "       [  4.86526774e-01,   1.56472710e+00,  -1.43776910e+00,\n",
       "          8.22465136e-01,  -8.33648555e-01,  -1.05796793e+00,\n",
       "         -2.58964513e+00,   3.29197718e-01,  -5.03030023e-01,\n",
       "          5.48200126e-01],\n",
       "       [ -1.06351058e+00,   1.23484072e+00,   7.61542909e-01,\n",
       "         -1.99926560e+00,  -1.09597594e-01,  -2.34541323e+00,\n",
       "         -9.98497053e-02,   2.51404998e-02,   1.90838735e+00,\n",
       "         -4.42981190e-01],\n",
       "       [ -5.61010008e-01,  -2.09039360e-01,   2.07035040e+00,\n",
       "          2.52997057e-02,  -9.42488094e-01,   9.67038104e-01,\n",
       "         -4.97299230e-01,  -1.94260080e+00,   9.57057523e-01,\n",
       "         -3.25237573e-01],\n",
       "       [ -8.00964279e-01,   7.46076215e-02,   1.42338979e+00,\n",
       "          4.77949451e-01,  -2.06697489e+00,   1.37004726e+00,\n",
       "          1.24643780e+00,   7.94992244e-01,  -8.01133827e-02,\n",
       "          4.15212685e-01],\n",
       "       [  1.80738166e-01,   3.93341728e-01,   3.59154323e-01,\n",
       "          1.57703559e+00,  -7.67585439e-01,  -4.20952105e-01,\n",
       "          6.63027118e-01,   1.00461292e+00,   1.30483587e+00,\n",
       "         -1.23264640e-01],\n",
       "       [  4.55048231e-01,  -2.89165847e-01,  -1.73708036e+00,\n",
       "          4.61466942e-01,   7.86243313e-01,   1.88077372e+00,\n",
       "         -9.40516461e-02,   6.18198954e-01,   4.08683174e-01,\n",
       "          8.84768331e-02],\n",
       "       [  4.50957760e-01,  -1.48892383e-01,   1.12678367e+00,\n",
       "         -5.51859983e-01,   1.21996930e+00,  -7.81621033e-01,\n",
       "          3.64226393e-01,  -2.79731159e+00,   3.24790856e-01,\n",
       "         -1.29011078e+00],\n",
       "       [ -1.44980234e-01,   1.56391414e+00,   7.47736592e-01,\n",
       "         -7.29992372e-01,  -2.27904154e-01,  -1.12864398e+00,\n",
       "          3.54962182e-01,  -5.38864111e-01,  -7.02248190e-01,\n",
       "          3.80844513e-01],\n",
       "       [  1.84268771e+00,   1.27491086e-01,  -1.29805834e+00,\n",
       "          1.83734477e+00,   3.69806676e-01,   5.04088258e-02,\n",
       "         -9.77439256e-01,  -2.18625870e-01,  -7.84503432e-01,\n",
       "         -9.96933352e-01],\n",
       "       [  1.95790126e-01,  -2.20510960e+00,   1.81945898e+00,\n",
       "          1.56537374e+00,   1.31708988e+00,  -2.47065771e+00,\n",
       "         -3.61702498e-01,   9.53382010e-01,   2.16598798e-01,\n",
       "          5.52760664e-01],\n",
       "       [  1.36737705e+00,   7.41873078e-01,  -8.52693763e-01,\n",
       "         -1.56042305e+00,   6.11082788e-01,   1.06849240e+00,\n",
       "          5.77633642e-01,   5.11788137e-01,  -2.18984025e+00,\n",
       "         -1.61556999e-02],\n",
       "       [ -7.53221183e-01,   3.54148098e-01,   6.03693178e-01,\n",
       "          1.06886796e+00,  -5.15910975e-01,  -7.70162420e-01,\n",
       "          6.12264090e-01,  -1.54051526e+00,  -8.31962518e-01,\n",
       "          1.02448245e+00],\n",
       "       [  3.44724202e+00,  -6.63355932e-01,   1.50490908e+00,\n",
       "         -6.81897479e-01,  -1.20782486e+00,  -7.73941938e-01,\n",
       "         -1.49890090e-01,   8.35159474e-01,   3.44475780e-01,\n",
       "         -1.92452724e+00],\n",
       "       [  6.24305913e-02,  -8.44097811e-01,  -1.52469729e-01,\n",
       "          6.39294343e-01,  -1.02426652e+00,   6.53716651e-01,\n",
       "          1.79190695e-01,  -7.18577953e-03,  -6.37152696e-01,\n",
       "          3.63011178e-01],\n",
       "       [ -1.50603527e+00,  -6.80335493e-02,   5.31319889e-01,\n",
       "         -7.11567419e-01,  -1.02613321e+00,   5.54499945e-01,\n",
       "          1.14525802e+00,   9.42136872e-02,   4.58351241e-01,\n",
       "          3.04694443e-01],\n",
       "       [ -7.78565808e-01,  -1.05536659e+00,   2.09555523e+00,\n",
       "          5.03318807e-01,  -4.54788422e-01,   1.63173432e+00,\n",
       "          1.61452501e-01,  -9.39575883e-01,  -6.86060445e-01,\n",
       "         -9.67360185e-01],\n",
       "       [ -9.02117163e-01,  -2.89778745e-02,   1.11760129e+00,\n",
       "          5.07248711e-01,  -1.28879175e+00,   2.65748764e-01,\n",
       "         -1.62829219e+00,   9.52749539e-02,  -1.77614388e+00,\n",
       "         -2.44171150e-01],\n",
       "       [  1.21441310e+00,  -2.72252683e-01,   3.59971921e-01,\n",
       "         -6.35790133e-01,   1.36775913e+00,  -1.05644802e-01,\n",
       "          3.89625642e-01,  -8.36883863e-01,  -1.23070157e+00,\n",
       "         -1.19530165e+00],\n",
       "       [  2.32360610e+00,   1.00845504e+00,  -1.48548252e+00,\n",
       "         -8.91054035e-01,   1.08381191e+00,   1.56848229e+00,\n",
       "         -4.04234065e-01,   2.48236803e-01,   9.29002117e-01,\n",
       "          1.17109886e+00],\n",
       "       [  4.29525333e-02,  -4.30596739e-01,  -3.81271710e-01,\n",
       "         -1.52586989e+00,  -1.44906613e+00,   2.35926679e-01,\n",
       "          6.18595002e-01,   1.28608251e+00,   2.53607802e+00,\n",
       "          6.42609084e-01],\n",
       "       [ -7.97175364e-01,   9.03559124e-01,  -7.38449493e-01,\n",
       "         -8.18992747e-01,   2.06504174e-01,   1.74901993e+00,\n",
       "         -6.13615478e-01,   6.75195351e-01,   6.14674324e-01,\n",
       "          9.41148729e-01],\n",
       "       [  2.69550068e-01,   5.35353684e-01,  -9.15556631e-01,\n",
       "          8.57678422e-02,   8.98222801e-02,   1.90819084e-01,\n",
       "          1.87202930e-01,   1.12371064e+00,   9.29640365e-01,\n",
       "          2.76944123e-01],\n",
       "       [  1.02320078e+00,   4.77781230e-01,  -1.39606059e+00,\n",
       "          2.51892802e-01,   6.79254484e-01,  -1.43906534e-01,\n",
       "         -6.12453523e-01,  -1.87298419e-01,  -3.10941307e-01,\n",
       "          6.16346202e-01],\n",
       "       [  7.13672176e-01,   1.16120350e+00,   9.46604345e-01,\n",
       "         -1.05547183e+00,  -3.45412871e-01,  -1.47986311e+00,\n",
       "          2.92578627e-01,  -2.26309316e+00,   4.87144997e-01,\n",
       "         -1.47656390e-01],\n",
       "       [  1.73106351e+00,   6.33589573e-01,   3.35036272e-01,\n",
       "         -1.29299772e+00,  -4.32439528e-01,   6.29434375e-01,\n",
       "          1.53084212e-01,   4.31675753e-02,   1.82065330e+00,\n",
       "         -8.23585601e-01],\n",
       "       [  5.40033826e-01,  -3.70608964e-01,   6.56149529e-01,\n",
       "          2.03850673e+00,   2.40820113e-01,   6.58292963e-01,\n",
       "         -2.44687969e-01,  -3.30658766e-02,  -4.74519747e-01,\n",
       "         -1.60383846e+00],\n",
       "       [ -2.46322247e-01,   1.06301211e+00,   4.57554038e-01,\n",
       "          1.05763472e-01,  -1.90400831e+00,  -1.30574114e-01,\n",
       "         -1.99331531e+00,   7.03032480e-01,   1.58265086e+00,\n",
       "          1.54073813e+00],\n",
       "       [  8.52207316e-01,  -6.60142740e-02,  -1.61180183e+00,\n",
       "          3.71024256e-02,  -4.37030999e-01,  -2.33449274e-01,\n",
       "          8.55127970e-02,  -1.23079981e+00,   2.21293743e+00,\n",
       "         -1.33106774e+00],\n",
       "       [  3.02511993e-01,  -1.52506027e-01,   1.94052569e+00,\n",
       "          2.03716106e+00,   1.22396907e-01,   1.06399192e+00,\n",
       "          1.23965952e+00,   8.12426754e-01,  -7.78179946e-01,\n",
       "         -1.49257008e-01],\n",
       "       [  6.96285960e-01,  -1.30169245e+00,   1.00966913e+00,\n",
       "          1.41248337e+00,   9.97370184e-01,  -4.28599825e-01,\n",
       "         -2.25271456e-01,   6.01143335e-01,  -1.22019574e+00,\n",
       "          4.40062769e-01],\n",
       "       [ -1.14502574e+00,  -7.39537809e-01,   2.33560352e-01,\n",
       "         -4.84285889e-01,   2.40581088e-01,  -1.25426607e+00,\n",
       "          3.12249267e-01,   5.02393719e-02,   6.38941337e-01,\n",
       "          3.00950951e-01],\n",
       "       [  7.05865022e-01,  -5.08388356e-01,   5.09062748e-01,\n",
       "          1.08224820e+00,  -6.85026808e-01,  -1.09759692e+00,\n",
       "          7.05756028e-01,   2.32883608e-01,   1.85004327e-01,\n",
       "          3.94158911e-01],\n",
       "       [  7.44968039e-01,  -1.43882988e+00,   1.40846556e+00,\n",
       "          1.78775851e+00,  -7.81473528e-01,   1.09027066e+00,\n",
       "          1.54434450e+00,  -3.78470133e-01,   8.88068194e-01,\n",
       "          6.71189150e-01],\n",
       "       [  1.57329660e+00,   2.57628130e-01,   1.13629761e+00,\n",
       "          4.28233891e-01,  -3.35967770e-01,  -4.93867254e-01,\n",
       "         -2.74797132e-01,  -1.32228564e+00,   8.25472065e-01,\n",
       "         -6.07232083e-01],\n",
       "       [  3.21369286e-01,  -7.43656620e-01,   3.14900724e-01,\n",
       "          4.38247323e-01,  -1.48849590e+00,   8.62230698e-01,\n",
       "         -8.51223247e-02,   1.20039004e+00,  -1.80018456e+00,\n",
       "         -1.31524796e+00],\n",
       "       [  1.14178760e+00,  -2.56446062e-01,   8.54630667e-01,\n",
       "          6.75467680e-02,  -1.26685866e-01,  -8.45279727e-01,\n",
       "         -8.25744213e-02,  -1.56562424e+00,   1.06484207e+00,\n",
       "         -4.91094937e-01],\n",
       "       [  2.03969678e-01,  -1.16803513e+00,  -1.04796849e+00,\n",
       "          4.92690051e-01,   2.91896866e-01,  -9.09479342e-01,\n",
       "          1.37180190e+00,  -2.78853335e-01,   2.03175466e-01,\n",
       "         -8.58741533e-01],\n",
       "       [ -2.22463231e-01,   1.11672510e+00,  -9.05229495e-01,\n",
       "          1.84414594e+00,  -4.18324317e-01,   1.27853919e+00,\n",
       "          7.33987393e-01,  -5.89544365e-01,  -1.28057826e+00,\n",
       "          1.64669895e+00],\n",
       "       [  7.48889774e-01,   6.54311659e-01,   3.32242712e-01,\n",
       "          4.44138200e-01,  -3.41845895e-01,  -2.61836894e+00,\n",
       "          5.04489516e-02,  -4.50162177e-01,  -1.64018162e-01,\n",
       "         -9.76035819e-01],\n",
       "       [ -3.75082832e-01,   1.17464723e+00,   6.13360388e-02,\n",
       "          1.68587687e+00,   1.27509858e+00,   6.73790881e-01,\n",
       "          1.69054449e-01,   5.26880860e-01,   1.12695632e+00,\n",
       "          8.21640444e-01],\n",
       "       [ -4.70111648e-01,  -7.89498650e-01,   1.32739930e-01,\n",
       "         -1.47767951e+00,   2.12806046e+00,  -9.30289791e-01,\n",
       "         -5.44326577e-01,  -1.70178015e+00,  -1.28756206e+00,\n",
       "         -2.12398433e-01],\n",
       "       [  7.91941100e-01,   4.95937581e-01,   9.52114750e-01,\n",
       "          1.34246231e+00,  -5.33385477e-02,   4.23060395e-01,\n",
       "         -5.62327986e-02,   1.10474712e+00,   1.54699873e-01,\n",
       "         -5.10206690e-01],\n",
       "       [ -1.27429039e-01,  -1.80739025e-01,   7.61950270e-01,\n",
       "         -4.80051712e-01,   7.27195270e-01,   8.44111627e-01,\n",
       "         -1.25231899e+00,  -7.98491976e-02,  -1.20790935e+00,\n",
       "          5.77151042e-01],\n",
       "       [  2.73801056e-01,  -1.91980077e+00,   2.67222922e-01,\n",
       "          1.17736625e+00,   2.02057581e+00,   1.72758839e+00,\n",
       "          1.23169179e+00,  -1.79361557e+00,   1.99856760e+00,\n",
       "         -6.79586817e-01],\n",
       "       [ -1.54824136e+00,  -4.37436111e-01,   6.19273204e-01,\n",
       "          1.77717313e-01,   1.99729127e-01,   2.19575448e+00,\n",
       "         -1.42872040e+00,  -6.62914547e-01,  -1.51131380e+00,\n",
       "          2.36996374e-02],\n",
       "       [  9.69027295e-01,   2.23206601e-02,   1.72434489e+00,\n",
       "         -1.73626575e+00,  -2.69351022e-02,  -4.77406721e-01,\n",
       "          6.90963039e-01,  -6.56461918e-01,   1.37181843e+00,\n",
       "          7.36302164e-01],\n",
       "       [  9.80831609e-01,  -1.83931288e+00,   6.87933778e-01,\n",
       "          6.21281223e-01,   1.16621511e+00,  -7.30973594e-01,\n",
       "          6.89165861e-01,  -5.88513668e-01,  -6.34806289e-02,\n",
       "          2.89527832e-01],\n",
       "       [  1.05242986e+00,  -6.26705969e-01,   8.73134434e-01,\n",
       "         -1.68657085e+00,   7.10415462e-01,   9.18555018e-01,\n",
       "          8.85160130e-01,   2.00869304e+00,   2.35738188e-01,\n",
       "          1.30494610e+00],\n",
       "       [ -5.86296090e-01,  -1.48525805e+00,   4.57626848e-01,\n",
       "          2.53433230e-01,   7.04259331e-01,  -1.44015149e-01,\n",
       "          1.07106303e+00,   1.55266603e+00,   5.62680902e-01,\n",
       "          4.10458146e-01],\n",
       "       [ -2.81686693e-01,   1.15801049e+00,  -9.40898664e-01,\n",
       "          9.80193980e-01,   4.80895500e-01,   4.20096176e-01,\n",
       "         -1.69913413e+00,   2.92396718e-01,  -8.70706493e-01,\n",
       "          1.01121254e+00],\n",
       "       [  5.37428594e-01,  -1.08371656e+00,   1.46451203e+00,\n",
       "          2.59440990e+00,   3.50828299e+00,   2.13490811e+00,\n",
       "          3.67658214e-01,  -5.04500712e-01,   5.23982062e-01,\n",
       "          1.49380729e-01],\n",
       "       [  6.33124533e-01,  -8.23592274e-01,  -4.18984991e-01,\n",
       "          8.12940300e-01,   1.31323727e+00,   5.84033861e-01,\n",
       "          5.61783579e-01,   2.94888273e-01,   3.80349909e-01,\n",
       "          3.63297732e-01],\n",
       "       [ -7.49823965e-01,  -1.09835490e+00,   1.37152997e+00,\n",
       "         -7.57741662e-01,   2.07257987e+00,  -9.61493622e-01,\n",
       "         -2.56311566e-01,   1.47427970e+00,   1.25201773e+00,\n",
       "         -8.18131742e-01],\n",
       "       [ -5.13792461e-01,   9.52383137e-01,  -1.15858569e+00,\n",
       "         -1.42428614e-01,   1.34228456e-01,   1.39013276e+00,\n",
       "          2.03375850e-01,  -1.10737148e+00,   2.02330066e+00,\n",
       "         -1.64377874e+00],\n",
       "       [  9.15113045e-01,  -2.69256468e-01,   7.42218621e-01,\n",
       "          5.00154631e-01,   2.11919185e+00,   6.15077701e-01,\n",
       "         -1.07096612e+00,   5.06317015e-01,  -3.01724095e-01,\n",
       "         -1.50687635e-01],\n",
       "       [  2.78540274e-01,   1.07952972e+00,   4.50991578e-01,\n",
       "         -7.06645262e-01,  -1.91643754e+00,   1.46664322e+00,\n",
       "          8.99193877e-01,  -7.53455264e-02,   1.09329739e+00,\n",
       "          8.34131803e-01],\n",
       "       [  4.31006602e-01,  -7.00493755e-01,  -1.59809314e+00,\n",
       "          4.72821503e-01,  -7.56747193e-01,  -7.82046552e-01,\n",
       "          3.56091695e-01,  -1.56589523e+00,  -7.25864935e-01,\n",
       "         -5.72289023e-02],\n",
       "       [  1.40594942e+00,  -1.80105845e-01,  -1.79820680e+00,\n",
       "         -5.33352877e-01,   1.11093039e+00,   1.04051773e+00,\n",
       "          3.00404411e+00,   1.84129892e+00,  -3.65359513e-01,\n",
       "          1.35366847e+00],\n",
       "       [  2.86013732e-01,  -1.44346896e+00,   1.17346903e-01,\n",
       "          3.15891830e+00,   1.28477522e+00,  -2.28268810e-01,\n",
       "         -1.53366949e+00,  -1.51939113e-01,  -6.41168236e-01,\n",
       "          7.12298794e-01],\n",
       "       [ -8.12589344e-01,   2.42296116e+00,  -8.65893605e-01,\n",
       "          1.83194652e-01,  -1.71905828e+00,  -1.92244955e-01,\n",
       "         -3.30977409e-02,   1.49395468e+00,   2.15955668e-01,\n",
       "         -2.11309459e-01],\n",
       "       [  4.29629464e-01,   1.37177502e+00,   3.14161487e-01,\n",
       "         -1.84924989e-01,   1.71957737e+00,   2.91787374e-01,\n",
       "          8.41483916e-01,   3.78974174e-01,   1.26407016e+00,\n",
       "         -3.66621504e-01],\n",
       "       [  1.13802558e+00,  -1.08801272e+00,   1.05990829e+00,\n",
       "         -8.67838142e-01,   2.80696734e-01,  -3.87864586e-01,\n",
       "         -4.35075461e-01,   1.33618835e-01,   1.44929905e+00,\n",
       "         -1.06650789e+00],\n",
       "       [ -7.40006445e-01,  -4.60188589e-01,   1.79676359e+00,\n",
       "         -4.79728914e-01,   4.30949598e-01,  -5.51756680e-01,\n",
       "          8.18110363e-01,   7.01578562e-01,  -9.38986037e-01,\n",
       "          7.48632188e-02],\n",
       "       [  6.06873110e-02,   4.66870838e-01,   1.09582256e+00,\n",
       "          3.75183901e-01,   5.09501878e-02,   6.13383483e-01,\n",
       "          7.11431643e-01,   1.12110462e-01,  -3.57552930e-01,\n",
       "          2.63439370e-01],\n",
       "       [ -1.22957646e+00,  -8.57872572e-02,   7.14695256e-01,\n",
       "          1.39774027e-01,   1.00921643e+00,  -1.38755623e+00,\n",
       "         -2.08019567e-01,  -1.17139551e-01,  -9.92753223e-01,\n",
       "          6.79382678e-01],\n",
       "       [ -3.59074640e-02,  -3.63679582e-01,  -1.49040057e+00,\n",
       "          7.65791633e-01,   3.51647155e-01,  -6.78878790e-01,\n",
       "         -1.28768126e+00,  -4.00594507e-01,  -6.74203994e-01,\n",
       "          2.76222244e-02],\n",
       "       [ -1.46694491e-01,  -5.10960723e-03,  -3.67005122e-01,\n",
       "          6.25481795e-01,   1.23958589e+00,   4.05677098e-01,\n",
       "         -4.92061000e-01,   6.95140116e-01,  -7.81573300e-01,\n",
       "          1.57559455e+00],\n",
       "       [ -2.35785922e+00,   5.20273427e-01,   5.94022072e-01,\n",
       "          6.43217314e-01,  -1.78692572e+00,   2.94292126e-01,\n",
       "         -7.04641513e-01,   1.44575444e+00,   2.58220360e+00,\n",
       "         -9.09734829e-01],\n",
       "       [  6.34659376e-01,   4.36689225e-01,   7.87663295e-01,\n",
       "         -6.92174408e-01,   7.76660999e-01,  -5.57350742e-01,\n",
       "          1.65478675e-01,   2.57938753e-01,   4.67597420e-01,\n",
       "          6.50994814e-01],\n",
       "       [ -1.80591081e-01,   7.82639684e-01,   2.05182669e+00,\n",
       "         -1.03002269e-01,  -1.81814231e+00,   1.94219970e+00,\n",
       "         -1.98998250e+00,  -7.87877077e-02,  -1.39928418e+00,\n",
       "         -1.05544759e-01]])"
      ]
     },
     "execution_count": 152,
     "metadata": {},
     "output_type": "execute_result"
    }
   ],
   "source": [
    "#create an large length array\n",
    "np.random.randn(100,10)\n"
   ]
  },
  {
   "cell_type": "code",
   "execution_count": 153,
   "metadata": {
    "collapsed": false
   },
   "outputs": [
    {
     "data": {
      "text/plain": [
       "<function matplotlib.pyplot.show>"
      ]
     },
     "execution_count": 153,
     "metadata": {},
     "output_type": "execute_result"
    },
    {
     "data": {
      "image/png": "[encoded data removed]",
      "text/plain": [
       "<matplotlib.figure.Figure at 0x10ddacbe0>"
      ]
     },
     "metadata": {},
     "output_type": "display_data"
    }
   ],
   "source": [
    "#plot a histogram of array...code from numpy.histogram docs, NumPy manual v1.12\n",
    "\n",
    "import matplotlib.pyplot as plt\n",
    "rng = np.random.RandomState(10)\n",
    "a = np.hstack((rng.normal(size=1000),\n",
    "              rng.normal(loc=5,scale=1, size=1000)\n",
    "))\n",
    "\n",
    "plt.hist(a, bins='auto')\n",
    "plt.title(\"Histogram of Array\")\n",
    "plt.show\n"
   ]
  },
  {
   "cell_type": "markdown",
   "metadata": {},
   "source": [
    "# Pandas"
   ]
  },
  {
   "cell_type": "markdown",
   "metadata": {},
   "source": [
    "## 1. Read in a CSV () and display all the columns and their respective data types "
   ]
  },
  {
   "cell_type": "code",
   "execution_count": 165,
   "metadata": {
    "collapsed": false
   },
   "outputs": [
    {
     "data": {
      "text/plain": [
       "Index(['id', 'sex', 'weight', 'height'], dtype='object')"
      ]
     },
     "execution_count": 165,
     "metadata": {},
     "output_type": "execute_result"
    }
   ],
   "source": [
    "df = pd.read_csv('~/mlnn_jmodoodles/assignments/hw_data.csv')\n",
    "df.columns"
   ]
  },
  {
   "cell_type": "markdown",
   "metadata": {},
   "source": [
    "## 2. Find the average weight "
   ]
  },
  {
   "cell_type": "code",
   "execution_count": 162,
   "metadata": {
    "collapsed": false
   },
   "outputs": [
    {
     "data": {
      "text/html": [
       "<div>\n",
       "<table border=\"1\" class=\"dataframe\">\n",
       "  <thead>\n",
       "    <tr style=\"text-align: right;\">\n",
       "      <th></th>\n",
       "      <th>id</th>\n",
       "      <th>weight</th>\n",
       "      <th>height</th>\n",
       "    </tr>\n",
       "  </thead>\n",
       "  <tbody>\n",
       "    <tr>\n",
       "      <th>count</th>\n",
       "      <td>7.000000</td>\n",
       "      <td>7.000000</td>\n",
       "      <td>7.000000</td>\n",
       "    </tr>\n",
       "    <tr>\n",
       "      <th>mean</th>\n",
       "      <td>4.000000</td>\n",
       "      <td>135.714286</td>\n",
       "      <td>69.000000</td>\n",
       "    </tr>\n",
       "    <tr>\n",
       "      <th>std</th>\n",
       "      <td>2.160247</td>\n",
       "      <td>27.602622</td>\n",
       "      <td>5.259911</td>\n",
       "    </tr>\n",
       "    <tr>\n",
       "      <th>min</th>\n",
       "      <td>1.000000</td>\n",
       "      <td>110.000000</td>\n",
       "      <td>60.000000</td>\n",
       "    </tr>\n",
       "    <tr>\n",
       "      <th>25%</th>\n",
       "      <td>2.500000</td>\n",
       "      <td>120.000000</td>\n",
       "      <td>67.000000</td>\n",
       "    </tr>\n",
       "    <tr>\n",
       "      <th>50%</th>\n",
       "      <td>4.000000</td>\n",
       "      <td>120.000000</td>\n",
       "      <td>70.000000</td>\n",
       "    </tr>\n",
       "    <tr>\n",
       "      <th>75%</th>\n",
       "      <td>5.500000</td>\n",
       "      <td>145.000000</td>\n",
       "      <td>71.000000</td>\n",
       "    </tr>\n",
       "    <tr>\n",
       "      <th>max</th>\n",
       "      <td>7.000000</td>\n",
       "      <td>190.000000</td>\n",
       "      <td>77.000000</td>\n",
       "    </tr>\n",
       "  </tbody>\n",
       "</table>\n",
       "</div>"
      ],
      "text/plain": [
       "             id      weight     height\n",
       "count  7.000000    7.000000   7.000000\n",
       "mean   4.000000  135.714286  69.000000\n",
       "std    2.160247   27.602622   5.259911\n",
       "min    1.000000  110.000000  60.000000\n",
       "25%    2.500000  120.000000  67.000000\n",
       "50%    4.000000  120.000000  70.000000\n",
       "75%    5.500000  145.000000  71.000000\n",
       "max    7.000000  190.000000  77.000000"
      ]
     },
     "execution_count": 162,
     "metadata": {},
     "output_type": "execute_result"
    }
   ],
   "source": [
    "df.describe()"
   ]
  },
  {
   "cell_type": "markdown",
   "metadata": {},
   "source": [
    "The average weight from the data set is 135.71 lbs. "
   ]
  },
  {
   "cell_type": "markdown",
   "metadata": {},
   "source": [
    "## 3. Find the Value Counts on column `sex` "
   ]
  },
  {
   "cell_type": "code",
   "execution_count": 168,
   "metadata": {
    "collapsed": false
   },
   "outputs": [
    {
     "data": {
      "text/plain": [
       "M    3\n",
       "F    3\n",
       "O    1\n",
       "dtype: int64"
      ]
     },
     "execution_count": 168,
     "metadata": {},
     "output_type": "execute_result"
    }
   ],
   "source": [
    "pd.value_counts(df['sex'].values)"
   ]
  },
  {
   "cell_type": "markdown",
   "metadata": {},
   "source": [
    "## 4. Plot Height vs. Weight "
   ]
  },
  {
   "cell_type": "code",
   "execution_count": 180,
   "metadata": {
    "collapsed": false
   },
   "outputs": [
    {
     "data": {
      "text/plain": [
       "<matplotlib.axes._subplots.AxesSubplot at 0x10e0b7ba8>"
      ]
     },
     "execution_count": 180,
     "metadata": {},
     "output_type": "execute_result"
    },
    {
     "data": {
      "image/png": "[encoded data removed]",
      "text/plain": [
       "<matplotlib.figure.Figure at 0x10e107710>"
      ]
     },
     "metadata": {},
     "output_type": "display_data"
    }
   ],
   "source": [
    "df.plot(x='height', y='weight')"
   ]
  },
  {
   "cell_type": "markdown",
   "metadata": {},
   "source": [
    "## 5. Calculate BMI and save as a new column"
   ]
  },
  {
   "cell_type": "code",
   "execution_count": 201,
   "metadata": {
    "collapsed": false
   },
   "outputs": [
    {
     "data": {
      "text/html": [
       "<div>\n",
       "<table border=\"1\" class=\"dataframe\">\n",
       "  <thead>\n",
       "    <tr style=\"text-align: right;\">\n",
       "      <th></th>\n",
       "      <th>id</th>\n",
       "      <th>sex</th>\n",
       "      <th>weight</th>\n",
       "      <th>height</th>\n",
       "      <th>BMI</th>\n",
       "    </tr>\n",
       "  </thead>\n",
       "  <tbody>\n",
       "    <tr>\n",
       "      <th>0</th>\n",
       "      <td>1</td>\n",
       "      <td>M</td>\n",
       "      <td>190</td>\n",
       "      <td>77</td>\n",
       "      <td>0.032046</td>\n",
       "    </tr>\n",
       "    <tr>\n",
       "      <th>1</th>\n",
       "      <td>2</td>\n",
       "      <td>F</td>\n",
       "      <td>120</td>\n",
       "      <td>70</td>\n",
       "      <td>0.024490</td>\n",
       "    </tr>\n",
       "    <tr>\n",
       "      <th>2</th>\n",
       "      <td>3</td>\n",
       "      <td>F</td>\n",
       "      <td>110</td>\n",
       "      <td>68</td>\n",
       "      <td>0.023789</td>\n",
       "    </tr>\n",
       "    <tr>\n",
       "      <th>3</th>\n",
       "      <td>4</td>\n",
       "      <td>M</td>\n",
       "      <td>150</td>\n",
       "      <td>72</td>\n",
       "      <td>0.028935</td>\n",
       "    </tr>\n",
       "    <tr>\n",
       "      <th>4</th>\n",
       "      <td>5</td>\n",
       "      <td>O</td>\n",
       "      <td>120</td>\n",
       "      <td>66</td>\n",
       "      <td>0.027548</td>\n",
       "    </tr>\n",
       "    <tr>\n",
       "      <th>5</th>\n",
       "      <td>6</td>\n",
       "      <td>M</td>\n",
       "      <td>120</td>\n",
       "      <td>60</td>\n",
       "      <td>0.033333</td>\n",
       "    </tr>\n",
       "    <tr>\n",
       "      <th>6</th>\n",
       "      <td>7</td>\n",
       "      <td>F</td>\n",
       "      <td>140</td>\n",
       "      <td>70</td>\n",
       "      <td>0.028571</td>\n",
       "    </tr>\n",
       "  </tbody>\n",
       "</table>\n",
       "</div>"
      ],
      "text/plain": [
       "   id sex  weight  height       BMI\n",
       "0   1   M     190      77  0.032046\n",
       "1   2   F     120      70  0.024490\n",
       "2   3   F     110      68  0.023789\n",
       "3   4   M     150      72  0.028935\n",
       "4   5   O     120      66  0.027548\n",
       "5   6   M     120      60  0.033333\n",
       "6   7   F     140      70  0.028571"
      ]
     },
     "execution_count": 201,
     "metadata": {},
     "output_type": "execute_result"
    }
   ],
   "source": [
    "#BMI is calculated by weight (kg) divided by height (cm)^squared\n",
    "\n",
    "bmi = df.weight / df.height**2\n",
    "\n",
    "#create a column named BMI\n",
    "df['BMI'] = bmi\n",
    "\n",
    "#view the new dataframe\n",
    "df"
   ]
  },
  {
   "cell_type": "markdown",
   "metadata": {},
   "source": [
    "## 6. Save sheet as a new CSV file `hw_dataB.csv`"
   ]
  },
  {
   "cell_type": "code",
   "execution_count": 202,
   "metadata": {
    "collapsed": true
   },
   "outputs": [],
   "source": [
    "df.to_csv('hw_dataB.csv')"
   ]
  },
  {
   "cell_type": "markdown",
   "metadata": {},
   "source": [
    "## Run the following"
   ]
  },
  {
   "cell_type": "code",
   "execution_count": 203,
   "metadata": {
    "collapsed": false,
    "scrolled": true
   },
   "outputs": [
    {
     "name": "stdout",
     "output_type": "stream",
     "text": [
      ",id,sex,weight,height,BMI\r\n",
      "0,1,M,190,77,0.03204587620172036\r\n",
      "1,2,F,120,70,0.024489795918367346\r\n",
      "2,3,F,110,68,0.02378892733564014\r\n",
      "3,4,M,150,72,0.028935185185185185\r\n",
      "4,5,O,120,66,0.027548209366391185\r\n",
      "5,6,M,120,60,0.03333333333333333\r\n",
      "6,7,F,140,70,0.02857142857142857\r\n"
     ]
    }
   ],
   "source": [
    "!cat hw_dataB.csv"
   ]
  }
 ],
 "metadata": {
  "kernelspec": {
   "display_name": "Python 3",
   "language": "python",
   "name": "python3"
  },
  "language_info": {
   "codemirror_mode": {
    "name": "ipython",
    "version": 3
   },
   "file_extension": ".py",
   "mimetype": "text/x-python",
   "name": "python",
   "nbconvert_exporter": "python",
   "pygments_lexer": "ipython3",
   "version": "3.6.0"
  }
 },
 "nbformat": 4,
 "nbformat_minor": 1
}
