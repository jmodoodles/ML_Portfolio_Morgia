{
 "cells": [
  {
   "cell_type": "markdown",
   "metadata": {},
   "source": [
    "# Assignment 8\n",
    "Using any dataset that has a categorical feature that needs to be predicted, use several algorithms, preprocessing techniques, feature extraction techniques to fit the data to the model and show the accuracy, confusion matrix, and the classification report. G\n",
    "https://www.kaggle.com/ntnu-testimon/paysim1\n",
    "https://www.kaggle.com/joniarroba/noshowappointments\n",
    "https://archive.ics.uci.edu/ml/datasets.html?format=&task=cla&att=&area=&numAtt=&numIns=&type=&sort=nameUp&view=table\n",
    "https://archive.ics.uci.edu/ml/datasets/default+of+credit+card+clients\n",
    "https://archive.ics.uci.edu/ml/datasets/Adult"
   ]
  },
  {
   "cell_type": "code",
   "execution_count": 1,
   "metadata": {
    "collapsed": true
   },
   "outputs": [],
   "source": [
    "import numpy as np\n",
    "import matplotlib.pyplot as plt\n",
    "from sklearn import svm, datasets, preprocessing, metrics\n",
    "from sklearn.preprocessing import scale, LabelEncoder, OneHotEncoder, StandardScaler\n",
    "import pandas as pd\n",
    "from pandas import Series, DataFrame\n",
    "from pylab import rcParams\n",
    "rcParams['figure.figsize'] = 20, 10"
   ]
  },
  {
   "cell_type": "code",
   "execution_count": 2,
   "metadata": {
    "collapsed": true
   },
   "outputs": [],
   "source": [
    "from sklearn.svm import LinearSVC, SVC\n",
    "from sklearn.linear_model import LogisticRegression\n",
    "from sklearn.model_selection import train_test_split\n",
    "\n",
    "import seaborn as sns\n",
    "from sklearn.linear_model import LogisticRegression as Model\n",
    "\n"
   ]
  },
  {
   "cell_type": "code",
   "execution_count": 3,
   "metadata": {},
   "outputs": [
    {
     "name": "stderr",
     "output_type": "stream",
     "text": [
      "/Users/user/anaconda/lib/python3.6/site-packages/sklearn/cross_validation.py:44: DeprecationWarning: This module was deprecated in version 0.18 in favor of the model_selection module into which all the refactored classes and functions are moved. Also note that the interface of the new CV iterators are different from that of this module. This module will be removed in 0.20.\n",
      "  \"This module will be removed in 0.20.\", DeprecationWarning)\n"
     ]
    }
   ],
   "source": [
    "from sklearn.metrics import (accuracy_score, \n",
    "                             classification_report, \n",
    "                             confusion_matrix, auc, roc_curve\n",
    "                            )\n",
    "\n",
    "from sklearn import cross_validation"
   ]
  },
  {
   "cell_type": "markdown",
   "metadata": {},
   "source": [
    "## Dataset: Medical Appointment No Show"
   ]
  },
  {
   "cell_type": "markdown",
   "metadata": {},
   "source": [
    "#### *This dataset, made available on kaggle.com, looks at 15 variables across 300,000 medical appointments.  The goal is to predict if a patient is a no-show to their appointment.  I chose this dataset because it had 15 attributes (varying in data types) and thought it would be an interesting problem...and there would be some munging that would need to be done (e.g., parsing out time of appointment, converting strings to numerical values). I have in the past completely missed appointments because I completely forgot I had one scheduled.*  "
   ]
  },
  {
   "cell_type": "code",
   "execution_count": 4,
   "metadata": {
    "collapsed": true
   },
   "outputs": [],
   "source": [
    "#read in dataset\n",
    "\n",
    "appt = pd.read_csv('/Users/user/Desktop/NoShows.csv')\n",
    "appt.dropna(inplace=True) #discards all na values"
   ]
  },
  {
   "cell_type": "code",
   "execution_count": 5,
   "metadata": {},
   "outputs": [
    {
     "data": {
      "text/plain": [
       "['Age',\n",
       " 'Gender',\n",
       " 'AppointmentRegistration',\n",
       " 'ApointmentData',\n",
       " 'DayOfTheWeek',\n",
       " 'Status',\n",
       " 'Diabetes',\n",
       " 'Alcoolism',\n",
       " 'HiperTension',\n",
       " 'Handcap',\n",
       " 'Smokes',\n",
       " 'Scholarship',\n",
       " 'Tuberculosis',\n",
       " 'Sms_Reminder',\n",
       " 'AwaitingTime']"
      ]
     },
     "execution_count": 5,
     "metadata": {},
     "output_type": "execute_result"
    }
   ],
   "source": [
    "list(appt.columns)"
   ]
  },
  {
   "cell_type": "code",
   "execution_count": 6,
   "metadata": {},
   "outputs": [
    {
     "data": {
      "text/plain": [
       "Age                         int64\n",
       "Gender                     object\n",
       "AppointmentRegistration    object\n",
       "ApointmentData             object\n",
       "DayOfTheWeek               object\n",
       "Status                     object\n",
       "Diabetes                    int64\n",
       "Alcoolism                   int64\n",
       "HiperTension                int64\n",
       "Handcap                     int64\n",
       "Smokes                      int64\n",
       "Scholarship                 int64\n",
       "Tuberculosis                int64\n",
       "Sms_Reminder                int64\n",
       "AwaitingTime                int64\n",
       "dtype: object"
      ]
     },
     "execution_count": 6,
     "metadata": {},
     "output_type": "execute_result"
    }
   ],
   "source": [
    "appt.dtypes"
   ]
  },
  {
   "cell_type": "code",
   "execution_count": 7,
   "metadata": {
    "collapsed": true,
    "scrolled": false
   },
   "outputs": [],
   "source": [
    "#noticed a few spelling errors in the file and perhaps better naming conventions for the column.  \n",
    "#This converts the current column names to more useful ones.\n",
    "\n",
    "appt.rename(columns = {'AppointmentRegistration':'Scheduled', \n",
    "                      'ApointmentData':'Appointment',\n",
    "                      'Alcoolism':'Alcoholism',\n",
    "                      'HiperTension':'HyperTension',\n",
    "                      'Handcap':'Handicap', \n",
    "                      'Scholarship':'Aid Recipient',\n",
    "                      'AwaitingTime':'DaysBetween'}, inplace=True)\n"
   ]
  },
  {
   "cell_type": "code",
   "execution_count": 8,
   "metadata": {},
   "outputs": [
    {
     "data": {
      "text/plain": [
       "['Age',\n",
       " 'Gender',\n",
       " 'Scheduled',\n",
       " 'Appointment',\n",
       " 'DayOfTheWeek',\n",
       " 'Status',\n",
       " 'Diabetes',\n",
       " 'Alcoholism',\n",
       " 'HyperTension',\n",
       " 'Handicap',\n",
       " 'Smokes',\n",
       " 'Aid Recipient',\n",
       " 'Tuberculosis',\n",
       " 'Sms_Reminder',\n",
       " 'DaysBetween']"
      ]
     },
     "execution_count": 8,
     "metadata": {},
     "output_type": "execute_result"
    }
   ],
   "source": [
    "list(appt.columns)"
   ]
  },
  {
   "cell_type": "markdown",
   "metadata": {},
   "source": [
    "#### convert strings to numeric. Will do this for gender, dayoftheweek, and status"
   ]
  },
  {
   "cell_type": "code",
   "execution_count": 9,
   "metadata": {},
   "outputs": [
    {
     "data": {
      "text/plain": [
       "array(['M', 'F'], dtype=object)"
      ]
     },
     "execution_count": 9,
     "metadata": {},
     "output_type": "execute_result"
    }
   ],
   "source": [
    "#figure out what values exist in the feature: gender\n",
    "appt['Gender'].unique()"
   ]
  },
  {
   "cell_type": "code",
   "execution_count": 10,
   "metadata": {
    "collapsed": true
   },
   "outputs": [],
   "source": [
    "#use a loop to convert M, F to 0, 1 (note: tried using LabelEncoder, it didn't seem to do the function I wanted it to do, which was number then apply as a new column)\n",
    "\n",
    "def num_Gender(Gender):\n",
    "    if Gender == \"M\":\n",
    "        return 0\n",
    "    elif Gender == \"F\":\n",
    "        return 1\n",
    "\n",
    "#add it to the dataframe\n",
    "appt.Gender.apply(num_Gender).head\n",
    "appt['NumGender'] = appt.Gender.apply(num_Gender)\n",
    "\n"
   ]
  },
  {
   "cell_type": "code",
   "execution_count": 11,
   "metadata": {},
   "outputs": [
    {
     "data": {
      "text/plain": [
       "array(['Wednesday', 'Tuesday', 'Thursday', 'Friday', 'Monday', 'Saturday',\n",
       "       'Sunday'], dtype=object)"
      ]
     },
     "execution_count": 11,
     "metadata": {},
     "output_type": "execute_result"
    }
   ],
   "source": [
    "#figure out what values exist for dayoftheweek\n",
    "appt['DayOfTheWeek'].unique()"
   ]
  },
  {
   "cell_type": "code",
   "execution_count": 12,
   "metadata": {
    "collapsed": true
   },
   "outputs": [],
   "source": [
    "#converted day of the week to numeric using a loop (to control the assignment of numbers)\n",
    "\n",
    "\n",
    "def num_Weekday(DayOfTheWeek):\n",
    "    if DayOfTheWeek == \"Sunday\":\n",
    "        return 1\n",
    "    elif DayOfTheWeek == \"Monday\":\n",
    "        return 2\n",
    "    elif DayOfTheWeek == \"Tuesday\":\n",
    "        return 3\n",
    "    elif DayOfTheWeek == \"Wednesday\":\n",
    "        return 4\n",
    "    elif DayOfTheWeek == \"Thursday\":\n",
    "        return 5\n",
    "    elif DayOfTheWeek == \"Friday\":\n",
    "        return 6\n",
    "    elif DayOfTheWeek == \"Saturday\":\n",
    "        return 7\n",
    "    \n",
    "#add it to the dataframe\n",
    "appt.DayOfTheWeek.apply(num_Weekday).head\n",
    "appt['Weekday'] = appt.DayOfTheWeek.apply(num_Weekday)\n"
   ]
  },
  {
   "cell_type": "code",
   "execution_count": 13,
   "metadata": {},
   "outputs": [
    {
     "data": {
      "text/plain": [
       "array(['Show-Up', 'No-Show'], dtype=object)"
      ]
     },
     "execution_count": 13,
     "metadata": {},
     "output_type": "execute_result"
    }
   ],
   "source": [
    "#figure out what values exist for status (should be only 2)\n",
    "\n",
    "appt['Status'].unique()"
   ]
  },
  {
   "cell_type": "code",
   "execution_count": 14,
   "metadata": {
    "collapsed": true
   },
   "outputs": [],
   "source": [
    "#convert to a numeric value\n",
    "\n",
    "def num_Status(Status):\n",
    "    if Status == \"No-Show\":\n",
    "        return 0\n",
    "    elif Status == \"Show-Up\":\n",
    "        return 1\n",
    "    \n",
    "#add it to the dataframe\n",
    "appt.Status.apply(num_Status).head\n",
    "appt['NumStatus'] = appt.Status.apply(num_Status)\n",
    "\n"
   ]
  },
  {
   "cell_type": "markdown",
   "metadata": {},
   "source": [
    "#### Now relook at the new(er) dataset"
   ]
  },
  {
   "cell_type": "code",
   "execution_count": 15,
   "metadata": {},
   "outputs": [
    {
     "data": {
      "text/html": [
       "<div>\n",
       "<table border=\"1\" class=\"dataframe\">\n",
       "  <thead>\n",
       "    <tr style=\"text-align: right;\">\n",
       "      <th></th>\n",
       "      <th>Age</th>\n",
       "      <th>Gender</th>\n",
       "      <th>Scheduled</th>\n",
       "      <th>Appointment</th>\n",
       "      <th>DayOfTheWeek</th>\n",
       "      <th>Status</th>\n",
       "      <th>Diabetes</th>\n",
       "      <th>Alcoholism</th>\n",
       "      <th>HyperTension</th>\n",
       "      <th>Handicap</th>\n",
       "      <th>Smokes</th>\n",
       "      <th>Aid Recipient</th>\n",
       "      <th>Tuberculosis</th>\n",
       "      <th>Sms_Reminder</th>\n",
       "      <th>DaysBetween</th>\n",
       "      <th>NumGender</th>\n",
       "      <th>Weekday</th>\n",
       "      <th>NumStatus</th>\n",
       "    </tr>\n",
       "  </thead>\n",
       "  <tbody>\n",
       "    <tr>\n",
       "      <th>0</th>\n",
       "      <td>19</td>\n",
       "      <td>M</td>\n",
       "      <td>2014-12-16T14:46:25Z</td>\n",
       "      <td>2015-01-14T00:00:00Z</td>\n",
       "      <td>Wednesday</td>\n",
       "      <td>Show-Up</td>\n",
       "      <td>0</td>\n",
       "      <td>0</td>\n",
       "      <td>0</td>\n",
       "      <td>0</td>\n",
       "      <td>0</td>\n",
       "      <td>0</td>\n",
       "      <td>0</td>\n",
       "      <td>0</td>\n",
       "      <td>-29</td>\n",
       "      <td>0</td>\n",
       "      <td>4</td>\n",
       "      <td>1</td>\n",
       "    </tr>\n",
       "    <tr>\n",
       "      <th>1</th>\n",
       "      <td>24</td>\n",
       "      <td>F</td>\n",
       "      <td>2015-08-18T07:01:26Z</td>\n",
       "      <td>2015-08-19T00:00:00Z</td>\n",
       "      <td>Wednesday</td>\n",
       "      <td>Show-Up</td>\n",
       "      <td>0</td>\n",
       "      <td>0</td>\n",
       "      <td>0</td>\n",
       "      <td>0</td>\n",
       "      <td>0</td>\n",
       "      <td>0</td>\n",
       "      <td>0</td>\n",
       "      <td>0</td>\n",
       "      <td>-1</td>\n",
       "      <td>1</td>\n",
       "      <td>4</td>\n",
       "      <td>1</td>\n",
       "    </tr>\n",
       "    <tr>\n",
       "      <th>2</th>\n",
       "      <td>4</td>\n",
       "      <td>F</td>\n",
       "      <td>2014-02-17T12:53:46Z</td>\n",
       "      <td>2014-02-18T00:00:00Z</td>\n",
       "      <td>Tuesday</td>\n",
       "      <td>Show-Up</td>\n",
       "      <td>0</td>\n",
       "      <td>0</td>\n",
       "      <td>0</td>\n",
       "      <td>0</td>\n",
       "      <td>0</td>\n",
       "      <td>0</td>\n",
       "      <td>0</td>\n",
       "      <td>0</td>\n",
       "      <td>-1</td>\n",
       "      <td>1</td>\n",
       "      <td>3</td>\n",
       "      <td>1</td>\n",
       "    </tr>\n",
       "    <tr>\n",
       "      <th>3</th>\n",
       "      <td>5</td>\n",
       "      <td>M</td>\n",
       "      <td>2014-07-23T17:02:11Z</td>\n",
       "      <td>2014-08-07T00:00:00Z</td>\n",
       "      <td>Thursday</td>\n",
       "      <td>Show-Up</td>\n",
       "      <td>0</td>\n",
       "      <td>0</td>\n",
       "      <td>0</td>\n",
       "      <td>0</td>\n",
       "      <td>0</td>\n",
       "      <td>0</td>\n",
       "      <td>0</td>\n",
       "      <td>1</td>\n",
       "      <td>-15</td>\n",
       "      <td>0</td>\n",
       "      <td>5</td>\n",
       "      <td>1</td>\n",
       "    </tr>\n",
       "    <tr>\n",
       "      <th>4</th>\n",
       "      <td>38</td>\n",
       "      <td>M</td>\n",
       "      <td>2015-10-21T15:20:09Z</td>\n",
       "      <td>2015-10-27T00:00:00Z</td>\n",
       "      <td>Tuesday</td>\n",
       "      <td>Show-Up</td>\n",
       "      <td>0</td>\n",
       "      <td>0</td>\n",
       "      <td>0</td>\n",
       "      <td>0</td>\n",
       "      <td>0</td>\n",
       "      <td>0</td>\n",
       "      <td>0</td>\n",
       "      <td>1</td>\n",
       "      <td>-6</td>\n",
       "      <td>0</td>\n",
       "      <td>3</td>\n",
       "      <td>1</td>\n",
       "    </tr>\n",
       "  </tbody>\n",
       "</table>\n",
       "</div>"
      ],
      "text/plain": [
       "   Age Gender             Scheduled           Appointment DayOfTheWeek  \\\n",
       "0   19      M  2014-12-16T14:46:25Z  2015-01-14T00:00:00Z    Wednesday   \n",
       "1   24      F  2015-08-18T07:01:26Z  2015-08-19T00:00:00Z    Wednesday   \n",
       "2    4      F  2014-02-17T12:53:46Z  2014-02-18T00:00:00Z      Tuesday   \n",
       "3    5      M  2014-07-23T17:02:11Z  2014-08-07T00:00:00Z     Thursday   \n",
       "4   38      M  2015-10-21T15:20:09Z  2015-10-27T00:00:00Z      Tuesday   \n",
       "\n",
       "    Status  Diabetes  Alcoholism  HyperTension  Handicap  Smokes  \\\n",
       "0  Show-Up         0           0             0         0       0   \n",
       "1  Show-Up         0           0             0         0       0   \n",
       "2  Show-Up         0           0             0         0       0   \n",
       "3  Show-Up         0           0             0         0       0   \n",
       "4  Show-Up         0           0             0         0       0   \n",
       "\n",
       "   Aid Recipient  Tuberculosis  Sms_Reminder  DaysBetween  NumGender  Weekday  \\\n",
       "0              0             0             0          -29          0        4   \n",
       "1              0             0             0           -1          1        4   \n",
       "2              0             0             0           -1          1        3   \n",
       "3              0             0             1          -15          0        5   \n",
       "4              0             0             1           -6          0        3   \n",
       "\n",
       "   NumStatus  \n",
       "0          1  \n",
       "1          1  \n",
       "2          1  \n",
       "3          1  \n",
       "4          1  "
      ]
     },
     "execution_count": 15,
     "metadata": {},
     "output_type": "execute_result"
    }
   ],
   "source": [
    "appt.head()"
   ]
  },
  {
   "cell_type": "markdown",
   "metadata": {},
   "source": [
    "#### Convert and parse out date, time values in Scheduled and Appointment columns."
   ]
  },
  {
   "cell_type": "code",
   "execution_count": null,
   "metadata": {
    "collapsed": true
   },
   "outputs": [],
   "source": []
  },
  {
   "cell_type": "code",
   "execution_count": 16,
   "metadata": {
    "collapsed": true
   },
   "outputs": [],
   "source": [
    "#split the Scheduled column (i.e., turn 2014-12-16T14:46:25Z to 2014-12-16 14 46 25 using x.split)\n",
    "\n",
    "def parsed_Scheduled(Scheduled):\n",
    "    for letter in Scheduled:\n",
    "        if letter == \"T\":\n",
    "            Scheduled = Scheduled.replace(letter,\" \")\n",
    "        elif letter == \"Z\":\n",
    "            Scheduled = Scheduled.replace(letter,\"\")\n",
    "    return Scheduled\n",
    "\n",
    "def parsed_Appointment(Appointment):\n",
    "    for letter in Appointment:\n",
    "        if letter == \"T\":\n",
    "            Appointment = Appointment.replace(letter,\" \")\n",
    "        elif letter == \"Z\":\n",
    "            Appointment = Appointment.replace(letter,\"\")\n",
    "    return Appointment"
   ]
  },
  {
   "cell_type": "code",
   "execution_count": 17,
   "metadata": {
    "collapsed": true
   },
   "outputs": [],
   "source": [
    "#add it to the dataframe\n",
    "appt.Scheduled.apply(parsed_Scheduled).head\n",
    "appt['ParsedScheduled'] = appt.Scheduled.apply(parsed_Scheduled)\n",
    "appt.Appointment.apply(parsed_Appointment).head\n",
    "appt['ParsedAppointment'] = appt.Appointment.apply(parsed_Appointment)\n",
    "\n"
   ]
  },
  {
   "cell_type": "code",
   "execution_count": 18,
   "metadata": {
    "collapsed": true
   },
   "outputs": [],
   "source": [
    "\n",
    "#split off information in appointment\n",
    "appt[['AppointmentDate', 'AppointmentTime']] = pd.DataFrame([ x.split(' ') for x in appt['ParsedAppointment'].tolist() ])\n",
    "\n",
    "appt[['AppointmentYear', 'AppointmentMonth', 'AppointmentDay']] = pd.DataFrame([ x.split('-') for x in appt['AppointmentDate'].tolist() ])"
   ]
  },
  {
   "cell_type": "code",
   "execution_count": 19,
   "metadata": {
    "collapsed": true
   },
   "outputs": [],
   "source": [
    "#now split the Scheduled Date and Time\n",
    "appt[['ScheduledDate', 'ScheduledTime']] = pd.DataFrame([ x.split(' ') for x in appt['ParsedScheduled'].tolist() ])\n"
   ]
  },
  {
   "cell_type": "code",
   "execution_count": 20,
   "metadata": {},
   "outputs": [
    {
     "data": {
      "text/html": [
       "<div>\n",
       "<table border=\"1\" class=\"dataframe\">\n",
       "  <thead>\n",
       "    <tr style=\"text-align: right;\">\n",
       "      <th></th>\n",
       "      <th>Age</th>\n",
       "      <th>Gender</th>\n",
       "      <th>Scheduled</th>\n",
       "      <th>Appointment</th>\n",
       "      <th>DayOfTheWeek</th>\n",
       "      <th>Status</th>\n",
       "      <th>Diabetes</th>\n",
       "      <th>Alcoholism</th>\n",
       "      <th>HyperTension</th>\n",
       "      <th>Handicap</th>\n",
       "      <th>...</th>\n",
       "      <th>AppointmentMonth</th>\n",
       "      <th>AppointmentDay</th>\n",
       "      <th>ScheduledDate</th>\n",
       "      <th>ScheduledTime</th>\n",
       "      <th>ScheduledYear</th>\n",
       "      <th>ScheduledMonth</th>\n",
       "      <th>ScheduledDay</th>\n",
       "      <th>ScheduledHour</th>\n",
       "      <th>ScheduledMinute</th>\n",
       "      <th>ScheduledSecond</th>\n",
       "    </tr>\n",
       "  </thead>\n",
       "  <tbody>\n",
       "    <tr>\n",
       "      <th>0</th>\n",
       "      <td>19</td>\n",
       "      <td>M</td>\n",
       "      <td>2014-12-16T14:46:25Z</td>\n",
       "      <td>2015-01-14T00:00:00Z</td>\n",
       "      <td>Wednesday</td>\n",
       "      <td>Show-Up</td>\n",
       "      <td>0</td>\n",
       "      <td>0</td>\n",
       "      <td>0</td>\n",
       "      <td>0</td>\n",
       "      <td>...</td>\n",
       "      <td>01</td>\n",
       "      <td>14</td>\n",
       "      <td>2014-12-16</td>\n",
       "      <td>14:46:25</td>\n",
       "      <td>2014</td>\n",
       "      <td>12</td>\n",
       "      <td>16</td>\n",
       "      <td>14</td>\n",
       "      <td>46</td>\n",
       "      <td>25</td>\n",
       "    </tr>\n",
       "    <tr>\n",
       "      <th>1</th>\n",
       "      <td>24</td>\n",
       "      <td>F</td>\n",
       "      <td>2015-08-18T07:01:26Z</td>\n",
       "      <td>2015-08-19T00:00:00Z</td>\n",
       "      <td>Wednesday</td>\n",
       "      <td>Show-Up</td>\n",
       "      <td>0</td>\n",
       "      <td>0</td>\n",
       "      <td>0</td>\n",
       "      <td>0</td>\n",
       "      <td>...</td>\n",
       "      <td>08</td>\n",
       "      <td>19</td>\n",
       "      <td>2015-08-18</td>\n",
       "      <td>07:01:26</td>\n",
       "      <td>2015</td>\n",
       "      <td>08</td>\n",
       "      <td>18</td>\n",
       "      <td>07</td>\n",
       "      <td>01</td>\n",
       "      <td>26</td>\n",
       "    </tr>\n",
       "    <tr>\n",
       "      <th>2</th>\n",
       "      <td>4</td>\n",
       "      <td>F</td>\n",
       "      <td>2014-02-17T12:53:46Z</td>\n",
       "      <td>2014-02-18T00:00:00Z</td>\n",
       "      <td>Tuesday</td>\n",
       "      <td>Show-Up</td>\n",
       "      <td>0</td>\n",
       "      <td>0</td>\n",
       "      <td>0</td>\n",
       "      <td>0</td>\n",
       "      <td>...</td>\n",
       "      <td>02</td>\n",
       "      <td>18</td>\n",
       "      <td>2014-02-17</td>\n",
       "      <td>12:53:46</td>\n",
       "      <td>2014</td>\n",
       "      <td>02</td>\n",
       "      <td>17</td>\n",
       "      <td>12</td>\n",
       "      <td>53</td>\n",
       "      <td>46</td>\n",
       "    </tr>\n",
       "    <tr>\n",
       "      <th>3</th>\n",
       "      <td>5</td>\n",
       "      <td>M</td>\n",
       "      <td>2014-07-23T17:02:11Z</td>\n",
       "      <td>2014-08-07T00:00:00Z</td>\n",
       "      <td>Thursday</td>\n",
       "      <td>Show-Up</td>\n",
       "      <td>0</td>\n",
       "      <td>0</td>\n",
       "      <td>0</td>\n",
       "      <td>0</td>\n",
       "      <td>...</td>\n",
       "      <td>08</td>\n",
       "      <td>07</td>\n",
       "      <td>2014-07-23</td>\n",
       "      <td>17:02:11</td>\n",
       "      <td>2014</td>\n",
       "      <td>07</td>\n",
       "      <td>23</td>\n",
       "      <td>17</td>\n",
       "      <td>02</td>\n",
       "      <td>11</td>\n",
       "    </tr>\n",
       "    <tr>\n",
       "      <th>4</th>\n",
       "      <td>38</td>\n",
       "      <td>M</td>\n",
       "      <td>2015-10-21T15:20:09Z</td>\n",
       "      <td>2015-10-27T00:00:00Z</td>\n",
       "      <td>Tuesday</td>\n",
       "      <td>Show-Up</td>\n",
       "      <td>0</td>\n",
       "      <td>0</td>\n",
       "      <td>0</td>\n",
       "      <td>0</td>\n",
       "      <td>...</td>\n",
       "      <td>10</td>\n",
       "      <td>27</td>\n",
       "      <td>2015-10-21</td>\n",
       "      <td>15:20:09</td>\n",
       "      <td>2015</td>\n",
       "      <td>10</td>\n",
       "      <td>21</td>\n",
       "      <td>15</td>\n",
       "      <td>20</td>\n",
       "      <td>09</td>\n",
       "    </tr>\n",
       "  </tbody>\n",
       "</table>\n",
       "<p>5 rows × 33 columns</p>\n",
       "</div>"
      ],
      "text/plain": [
       "   Age Gender             Scheduled           Appointment DayOfTheWeek  \\\n",
       "0   19      M  2014-12-16T14:46:25Z  2015-01-14T00:00:00Z    Wednesday   \n",
       "1   24      F  2015-08-18T07:01:26Z  2015-08-19T00:00:00Z    Wednesday   \n",
       "2    4      F  2014-02-17T12:53:46Z  2014-02-18T00:00:00Z      Tuesday   \n",
       "3    5      M  2014-07-23T17:02:11Z  2014-08-07T00:00:00Z     Thursday   \n",
       "4   38      M  2015-10-21T15:20:09Z  2015-10-27T00:00:00Z      Tuesday   \n",
       "\n",
       "    Status  Diabetes  Alcoholism  HyperTension  Handicap       ...        \\\n",
       "0  Show-Up         0           0             0         0       ...         \n",
       "1  Show-Up         0           0             0         0       ...         \n",
       "2  Show-Up         0           0             0         0       ...         \n",
       "3  Show-Up         0           0             0         0       ...         \n",
       "4  Show-Up         0           0             0         0       ...         \n",
       "\n",
       "   AppointmentMonth  AppointmentDay  ScheduledDate  ScheduledTime  \\\n",
       "0                01              14     2014-12-16       14:46:25   \n",
       "1                08              19     2015-08-18       07:01:26   \n",
       "2                02              18     2014-02-17       12:53:46   \n",
       "3                08              07     2014-07-23       17:02:11   \n",
       "4                10              27     2015-10-21       15:20:09   \n",
       "\n",
       "   ScheduledYear  ScheduledMonth  ScheduledDay  ScheduledHour ScheduledMinute  \\\n",
       "0           2014              12            16             14              46   \n",
       "1           2015              08            18             07              01   \n",
       "2           2014              02            17             12              53   \n",
       "3           2014              07            23             17              02   \n",
       "4           2015              10            21             15              20   \n",
       "\n",
       "  ScheduledSecond  \n",
       "0              25  \n",
       "1              26  \n",
       "2              46  \n",
       "3              11  \n",
       "4              09  \n",
       "\n",
       "[5 rows x 33 columns]"
      ]
     },
     "execution_count": 20,
     "metadata": {},
     "output_type": "execute_result"
    }
   ],
   "source": [
    "#now split ScheduledDate and ScheduledTime, to allow for more refined investigation (hypothesis: perhaps the hour it was scheduled affects people remembering the appointment)\n",
    "\n",
    "appt[['ScheduledYear', 'ScheduledMonth', 'ScheduledDay']] = pd.DataFrame([ x.split('-') for x in appt['ScheduledDate'].tolist() ])\n",
    "\n",
    "appt[['ScheduledHour', 'ScheduledMinute', 'ScheduledSecond']] = pd.DataFrame([ x.split(':') for x in appt['ScheduledTime'].tolist() ])\n",
    "\n",
    "appt.head()"
   ]
  },
  {
   "cell_type": "markdown",
   "metadata": {},
   "source": [
    "**Note:** Apparently there is no useful time stamp on the Appointment time (likely because the default was 00:00:00Z)"
   ]
  },
  {
   "cell_type": "code",
   "execution_count": 21,
   "metadata": {},
   "outputs": [
    {
     "data": {
      "text/html": [
       "<div>\n",
       "<table border=\"1\" class=\"dataframe\">\n",
       "  <thead>\n",
       "    <tr style=\"text-align: right;\">\n",
       "      <th></th>\n",
       "      <th>Age</th>\n",
       "      <th>Gender</th>\n",
       "      <th>Scheduled</th>\n",
       "      <th>Appointment</th>\n",
       "      <th>DayOfTheWeek</th>\n",
       "      <th>Status</th>\n",
       "      <th>Diabetes</th>\n",
       "      <th>Alcoholism</th>\n",
       "      <th>HyperTension</th>\n",
       "      <th>Handicap</th>\n",
       "      <th>...</th>\n",
       "      <th>AppointmentDay</th>\n",
       "      <th>ScheduledDate</th>\n",
       "      <th>ScheduledTime</th>\n",
       "      <th>ScheduledYear</th>\n",
       "      <th>ScheduledMonth</th>\n",
       "      <th>ScheduledDay</th>\n",
       "      <th>ScheduledHour</th>\n",
       "      <th>ScheduledMinute</th>\n",
       "      <th>ScheduledSecond</th>\n",
       "      <th>Abs_DaysBetween</th>\n",
       "    </tr>\n",
       "  </thead>\n",
       "  <tbody>\n",
       "    <tr>\n",
       "      <th>0</th>\n",
       "      <td>19</td>\n",
       "      <td>M</td>\n",
       "      <td>2014-12-16T14:46:25Z</td>\n",
       "      <td>2015-01-14T00:00:00Z</td>\n",
       "      <td>Wednesday</td>\n",
       "      <td>Show-Up</td>\n",
       "      <td>0</td>\n",
       "      <td>0</td>\n",
       "      <td>0</td>\n",
       "      <td>0</td>\n",
       "      <td>...</td>\n",
       "      <td>14</td>\n",
       "      <td>2014-12-16</td>\n",
       "      <td>14:46:25</td>\n",
       "      <td>2014</td>\n",
       "      <td>12</td>\n",
       "      <td>16</td>\n",
       "      <td>14</td>\n",
       "      <td>46</td>\n",
       "      <td>25</td>\n",
       "      <td>29</td>\n",
       "    </tr>\n",
       "    <tr>\n",
       "      <th>1</th>\n",
       "      <td>24</td>\n",
       "      <td>F</td>\n",
       "      <td>2015-08-18T07:01:26Z</td>\n",
       "      <td>2015-08-19T00:00:00Z</td>\n",
       "      <td>Wednesday</td>\n",
       "      <td>Show-Up</td>\n",
       "      <td>0</td>\n",
       "      <td>0</td>\n",
       "      <td>0</td>\n",
       "      <td>0</td>\n",
       "      <td>...</td>\n",
       "      <td>19</td>\n",
       "      <td>2015-08-18</td>\n",
       "      <td>07:01:26</td>\n",
       "      <td>2015</td>\n",
       "      <td>08</td>\n",
       "      <td>18</td>\n",
       "      <td>07</td>\n",
       "      <td>01</td>\n",
       "      <td>26</td>\n",
       "      <td>1</td>\n",
       "    </tr>\n",
       "    <tr>\n",
       "      <th>2</th>\n",
       "      <td>4</td>\n",
       "      <td>F</td>\n",
       "      <td>2014-02-17T12:53:46Z</td>\n",
       "      <td>2014-02-18T00:00:00Z</td>\n",
       "      <td>Tuesday</td>\n",
       "      <td>Show-Up</td>\n",
       "      <td>0</td>\n",
       "      <td>0</td>\n",
       "      <td>0</td>\n",
       "      <td>0</td>\n",
       "      <td>...</td>\n",
       "      <td>18</td>\n",
       "      <td>2014-02-17</td>\n",
       "      <td>12:53:46</td>\n",
       "      <td>2014</td>\n",
       "      <td>02</td>\n",
       "      <td>17</td>\n",
       "      <td>12</td>\n",
       "      <td>53</td>\n",
       "      <td>46</td>\n",
       "      <td>1</td>\n",
       "    </tr>\n",
       "    <tr>\n",
       "      <th>3</th>\n",
       "      <td>5</td>\n",
       "      <td>M</td>\n",
       "      <td>2014-07-23T17:02:11Z</td>\n",
       "      <td>2014-08-07T00:00:00Z</td>\n",
       "      <td>Thursday</td>\n",
       "      <td>Show-Up</td>\n",
       "      <td>0</td>\n",
       "      <td>0</td>\n",
       "      <td>0</td>\n",
       "      <td>0</td>\n",
       "      <td>...</td>\n",
       "      <td>07</td>\n",
       "      <td>2014-07-23</td>\n",
       "      <td>17:02:11</td>\n",
       "      <td>2014</td>\n",
       "      <td>07</td>\n",
       "      <td>23</td>\n",
       "      <td>17</td>\n",
       "      <td>02</td>\n",
       "      <td>11</td>\n",
       "      <td>15</td>\n",
       "    </tr>\n",
       "    <tr>\n",
       "      <th>4</th>\n",
       "      <td>38</td>\n",
       "      <td>M</td>\n",
       "      <td>2015-10-21T15:20:09Z</td>\n",
       "      <td>2015-10-27T00:00:00Z</td>\n",
       "      <td>Tuesday</td>\n",
       "      <td>Show-Up</td>\n",
       "      <td>0</td>\n",
       "      <td>0</td>\n",
       "      <td>0</td>\n",
       "      <td>0</td>\n",
       "      <td>...</td>\n",
       "      <td>27</td>\n",
       "      <td>2015-10-21</td>\n",
       "      <td>15:20:09</td>\n",
       "      <td>2015</td>\n",
       "      <td>10</td>\n",
       "      <td>21</td>\n",
       "      <td>15</td>\n",
       "      <td>20</td>\n",
       "      <td>09</td>\n",
       "      <td>6</td>\n",
       "    </tr>\n",
       "  </tbody>\n",
       "</table>\n",
       "<p>5 rows × 34 columns</p>\n",
       "</div>"
      ],
      "text/plain": [
       "   Age Gender             Scheduled           Appointment DayOfTheWeek  \\\n",
       "0   19      M  2014-12-16T14:46:25Z  2015-01-14T00:00:00Z    Wednesday   \n",
       "1   24      F  2015-08-18T07:01:26Z  2015-08-19T00:00:00Z    Wednesday   \n",
       "2    4      F  2014-02-17T12:53:46Z  2014-02-18T00:00:00Z      Tuesday   \n",
       "3    5      M  2014-07-23T17:02:11Z  2014-08-07T00:00:00Z     Thursday   \n",
       "4   38      M  2015-10-21T15:20:09Z  2015-10-27T00:00:00Z      Tuesday   \n",
       "\n",
       "    Status  Diabetes  Alcoholism  HyperTension  Handicap       ...        \\\n",
       "0  Show-Up         0           0             0         0       ...         \n",
       "1  Show-Up         0           0             0         0       ...         \n",
       "2  Show-Up         0           0             0         0       ...         \n",
       "3  Show-Up         0           0             0         0       ...         \n",
       "4  Show-Up         0           0             0         0       ...         \n",
       "\n",
       "   AppointmentDay  ScheduledDate  ScheduledTime  ScheduledYear  \\\n",
       "0              14     2014-12-16       14:46:25           2014   \n",
       "1              19     2015-08-18       07:01:26           2015   \n",
       "2              18     2014-02-17       12:53:46           2014   \n",
       "3              07     2014-07-23       17:02:11           2014   \n",
       "4              27     2015-10-21       15:20:09           2015   \n",
       "\n",
       "   ScheduledMonth  ScheduledDay  ScheduledHour  ScheduledMinute  \\\n",
       "0              12            16             14               46   \n",
       "1              08            18             07               01   \n",
       "2              02            17             12               53   \n",
       "3              07            23             17               02   \n",
       "4              10            21             15               20   \n",
       "\n",
       "  ScheduledSecond Abs_DaysBetween  \n",
       "0              25              29  \n",
       "1              26               1  \n",
       "2              46               1  \n",
       "3              11              15  \n",
       "4              09               6  \n",
       "\n",
       "[5 rows x 34 columns]"
      ]
     },
     "execution_count": 21,
     "metadata": {},
     "output_type": "execute_result"
    }
   ],
   "source": [
    "#now we should convert the Days Between appointment Scheduled and Appointment Date to absolute values (instead of negative integers)\n",
    "\n",
    "abs_DaysBetween = appt.DaysBetween.abs()\n",
    "\n",
    "#add it to the dataframe\n",
    "appt['Abs_DaysBetween'] = abs_DaysBetween\n",
    "appt.head()"
   ]
  },
  {
   "cell_type": "code",
   "execution_count": 22,
   "metadata": {},
   "outputs": [
    {
     "data": {
      "text/plain": [
       "Age                   int64\n",
       "Gender               object\n",
       "Scheduled            object\n",
       "Appointment          object\n",
       "DayOfTheWeek         object\n",
       "Status               object\n",
       "Diabetes              int64\n",
       "Alcoholism            int64\n",
       "HyperTension          int64\n",
       "Handicap              int64\n",
       "Smokes                int64\n",
       "Aid Recipient         int64\n",
       "Tuberculosis          int64\n",
       "Sms_Reminder          int64\n",
       "DaysBetween           int64\n",
       "NumGender             int64\n",
       "Weekday               int64\n",
       "NumStatus             int64\n",
       "ParsedScheduled      object\n",
       "ParsedAppointment    object\n",
       "AppointmentDate      object\n",
       "AppointmentTime      object\n",
       "AppointmentYear      object\n",
       "AppointmentMonth     object\n",
       "AppointmentDay       object\n",
       "ScheduledDate        object\n",
       "ScheduledTime        object\n",
       "ScheduledYear        object\n",
       "ScheduledMonth       object\n",
       "ScheduledDay         object\n",
       "ScheduledHour        object\n",
       "ScheduledMinute      object\n",
       "ScheduledSecond      object\n",
       "Abs_DaysBetween       int64\n",
       "dtype: object"
      ]
     },
     "execution_count": 22,
     "metadata": {},
     "output_type": "execute_result"
    }
   ],
   "source": [
    "appt.dtypes"
   ]
  },
  {
   "cell_type": "code",
   "execution_count": 23,
   "metadata": {
    "collapsed": true
   },
   "outputs": [],
   "source": [
    "#odd that the numerical features I created turned out into object, let's fix that...\n",
    "appt[\"AppointmentYear\"] = pd.to_numeric(appt[\"AppointmentYear\"], errors=\"coerce\").fillna(0).astype(\"int64\")\n",
    "appt[\"AppointmentMonth\"] = pd.to_numeric(appt[\"AppointmentMonth\"], errors=\"coerce\").fillna(0).astype(\"int64\")\n",
    "appt[\"AppointmentDay\"] = pd.to_numeric(appt[\"AppointmentDay\"], errors=\"coerce\").fillna(0).astype(\"int64\")\n",
    "appt[\"ScheduledHour\"] = pd.to_numeric(appt[\"ScheduledHour\"], errors=\"coerce\").fillna(0).astype(\"int64\")\n",
    "appt[\"ScheduledMinute\"] = pd.to_numeric(appt[\"ScheduledMinute\"], errors=\"coerce\").fillna(0).astype(\"int64\")\n",
    "appt[\"ScheduledSecond\"] = pd.to_numeric(appt[\"ScheduledSecond\"], errors=\"coerce\").fillna(0).astype(\"int64\")\n",
    "appt[\"ScheduledYear\"] = pd.to_numeric(appt[\"ScheduledYear\"], errors=\"coerce\").fillna(0).astype(\"int64\")\n",
    "appt[\"ScheduledMonth\"] = pd.to_numeric(appt[\"ScheduledMonth\"], errors=\"coerce\").fillna(0).astype(\"int64\")\n",
    "appt[\"ScheduledDay\"] = pd.to_numeric(appt[\"ScheduledDay\"], errors=\"coerce\").fillna(0).astype(\"int64\")\n",
    "\n",
    "#Not all features need to be changed from objects to numeric because I don't plan on using them for the analysis."
   ]
  },
  {
   "cell_type": "code",
   "execution_count": 24,
   "metadata": {},
   "outputs": [
    {
     "data": {
      "text/plain": [
       "['Age',\n",
       " 'Diabetes',\n",
       " 'Alcoholism',\n",
       " 'HyperTension',\n",
       " 'Handicap',\n",
       " 'Smokes',\n",
       " 'Aid Recipient',\n",
       " 'Tuberculosis',\n",
       " 'Sms_Reminder',\n",
       " 'DaysBetween',\n",
       " 'NumGender',\n",
       " 'Weekday',\n",
       " 'NumStatus',\n",
       " 'AppointmentYear',\n",
       " 'AppointmentMonth',\n",
       " 'AppointmentDay',\n",
       " 'ScheduledYear',\n",
       " 'ScheduledMonth',\n",
       " 'ScheduledDay',\n",
       " 'ScheduledHour',\n",
       " 'ScheduledMinute',\n",
       " 'ScheduledSecond',\n",
       " 'Abs_DaysBetween']"
      ]
     },
     "execution_count": 24,
     "metadata": {},
     "output_type": "execute_result"
    }
   ],
   "source": [
    "#see which columns are numeric\n",
    "\n",
    "num_columns = [col for col, dtype in zip(appt.columns, appt.dtypes) if dtype != 'object']\n",
    "num_columns\n"
   ]
  },
  {
   "cell_type": "code",
   "execution_count": 25,
   "metadata": {},
   "outputs": [
    {
     "data": {
      "text/plain": [
       "23"
      ]
     },
     "execution_count": 25,
     "metadata": {},
     "output_type": "execute_result"
    }
   ],
   "source": [
    "len(num_columns)"
   ]
  },
  {
   "cell_type": "code",
   "execution_count": 26,
   "metadata": {},
   "outputs": [
    {
     "data": {
      "text/html": [
       "<div>\n",
       "<table border=\"1\" class=\"dataframe\">\n",
       "  <thead>\n",
       "    <tr style=\"text-align: right;\">\n",
       "      <th></th>\n",
       "      <th>Age</th>\n",
       "      <th>Gender</th>\n",
       "      <th>Scheduled</th>\n",
       "      <th>Appointment</th>\n",
       "      <th>DayOfTheWeek</th>\n",
       "      <th>Status</th>\n",
       "      <th>Diabetes</th>\n",
       "      <th>Alcoholism</th>\n",
       "      <th>HyperTension</th>\n",
       "      <th>Handicap</th>\n",
       "      <th>...</th>\n",
       "      <th>AppointmentDay</th>\n",
       "      <th>ScheduledDate</th>\n",
       "      <th>ScheduledTime</th>\n",
       "      <th>ScheduledYear</th>\n",
       "      <th>ScheduledMonth</th>\n",
       "      <th>ScheduledDay</th>\n",
       "      <th>ScheduledHour</th>\n",
       "      <th>ScheduledMinute</th>\n",
       "      <th>ScheduledSecond</th>\n",
       "      <th>Abs_DaysBetween</th>\n",
       "    </tr>\n",
       "  </thead>\n",
       "  <tbody>\n",
       "    <tr>\n",
       "      <th>0</th>\n",
       "      <td>19</td>\n",
       "      <td>M</td>\n",
       "      <td>2014-12-16T14:46:25Z</td>\n",
       "      <td>2015-01-14T00:00:00Z</td>\n",
       "      <td>Wednesday</td>\n",
       "      <td>Show-Up</td>\n",
       "      <td>0</td>\n",
       "      <td>0</td>\n",
       "      <td>0</td>\n",
       "      <td>0</td>\n",
       "      <td>...</td>\n",
       "      <td>14</td>\n",
       "      <td>2014-12-16</td>\n",
       "      <td>14:46:25</td>\n",
       "      <td>2014</td>\n",
       "      <td>12</td>\n",
       "      <td>16</td>\n",
       "      <td>14</td>\n",
       "      <td>46</td>\n",
       "      <td>25</td>\n",
       "      <td>29</td>\n",
       "    </tr>\n",
       "    <tr>\n",
       "      <th>1</th>\n",
       "      <td>24</td>\n",
       "      <td>F</td>\n",
       "      <td>2015-08-18T07:01:26Z</td>\n",
       "      <td>2015-08-19T00:00:00Z</td>\n",
       "      <td>Wednesday</td>\n",
       "      <td>Show-Up</td>\n",
       "      <td>0</td>\n",
       "      <td>0</td>\n",
       "      <td>0</td>\n",
       "      <td>0</td>\n",
       "      <td>...</td>\n",
       "      <td>19</td>\n",
       "      <td>2015-08-18</td>\n",
       "      <td>07:01:26</td>\n",
       "      <td>2015</td>\n",
       "      <td>8</td>\n",
       "      <td>18</td>\n",
       "      <td>7</td>\n",
       "      <td>1</td>\n",
       "      <td>26</td>\n",
       "      <td>1</td>\n",
       "    </tr>\n",
       "    <tr>\n",
       "      <th>2</th>\n",
       "      <td>4</td>\n",
       "      <td>F</td>\n",
       "      <td>2014-02-17T12:53:46Z</td>\n",
       "      <td>2014-02-18T00:00:00Z</td>\n",
       "      <td>Tuesday</td>\n",
       "      <td>Show-Up</td>\n",
       "      <td>0</td>\n",
       "      <td>0</td>\n",
       "      <td>0</td>\n",
       "      <td>0</td>\n",
       "      <td>...</td>\n",
       "      <td>18</td>\n",
       "      <td>2014-02-17</td>\n",
       "      <td>12:53:46</td>\n",
       "      <td>2014</td>\n",
       "      <td>2</td>\n",
       "      <td>17</td>\n",
       "      <td>12</td>\n",
       "      <td>53</td>\n",
       "      <td>46</td>\n",
       "      <td>1</td>\n",
       "    </tr>\n",
       "    <tr>\n",
       "      <th>3</th>\n",
       "      <td>5</td>\n",
       "      <td>M</td>\n",
       "      <td>2014-07-23T17:02:11Z</td>\n",
       "      <td>2014-08-07T00:00:00Z</td>\n",
       "      <td>Thursday</td>\n",
       "      <td>Show-Up</td>\n",
       "      <td>0</td>\n",
       "      <td>0</td>\n",
       "      <td>0</td>\n",
       "      <td>0</td>\n",
       "      <td>...</td>\n",
       "      <td>7</td>\n",
       "      <td>2014-07-23</td>\n",
       "      <td>17:02:11</td>\n",
       "      <td>2014</td>\n",
       "      <td>7</td>\n",
       "      <td>23</td>\n",
       "      <td>17</td>\n",
       "      <td>2</td>\n",
       "      <td>11</td>\n",
       "      <td>15</td>\n",
       "    </tr>\n",
       "    <tr>\n",
       "      <th>4</th>\n",
       "      <td>38</td>\n",
       "      <td>M</td>\n",
       "      <td>2015-10-21T15:20:09Z</td>\n",
       "      <td>2015-10-27T00:00:00Z</td>\n",
       "      <td>Tuesday</td>\n",
       "      <td>Show-Up</td>\n",
       "      <td>0</td>\n",
       "      <td>0</td>\n",
       "      <td>0</td>\n",
       "      <td>0</td>\n",
       "      <td>...</td>\n",
       "      <td>27</td>\n",
       "      <td>2015-10-21</td>\n",
       "      <td>15:20:09</td>\n",
       "      <td>2015</td>\n",
       "      <td>10</td>\n",
       "      <td>21</td>\n",
       "      <td>15</td>\n",
       "      <td>20</td>\n",
       "      <td>9</td>\n",
       "      <td>6</td>\n",
       "    </tr>\n",
       "  </tbody>\n",
       "</table>\n",
       "<p>5 rows × 34 columns</p>\n",
       "</div>"
      ],
      "text/plain": [
       "   Age Gender             Scheduled           Appointment DayOfTheWeek  \\\n",
       "0   19      M  2014-12-16T14:46:25Z  2015-01-14T00:00:00Z    Wednesday   \n",
       "1   24      F  2015-08-18T07:01:26Z  2015-08-19T00:00:00Z    Wednesday   \n",
       "2    4      F  2014-02-17T12:53:46Z  2014-02-18T00:00:00Z      Tuesday   \n",
       "3    5      M  2014-07-23T17:02:11Z  2014-08-07T00:00:00Z     Thursday   \n",
       "4   38      M  2015-10-21T15:20:09Z  2015-10-27T00:00:00Z      Tuesday   \n",
       "\n",
       "    Status  Diabetes  Alcoholism  HyperTension  Handicap       ...        \\\n",
       "0  Show-Up         0           0             0         0       ...         \n",
       "1  Show-Up         0           0             0         0       ...         \n",
       "2  Show-Up         0           0             0         0       ...         \n",
       "3  Show-Up         0           0             0         0       ...         \n",
       "4  Show-Up         0           0             0         0       ...         \n",
       "\n",
       "   AppointmentDay  ScheduledDate  ScheduledTime  ScheduledYear  \\\n",
       "0              14     2014-12-16       14:46:25           2014   \n",
       "1              19     2015-08-18       07:01:26           2015   \n",
       "2              18     2014-02-17       12:53:46           2014   \n",
       "3               7     2014-07-23       17:02:11           2014   \n",
       "4              27     2015-10-21       15:20:09           2015   \n",
       "\n",
       "   ScheduledMonth  ScheduledDay  ScheduledHour  ScheduledMinute  \\\n",
       "0              12            16             14               46   \n",
       "1               8            18              7                1   \n",
       "2               2            17             12               53   \n",
       "3               7            23             17                2   \n",
       "4              10            21             15               20   \n",
       "\n",
       "  ScheduledSecond Abs_DaysBetween  \n",
       "0              25              29  \n",
       "1              26               1  \n",
       "2              46               1  \n",
       "3              11              15  \n",
       "4               9               6  \n",
       "\n",
       "[5 rows x 34 columns]"
      ]
     },
     "execution_count": 26,
     "metadata": {},
     "output_type": "execute_result"
    }
   ],
   "source": [
    "appt.head()"
   ]
  },
  {
   "cell_type": "markdown",
   "metadata": {},
   "source": [
    "#### Horray! Now we have parsed out data, formatted, and ready to analyze...with 23 features to play with."
   ]
  },
  {
   "cell_type": "markdown",
   "metadata": {},
   "source": [
    "## Exploring the data (getting a better feel for how it's distributed, etc)"
   ]
  },
  {
   "cell_type": "markdown",
   "metadata": {},
   "source": [
    "##### (1) How many times have we observed a missed appointment in the dataset?"
   ]
  },
  {
   "cell_type": "code",
   "execution_count": 27,
   "metadata": {},
   "outputs": [
    {
     "data": {
      "text/plain": [
       "Show-Up    209269\n",
       "No-Show     90731\n",
       "Name: Status, dtype: int64"
      ]
     },
     "execution_count": 27,
     "metadata": {},
     "output_type": "execute_result"
    }
   ],
   "source": [
    "appt.Status.value_counts()"
   ]
  },
  {
   "cell_type": "markdown",
   "metadata": {},
   "source": [
    "**Observation:** According to the Status feature, patients miss the appointment 43% of the time!  That's shockingly high (and I guess creates quite a bit of revenue for a clinic)."
   ]
  },
  {
   "cell_type": "markdown",
   "metadata": {},
   "source": [
    "##### (2) Which day is the most frequent for appointments?"
   ]
  },
  {
   "cell_type": "code",
   "execution_count": 28,
   "metadata": {},
   "outputs": [
    {
     "data": {
      "text/plain": [
       "<matplotlib.axes._subplots.AxesSubplot at 0x1211650b8>"
      ]
     },
     "execution_count": 28,
     "metadata": {},
     "output_type": "execute_result"
    },
    {
     "data": {
      "image/png": "[encoded data removed]",
      "text/plain": [
       "<matplotlib.figure.Figure at 0x1098585f8>"
      ]
     },
     "metadata": {},
     "output_type": "display_data"
    }
   ],
   "source": [
    "import matplotlib.pyplot as plt\n",
    "%matplotlib inline\n",
    "sns.set(font_scale=1.5)\n",
    "\n",
    "sns.countplot(x='DayOfTheWeek', data=appt)"
   ]
  },
  {
   "cell_type": "code",
   "execution_count": 29,
   "metadata": {},
   "outputs": [
    {
     "data": {
      "text/plain": [
       "<matplotlib.axes._subplots.AxesSubplot at 0x1142a06a0>"
      ]
     },
     "execution_count": 29,
     "metadata": {},
     "output_type": "execute_result"
    },
    {
     "data": {
      "image/png": "[encoded data removed]",
      "text/plain": [
       "<matplotlib.figure.Figure at 0x114294ac8>"
      ]
     },
     "metadata": {},
     "output_type": "display_data"
    }
   ],
   "source": [
    "#This is another way to view the above information.\n",
    "#The line graph makes it a little easier to see the division between the days\n",
    "\n",
    "days = appt.groupby('DayOfTheWeek').agg('count')\n",
    "days['Day'] = days.index\n",
    "\n",
    "days.Weekday.plot()"
   ]
  },
  {
   "cell_type": "markdown",
   "metadata": {},
   "source": [
    "**Observation:** It appears that all of the weekdays are quite popular with Wednesday being the most and Friday as the least.  Wednesday and Tuesday appear to be very close. There are probably only a few places open on Saturday, which is why we see some values."
   ]
  },
  {
   "cell_type": "markdown",
   "metadata": {},
   "source": [
    "##### (3) What time is the most popular for scheduling?  (by hour and month)"
   ]
  },
  {
   "cell_type": "code",
   "execution_count": 30,
   "metadata": {
    "scrolled": false
   },
   "outputs": [
    {
     "data": {
      "text/plain": [
       "<matplotlib.axes._subplots.AxesSubplot at 0x120f4c0b8>"
      ]
     },
     "execution_count": 30,
     "metadata": {},
     "output_type": "execute_result"
    },
    {
     "data": {
      "image/png": "[encoded data removed]",
      "text/plain": [
       "<matplotlib.figure.Figure at 0x11419e7f0>"
      ]
     },
     "metadata": {},
     "output_type": "display_data"
    }
   ],
   "source": [
    "sns.countplot(x='ScheduledHour', data=appt)"
   ]
  },
  {
   "cell_type": "code",
   "execution_count": 31,
   "metadata": {},
   "outputs": [
    {
     "data": {
      "text/plain": [
       "<matplotlib.axes._subplots.AxesSubplot at 0x11c27b780>"
      ]
     },
     "execution_count": 31,
     "metadata": {},
     "output_type": "execute_result"
    },
    {
     "data": {
      "image/png": "[encoded data removed]",
      "text/plain": [
       "<matplotlib.figure.Figure at 0x11d19e7b8>"
      ]
     },
     "metadata": {},
     "output_type": "display_data"
    }
   ],
   "source": [
    "\n",
    "hours = appt.groupby('ScheduledHour').agg('count')\n",
    "hours['Hour'] = hours.index\n",
    "\n",
    "hours.Scheduled.plot()"
   ]
  },
  {
   "cell_type": "code",
   "execution_count": 32,
   "metadata": {},
   "outputs": [
    {
     "data": {
      "text/plain": [
       "<matplotlib.axes._subplots.AxesSubplot at 0x127ac84e0>"
      ]
     },
     "execution_count": 32,
     "metadata": {},
     "output_type": "execute_result"
    },
    {
     "data": {
      "image/png": "[encoded data removed]",
      "text/plain": [
       "<matplotlib.figure.Figure at 0x11ccc5ba8>"
      ]
     },
     "metadata": {},
     "output_type": "display_data"
    }
   ],
   "source": [
    "sns.countplot(x='ScheduledMonth', data=appt)"
   ]
  },
  {
   "cell_type": "code",
   "execution_count": 33,
   "metadata": {},
   "outputs": [
    {
     "data": {
      "text/plain": [
       "<matplotlib.axes._subplots.AxesSubplot at 0x127714588>"
      ]
     },
     "execution_count": 33,
     "metadata": {},
     "output_type": "execute_result"
    },
    {
     "data": {
      "image/png": "[encoded data removed]",
      "text/plain": [
       "<matplotlib.figure.Figure at 0x1277e6780>"
      ]
     },
     "metadata": {},
     "output_type": "display_data"
    }
   ],
   "source": [
    "schedmonth = appt.groupby('ScheduledMonth').agg('count')\n",
    "schedmonth['Month'] = schedmonth.index\n",
    "\n",
    "schedmonth.Scheduled.plot()"
   ]
  },
  {
   "cell_type": "markdown",
   "metadata": {},
   "source": [
    "##### How about for appointments? (Month only because hour is nonexistent)\n"
   ]
  },
  {
   "cell_type": "code",
   "execution_count": 34,
   "metadata": {},
   "outputs": [
    {
     "data": {
      "text/plain": [
       "<matplotlib.axes._subplots.AxesSubplot at 0x1274d13c8>"
      ]
     },
     "execution_count": 34,
     "metadata": {},
     "output_type": "execute_result"
    },
    {
     "data": {
      "image/png": "[encoded data removed]",
      "text/plain": [
       "<matplotlib.figure.Figure at 0x11d33e1d0>"
      ]
     },
     "metadata": {},
     "output_type": "display_data"
    }
   ],
   "source": [
    "sns.countplot(x='AppointmentMonth', data=appt)"
   ]
  },
  {
   "cell_type": "code",
   "execution_count": 35,
   "metadata": {},
   "outputs": [
    {
     "data": {
      "text/plain": [
       "<matplotlib.axes._subplots.AxesSubplot at 0x1271178d0>"
      ]
     },
     "execution_count": 35,
     "metadata": {},
     "output_type": "execute_result"
    },
    {
     "data": {
      "image/png": "[encoded data removed]",
      "text/plain": [
       "<matplotlib.figure.Figure at 0x1272670f0>"
      ]
     },
     "metadata": {},
     "output_type": "display_data"
    }
   ],
   "source": [
    "\n",
    "apptmonth = appt.groupby('AppointmentMonth').agg('count')\n",
    "apptmonth['Month'] = apptmonth.index\n",
    "\n",
    "apptmonth.Appointment.plot()"
   ]
  },
  {
   "cell_type": "markdown",
   "metadata": {},
   "source": [
    "**Observation:** It appears that the most popular time for scheduling appointments is early in the morning or in the midafternoon.  The most popular month for scheduling these appointments (though there's not a ton of deviation) is May and July-October.  The appointment dates roughly follow the scheduling dates.\n",
    "\n",
    "Plotting these features in multiple ways makes it easier to see where we can parse the data for our algorithms. I will probably take a subset of information based on either day of the appointment, or popular appointment months/hours. This will help us compute through the data."
   ]
  },
  {
   "cell_type": "code",
   "execution_count": 36,
   "metadata": {},
   "outputs": [
    {
     "data": {
      "text/plain": [
       "<matplotlib.axes._subplots.AxesSubplot at 0x127030be0>"
      ]
     },
     "execution_count": 36,
     "metadata": {},
     "output_type": "execute_result"
    },
    {
     "data": {
      "image/png": "[encoded data removed]",
      "text/plain": [
       "<matplotlib.figure.Figure at 0x1279e11d0>"
      ]
     },
     "metadata": {},
     "output_type": "display_data"
    }
   ],
   "source": [
    "sns.countplot(x=\"DayOfTheWeek\", hue='Status', data=appt)"
   ]
  },
  {
   "cell_type": "code",
   "execution_count": 37,
   "metadata": {},
   "outputs": [
    {
     "data": {
      "text/plain": [
       "<matplotlib.axes._subplots.AxesSubplot at 0x126b147f0>"
      ]
     },
     "execution_count": 37,
     "metadata": {},
     "output_type": "execute_result"
    },
    {
     "data": {
      "image/png": "[encoded data removed]",
      "text/plain": [
       "<matplotlib.figure.Figure at 0x126b17080>"
      ]
     },
     "metadata": {},
     "output_type": "display_data"
    }
   ],
   "source": [
    "sns.countplot(x=\"ScheduledMonth\", hue='Status', data=appt)"
   ]
  },
  {
   "cell_type": "code",
   "execution_count": 38,
   "metadata": {},
   "outputs": [
    {
     "data": {
      "text/plain": [
       "<matplotlib.axes._subplots.AxesSubplot at 0x126949e10>"
      ]
     },
     "execution_count": 38,
     "metadata": {},
     "output_type": "execute_result"
    },
    {
     "data": {
      "image/png": "[encoded data removed]",
      "text/plain": [
       "<matplotlib.figure.Figure at 0x126a09080>"
      ]
     },
     "metadata": {},
     "output_type": "display_data"
    }
   ],
   "source": [
    "sns.countplot(x=\"ScheduledYear\", hue='Status', data=appt)"
   ]
  },
  {
   "cell_type": "code",
   "execution_count": 39,
   "metadata": {},
   "outputs": [
    {
     "data": {
      "text/plain": [
       "<matplotlib.axes._subplots.AxesSubplot at 0x1265cb080>"
      ]
     },
     "execution_count": 39,
     "metadata": {},
     "output_type": "execute_result"
    },
    {
     "data": {
      "image/png": "[encoded data removed]",
      "text/plain": [
       "<matplotlib.figure.Figure at 0x126b9e9b0>"
      ]
     },
     "metadata": {},
     "output_type": "display_data"
    }
   ],
   "source": [
    "sns.countplot(x=\"AppointmentMonth\", hue='Status', data=appt)"
   ]
  },
  {
   "cell_type": "code",
   "execution_count": 40,
   "metadata": {},
   "outputs": [
    {
     "data": {
      "text/plain": [
       "<matplotlib.axes._subplots.AxesSubplot at 0x1261cfc18>"
      ]
     },
     "execution_count": 40,
     "metadata": {},
     "output_type": "execute_result"
    },
    {
     "data": {
      "image/png": "[encoded data removed]",
      "text/plain": [
       "<matplotlib.figure.Figure at 0x1265ecda0>"
      ]
     },
     "metadata": {},
     "output_type": "display_data"
    }
   ],
   "source": [
    "sns.countplot(x=\"AppointmentYear\", hue='Status', data=appt)"
   ]
  },
  {
   "cell_type": "markdown",
   "metadata": {},
   "source": [
    "**Observation:** Even when parsing out by Status, it shows a relatively consistent change in status throughout the year. Does this mean that each month a little less than half of the scheduled patients don't show up to their appointments? (also need to discard 2013 ScheduledYear information, because there's too little data for that time)"
   ]
  },
  {
   "cell_type": "markdown",
   "metadata": {},
   "source": [
    "##### (4) Let's take a look at the data by looking at how the the status is affected by the days between the scheduling and the appointment.  Are there points in time where this is more likely to occur?"
   ]
  },
  {
   "cell_type": "code",
   "execution_count": 41,
   "metadata": {},
   "outputs": [
    {
     "data": {
      "text/plain": [
       "398"
      ]
     },
     "execution_count": 41,
     "metadata": {},
     "output_type": "execute_result"
    }
   ],
   "source": [
    "max(appt.Abs_DaysBetween)\n"
   ]
  },
  {
   "cell_type": "code",
   "execution_count": 42,
   "metadata": {},
   "outputs": [
    {
     "data": {
      "text/plain": [
       "1"
      ]
     },
     "execution_count": 42,
     "metadata": {},
     "output_type": "execute_result"
    }
   ],
   "source": [
    "min(appt.Abs_DaysBetween)"
   ]
  },
  {
   "cell_type": "code",
   "execution_count": 43,
   "metadata": {},
   "outputs": [
    {
     "data": {
      "text/plain": [
       "<matplotlib.axes._subplots.AxesSubplot at 0x119089fd0>"
      ]
     },
     "execution_count": 43,
     "metadata": {},
     "output_type": "execute_result"
    },
    {
     "data": {
      "image/png": "[encoded data removed]",
      "text/plain": [
       "<matplotlib.figure.Figure at 0x118fb15f8>"
      ]
     },
     "metadata": {},
     "output_type": "display_data"
    }
   ],
   "source": [
    "fig, ax = plt.subplots()\n",
    "#remember that 0 is no-show and 1 is a show-up\n",
    "appt[appt.NumStatus==0].plot(kind='scatter', x='AppointmentMonth', y='Abs_DaysBetween', color='red', alpha=0.1, ax=ax)\n",
    "appt[appt.NumStatus==1].plot(kind='scatter', x='AppointmentMonth', y='Abs_DaysBetween', color='yellow', alpha=0.1, ax=ax)"
   ]
  },
  {
   "cell_type": "code",
   "execution_count": 44,
   "metadata": {},
   "outputs": [
    {
     "data": {
      "text/plain": [
       "<matplotlib.axes._subplots.AxesSubplot at 0x11f185ac8>"
      ]
     },
     "execution_count": 44,
     "metadata": {},
     "output_type": "execute_result"
    },
    {
     "data": {
      "image/png": "[encoded data removed]",
      "text/plain": [
       "<matplotlib.figure.Figure at 0x11d8d8080>"
      ]
     },
     "metadata": {},
     "output_type": "display_data"
    }
   ],
   "source": [
    "fig, ax = plt.subplots()\n",
    "#remember that 0 is no-show and 1 is a show-up\n",
    "appt[appt.NumStatus==0].plot(kind='scatter', x='Sms_Reminder', y='Abs_DaysBetween', color='red', alpha=0.1, ax=ax)\n",
    "appt[appt.NumStatus==1].plot(kind='scatter', x='Sms_Reminder', y='Abs_DaysBetween', color='yellow', alpha=0.1, ax=ax)"
   ]
  },
  {
   "cell_type": "code",
   "execution_count": 45,
   "metadata": {},
   "outputs": [
    {
     "data": {
      "text/plain": [
       "<matplotlib.axes._subplots.AxesSubplot at 0x120d21128>"
      ]
     },
     "execution_count": 45,
     "metadata": {},
     "output_type": "execute_result"
    },
    {
     "data": {
      "image/png": "[encoded data removed]",
      "text/plain": [
       "<matplotlib.figure.Figure at 0x120c970b8>"
      ]
     },
     "metadata": {},
     "output_type": "display_data"
    }
   ],
   "source": [
    "appt[appt.NumStatus==0].Abs_DaysBetween.hist(bins=np.arange(0,50,1), alpha=.4) #dark green, no-show\n",
    "appt[appt.NumStatus==1].Abs_DaysBetween.hist(bins=np.arange(0,50,1), alpha=.4) #light green, show-up\n"
   ]
  },
  {
   "cell_type": "markdown",
   "metadata": {},
   "source": [
    "**Observation:** So it appears that the longer the time passes between the scheduling of an appointment and the appointment date, the more likely folks are to miss their appointment. The second plot clearly shows that the text message reminders are more effective and probably encourage people to schedule these visits more frequently? The third plot shows the ratio between those who show up and those who do not. Porportionally there seems to be a greater probability of folks not showing up to their appointment the further apart the scheduled date is from the appointment date.\n"
   ]
  },
  {
   "cell_type": "markdown",
   "metadata": {
    "collapsed": true
   },
   "source": [
    "## Data Analysis:  Building a Model to Predict No-Shows"
   ]
  },
  {
   "cell_type": "markdown",
   "metadata": {
    "collapsed": true
   },
   "source": [
    "### incorporate accuracy score, classification, and confusion matrix"
   ]
  },
  {
   "cell_type": "markdown",
   "metadata": {
    "collapsed": true
   },
   "source": [
    "Given how the data is distributed when looking at it through various temporal features (scheduled hour, time between schedule and appointment, month of appointment), it appears that a SVM and a Linear Regression approach should be tried. "
   ]
  },
  {
   "cell_type": "markdown",
   "metadata": {},
   "source": [
    "Because this the dataset is so large, we will need to take a subset in order to run some of these models on less powerful computers."
   ]
  },
  {
   "cell_type": "code",
   "execution_count": 46,
   "metadata": {
    "collapsed": true
   },
   "outputs": [
    {
     "data": {
      "text/html": [
       "<div>\n",
       "<table border=\"1\" class=\"dataframe\">\n",
       "  <thead>\n",
       "    <tr style=\"text-align: right;\">\n",
       "      <th></th>\n",
       "      <th>Age</th>\n",
       "      <th>Gender</th>\n",
       "      <th>Scheduled</th>\n",
       "      <th>Appointment</th>\n",
       "      <th>DayOfTheWeek</th>\n",
       "      <th>Status</th>\n",
       "      <th>Diabetes</th>\n",
       "      <th>Alcoholism</th>\n",
       "      <th>HyperTension</th>\n",
       "      <th>Handicap</th>\n",
       "      <th>...</th>\n",
       "      <th>AppointmentDay</th>\n",
       "      <th>ScheduledDate</th>\n",
       "      <th>ScheduledTime</th>\n",
       "      <th>ScheduledYear</th>\n",
       "      <th>ScheduledMonth</th>\n",
       "      <th>ScheduledDay</th>\n",
       "      <th>ScheduledHour</th>\n",
       "      <th>ScheduledMinute</th>\n",
       "      <th>ScheduledSecond</th>\n",
       "      <th>Abs_DaysBetween</th>\n",
       "    </tr>\n",
       "  </thead>\n",
       "  <tbody>\n",
       "    <tr>\n",
       "      <th>276991</th>\n",
       "      <td>27</td>\n",
       "      <td>M</td>\n",
       "      <td>2015-08-06T09:52:24Z</td>\n",
       "      <td>2015-08-11T00:00:00Z</td>\n",
       "      <td>Tuesday</td>\n",
       "      <td>Show-Up</td>\n",
       "      <td>0</td>\n",
       "      <td>0</td>\n",
       "      <td>0</td>\n",
       "      <td>0</td>\n",
       "      <td>...</td>\n",
       "      <td>11</td>\n",
       "      <td>2015-08-06</td>\n",
       "      <td>09:52:24</td>\n",
       "      <td>2015</td>\n",
       "      <td>8</td>\n",
       "      <td>6</td>\n",
       "      <td>9</td>\n",
       "      <td>52</td>\n",
       "      <td>24</td>\n",
       "      <td>5</td>\n",
       "    </tr>\n",
       "    <tr>\n",
       "      <th>255164</th>\n",
       "      <td>15</td>\n",
       "      <td>M</td>\n",
       "      <td>2014-12-09T15:20:09Z</td>\n",
       "      <td>2014-12-10T00:00:00Z</td>\n",
       "      <td>Wednesday</td>\n",
       "      <td>Show-Up</td>\n",
       "      <td>0</td>\n",
       "      <td>0</td>\n",
       "      <td>0</td>\n",
       "      <td>0</td>\n",
       "      <td>...</td>\n",
       "      <td>10</td>\n",
       "      <td>2014-12-09</td>\n",
       "      <td>15:20:09</td>\n",
       "      <td>2014</td>\n",
       "      <td>12</td>\n",
       "      <td>9</td>\n",
       "      <td>15</td>\n",
       "      <td>20</td>\n",
       "      <td>9</td>\n",
       "      <td>1</td>\n",
       "    </tr>\n",
       "    <tr>\n",
       "      <th>137779</th>\n",
       "      <td>46</td>\n",
       "      <td>F</td>\n",
       "      <td>2015-05-13T07:11:25Z</td>\n",
       "      <td>2015-05-29T00:00:00Z</td>\n",
       "      <td>Friday</td>\n",
       "      <td>Show-Up</td>\n",
       "      <td>0</td>\n",
       "      <td>0</td>\n",
       "      <td>0</td>\n",
       "      <td>0</td>\n",
       "      <td>...</td>\n",
       "      <td>29</td>\n",
       "      <td>2015-05-13</td>\n",
       "      <td>07:11:25</td>\n",
       "      <td>2015</td>\n",
       "      <td>5</td>\n",
       "      <td>13</td>\n",
       "      <td>7</td>\n",
       "      <td>11</td>\n",
       "      <td>25</td>\n",
       "      <td>16</td>\n",
       "    </tr>\n",
       "    <tr>\n",
       "      <th>120739</th>\n",
       "      <td>55</td>\n",
       "      <td>F</td>\n",
       "      <td>2014-04-17T14:59:36Z</td>\n",
       "      <td>2014-04-29T00:00:00Z</td>\n",
       "      <td>Tuesday</td>\n",
       "      <td>Show-Up</td>\n",
       "      <td>0</td>\n",
       "      <td>0</td>\n",
       "      <td>1</td>\n",
       "      <td>0</td>\n",
       "      <td>...</td>\n",
       "      <td>29</td>\n",
       "      <td>2014-04-17</td>\n",
       "      <td>14:59:36</td>\n",
       "      <td>2014</td>\n",
       "      <td>4</td>\n",
       "      <td>17</td>\n",
       "      <td>14</td>\n",
       "      <td>59</td>\n",
       "      <td>36</td>\n",
       "      <td>12</td>\n",
       "    </tr>\n",
       "    <tr>\n",
       "      <th>294502</th>\n",
       "      <td>54</td>\n",
       "      <td>F</td>\n",
       "      <td>2014-04-15T08:49:29Z</td>\n",
       "      <td>2014-04-17T00:00:00Z</td>\n",
       "      <td>Thursday</td>\n",
       "      <td>Show-Up</td>\n",
       "      <td>0</td>\n",
       "      <td>0</td>\n",
       "      <td>1</td>\n",
       "      <td>0</td>\n",
       "      <td>...</td>\n",
       "      <td>17</td>\n",
       "      <td>2014-04-15</td>\n",
       "      <td>08:49:29</td>\n",
       "      <td>2014</td>\n",
       "      <td>4</td>\n",
       "      <td>15</td>\n",
       "      <td>8</td>\n",
       "      <td>49</td>\n",
       "      <td>29</td>\n",
       "      <td>2</td>\n",
       "    </tr>\n",
       "    <tr>\n",
       "      <th>43669</th>\n",
       "      <td>59</td>\n",
       "      <td>F</td>\n",
       "      <td>2015-04-07T09:59:53Z</td>\n",
       "      <td>2015-04-08T00:00:00Z</td>\n",
       "      <td>Wednesday</td>\n",
       "      <td>No-Show</td>\n",
       "      <td>0</td>\n",
       "      <td>0</td>\n",
       "      <td>1</td>\n",
       "      <td>0</td>\n",
       "      <td>...</td>\n",
       "      <td>8</td>\n",
       "      <td>2015-04-07</td>\n",
       "      <td>09:59:53</td>\n",
       "      <td>2015</td>\n",
       "      <td>4</td>\n",
       "      <td>7</td>\n",
       "      <td>9</td>\n",
       "      <td>59</td>\n",
       "      <td>53</td>\n",
       "      <td>1</td>\n",
       "    </tr>\n",
       "    <tr>\n",
       "      <th>195466</th>\n",
       "      <td>39</td>\n",
       "      <td>M</td>\n",
       "      <td>2014-11-06T12:42:15Z</td>\n",
       "      <td>2014-11-11T00:00:00Z</td>\n",
       "      <td>Tuesday</td>\n",
       "      <td>Show-Up</td>\n",
       "      <td>0</td>\n",
       "      <td>0</td>\n",
       "      <td>0</td>\n",
       "      <td>0</td>\n",
       "      <td>...</td>\n",
       "      <td>11</td>\n",
       "      <td>2014-11-06</td>\n",
       "      <td>12:42:15</td>\n",
       "      <td>2014</td>\n",
       "      <td>11</td>\n",
       "      <td>6</td>\n",
       "      <td>12</td>\n",
       "      <td>42</td>\n",
       "      <td>15</td>\n",
       "      <td>5</td>\n",
       "    </tr>\n",
       "    <tr>\n",
       "      <th>143453</th>\n",
       "      <td>64</td>\n",
       "      <td>F</td>\n",
       "      <td>2014-08-04T14:50:06Z</td>\n",
       "      <td>2014-08-11T00:00:00Z</td>\n",
       "      <td>Monday</td>\n",
       "      <td>Show-Up</td>\n",
       "      <td>0</td>\n",
       "      <td>0</td>\n",
       "      <td>1</td>\n",
       "      <td>0</td>\n",
       "      <td>...</td>\n",
       "      <td>11</td>\n",
       "      <td>2014-08-04</td>\n",
       "      <td>14:50:06</td>\n",
       "      <td>2014</td>\n",
       "      <td>8</td>\n",
       "      <td>4</td>\n",
       "      <td>14</td>\n",
       "      <td>50</td>\n",
       "      <td>6</td>\n",
       "      <td>7</td>\n",
       "    </tr>\n",
       "    <tr>\n",
       "      <th>93891</th>\n",
       "      <td>0</td>\n",
       "      <td>M</td>\n",
       "      <td>2015-10-15T13:23:02Z</td>\n",
       "      <td>2015-10-19T00:00:00Z</td>\n",
       "      <td>Monday</td>\n",
       "      <td>No-Show</td>\n",
       "      <td>0</td>\n",
       "      <td>0</td>\n",
       "      <td>0</td>\n",
       "      <td>0</td>\n",
       "      <td>...</td>\n",
       "      <td>19</td>\n",
       "      <td>2015-10-15</td>\n",
       "      <td>13:23:02</td>\n",
       "      <td>2015</td>\n",
       "      <td>10</td>\n",
       "      <td>15</td>\n",
       "      <td>13</td>\n",
       "      <td>23</td>\n",
       "      <td>2</td>\n",
       "      <td>4</td>\n",
       "    </tr>\n",
       "    <tr>\n",
       "      <th>45679</th>\n",
       "      <td>67</td>\n",
       "      <td>F</td>\n",
       "      <td>2013-12-30T14:32:08Z</td>\n",
       "      <td>2014-01-03T00:00:00Z</td>\n",
       "      <td>Friday</td>\n",
       "      <td>Show-Up</td>\n",
       "      <td>0</td>\n",
       "      <td>0</td>\n",
       "      <td>0</td>\n",
       "      <td>0</td>\n",
       "      <td>...</td>\n",
       "      <td>3</td>\n",
       "      <td>2013-12-30</td>\n",
       "      <td>14:32:08</td>\n",
       "      <td>2013</td>\n",
       "      <td>12</td>\n",
       "      <td>30</td>\n",
       "      <td>14</td>\n",
       "      <td>32</td>\n",
       "      <td>8</td>\n",
       "      <td>4</td>\n",
       "    </tr>\n",
       "    <tr>\n",
       "      <th>45804</th>\n",
       "      <td>39</td>\n",
       "      <td>F</td>\n",
       "      <td>2014-12-22T18:44:06Z</td>\n",
       "      <td>2015-01-26T00:00:00Z</td>\n",
       "      <td>Monday</td>\n",
       "      <td>No-Show</td>\n",
       "      <td>0</td>\n",
       "      <td>0</td>\n",
       "      <td>0</td>\n",
       "      <td>0</td>\n",
       "      <td>...</td>\n",
       "      <td>26</td>\n",
       "      <td>2014-12-22</td>\n",
       "      <td>18:44:06</td>\n",
       "      <td>2014</td>\n",
       "      <td>12</td>\n",
       "      <td>22</td>\n",
       "      <td>18</td>\n",
       "      <td>44</td>\n",
       "      <td>6</td>\n",
       "      <td>35</td>\n",
       "    </tr>\n",
       "    <tr>\n",
       "      <th>260405</th>\n",
       "      <td>49</td>\n",
       "      <td>M</td>\n",
       "      <td>2015-04-01T10:00:38Z</td>\n",
       "      <td>2015-04-06T00:00:00Z</td>\n",
       "      <td>Monday</td>\n",
       "      <td>Show-Up</td>\n",
       "      <td>0</td>\n",
       "      <td>0</td>\n",
       "      <td>0</td>\n",
       "      <td>0</td>\n",
       "      <td>...</td>\n",
       "      <td>6</td>\n",
       "      <td>2015-04-01</td>\n",
       "      <td>10:00:38</td>\n",
       "      <td>2015</td>\n",
       "      <td>4</td>\n",
       "      <td>1</td>\n",
       "      <td>10</td>\n",
       "      <td>0</td>\n",
       "      <td>38</td>\n",
       "      <td>5</td>\n",
       "    </tr>\n",
       "    <tr>\n",
       "      <th>196529</th>\n",
       "      <td>42</td>\n",
       "      <td>F</td>\n",
       "      <td>2014-01-21T13:08:33Z</td>\n",
       "      <td>2014-02-06T00:00:00Z</td>\n",
       "      <td>Thursday</td>\n",
       "      <td>No-Show</td>\n",
       "      <td>0</td>\n",
       "      <td>0</td>\n",
       "      <td>0</td>\n",
       "      <td>0</td>\n",
       "      <td>...</td>\n",
       "      <td>6</td>\n",
       "      <td>2014-01-21</td>\n",
       "      <td>13:08:33</td>\n",
       "      <td>2014</td>\n",
       "      <td>1</td>\n",
       "      <td>21</td>\n",
       "      <td>13</td>\n",
       "      <td>8</td>\n",
       "      <td>33</td>\n",
       "      <td>16</td>\n",
       "    </tr>\n",
       "    <tr>\n",
       "      <th>279335</th>\n",
       "      <td>22</td>\n",
       "      <td>F</td>\n",
       "      <td>2014-07-23T13:10:32Z</td>\n",
       "      <td>2014-07-24T00:00:00Z</td>\n",
       "      <td>Thursday</td>\n",
       "      <td>Show-Up</td>\n",
       "      <td>0</td>\n",
       "      <td>0</td>\n",
       "      <td>0</td>\n",
       "      <td>0</td>\n",
       "      <td>...</td>\n",
       "      <td>24</td>\n",
       "      <td>2014-07-23</td>\n",
       "      <td>13:10:32</td>\n",
       "      <td>2014</td>\n",
       "      <td>7</td>\n",
       "      <td>23</td>\n",
       "      <td>13</td>\n",
       "      <td>10</td>\n",
       "      <td>32</td>\n",
       "      <td>1</td>\n",
       "    </tr>\n",
       "    <tr>\n",
       "      <th>14393</th>\n",
       "      <td>50</td>\n",
       "      <td>F</td>\n",
       "      <td>2015-02-12T10:25:07Z</td>\n",
       "      <td>2015-07-24T00:00:00Z</td>\n",
       "      <td>Friday</td>\n",
       "      <td>Show-Up</td>\n",
       "      <td>1</td>\n",
       "      <td>0</td>\n",
       "      <td>0</td>\n",
       "      <td>0</td>\n",
       "      <td>...</td>\n",
       "      <td>24</td>\n",
       "      <td>2015-02-12</td>\n",
       "      <td>10:25:07</td>\n",
       "      <td>2015</td>\n",
       "      <td>2</td>\n",
       "      <td>12</td>\n",
       "      <td>10</td>\n",
       "      <td>25</td>\n",
       "      <td>7</td>\n",
       "      <td>162</td>\n",
       "    </tr>\n",
       "    <tr>\n",
       "      <th>184501</th>\n",
       "      <td>30</td>\n",
       "      <td>M</td>\n",
       "      <td>2015-06-03T13:57:50Z</td>\n",
       "      <td>2015-06-24T00:00:00Z</td>\n",
       "      <td>Wednesday</td>\n",
       "      <td>Show-Up</td>\n",
       "      <td>0</td>\n",
       "      <td>0</td>\n",
       "      <td>0</td>\n",
       "      <td>0</td>\n",
       "      <td>...</td>\n",
       "      <td>24</td>\n",
       "      <td>2015-06-03</td>\n",
       "      <td>13:57:50</td>\n",
       "      <td>2015</td>\n",
       "      <td>6</td>\n",
       "      <td>3</td>\n",
       "      <td>13</td>\n",
       "      <td>57</td>\n",
       "      <td>50</td>\n",
       "      <td>21</td>\n",
       "    </tr>\n",
       "    <tr>\n",
       "      <th>113825</th>\n",
       "      <td>9</td>\n",
       "      <td>F</td>\n",
       "      <td>2014-02-24T08:16:22Z</td>\n",
       "      <td>2014-03-07T00:00:00Z</td>\n",
       "      <td>Friday</td>\n",
       "      <td>Show-Up</td>\n",
       "      <td>0</td>\n",
       "      <td>0</td>\n",
       "      <td>0</td>\n",
       "      <td>0</td>\n",
       "      <td>...</td>\n",
       "      <td>7</td>\n",
       "      <td>2014-02-24</td>\n",
       "      <td>08:16:22</td>\n",
       "      <td>2014</td>\n",
       "      <td>2</td>\n",
       "      <td>24</td>\n",
       "      <td>8</td>\n",
       "      <td>16</td>\n",
       "      <td>22</td>\n",
       "      <td>11</td>\n",
       "    </tr>\n",
       "    <tr>\n",
       "      <th>9377</th>\n",
       "      <td>79</td>\n",
       "      <td>F</td>\n",
       "      <td>2014-11-05T09:56:22Z</td>\n",
       "      <td>2014-11-07T00:00:00Z</td>\n",
       "      <td>Friday</td>\n",
       "      <td>Show-Up</td>\n",
       "      <td>1</td>\n",
       "      <td>0</td>\n",
       "      <td>1</td>\n",
       "      <td>0</td>\n",
       "      <td>...</td>\n",
       "      <td>7</td>\n",
       "      <td>2014-11-05</td>\n",
       "      <td>09:56:22</td>\n",
       "      <td>2014</td>\n",
       "      <td>11</td>\n",
       "      <td>5</td>\n",
       "      <td>9</td>\n",
       "      <td>56</td>\n",
       "      <td>22</td>\n",
       "      <td>2</td>\n",
       "    </tr>\n",
       "    <tr>\n",
       "      <th>283307</th>\n",
       "      <td>34</td>\n",
       "      <td>F</td>\n",
       "      <td>2014-07-16T07:45:00Z</td>\n",
       "      <td>2014-07-22T00:00:00Z</td>\n",
       "      <td>Tuesday</td>\n",
       "      <td>No-Show</td>\n",
       "      <td>0</td>\n",
       "      <td>0</td>\n",
       "      <td>0</td>\n",
       "      <td>0</td>\n",
       "      <td>...</td>\n",
       "      <td>22</td>\n",
       "      <td>2014-07-16</td>\n",
       "      <td>07:45:00</td>\n",
       "      <td>2014</td>\n",
       "      <td>7</td>\n",
       "      <td>16</td>\n",
       "      <td>7</td>\n",
       "      <td>45</td>\n",
       "      <td>0</td>\n",
       "      <td>6</td>\n",
       "    </tr>\n",
       "    <tr>\n",
       "      <th>295277</th>\n",
       "      <td>51</td>\n",
       "      <td>F</td>\n",
       "      <td>2015-11-11T14:38:14Z</td>\n",
       "      <td>2015-11-23T00:00:00Z</td>\n",
       "      <td>Monday</td>\n",
       "      <td>Show-Up</td>\n",
       "      <td>0</td>\n",
       "      <td>0</td>\n",
       "      <td>1</td>\n",
       "      <td>0</td>\n",
       "      <td>...</td>\n",
       "      <td>23</td>\n",
       "      <td>2015-11-11</td>\n",
       "      <td>14:38:14</td>\n",
       "      <td>2015</td>\n",
       "      <td>11</td>\n",
       "      <td>11</td>\n",
       "      <td>14</td>\n",
       "      <td>38</td>\n",
       "      <td>14</td>\n",
       "      <td>12</td>\n",
       "    </tr>\n",
       "    <tr>\n",
       "      <th>39960</th>\n",
       "      <td>10</td>\n",
       "      <td>F</td>\n",
       "      <td>2015-09-28T08:36:27Z</td>\n",
       "      <td>2015-10-20T00:00:00Z</td>\n",
       "      <td>Tuesday</td>\n",
       "      <td>No-Show</td>\n",
       "      <td>0</td>\n",
       "      <td>0</td>\n",
       "      <td>0</td>\n",
       "      <td>0</td>\n",
       "      <td>...</td>\n",
       "      <td>20</td>\n",
       "      <td>2015-09-28</td>\n",
       "      <td>08:36:27</td>\n",
       "      <td>2015</td>\n",
       "      <td>9</td>\n",
       "      <td>28</td>\n",
       "      <td>8</td>\n",
       "      <td>36</td>\n",
       "      <td>27</td>\n",
       "      <td>22</td>\n",
       "    </tr>\n",
       "    <tr>\n",
       "      <th>65649</th>\n",
       "      <td>42</td>\n",
       "      <td>F</td>\n",
       "      <td>2014-12-10T07:55:56Z</td>\n",
       "      <td>2014-12-16T00:00:00Z</td>\n",
       "      <td>Tuesday</td>\n",
       "      <td>Show-Up</td>\n",
       "      <td>0</td>\n",
       "      <td>0</td>\n",
       "      <td>0</td>\n",
       "      <td>0</td>\n",
       "      <td>...</td>\n",
       "      <td>16</td>\n",
       "      <td>2014-12-10</td>\n",
       "      <td>07:55:56</td>\n",
       "      <td>2014</td>\n",
       "      <td>12</td>\n",
       "      <td>10</td>\n",
       "      <td>7</td>\n",
       "      <td>55</td>\n",
       "      <td>56</td>\n",
       "      <td>6</td>\n",
       "    </tr>\n",
       "    <tr>\n",
       "      <th>236361</th>\n",
       "      <td>44</td>\n",
       "      <td>F</td>\n",
       "      <td>2014-12-12T10:05:24Z</td>\n",
       "      <td>2014-12-19T00:00:00Z</td>\n",
       "      <td>Friday</td>\n",
       "      <td>Show-Up</td>\n",
       "      <td>0</td>\n",
       "      <td>0</td>\n",
       "      <td>0</td>\n",
       "      <td>0</td>\n",
       "      <td>...</td>\n",
       "      <td>19</td>\n",
       "      <td>2014-12-12</td>\n",
       "      <td>10:05:24</td>\n",
       "      <td>2014</td>\n",
       "      <td>12</td>\n",
       "      <td>12</td>\n",
       "      <td>10</td>\n",
       "      <td>5</td>\n",
       "      <td>24</td>\n",
       "      <td>7</td>\n",
       "    </tr>\n",
       "    <tr>\n",
       "      <th>72576</th>\n",
       "      <td>0</td>\n",
       "      <td>F</td>\n",
       "      <td>2015-04-27T11:57:46Z</td>\n",
       "      <td>2015-05-25T00:00:00Z</td>\n",
       "      <td>Monday</td>\n",
       "      <td>Show-Up</td>\n",
       "      <td>0</td>\n",
       "      <td>0</td>\n",
       "      <td>0</td>\n",
       "      <td>0</td>\n",
       "      <td>...</td>\n",
       "      <td>25</td>\n",
       "      <td>2015-04-27</td>\n",
       "      <td>11:57:46</td>\n",
       "      <td>2015</td>\n",
       "      <td>4</td>\n",
       "      <td>27</td>\n",
       "      <td>11</td>\n",
       "      <td>57</td>\n",
       "      <td>46</td>\n",
       "      <td>28</td>\n",
       "    </tr>\n",
       "    <tr>\n",
       "      <th>201981</th>\n",
       "      <td>35</td>\n",
       "      <td>F</td>\n",
       "      <td>2014-10-28T07:36:24Z</td>\n",
       "      <td>2014-11-07T00:00:00Z</td>\n",
       "      <td>Friday</td>\n",
       "      <td>Show-Up</td>\n",
       "      <td>0</td>\n",
       "      <td>0</td>\n",
       "      <td>0</td>\n",
       "      <td>0</td>\n",
       "      <td>...</td>\n",
       "      <td>7</td>\n",
       "      <td>2014-10-28</td>\n",
       "      <td>07:36:24</td>\n",
       "      <td>2014</td>\n",
       "      <td>10</td>\n",
       "      <td>28</td>\n",
       "      <td>7</td>\n",
       "      <td>36</td>\n",
       "      <td>24</td>\n",
       "      <td>10</td>\n",
       "    </tr>\n",
       "    <tr>\n",
       "      <th>232816</th>\n",
       "      <td>56</td>\n",
       "      <td>F</td>\n",
       "      <td>2014-12-05T15:19:24Z</td>\n",
       "      <td>2014-12-09T00:00:00Z</td>\n",
       "      <td>Tuesday</td>\n",
       "      <td>Show-Up</td>\n",
       "      <td>0</td>\n",
       "      <td>0</td>\n",
       "      <td>0</td>\n",
       "      <td>0</td>\n",
       "      <td>...</td>\n",
       "      <td>9</td>\n",
       "      <td>2014-12-05</td>\n",
       "      <td>15:19:24</td>\n",
       "      <td>2014</td>\n",
       "      <td>12</td>\n",
       "      <td>5</td>\n",
       "      <td>15</td>\n",
       "      <td>19</td>\n",
       "      <td>24</td>\n",
       "      <td>4</td>\n",
       "    </tr>\n",
       "    <tr>\n",
       "      <th>271141</th>\n",
       "      <td>55</td>\n",
       "      <td>F</td>\n",
       "      <td>2014-07-16T07:45:09Z</td>\n",
       "      <td>2014-07-17T00:00:00Z</td>\n",
       "      <td>Thursday</td>\n",
       "      <td>No-Show</td>\n",
       "      <td>1</td>\n",
       "      <td>0</td>\n",
       "      <td>1</td>\n",
       "      <td>0</td>\n",
       "      <td>...</td>\n",
       "      <td>17</td>\n",
       "      <td>2014-07-16</td>\n",
       "      <td>07:45:09</td>\n",
       "      <td>2014</td>\n",
       "      <td>7</td>\n",
       "      <td>16</td>\n",
       "      <td>7</td>\n",
       "      <td>45</td>\n",
       "      <td>9</td>\n",
       "      <td>1</td>\n",
       "    </tr>\n",
       "    <tr>\n",
       "      <th>184382</th>\n",
       "      <td>59</td>\n",
       "      <td>F</td>\n",
       "      <td>2014-02-17T07:51:17Z</td>\n",
       "      <td>2014-03-14T00:00:00Z</td>\n",
       "      <td>Friday</td>\n",
       "      <td>Show-Up</td>\n",
       "      <td>0</td>\n",
       "      <td>0</td>\n",
       "      <td>0</td>\n",
       "      <td>0</td>\n",
       "      <td>...</td>\n",
       "      <td>14</td>\n",
       "      <td>2014-02-17</td>\n",
       "      <td>07:51:17</td>\n",
       "      <td>2014</td>\n",
       "      <td>2</td>\n",
       "      <td>17</td>\n",
       "      <td>7</td>\n",
       "      <td>51</td>\n",
       "      <td>17</td>\n",
       "      <td>25</td>\n",
       "    </tr>\n",
       "    <tr>\n",
       "      <th>152713</th>\n",
       "      <td>62</td>\n",
       "      <td>F</td>\n",
       "      <td>2015-03-04T16:07:54Z</td>\n",
       "      <td>2015-04-02T00:00:00Z</td>\n",
       "      <td>Thursday</td>\n",
       "      <td>No-Show</td>\n",
       "      <td>1</td>\n",
       "      <td>0</td>\n",
       "      <td>1</td>\n",
       "      <td>0</td>\n",
       "      <td>...</td>\n",
       "      <td>2</td>\n",
       "      <td>2015-03-04</td>\n",
       "      <td>16:07:54</td>\n",
       "      <td>2015</td>\n",
       "      <td>3</td>\n",
       "      <td>4</td>\n",
       "      <td>16</td>\n",
       "      <td>7</td>\n",
       "      <td>54</td>\n",
       "      <td>29</td>\n",
       "    </tr>\n",
       "    <tr>\n",
       "      <th>22216</th>\n",
       "      <td>37</td>\n",
       "      <td>M</td>\n",
       "      <td>2014-09-29T09:33:01Z</td>\n",
       "      <td>2014-10-15T00:00:00Z</td>\n",
       "      <td>Wednesday</td>\n",
       "      <td>Show-Up</td>\n",
       "      <td>0</td>\n",
       "      <td>0</td>\n",
       "      <td>0</td>\n",
       "      <td>0</td>\n",
       "      <td>...</td>\n",
       "      <td>15</td>\n",
       "      <td>2014-09-29</td>\n",
       "      <td>09:33:01</td>\n",
       "      <td>2014</td>\n",
       "      <td>9</td>\n",
       "      <td>29</td>\n",
       "      <td>9</td>\n",
       "      <td>33</td>\n",
       "      <td>1</td>\n",
       "      <td>16</td>\n",
       "    </tr>\n",
       "    <tr>\n",
       "      <th>...</th>\n",
       "      <td>...</td>\n",
       "      <td>...</td>\n",
       "      <td>...</td>\n",
       "      <td>...</td>\n",
       "      <td>...</td>\n",
       "      <td>...</td>\n",
       "      <td>...</td>\n",
       "      <td>...</td>\n",
       "      <td>...</td>\n",
       "      <td>...</td>\n",
       "      <td>...</td>\n",
       "      <td>...</td>\n",
       "      <td>...</td>\n",
       "      <td>...</td>\n",
       "      <td>...</td>\n",
       "      <td>...</td>\n",
       "      <td>...</td>\n",
       "      <td>...</td>\n",
       "      <td>...</td>\n",
       "      <td>...</td>\n",
       "      <td>...</td>\n",
       "    </tr>\n",
       "    <tr>\n",
       "      <th>241751</th>\n",
       "      <td>16</td>\n",
       "      <td>F</td>\n",
       "      <td>2014-03-24T11:40:22Z</td>\n",
       "      <td>2014-03-26T00:00:00Z</td>\n",
       "      <td>Wednesday</td>\n",
       "      <td>No-Show</td>\n",
       "      <td>0</td>\n",
       "      <td>0</td>\n",
       "      <td>0</td>\n",
       "      <td>0</td>\n",
       "      <td>...</td>\n",
       "      <td>26</td>\n",
       "      <td>2014-03-24</td>\n",
       "      <td>11:40:22</td>\n",
       "      <td>2014</td>\n",
       "      <td>3</td>\n",
       "      <td>24</td>\n",
       "      <td>11</td>\n",
       "      <td>40</td>\n",
       "      <td>22</td>\n",
       "      <td>2</td>\n",
       "    </tr>\n",
       "    <tr>\n",
       "      <th>223370</th>\n",
       "      <td>25</td>\n",
       "      <td>F</td>\n",
       "      <td>2014-02-25T07:45:29Z</td>\n",
       "      <td>2014-03-18T00:00:00Z</td>\n",
       "      <td>Tuesday</td>\n",
       "      <td>Show-Up</td>\n",
       "      <td>0</td>\n",
       "      <td>0</td>\n",
       "      <td>0</td>\n",
       "      <td>0</td>\n",
       "      <td>...</td>\n",
       "      <td>18</td>\n",
       "      <td>2014-02-25</td>\n",
       "      <td>07:45:29</td>\n",
       "      <td>2014</td>\n",
       "      <td>2</td>\n",
       "      <td>25</td>\n",
       "      <td>7</td>\n",
       "      <td>45</td>\n",
       "      <td>29</td>\n",
       "      <td>21</td>\n",
       "    </tr>\n",
       "    <tr>\n",
       "      <th>186011</th>\n",
       "      <td>55</td>\n",
       "      <td>F</td>\n",
       "      <td>2014-03-19T14:53:25Z</td>\n",
       "      <td>2014-03-20T00:00:00Z</td>\n",
       "      <td>Thursday</td>\n",
       "      <td>Show-Up</td>\n",
       "      <td>0</td>\n",
       "      <td>0</td>\n",
       "      <td>1</td>\n",
       "      <td>0</td>\n",
       "      <td>...</td>\n",
       "      <td>20</td>\n",
       "      <td>2014-03-19</td>\n",
       "      <td>14:53:25</td>\n",
       "      <td>2014</td>\n",
       "      <td>3</td>\n",
       "      <td>19</td>\n",
       "      <td>14</td>\n",
       "      <td>53</td>\n",
       "      <td>25</td>\n",
       "      <td>1</td>\n",
       "    </tr>\n",
       "    <tr>\n",
       "      <th>180789</th>\n",
       "      <td>13</td>\n",
       "      <td>F</td>\n",
       "      <td>2015-03-03T09:42:10Z</td>\n",
       "      <td>2015-03-05T00:00:00Z</td>\n",
       "      <td>Thursday</td>\n",
       "      <td>Show-Up</td>\n",
       "      <td>0</td>\n",
       "      <td>0</td>\n",
       "      <td>0</td>\n",
       "      <td>0</td>\n",
       "      <td>...</td>\n",
       "      <td>5</td>\n",
       "      <td>2015-03-03</td>\n",
       "      <td>09:42:10</td>\n",
       "      <td>2015</td>\n",
       "      <td>3</td>\n",
       "      <td>3</td>\n",
       "      <td>9</td>\n",
       "      <td>42</td>\n",
       "      <td>10</td>\n",
       "      <td>2</td>\n",
       "    </tr>\n",
       "    <tr>\n",
       "      <th>281097</th>\n",
       "      <td>65</td>\n",
       "      <td>F</td>\n",
       "      <td>2015-09-14T07:48:45Z</td>\n",
       "      <td>2015-09-18T00:00:00Z</td>\n",
       "      <td>Friday</td>\n",
       "      <td>Show-Up</td>\n",
       "      <td>1</td>\n",
       "      <td>0</td>\n",
       "      <td>1</td>\n",
       "      <td>0</td>\n",
       "      <td>...</td>\n",
       "      <td>18</td>\n",
       "      <td>2015-09-14</td>\n",
       "      <td>07:48:45</td>\n",
       "      <td>2015</td>\n",
       "      <td>9</td>\n",
       "      <td>14</td>\n",
       "      <td>7</td>\n",
       "      <td>48</td>\n",
       "      <td>45</td>\n",
       "      <td>4</td>\n",
       "    </tr>\n",
       "    <tr>\n",
       "      <th>204713</th>\n",
       "      <td>25</td>\n",
       "      <td>F</td>\n",
       "      <td>2014-02-07T14:46:08Z</td>\n",
       "      <td>2014-02-17T00:00:00Z</td>\n",
       "      <td>Monday</td>\n",
       "      <td>Show-Up</td>\n",
       "      <td>0</td>\n",
       "      <td>0</td>\n",
       "      <td>0</td>\n",
       "      <td>0</td>\n",
       "      <td>...</td>\n",
       "      <td>17</td>\n",
       "      <td>2014-02-07</td>\n",
       "      <td>14:46:08</td>\n",
       "      <td>2014</td>\n",
       "      <td>2</td>\n",
       "      <td>7</td>\n",
       "      <td>14</td>\n",
       "      <td>46</td>\n",
       "      <td>8</td>\n",
       "      <td>10</td>\n",
       "    </tr>\n",
       "    <tr>\n",
       "      <th>169470</th>\n",
       "      <td>16</td>\n",
       "      <td>M</td>\n",
       "      <td>2014-02-12T08:00:53Z</td>\n",
       "      <td>2014-02-20T00:00:00Z</td>\n",
       "      <td>Thursday</td>\n",
       "      <td>Show-Up</td>\n",
       "      <td>0</td>\n",
       "      <td>0</td>\n",
       "      <td>0</td>\n",
       "      <td>0</td>\n",
       "      <td>...</td>\n",
       "      <td>20</td>\n",
       "      <td>2014-02-12</td>\n",
       "      <td>08:00:53</td>\n",
       "      <td>2014</td>\n",
       "      <td>2</td>\n",
       "      <td>12</td>\n",
       "      <td>8</td>\n",
       "      <td>0</td>\n",
       "      <td>53</td>\n",
       "      <td>8</td>\n",
       "    </tr>\n",
       "    <tr>\n",
       "      <th>17467</th>\n",
       "      <td>1</td>\n",
       "      <td>M</td>\n",
       "      <td>2015-02-10T10:37:21Z</td>\n",
       "      <td>2015-03-05T00:00:00Z</td>\n",
       "      <td>Thursday</td>\n",
       "      <td>No-Show</td>\n",
       "      <td>0</td>\n",
       "      <td>0</td>\n",
       "      <td>0</td>\n",
       "      <td>0</td>\n",
       "      <td>...</td>\n",
       "      <td>5</td>\n",
       "      <td>2015-02-10</td>\n",
       "      <td>10:37:21</td>\n",
       "      <td>2015</td>\n",
       "      <td>2</td>\n",
       "      <td>10</td>\n",
       "      <td>10</td>\n",
       "      <td>37</td>\n",
       "      <td>21</td>\n",
       "      <td>23</td>\n",
       "    </tr>\n",
       "    <tr>\n",
       "      <th>228869</th>\n",
       "      <td>38</td>\n",
       "      <td>M</td>\n",
       "      <td>2015-11-11T12:17:20Z</td>\n",
       "      <td>2015-12-07T00:00:00Z</td>\n",
       "      <td>Monday</td>\n",
       "      <td>No-Show</td>\n",
       "      <td>0</td>\n",
       "      <td>0</td>\n",
       "      <td>0</td>\n",
       "      <td>0</td>\n",
       "      <td>...</td>\n",
       "      <td>7</td>\n",
       "      <td>2015-11-11</td>\n",
       "      <td>12:17:20</td>\n",
       "      <td>2015</td>\n",
       "      <td>11</td>\n",
       "      <td>11</td>\n",
       "      <td>12</td>\n",
       "      <td>17</td>\n",
       "      <td>20</td>\n",
       "      <td>26</td>\n",
       "    </tr>\n",
       "    <tr>\n",
       "      <th>42078</th>\n",
       "      <td>42</td>\n",
       "      <td>M</td>\n",
       "      <td>2014-07-28T11:01:19Z</td>\n",
       "      <td>2014-07-30T00:00:00Z</td>\n",
       "      <td>Wednesday</td>\n",
       "      <td>Show-Up</td>\n",
       "      <td>0</td>\n",
       "      <td>0</td>\n",
       "      <td>0</td>\n",
       "      <td>0</td>\n",
       "      <td>...</td>\n",
       "      <td>30</td>\n",
       "      <td>2014-07-28</td>\n",
       "      <td>11:01:19</td>\n",
       "      <td>2014</td>\n",
       "      <td>7</td>\n",
       "      <td>28</td>\n",
       "      <td>11</td>\n",
       "      <td>1</td>\n",
       "      <td>19</td>\n",
       "      <td>2</td>\n",
       "    </tr>\n",
       "    <tr>\n",
       "      <th>11170</th>\n",
       "      <td>46</td>\n",
       "      <td>M</td>\n",
       "      <td>2014-01-20T10:44:03Z</td>\n",
       "      <td>2014-01-21T00:00:00Z</td>\n",
       "      <td>Tuesday</td>\n",
       "      <td>No-Show</td>\n",
       "      <td>0</td>\n",
       "      <td>0</td>\n",
       "      <td>0</td>\n",
       "      <td>0</td>\n",
       "      <td>...</td>\n",
       "      <td>21</td>\n",
       "      <td>2014-01-20</td>\n",
       "      <td>10:44:03</td>\n",
       "      <td>2014</td>\n",
       "      <td>1</td>\n",
       "      <td>20</td>\n",
       "      <td>10</td>\n",
       "      <td>44</td>\n",
       "      <td>3</td>\n",
       "      <td>1</td>\n",
       "    </tr>\n",
       "    <tr>\n",
       "      <th>233041</th>\n",
       "      <td>48</td>\n",
       "      <td>F</td>\n",
       "      <td>2015-01-07T07:11:13Z</td>\n",
       "      <td>2015-01-19T00:00:00Z</td>\n",
       "      <td>Monday</td>\n",
       "      <td>Show-Up</td>\n",
       "      <td>0</td>\n",
       "      <td>0</td>\n",
       "      <td>0</td>\n",
       "      <td>0</td>\n",
       "      <td>...</td>\n",
       "      <td>19</td>\n",
       "      <td>2015-01-07</td>\n",
       "      <td>07:11:13</td>\n",
       "      <td>2015</td>\n",
       "      <td>1</td>\n",
       "      <td>7</td>\n",
       "      <td>7</td>\n",
       "      <td>11</td>\n",
       "      <td>13</td>\n",
       "      <td>12</td>\n",
       "    </tr>\n",
       "    <tr>\n",
       "      <th>103193</th>\n",
       "      <td>0</td>\n",
       "      <td>M</td>\n",
       "      <td>2015-06-19T11:26:03Z</td>\n",
       "      <td>2015-06-24T00:00:00Z</td>\n",
       "      <td>Wednesday</td>\n",
       "      <td>Show-Up</td>\n",
       "      <td>0</td>\n",
       "      <td>0</td>\n",
       "      <td>0</td>\n",
       "      <td>0</td>\n",
       "      <td>...</td>\n",
       "      <td>24</td>\n",
       "      <td>2015-06-19</td>\n",
       "      <td>11:26:03</td>\n",
       "      <td>2015</td>\n",
       "      <td>6</td>\n",
       "      <td>19</td>\n",
       "      <td>11</td>\n",
       "      <td>26</td>\n",
       "      <td>3</td>\n",
       "      <td>5</td>\n",
       "    </tr>\n",
       "    <tr>\n",
       "      <th>250154</th>\n",
       "      <td>4</td>\n",
       "      <td>M</td>\n",
       "      <td>2015-09-29T11:17:15Z</td>\n",
       "      <td>2015-10-13T00:00:00Z</td>\n",
       "      <td>Tuesday</td>\n",
       "      <td>Show-Up</td>\n",
       "      <td>0</td>\n",
       "      <td>0</td>\n",
       "      <td>0</td>\n",
       "      <td>0</td>\n",
       "      <td>...</td>\n",
       "      <td>13</td>\n",
       "      <td>2015-09-29</td>\n",
       "      <td>11:17:15</td>\n",
       "      <td>2015</td>\n",
       "      <td>9</td>\n",
       "      <td>29</td>\n",
       "      <td>11</td>\n",
       "      <td>17</td>\n",
       "      <td>15</td>\n",
       "      <td>14</td>\n",
       "    </tr>\n",
       "    <tr>\n",
       "      <th>167450</th>\n",
       "      <td>35</td>\n",
       "      <td>F</td>\n",
       "      <td>2015-06-10T13:14:24Z</td>\n",
       "      <td>2015-06-11T00:00:00Z</td>\n",
       "      <td>Thursday</td>\n",
       "      <td>Show-Up</td>\n",
       "      <td>0</td>\n",
       "      <td>0</td>\n",
       "      <td>0</td>\n",
       "      <td>0</td>\n",
       "      <td>...</td>\n",
       "      <td>11</td>\n",
       "      <td>2015-06-10</td>\n",
       "      <td>13:14:24</td>\n",
       "      <td>2015</td>\n",
       "      <td>6</td>\n",
       "      <td>10</td>\n",
       "      <td>13</td>\n",
       "      <td>14</td>\n",
       "      <td>24</td>\n",
       "      <td>1</td>\n",
       "    </tr>\n",
       "    <tr>\n",
       "      <th>152774</th>\n",
       "      <td>68</td>\n",
       "      <td>F</td>\n",
       "      <td>2014-10-16T17:07:11Z</td>\n",
       "      <td>2014-10-20T00:00:00Z</td>\n",
       "      <td>Monday</td>\n",
       "      <td>Show-Up</td>\n",
       "      <td>0</td>\n",
       "      <td>0</td>\n",
       "      <td>0</td>\n",
       "      <td>0</td>\n",
       "      <td>...</td>\n",
       "      <td>20</td>\n",
       "      <td>2014-10-16</td>\n",
       "      <td>17:07:11</td>\n",
       "      <td>2014</td>\n",
       "      <td>10</td>\n",
       "      <td>16</td>\n",
       "      <td>17</td>\n",
       "      <td>7</td>\n",
       "      <td>11</td>\n",
       "      <td>4</td>\n",
       "    </tr>\n",
       "    <tr>\n",
       "      <th>2029</th>\n",
       "      <td>6</td>\n",
       "      <td>F</td>\n",
       "      <td>2014-05-26T11:33:18Z</td>\n",
       "      <td>2014-06-25T00:00:00Z</td>\n",
       "      <td>Wednesday</td>\n",
       "      <td>No-Show</td>\n",
       "      <td>0</td>\n",
       "      <td>0</td>\n",
       "      <td>0</td>\n",
       "      <td>0</td>\n",
       "      <td>...</td>\n",
       "      <td>25</td>\n",
       "      <td>2014-05-26</td>\n",
       "      <td>11:33:18</td>\n",
       "      <td>2014</td>\n",
       "      <td>5</td>\n",
       "      <td>26</td>\n",
       "      <td>11</td>\n",
       "      <td>33</td>\n",
       "      <td>18</td>\n",
       "      <td>30</td>\n",
       "    </tr>\n",
       "    <tr>\n",
       "      <th>297056</th>\n",
       "      <td>52</td>\n",
       "      <td>F</td>\n",
       "      <td>2015-09-16T09:15:16Z</td>\n",
       "      <td>2015-09-28T00:00:00Z</td>\n",
       "      <td>Monday</td>\n",
       "      <td>Show-Up</td>\n",
       "      <td>1</td>\n",
       "      <td>0</td>\n",
       "      <td>1</td>\n",
       "      <td>0</td>\n",
       "      <td>...</td>\n",
       "      <td>28</td>\n",
       "      <td>2015-09-16</td>\n",
       "      <td>09:15:16</td>\n",
       "      <td>2015</td>\n",
       "      <td>9</td>\n",
       "      <td>16</td>\n",
       "      <td>9</td>\n",
       "      <td>15</td>\n",
       "      <td>16</td>\n",
       "      <td>12</td>\n",
       "    </tr>\n",
       "    <tr>\n",
       "      <th>11598</th>\n",
       "      <td>15</td>\n",
       "      <td>F</td>\n",
       "      <td>2014-04-09T14:24:51Z</td>\n",
       "      <td>2014-05-08T00:00:00Z</td>\n",
       "      <td>Thursday</td>\n",
       "      <td>No-Show</td>\n",
       "      <td>0</td>\n",
       "      <td>0</td>\n",
       "      <td>0</td>\n",
       "      <td>0</td>\n",
       "      <td>...</td>\n",
       "      <td>8</td>\n",
       "      <td>2014-04-09</td>\n",
       "      <td>14:24:51</td>\n",
       "      <td>2014</td>\n",
       "      <td>4</td>\n",
       "      <td>9</td>\n",
       "      <td>14</td>\n",
       "      <td>24</td>\n",
       "      <td>51</td>\n",
       "      <td>29</td>\n",
       "    </tr>\n",
       "    <tr>\n",
       "      <th>193504</th>\n",
       "      <td>44</td>\n",
       "      <td>F</td>\n",
       "      <td>2014-02-11T15:11:42Z</td>\n",
       "      <td>2014-02-12T00:00:00Z</td>\n",
       "      <td>Wednesday</td>\n",
       "      <td>Show-Up</td>\n",
       "      <td>0</td>\n",
       "      <td>0</td>\n",
       "      <td>1</td>\n",
       "      <td>0</td>\n",
       "      <td>...</td>\n",
       "      <td>12</td>\n",
       "      <td>2014-02-11</td>\n",
       "      <td>15:11:42</td>\n",
       "      <td>2014</td>\n",
       "      <td>2</td>\n",
       "      <td>11</td>\n",
       "      <td>15</td>\n",
       "      <td>11</td>\n",
       "      <td>42</td>\n",
       "      <td>1</td>\n",
       "    </tr>\n",
       "    <tr>\n",
       "      <th>267472</th>\n",
       "      <td>0</td>\n",
       "      <td>F</td>\n",
       "      <td>2014-06-12T07:31:46Z</td>\n",
       "      <td>2014-06-16T00:00:00Z</td>\n",
       "      <td>Monday</td>\n",
       "      <td>Show-Up</td>\n",
       "      <td>0</td>\n",
       "      <td>0</td>\n",
       "      <td>0</td>\n",
       "      <td>0</td>\n",
       "      <td>...</td>\n",
       "      <td>16</td>\n",
       "      <td>2014-06-12</td>\n",
       "      <td>07:31:46</td>\n",
       "      <td>2014</td>\n",
       "      <td>6</td>\n",
       "      <td>12</td>\n",
       "      <td>7</td>\n",
       "      <td>31</td>\n",
       "      <td>46</td>\n",
       "      <td>4</td>\n",
       "    </tr>\n",
       "    <tr>\n",
       "      <th>96307</th>\n",
       "      <td>10</td>\n",
       "      <td>M</td>\n",
       "      <td>2015-04-01T11:54:43Z</td>\n",
       "      <td>2015-04-07T00:00:00Z</td>\n",
       "      <td>Tuesday</td>\n",
       "      <td>Show-Up</td>\n",
       "      <td>0</td>\n",
       "      <td>0</td>\n",
       "      <td>0</td>\n",
       "      <td>0</td>\n",
       "      <td>...</td>\n",
       "      <td>7</td>\n",
       "      <td>2015-04-01</td>\n",
       "      <td>11:54:43</td>\n",
       "      <td>2015</td>\n",
       "      <td>4</td>\n",
       "      <td>1</td>\n",
       "      <td>11</td>\n",
       "      <td>54</td>\n",
       "      <td>43</td>\n",
       "      <td>6</td>\n",
       "    </tr>\n",
       "    <tr>\n",
       "      <th>101318</th>\n",
       "      <td>30</td>\n",
       "      <td>F</td>\n",
       "      <td>2014-02-10T09:14:11Z</td>\n",
       "      <td>2014-02-12T00:00:00Z</td>\n",
       "      <td>Wednesday</td>\n",
       "      <td>Show-Up</td>\n",
       "      <td>0</td>\n",
       "      <td>0</td>\n",
       "      <td>0</td>\n",
       "      <td>0</td>\n",
       "      <td>...</td>\n",
       "      <td>12</td>\n",
       "      <td>2014-02-10</td>\n",
       "      <td>09:14:11</td>\n",
       "      <td>2014</td>\n",
       "      <td>2</td>\n",
       "      <td>10</td>\n",
       "      <td>9</td>\n",
       "      <td>14</td>\n",
       "      <td>11</td>\n",
       "      <td>2</td>\n",
       "    </tr>\n",
       "    <tr>\n",
       "      <th>185581</th>\n",
       "      <td>54</td>\n",
       "      <td>F</td>\n",
       "      <td>2014-01-09T14:16:26Z</td>\n",
       "      <td>2014-02-04T00:00:00Z</td>\n",
       "      <td>Tuesday</td>\n",
       "      <td>Show-Up</td>\n",
       "      <td>0</td>\n",
       "      <td>0</td>\n",
       "      <td>0</td>\n",
       "      <td>0</td>\n",
       "      <td>...</td>\n",
       "      <td>4</td>\n",
       "      <td>2014-01-09</td>\n",
       "      <td>14:16:26</td>\n",
       "      <td>2014</td>\n",
       "      <td>1</td>\n",
       "      <td>9</td>\n",
       "      <td>14</td>\n",
       "      <td>16</td>\n",
       "      <td>26</td>\n",
       "      <td>26</td>\n",
       "    </tr>\n",
       "    <tr>\n",
       "      <th>26736</th>\n",
       "      <td>12</td>\n",
       "      <td>F</td>\n",
       "      <td>2014-12-05T11:38:29Z</td>\n",
       "      <td>2014-12-09T00:00:00Z</td>\n",
       "      <td>Tuesday</td>\n",
       "      <td>No-Show</td>\n",
       "      <td>0</td>\n",
       "      <td>0</td>\n",
       "      <td>0</td>\n",
       "      <td>0</td>\n",
       "      <td>...</td>\n",
       "      <td>9</td>\n",
       "      <td>2014-12-05</td>\n",
       "      <td>11:38:29</td>\n",
       "      <td>2014</td>\n",
       "      <td>12</td>\n",
       "      <td>5</td>\n",
       "      <td>11</td>\n",
       "      <td>38</td>\n",
       "      <td>29</td>\n",
       "      <td>4</td>\n",
       "    </tr>\n",
       "    <tr>\n",
       "      <th>42024</th>\n",
       "      <td>67</td>\n",
       "      <td>F</td>\n",
       "      <td>2014-10-24T13:36:54Z</td>\n",
       "      <td>2014-10-28T00:00:00Z</td>\n",
       "      <td>Tuesday</td>\n",
       "      <td>Show-Up</td>\n",
       "      <td>0</td>\n",
       "      <td>0</td>\n",
       "      <td>1</td>\n",
       "      <td>0</td>\n",
       "      <td>...</td>\n",
       "      <td>28</td>\n",
       "      <td>2014-10-24</td>\n",
       "      <td>13:36:54</td>\n",
       "      <td>2014</td>\n",
       "      <td>10</td>\n",
       "      <td>24</td>\n",
       "      <td>13</td>\n",
       "      <td>36</td>\n",
       "      <td>54</td>\n",
       "      <td>4</td>\n",
       "    </tr>\n",
       "    <tr>\n",
       "      <th>138767</th>\n",
       "      <td>16</td>\n",
       "      <td>M</td>\n",
       "      <td>2014-04-01T07:58:19Z</td>\n",
       "      <td>2014-04-11T00:00:00Z</td>\n",
       "      <td>Friday</td>\n",
       "      <td>Show-Up</td>\n",
       "      <td>0</td>\n",
       "      <td>0</td>\n",
       "      <td>0</td>\n",
       "      <td>0</td>\n",
       "      <td>...</td>\n",
       "      <td>11</td>\n",
       "      <td>2014-04-01</td>\n",
       "      <td>07:58:19</td>\n",
       "      <td>2014</td>\n",
       "      <td>4</td>\n",
       "      <td>1</td>\n",
       "      <td>7</td>\n",
       "      <td>58</td>\n",
       "      <td>19</td>\n",
       "      <td>10</td>\n",
       "    </tr>\n",
       "    <tr>\n",
       "      <th>156983</th>\n",
       "      <td>61</td>\n",
       "      <td>F</td>\n",
       "      <td>2015-09-29T13:59:56Z</td>\n",
       "      <td>2015-10-26T00:00:00Z</td>\n",
       "      <td>Monday</td>\n",
       "      <td>No-Show</td>\n",
       "      <td>1</td>\n",
       "      <td>0</td>\n",
       "      <td>1</td>\n",
       "      <td>0</td>\n",
       "      <td>...</td>\n",
       "      <td>26</td>\n",
       "      <td>2015-09-29</td>\n",
       "      <td>13:59:56</td>\n",
       "      <td>2015</td>\n",
       "      <td>9</td>\n",
       "      <td>29</td>\n",
       "      <td>13</td>\n",
       "      <td>59</td>\n",
       "      <td>56</td>\n",
       "      <td>27</td>\n",
       "    </tr>\n",
       "    <tr>\n",
       "      <th>299085</th>\n",
       "      <td>35</td>\n",
       "      <td>F</td>\n",
       "      <td>2014-03-28T16:06:34Z</td>\n",
       "      <td>2014-04-30T00:00:00Z</td>\n",
       "      <td>Wednesday</td>\n",
       "      <td>No-Show</td>\n",
       "      <td>0</td>\n",
       "      <td>0</td>\n",
       "      <td>0</td>\n",
       "      <td>0</td>\n",
       "      <td>...</td>\n",
       "      <td>30</td>\n",
       "      <td>2014-03-28</td>\n",
       "      <td>16:06:34</td>\n",
       "      <td>2014</td>\n",
       "      <td>3</td>\n",
       "      <td>28</td>\n",
       "      <td>16</td>\n",
       "      <td>6</td>\n",
       "      <td>34</td>\n",
       "      <td>33</td>\n",
       "    </tr>\n",
       "    <tr>\n",
       "      <th>219426</th>\n",
       "      <td>51</td>\n",
       "      <td>F</td>\n",
       "      <td>2015-08-28T16:32:42Z</td>\n",
       "      <td>2015-08-31T00:00:00Z</td>\n",
       "      <td>Monday</td>\n",
       "      <td>Show-Up</td>\n",
       "      <td>0</td>\n",
       "      <td>0</td>\n",
       "      <td>0</td>\n",
       "      <td>1</td>\n",
       "      <td>...</td>\n",
       "      <td>31</td>\n",
       "      <td>2015-08-28</td>\n",
       "      <td>16:32:42</td>\n",
       "      <td>2015</td>\n",
       "      <td>8</td>\n",
       "      <td>28</td>\n",
       "      <td>16</td>\n",
       "      <td>32</td>\n",
       "      <td>42</td>\n",
       "      <td>3</td>\n",
       "    </tr>\n",
       "  </tbody>\n",
       "</table>\n",
       "<p>3000 rows × 34 columns</p>\n",
       "</div>"
      ],
      "text/plain": [
       "        Age Gender             Scheduled           Appointment DayOfTheWeek  \\\n",
       "276991   27      M  2015-08-06T09:52:24Z  2015-08-11T00:00:00Z      Tuesday   \n",
       "255164   15      M  2014-12-09T15:20:09Z  2014-12-10T00:00:00Z    Wednesday   \n",
       "137779   46      F  2015-05-13T07:11:25Z  2015-05-29T00:00:00Z       Friday   \n",
       "120739   55      F  2014-04-17T14:59:36Z  2014-04-29T00:00:00Z      Tuesday   \n",
       "294502   54      F  2014-04-15T08:49:29Z  2014-04-17T00:00:00Z     Thursday   \n",
       "43669    59      F  2015-04-07T09:59:53Z  2015-04-08T00:00:00Z    Wednesday   \n",
       "195466   39      M  2014-11-06T12:42:15Z  2014-11-11T00:00:00Z      Tuesday   \n",
       "143453   64      F  2014-08-04T14:50:06Z  2014-08-11T00:00:00Z       Monday   \n",
       "93891     0      M  2015-10-15T13:23:02Z  2015-10-19T00:00:00Z       Monday   \n",
       "45679    67      F  2013-12-30T14:32:08Z  2014-01-03T00:00:00Z       Friday   \n",
       "45804    39      F  2014-12-22T18:44:06Z  2015-01-26T00:00:00Z       Monday   \n",
       "260405   49      M  2015-04-01T10:00:38Z  2015-04-06T00:00:00Z       Monday   \n",
       "196529   42      F  2014-01-21T13:08:33Z  2014-02-06T00:00:00Z     Thursday   \n",
       "279335   22      F  2014-07-23T13:10:32Z  2014-07-24T00:00:00Z     Thursday   \n",
       "14393    50      F  2015-02-12T10:25:07Z  2015-07-24T00:00:00Z       Friday   \n",
       "184501   30      M  2015-06-03T13:57:50Z  2015-06-24T00:00:00Z    Wednesday   \n",
       "113825    9      F  2014-02-24T08:16:22Z  2014-03-07T00:00:00Z       Friday   \n",
       "9377     79      F  2014-11-05T09:56:22Z  2014-11-07T00:00:00Z       Friday   \n",
       "283307   34      F  2014-07-16T07:45:00Z  2014-07-22T00:00:00Z      Tuesday   \n",
       "295277   51      F  2015-11-11T14:38:14Z  2015-11-23T00:00:00Z       Monday   \n",
       "39960    10      F  2015-09-28T08:36:27Z  2015-10-20T00:00:00Z      Tuesday   \n",
       "65649    42      F  2014-12-10T07:55:56Z  2014-12-16T00:00:00Z      Tuesday   \n",
       "236361   44      F  2014-12-12T10:05:24Z  2014-12-19T00:00:00Z       Friday   \n",
       "72576     0      F  2015-04-27T11:57:46Z  2015-05-25T00:00:00Z       Monday   \n",
       "201981   35      F  2014-10-28T07:36:24Z  2014-11-07T00:00:00Z       Friday   \n",
       "232816   56      F  2014-12-05T15:19:24Z  2014-12-09T00:00:00Z      Tuesday   \n",
       "271141   55      F  2014-07-16T07:45:09Z  2014-07-17T00:00:00Z     Thursday   \n",
       "184382   59      F  2014-02-17T07:51:17Z  2014-03-14T00:00:00Z       Friday   \n",
       "152713   62      F  2015-03-04T16:07:54Z  2015-04-02T00:00:00Z     Thursday   \n",
       "22216    37      M  2014-09-29T09:33:01Z  2014-10-15T00:00:00Z    Wednesday   \n",
       "...     ...    ...                   ...                   ...          ...   \n",
       "241751   16      F  2014-03-24T11:40:22Z  2014-03-26T00:00:00Z    Wednesday   \n",
       "223370   25      F  2014-02-25T07:45:29Z  2014-03-18T00:00:00Z      Tuesday   \n",
       "186011   55      F  2014-03-19T14:53:25Z  2014-03-20T00:00:00Z     Thursday   \n",
       "180789   13      F  2015-03-03T09:42:10Z  2015-03-05T00:00:00Z     Thursday   \n",
       "281097   65      F  2015-09-14T07:48:45Z  2015-09-18T00:00:00Z       Friday   \n",
       "204713   25      F  2014-02-07T14:46:08Z  2014-02-17T00:00:00Z       Monday   \n",
       "169470   16      M  2014-02-12T08:00:53Z  2014-02-20T00:00:00Z     Thursday   \n",
       "17467     1      M  2015-02-10T10:37:21Z  2015-03-05T00:00:00Z     Thursday   \n",
       "228869   38      M  2015-11-11T12:17:20Z  2015-12-07T00:00:00Z       Monday   \n",
       "42078    42      M  2014-07-28T11:01:19Z  2014-07-30T00:00:00Z    Wednesday   \n",
       "11170    46      M  2014-01-20T10:44:03Z  2014-01-21T00:00:00Z      Tuesday   \n",
       "233041   48      F  2015-01-07T07:11:13Z  2015-01-19T00:00:00Z       Monday   \n",
       "103193    0      M  2015-06-19T11:26:03Z  2015-06-24T00:00:00Z    Wednesday   \n",
       "250154    4      M  2015-09-29T11:17:15Z  2015-10-13T00:00:00Z      Tuesday   \n",
       "167450   35      F  2015-06-10T13:14:24Z  2015-06-11T00:00:00Z     Thursday   \n",
       "152774   68      F  2014-10-16T17:07:11Z  2014-10-20T00:00:00Z       Monday   \n",
       "2029      6      F  2014-05-26T11:33:18Z  2014-06-25T00:00:00Z    Wednesday   \n",
       "297056   52      F  2015-09-16T09:15:16Z  2015-09-28T00:00:00Z       Monday   \n",
       "11598    15      F  2014-04-09T14:24:51Z  2014-05-08T00:00:00Z     Thursday   \n",
       "193504   44      F  2014-02-11T15:11:42Z  2014-02-12T00:00:00Z    Wednesday   \n",
       "267472    0      F  2014-06-12T07:31:46Z  2014-06-16T00:00:00Z       Monday   \n",
       "96307    10      M  2015-04-01T11:54:43Z  2015-04-07T00:00:00Z      Tuesday   \n",
       "101318   30      F  2014-02-10T09:14:11Z  2014-02-12T00:00:00Z    Wednesday   \n",
       "185581   54      F  2014-01-09T14:16:26Z  2014-02-04T00:00:00Z      Tuesday   \n",
       "26736    12      F  2014-12-05T11:38:29Z  2014-12-09T00:00:00Z      Tuesday   \n",
       "42024    67      F  2014-10-24T13:36:54Z  2014-10-28T00:00:00Z      Tuesday   \n",
       "138767   16      M  2014-04-01T07:58:19Z  2014-04-11T00:00:00Z       Friday   \n",
       "156983   61      F  2015-09-29T13:59:56Z  2015-10-26T00:00:00Z       Monday   \n",
       "299085   35      F  2014-03-28T16:06:34Z  2014-04-30T00:00:00Z    Wednesday   \n",
       "219426   51      F  2015-08-28T16:32:42Z  2015-08-31T00:00:00Z       Monday   \n",
       "\n",
       "         Status  Diabetes  Alcoholism  HyperTension  Handicap       ...        \\\n",
       "276991  Show-Up         0           0             0         0       ...         \n",
       "255164  Show-Up         0           0             0         0       ...         \n",
       "137779  Show-Up         0           0             0         0       ...         \n",
       "120739  Show-Up         0           0             1         0       ...         \n",
       "294502  Show-Up         0           0             1         0       ...         \n",
       "43669   No-Show         0           0             1         0       ...         \n",
       "195466  Show-Up         0           0             0         0       ...         \n",
       "143453  Show-Up         0           0             1         0       ...         \n",
       "93891   No-Show         0           0             0         0       ...         \n",
       "45679   Show-Up         0           0             0         0       ...         \n",
       "45804   No-Show         0           0             0         0       ...         \n",
       "260405  Show-Up         0           0             0         0       ...         \n",
       "196529  No-Show         0           0             0         0       ...         \n",
       "279335  Show-Up         0           0             0         0       ...         \n",
       "14393   Show-Up         1           0             0         0       ...         \n",
       "184501  Show-Up         0           0             0         0       ...         \n",
       "113825  Show-Up         0           0             0         0       ...         \n",
       "9377    Show-Up         1           0             1         0       ...         \n",
       "283307  No-Show         0           0             0         0       ...         \n",
       "295277  Show-Up         0           0             1         0       ...         \n",
       "39960   No-Show         0           0             0         0       ...         \n",
       "65649   Show-Up         0           0             0         0       ...         \n",
       "236361  Show-Up         0           0             0         0       ...         \n",
       "72576   Show-Up         0           0             0         0       ...         \n",
       "201981  Show-Up         0           0             0         0       ...         \n",
       "232816  Show-Up         0           0             0         0       ...         \n",
       "271141  No-Show         1           0             1         0       ...         \n",
       "184382  Show-Up         0           0             0         0       ...         \n",
       "152713  No-Show         1           0             1         0       ...         \n",
       "22216   Show-Up         0           0             0         0       ...         \n",
       "...         ...       ...         ...           ...       ...       ...         \n",
       "241751  No-Show         0           0             0         0       ...         \n",
       "223370  Show-Up         0           0             0         0       ...         \n",
       "186011  Show-Up         0           0             1         0       ...         \n",
       "180789  Show-Up         0           0             0         0       ...         \n",
       "281097  Show-Up         1           0             1         0       ...         \n",
       "204713  Show-Up         0           0             0         0       ...         \n",
       "169470  Show-Up         0           0             0         0       ...         \n",
       "17467   No-Show         0           0             0         0       ...         \n",
       "228869  No-Show         0           0             0         0       ...         \n",
       "42078   Show-Up         0           0             0         0       ...         \n",
       "11170   No-Show         0           0             0         0       ...         \n",
       "233041  Show-Up         0           0             0         0       ...         \n",
       "103193  Show-Up         0           0             0         0       ...         \n",
       "250154  Show-Up         0           0             0         0       ...         \n",
       "167450  Show-Up         0           0             0         0       ...         \n",
       "152774  Show-Up         0           0             0         0       ...         \n",
       "2029    No-Show         0           0             0         0       ...         \n",
       "297056  Show-Up         1           0             1         0       ...         \n",
       "11598   No-Show         0           0             0         0       ...         \n",
       "193504  Show-Up         0           0             1         0       ...         \n",
       "267472  Show-Up         0           0             0         0       ...         \n",
       "96307   Show-Up         0           0             0         0       ...         \n",
       "101318  Show-Up         0           0             0         0       ...         \n",
       "185581  Show-Up         0           0             0         0       ...         \n",
       "26736   No-Show         0           0             0         0       ...         \n",
       "42024   Show-Up         0           0             1         0       ...         \n",
       "138767  Show-Up         0           0             0         0       ...         \n",
       "156983  No-Show         1           0             1         0       ...         \n",
       "299085  No-Show         0           0             0         0       ...         \n",
       "219426  Show-Up         0           0             0         1       ...         \n",
       "\n",
       "        AppointmentDay  ScheduledDate  ScheduledTime  ScheduledYear  \\\n",
       "276991              11     2015-08-06       09:52:24           2015   \n",
       "255164              10     2014-12-09       15:20:09           2014   \n",
       "137779              29     2015-05-13       07:11:25           2015   \n",
       "120739              29     2014-04-17       14:59:36           2014   \n",
       "294502              17     2014-04-15       08:49:29           2014   \n",
       "43669                8     2015-04-07       09:59:53           2015   \n",
       "195466              11     2014-11-06       12:42:15           2014   \n",
       "143453              11     2014-08-04       14:50:06           2014   \n",
       "93891               19     2015-10-15       13:23:02           2015   \n",
       "45679                3     2013-12-30       14:32:08           2013   \n",
       "45804               26     2014-12-22       18:44:06           2014   \n",
       "260405               6     2015-04-01       10:00:38           2015   \n",
       "196529               6     2014-01-21       13:08:33           2014   \n",
       "279335              24     2014-07-23       13:10:32           2014   \n",
       "14393               24     2015-02-12       10:25:07           2015   \n",
       "184501              24     2015-06-03       13:57:50           2015   \n",
       "113825               7     2014-02-24       08:16:22           2014   \n",
       "9377                 7     2014-11-05       09:56:22           2014   \n",
       "283307              22     2014-07-16       07:45:00           2014   \n",
       "295277              23     2015-11-11       14:38:14           2015   \n",
       "39960               20     2015-09-28       08:36:27           2015   \n",
       "65649               16     2014-12-10       07:55:56           2014   \n",
       "236361              19     2014-12-12       10:05:24           2014   \n",
       "72576               25     2015-04-27       11:57:46           2015   \n",
       "201981               7     2014-10-28       07:36:24           2014   \n",
       "232816               9     2014-12-05       15:19:24           2014   \n",
       "271141              17     2014-07-16       07:45:09           2014   \n",
       "184382              14     2014-02-17       07:51:17           2014   \n",
       "152713               2     2015-03-04       16:07:54           2015   \n",
       "22216               15     2014-09-29       09:33:01           2014   \n",
       "...                ...            ...            ...            ...   \n",
       "241751              26     2014-03-24       11:40:22           2014   \n",
       "223370              18     2014-02-25       07:45:29           2014   \n",
       "186011              20     2014-03-19       14:53:25           2014   \n",
       "180789               5     2015-03-03       09:42:10           2015   \n",
       "281097              18     2015-09-14       07:48:45           2015   \n",
       "204713              17     2014-02-07       14:46:08           2014   \n",
       "169470              20     2014-02-12       08:00:53           2014   \n",
       "17467                5     2015-02-10       10:37:21           2015   \n",
       "228869               7     2015-11-11       12:17:20           2015   \n",
       "42078               30     2014-07-28       11:01:19           2014   \n",
       "11170               21     2014-01-20       10:44:03           2014   \n",
       "233041              19     2015-01-07       07:11:13           2015   \n",
       "103193              24     2015-06-19       11:26:03           2015   \n",
       "250154              13     2015-09-29       11:17:15           2015   \n",
       "167450              11     2015-06-10       13:14:24           2015   \n",
       "152774              20     2014-10-16       17:07:11           2014   \n",
       "2029                25     2014-05-26       11:33:18           2014   \n",
       "297056              28     2015-09-16       09:15:16           2015   \n",
       "11598                8     2014-04-09       14:24:51           2014   \n",
       "193504              12     2014-02-11       15:11:42           2014   \n",
       "267472              16     2014-06-12       07:31:46           2014   \n",
       "96307                7     2015-04-01       11:54:43           2015   \n",
       "101318              12     2014-02-10       09:14:11           2014   \n",
       "185581               4     2014-01-09       14:16:26           2014   \n",
       "26736                9     2014-12-05       11:38:29           2014   \n",
       "42024               28     2014-10-24       13:36:54           2014   \n",
       "138767              11     2014-04-01       07:58:19           2014   \n",
       "156983              26     2015-09-29       13:59:56           2015   \n",
       "299085              30     2014-03-28       16:06:34           2014   \n",
       "219426              31     2015-08-28       16:32:42           2015   \n",
       "\n",
       "        ScheduledMonth  ScheduledDay  ScheduledHour  ScheduledMinute  \\\n",
       "276991               8             6              9               52   \n",
       "255164              12             9             15               20   \n",
       "137779               5            13              7               11   \n",
       "120739               4            17             14               59   \n",
       "294502               4            15              8               49   \n",
       "43669                4             7              9               59   \n",
       "195466              11             6             12               42   \n",
       "143453               8             4             14               50   \n",
       "93891               10            15             13               23   \n",
       "45679               12            30             14               32   \n",
       "45804               12            22             18               44   \n",
       "260405               4             1             10                0   \n",
       "196529               1            21             13                8   \n",
       "279335               7            23             13               10   \n",
       "14393                2            12             10               25   \n",
       "184501               6             3             13               57   \n",
       "113825               2            24              8               16   \n",
       "9377                11             5              9               56   \n",
       "283307               7            16              7               45   \n",
       "295277              11            11             14               38   \n",
       "39960                9            28              8               36   \n",
       "65649               12            10              7               55   \n",
       "236361              12            12             10                5   \n",
       "72576                4            27             11               57   \n",
       "201981              10            28              7               36   \n",
       "232816              12             5             15               19   \n",
       "271141               7            16              7               45   \n",
       "184382               2            17              7               51   \n",
       "152713               3             4             16                7   \n",
       "22216                9            29              9               33   \n",
       "...                ...           ...            ...              ...   \n",
       "241751               3            24             11               40   \n",
       "223370               2            25              7               45   \n",
       "186011               3            19             14               53   \n",
       "180789               3             3              9               42   \n",
       "281097               9            14              7               48   \n",
       "204713               2             7             14               46   \n",
       "169470               2            12              8                0   \n",
       "17467                2            10             10               37   \n",
       "228869              11            11             12               17   \n",
       "42078                7            28             11                1   \n",
       "11170                1            20             10               44   \n",
       "233041               1             7              7               11   \n",
       "103193               6            19             11               26   \n",
       "250154               9            29             11               17   \n",
       "167450               6            10             13               14   \n",
       "152774              10            16             17                7   \n",
       "2029                 5            26             11               33   \n",
       "297056               9            16              9               15   \n",
       "11598                4             9             14               24   \n",
       "193504               2            11             15               11   \n",
       "267472               6            12              7               31   \n",
       "96307                4             1             11               54   \n",
       "101318               2            10              9               14   \n",
       "185581               1             9             14               16   \n",
       "26736               12             5             11               38   \n",
       "42024               10            24             13               36   \n",
       "138767               4             1              7               58   \n",
       "156983               9            29             13               59   \n",
       "299085               3            28             16                6   \n",
       "219426               8            28             16               32   \n",
       "\n",
       "       ScheduledSecond Abs_DaysBetween  \n",
       "276991              24               5  \n",
       "255164               9               1  \n",
       "137779              25              16  \n",
       "120739              36              12  \n",
       "294502              29               2  \n",
       "43669               53               1  \n",
       "195466              15               5  \n",
       "143453               6               7  \n",
       "93891                2               4  \n",
       "45679                8               4  \n",
       "45804                6              35  \n",
       "260405              38               5  \n",
       "196529              33              16  \n",
       "279335              32               1  \n",
       "14393                7             162  \n",
       "184501              50              21  \n",
       "113825              22              11  \n",
       "9377                22               2  \n",
       "283307               0               6  \n",
       "295277              14              12  \n",
       "39960               27              22  \n",
       "65649               56               6  \n",
       "236361              24               7  \n",
       "72576               46              28  \n",
       "201981              24              10  \n",
       "232816              24               4  \n",
       "271141               9               1  \n",
       "184382              17              25  \n",
       "152713              54              29  \n",
       "22216                1              16  \n",
       "...                ...             ...  \n",
       "241751              22               2  \n",
       "223370              29              21  \n",
       "186011              25               1  \n",
       "180789              10               2  \n",
       "281097              45               4  \n",
       "204713               8              10  \n",
       "169470              53               8  \n",
       "17467               21              23  \n",
       "228869              20              26  \n",
       "42078               19               2  \n",
       "11170                3               1  \n",
       "233041              13              12  \n",
       "103193               3               5  \n",
       "250154              15              14  \n",
       "167450              24               1  \n",
       "152774              11               4  \n",
       "2029                18              30  \n",
       "297056              16              12  \n",
       "11598               51              29  \n",
       "193504              42               1  \n",
       "267472              46               4  \n",
       "96307               43               6  \n",
       "101318              11               2  \n",
       "185581              26              26  \n",
       "26736               29               4  \n",
       "42024               54               4  \n",
       "138767              19              10  \n",
       "156983              56              27  \n",
       "299085              34              33  \n",
       "219426              42               3  \n",
       "\n",
       "[3000 rows x 34 columns]"
      ]
     },
     "execution_count": 46,
     "metadata": {},
     "output_type": "execute_result"
    }
   ],
   "source": [
    "#take randomly sampled rows from the dataset, \n",
    "#represents about 10% of the data (around 3000 rows)\n",
    "\n",
    "rand_rows = np.random.choice(appt.index.values, 3000)\n",
    "\n",
    "sampled_appt = appt.ix[rand_rows]\n",
    "\n",
    "sampled_appt"
   ]
  },
  {
   "cell_type": "markdown",
   "metadata": {
    "collapsed": true
   },
   "source": [
    "### SVM Model"
   ]
  },
  {
   "cell_type": "code",
   "execution_count": 105,
   "metadata": {
    "collapsed": true
   },
   "outputs": [],
   "source": [
    "import numpy as np\n",
    "import matplotlib.pyplot as plt\n",
    "from sklearn import svm, datasets\n",
    "\n",
    "import itertools\n",
    "\n",
    "from sklearn.linear_model import LinearRegression\n",
    "from sklearn.model_selection import train_test_split\n",
    "from sklearn import svm, datasets, metrics\n",
    "from sklearn.metrics import confusion_matrix\n",
    "from sklearn.svm import SVC"
   ]
  },
  {
   "cell_type": "code",
   "execution_count": 106,
   "metadata": {},
   "outputs": [
    {
     "data": {
      "text/plain": [
       "Age                   int64\n",
       "Gender               object\n",
       "Scheduled            object\n",
       "Appointment          object\n",
       "DayOfTheWeek         object\n",
       "Status               object\n",
       "Diabetes              int64\n",
       "Alcoholism            int64\n",
       "HyperTension          int64\n",
       "Handicap              int64\n",
       "Smokes                int64\n",
       "Aid Recipient         int64\n",
       "Tuberculosis          int64\n",
       "Sms_Reminder          int64\n",
       "DaysBetween           int64\n",
       "NumGender             int64\n",
       "Weekday               int64\n",
       "NumStatus             int64\n",
       "ParsedScheduled      object\n",
       "ParsedAppointment    object\n",
       "AppointmentDate      object\n",
       "AppointmentTime      object\n",
       "AppointmentYear       int64\n",
       "AppointmentMonth      int64\n",
       "AppointmentDay        int64\n",
       "ScheduledDate        object\n",
       "ScheduledTime        object\n",
       "ScheduledYear         int64\n",
       "ScheduledMonth        int64\n",
       "ScheduledDay          int64\n",
       "ScheduledHour         int64\n",
       "ScheduledMinute       int64\n",
       "ScheduledSecond       int64\n",
       "Abs_DaysBetween       int64\n",
       "dtype: object"
      ]
     },
     "execution_count": 106,
     "metadata": {},
     "output_type": "execute_result"
    }
   ],
   "source": [
    "sampled_appt.dtypes"
   ]
  },
  {
   "cell_type": "code",
   "execution_count": 107,
   "metadata": {},
   "outputs": [
    {
     "data": {
      "text/plain": [
       "<matplotlib.axes._subplots.AxesSubplot at 0x11d6cbe10>"
      ]
     },
     "execution_count": 107,
     "metadata": {},
     "output_type": "execute_result"
    },
    {
     "data": {
      "image/png": "[encoded data removed]",
      "text/plain": [
       "<matplotlib.figure.Figure at 0x11d6cb198>"
      ]
     },
     "metadata": {},
     "output_type": "display_data"
    }
   ],
   "source": [
    "sampled_appt[sampled_appt.NumStatus==0].Abs_DaysBetween.hist(bins=np.arange(0,50,1), alpha=.4) #dark green, no-show\n",
    "sampled_appt[sampled_appt.NumStatus==1].Abs_DaysBetween.hist(bins=np.arange(0,50,1), alpha=.4) #light green, show-up\n"
   ]
  },
  {
   "cell_type": "markdown",
   "metadata": {},
   "source": [
    "### Model parameters:  Exploring the models by predicting \"show status\" given the appointment month and the days a patient waited after scheduling the appointment. "
   ]
  },
  {
   "cell_type": "code",
   "execution_count": 109,
   "metadata": {},
   "outputs": [
    {
     "data": {
      "text/plain": [
       "<matplotlib.axes._subplots.AxesSubplot at 0x11e8bf588>"
      ]
     },
     "execution_count": 109,
     "metadata": {},
     "output_type": "execute_result"
    },
    {
     "data": {
      "image/png": "[encoded data removed]",
      "text/plain": [
       "<matplotlib.figure.Figure at 0x11c6c1da0>"
      ]
     },
     "metadata": {},
     "output_type": "display_data"
    }
   ],
   "source": [
    "fig, ax = plt.subplots()\n",
    "#remember that 0 is no-show and 1 is a show-up\n",
    "sampled_appt[sampled_appt.NumStatus==0].plot(kind='scatter', x='AppointmentMonth', y='Abs_DaysBetween', color='red', alpha=0.1, ax=ax)\n",
    "sampled_appt[sampled_appt.NumStatus==1].plot(kind='scatter', x='AppointmentMonth', y='Abs_DaysBetween', color='yellow', alpha=0.1, ax=ax)"
   ]
  },
  {
   "cell_type": "markdown",
   "metadata": {},
   "source": [
    "**Observation:** It appears there's more missed appointments (in red dots) in the middle of the year, in the summer months.  Perhaps people forget as they make summer vacatin plans."
   ]
  },
  {
   "cell_type": "code",
   "execution_count": 110,
   "metadata": {
    "collapsed": true
   },
   "outputs": [],
   "source": [
    "#creates a subplot...colored background\n",
    "\n",
    "def plot_svm(i, clf, title, X, y, col1, col2):\n",
    "    \n",
    "    h = .2  # step size in the mesh\n",
    "    # create a mesh to plot in\n",
    "    x_min, x_max = X[col1].min() - 1, X[col1].max() + 1\n",
    "    y_min, y_max = X[col2].min() - 1, X[col2].max() + 1\n",
    "    xx, yy = np.meshgrid(np.arange(x_min, x_max, h), np.arange(y_min, y_max, h))\n",
    "    grid_stack = np.stack([xx.flatten(), yy.flatten()]).T\n",
    "\n",
    "    x1 = X[col1]\n",
    "    x2 = X[col2]\n",
    "    # Plot the decision boundary. For that, we will assign a color to each\n",
    "    # point in the mesh [x_min, x_max]x[y_min, y_max].\n",
    "    plt.subplot(2, 2, i + 1)\n",
    "    plt.subplots_adjust(wspace=0.4, hspace=0.4)\n",
    "\n",
    "    Z = clf.predict(scale(grid_stack)).reshape(xx.shape)\n",
    "    # Put the result into a color plot\n",
    "    plt.contourf(xx, yy, Z, cmap=plt.cm.coolwarm, alpha=0.8)\n",
    "    x_s = preprocessing.scale(X)\n",
    "\n",
    "    # Plot also the training points\n",
    "    plt.scatter(x1, x2, c=y, cmap=plt.cm.coolwarm)\n",
    "    \n",
    "    plt.xlabel(col1)\n",
    "    plt.ylabel(col2)\n",
    "    plt.title(title)"
   ]
  },
  {
   "cell_type": "code",
   "execution_count": 111,
   "metadata": {},
   "outputs": [
    {
     "data": {
      "image/png": "[encoded data removed]",
      "text/plain": [
       "<matplotlib.figure.Figure at 0x120b08630>"
      ]
     },
     "metadata": {},
     "output_type": "display_data"
    }
   ],
   "source": [
    "#lets build our inital model looking at the relationship\n",
    "col1, col2 ='AppointmentMonth', 'Abs_DaysBetween'\n",
    "\n",
    "X = sampled_appt[[col1, col2]]                    \n",
    "y = sampled_appt['NumStatus']\n",
    "# create a model to predict if a patient is a no-show.\n",
    "# we create an instance of SVM and fit out data. We do not scale our data since we want to plot the support vectors\n",
    "\n",
    "svc = svm.SVC(kernel='linear', C=1.0).fit(scale(X), y)\n",
    "# model = fitting\n",
    "\n",
    "plot_svm(0, svc,'SVC with linear kernel' , X, y, col1, col2)\n",
    "\n",
    "\n",
    "plt.show()"
   ]
  },
  {
   "cell_type": "code",
   "execution_count": 112,
   "metadata": {},
   "outputs": [
    {
     "data": {
      "text/plain": [
       "0.70633333333333337"
      ]
     },
     "execution_count": 112,
     "metadata": {},
     "output_type": "execute_result"
    }
   ],
   "source": [
    "svc.score(X,y)"
   ]
  },
  {
   "cell_type": "code",
   "execution_count": 113,
   "metadata": {
    "collapsed": true
   },
   "outputs": [],
   "source": [
    "#let's see what happens if we scaled X\n",
    "\n",
    "X_scaled = preprocessing.scale(X)\n",
    "\n",
    "svc = svm.SVC(kernel='linear', C=1.0).fit(X_scaled,y)"
   ]
  },
  {
   "cell_type": "code",
   "execution_count": 114,
   "metadata": {},
   "outputs": [
    {
     "data": {
      "text/plain": [
       "0.70633333333333337"
      ]
     },
     "execution_count": 114,
     "metadata": {},
     "output_type": "execute_result"
    }
   ],
   "source": [
    "svc.score(X_scaled, y)\n",
    "\n"
   ]
  },
  {
   "cell_type": "markdown",
   "metadata": {},
   "source": [
    "**Observation:** Even with the scaled X, there was no difference in the accuracy result of our prediction (~71%).  Looking through the various kernels, these all clearly demonstrate that a patient more than likely to miss an appointment the more days inbetween the day they scheduled the visit and the appointment."
   ]
  },
  {
   "cell_type": "code",
   "execution_count": 115,
   "metadata": {
    "collapsed": true
   },
   "outputs": [],
   "source": [
    "C=1.0\n",
    "rbf_svc = svm.SVC(kernel='rbf', gamma=0.7, C=C).fit(X_scaled, y)\n"
   ]
  },
  {
   "cell_type": "code",
   "execution_count": 116,
   "metadata": {
    "collapsed": true
   },
   "outputs": [],
   "source": [
    "poly_svc = svm.SVC(kernel='poly', degree=2, C=C).fit(X_scaled, y)\n",
    "\n"
   ]
  },
  {
   "cell_type": "code",
   "execution_count": 117,
   "metadata": {},
   "outputs": [],
   "source": [
    "sig_svc = svm.SVC(kernel='sigmoid', C=C).fit(X_scaled, y)"
   ]
  },
  {
   "cell_type": "code",
   "execution_count": 118,
   "metadata": {},
   "outputs": [
    {
     "data": {
      "image/png": "[encoded data removed]",
      "text/plain": [
       "<matplotlib.figure.Figure at 0x11ebb2b38>"
      ]
     },
     "metadata": {},
     "output_type": "display_data"
    }
   ],
   "source": [
    "titles = ['SVC with linear kernel',\n",
    "          'Sigmoid kernel',\n",
    "          'SVC with RBF kernel',\n",
    "          'SVC with polynomial (degree 3) kernel']\n",
    "\n",
    "\n",
    "for i, clf in enumerate((svc, sig_svc, rbf_svc, poly_svc)):\n",
    "    plot_svm(i, clf, titles[i], X, y, col1, col2)\n",
    "\n",
    "plt.show()\n"
   ]
  },
  {
   "cell_type": "markdown",
   "metadata": {
    "collapsed": true
   },
   "source": [
    "### Confusion Matrix"
   ]
  },
  {
   "cell_type": "code",
   "execution_count": 119,
   "metadata": {
    "collapsed": true
   },
   "outputs": [],
   "source": [
    "X = sampled_appt[[col1, col2]]\n",
    "y = sampled_appt['NumStatus']\n",
    "\n",
    "ShowUp = sampled_appt.NumStatus"
   ]
  },
  {
   "cell_type": "code",
   "execution_count": 133,
   "metadata": {
    "collapsed": true
   },
   "outputs": [],
   "source": [
    "X_train, X_test, y_train, y_test = train_test_split(X, y, random_state=0)"
   ]
  },
  {
   "cell_type": "code",
   "execution_count": 134,
   "metadata": {
    "collapsed": true
   },
   "outputs": [],
   "source": [
    "classifier = sig_svc\n",
    "y_pred = classifier.fit(X_train, y_train).predict(X_test)"
   ]
  },
  {
   "cell_type": "code",
   "execution_count": 135,
   "metadata": {},
   "outputs": [
    {
     "name": "stdout",
     "output_type": "stream",
     "text": [
      "[[  8 206]\n",
      " [ 27 509]]\n"
     ]
    },
    {
     "data": {
      "image/png": "[encoded data removed]",
      "text/plain": [
       "<matplotlib.figure.Figure at 0x11d4a6978>"
      ]
     },
     "metadata": {},
     "output_type": "display_data"
    }
   ],
   "source": [
    "# Compute confusion matrix\n",
    "cm = confusion_matrix(y_test, y_pred)\n",
    "\n",
    "print(cm)\n",
    "\n",
    "# Show confusion matrix in a separate window\n",
    "plt.matshow(cm)\n",
    "plt.title('Confusion matrix')\n",
    "plt.colorbar()\n",
    "plt.ylabel('True label')\n",
    "plt.xlabel('Predicted label')\n",
    "plt.show()"
   ]
  },
  {
   "cell_type": "markdown",
   "metadata": {},
   "source": [
    "**Observation:** This doesn't seem like useful results, if the values as as follows:\n",
    "\n",
    " * True Positive: 8\n",
    " * False Negative: 206\n",
    " * False Positive: 27\n",
    " * True Negative: 509\n",
    "\n",
    "Perhaps SVMs are not the best model for this data. "
   ]
  },
  {
   "cell_type": "markdown",
   "metadata": {
    "collapsed": true
   },
   "source": [
    "### Applying a Linear Regression Model"
   ]
  },
  {
   "cell_type": "markdown",
   "metadata": {
    "collapsed": true
   },
   "source": [
    "#### Using Appointment Month and Abs_DaysBetween as predictors for Show Status."
   ]
  },
  {
   "cell_type": "code",
   "execution_count": 136,
   "metadata": {
    "collapsed": true
   },
   "outputs": [],
   "source": [
    "col1, col2 =  'AppointmentMonth', 'Abs_DaysBetween'\n",
    "\n",
    "X = sampled_appt[[col1, col2]]                    \n",
    "y = sampled_appt['NumStatus']\n",
    "\n",
    "#employing a 60/40 split. \n",
    "\n",
    "X_train, X_test, y_train, y_test = train_test_split(X, y, test_size = 0.40)"
   ]
  },
  {
   "cell_type": "code",
   "execution_count": 137,
   "metadata": {},
   "outputs": [
    {
     "data": {
      "text/plain": [
       "(array([-0.00468625, -0.00233911]), 0.76069756893702356)"
      ]
     },
     "execution_count": 137,
     "metadata": {},
     "output_type": "execute_result"
    }
   ],
   "source": [
    "model = LinearRegression()\n",
    "model.fit(X_train, y_train)\n",
    "model.coef_, model.intercept_"
   ]
  },
  {
   "cell_type": "code",
   "execution_count": 138,
   "metadata": {},
   "outputs": [
    {
     "data": {
      "text/plain": [
       "(array([  2.15115928e-05,  -1.31149316e-03]), 0.73547071141875986)"
      ]
     },
     "execution_count": 138,
     "metadata": {},
     "output_type": "execute_result"
    }
   ],
   "source": [
    "model = LinearRegression()\n",
    "model.fit(X_test, y_test)\n",
    "model.coef_, model.intercept_"
   ]
  },
  {
   "cell_type": "code",
   "execution_count": 139,
   "metadata": {},
   "outputs": [
    {
     "data": {
      "text/plain": [
       "0.20990210962247205"
      ]
     },
     "execution_count": 139,
     "metadata": {},
     "output_type": "execute_result"
    }
   ],
   "source": [
    "from sklearn.metrics import mean_squared_error\n",
    "mean_squared_error(y_train, np.dot(X_train, model.coef_) + model.intercept_)"
   ]
  },
  {
   "cell_type": "code",
   "execution_count": 140,
   "metadata": {},
   "outputs": [
    {
     "data": {
      "text/plain": [
       "0.20219414357586268"
      ]
     },
     "execution_count": 140,
     "metadata": {},
     "output_type": "execute_result"
    }
   ],
   "source": [
    "mean_squared_error(y_test, np.dot(X_test, model.coef_) + model.intercept_)"
   ]
  },
  {
   "cell_type": "markdown",
   "metadata": {
    "collapsed": true
   },
   "source": [
    "**Observation:** It appears when you look at the model's intercepts they are both in the same direction and not terribly far off (though certainly different numbers). Additionally the MSE's are relatively close. I guess it would be safe to say that the training set is useful for the test set. "
   ]
  },
  {
   "cell_type": "markdown",
   "metadata": {
    "collapsed": true
   },
   "source": [
    "### Applying a Logistic Regression Model"
   ]
  },
  {
   "cell_type": "code",
   "execution_count": null,
   "metadata": {
    "collapsed": true
   },
   "outputs": [],
   "source": []
  },
  {
   "cell_type": "code",
   "execution_count": 142,
   "metadata": {},
   "outputs": [
    {
     "data": {
      "text/plain": [
       "array([ 0.70099668,  0.7       ,  0.70666667,  0.70333333,  0.70666667,\n",
       "        0.70666667,  0.70333333,  0.70333333,  0.70666667,  0.70568562])"
      ]
     },
     "execution_count": 142,
     "metadata": {},
     "output_type": "execute_result"
    }
   ],
   "source": [
    "from sklearn.linear_model import LogisticRegression as Model\n",
    "# from sklearn.tree import DecisionTreeClassifier as Model\n",
    "# from sklearn.ensemble import RandomForestClassifier as Model\n",
    "model = Model()\n",
    "\n",
    "from sklearn.metrics import (accuracy_score, \n",
    "                             classification_report, \n",
    "                             confusion_matrix, auc, roc_curve\n",
    "                            )\n",
    "from sklearn.metrics import *\n",
    "from sklearn import cross_validation\n",
    "\n",
    "X_train, X_test, y_train, y_test = cross_validation.train_test_split(\n",
    "    X, y, test_size=0.4, random_state=0)\n",
    "\n",
    "cross_validation.cross_val_score(model, X, y, cv=10)"
   ]
  },
  {
   "cell_type": "code",
   "execution_count": 143,
   "metadata": {},
   "outputs": [
    {
     "name": "stderr",
     "output_type": "stream",
     "text": [
      "/Users/user/anaconda/lib/python3.6/site-packages/ipykernel/__main__.py:9: SettingWithCopyWarning: \n",
      "A value is trying to be set on a copy of a slice from a DataFrame.\n",
      "Try using .loc[row_indexer,col_indexer] = value instead\n",
      "\n",
      "See the caveats in the documentation: http://pandas.pydata.org/pandas-docs/stable/indexing.html#indexing-view-versus-copy\n"
     ]
    },
    {
     "data": {
      "text/plain": [
       "0.70466666666666666"
      ]
     },
     "execution_count": 143,
     "metadata": {},
     "output_type": "execute_result"
    }
   ],
   "source": [
    "#model using Appointment Month and Abs_DaysBetween\n",
    "\n",
    "feature_cols = ['AppointmentMonth', 'Abs_DaysBetween']\n",
    "X = sampled_appt[feature_cols]\n",
    "y = sampled_appt.NumStatus\n",
    "\n",
    "model = Model()\n",
    "model.fit(X, y)\n",
    "sampled_appt['pred'] = model.predict(X)\n",
    "\n",
    "\n",
    "from sklearn.metrics import accuracy_score\n",
    "accuracy_score(sampled_appt.NumStatus, sampled_appt.pred.round())\n"
   ]
  },
  {
   "cell_type": "markdown",
   "metadata": {
    "collapsed": true
   },
   "source": [
    "**Observation:** It appears that a Logistic Regresion model has similar scores as our SVM model (around 71% prediction accuracy). Will try to add in additional features to see how that affects the model."
   ]
  },
  {
   "cell_type": "code",
   "execution_count": 144,
   "metadata": {},
   "outputs": [
    {
     "data": {
      "text/plain": [
       "['Age',\n",
       " 'Diabetes',\n",
       " 'Alcoholism',\n",
       " 'HyperTension',\n",
       " 'Handicap',\n",
       " 'Smokes',\n",
       " 'Aid Recipient',\n",
       " 'Tuberculosis',\n",
       " 'Sms_Reminder',\n",
       " 'DaysBetween',\n",
       " 'NumGender',\n",
       " 'Weekday',\n",
       " 'NumStatus',\n",
       " 'AppointmentYear',\n",
       " 'AppointmentMonth',\n",
       " 'AppointmentDay',\n",
       " 'ScheduledYear',\n",
       " 'ScheduledMonth',\n",
       " 'ScheduledDay',\n",
       " 'ScheduledHour',\n",
       " 'ScheduledMinute',\n",
       " 'ScheduledSecond',\n",
       " 'Abs_DaysBetween',\n",
       " 'pred']"
      ]
     },
     "execution_count": 144,
     "metadata": {},
     "output_type": "execute_result"
    }
   ],
   "source": [
    "#see which columns are numeric in our sampled dataset\n",
    "\n",
    "num_sampledcolumns = [col for col, dtype in zip(sampled_appt.columns, sampled_appt.dtypes) if dtype != 'object']\n",
    "num_sampledcolumns"
   ]
  },
  {
   "cell_type": "code",
   "execution_count": 147,
   "metadata": {},
   "outputs": [
    {
     "name": "stderr",
     "output_type": "stream",
     "text": [
      "/Users/user/anaconda/lib/python3.6/site-packages/ipykernel/__main__.py:9: SettingWithCopyWarning: \n",
      "A value is trying to be set on a copy of a slice from a DataFrame.\n",
      "Try using .loc[row_indexer,col_indexer] = value instead\n",
      "\n",
      "See the caveats in the documentation: http://pandas.pydata.org/pandas-docs/stable/indexing.html#indexing-view-versus-copy\n"
     ]
    },
    {
     "data": {
      "text/plain": [
       "0.70466666666666666"
      ]
     },
     "execution_count": 147,
     "metadata": {},
     "output_type": "execute_result"
    }
   ],
   "source": [
    "#model using Appointment Month, Abs_DaysBetween, Sms_Reminder\n",
    "\n",
    "feature_cols = ['AppointmentMonth', 'Abs_DaysBetween', 'Sms_Reminder']\n",
    "X = sampled_appt[feature_cols]\n",
    "y = sampled_appt.NumStatus\n",
    "\n",
    "model = Model()\n",
    "model.fit(X, y)\n",
    "sampled_appt['pred'] = model.predict(X)\n",
    "\n",
    "\n",
    "from sklearn.metrics import accuracy_score\n",
    "accuracy_score(sampled_appt.NumStatus, sampled_appt.pred.round())"
   ]
  },
  {
   "cell_type": "code",
   "execution_count": 148,
   "metadata": {},
   "outputs": [
    {
     "name": "stderr",
     "output_type": "stream",
     "text": [
      "/Users/user/anaconda/lib/python3.6/site-packages/ipykernel/__main__.py:9: SettingWithCopyWarning: \n",
      "A value is trying to be set on a copy of a slice from a DataFrame.\n",
      "Try using .loc[row_indexer,col_indexer] = value instead\n",
      "\n",
      "See the caveats in the documentation: http://pandas.pydata.org/pandas-docs/stable/indexing.html#indexing-view-versus-copy\n"
     ]
    },
    {
     "data": {
      "text/plain": [
       "0.70499999999999996"
      ]
     },
     "execution_count": 148,
     "metadata": {},
     "output_type": "execute_result"
    }
   ],
   "source": [
    "#model using Appointment Month, Abs_DaysBetween, Sms_Reminder, Age\n",
    "\n",
    "feature_cols = ['AppointmentMonth', 'Abs_DaysBetween', 'Sms_Reminder', 'Age']\n",
    "X = sampled_appt[feature_cols]\n",
    "y = sampled_appt.NumStatus\n",
    "\n",
    "model = Model()\n",
    "model.fit(X, y)\n",
    "sampled_appt['pred'] = model.predict(X)\n",
    "\n",
    "\n",
    "from sklearn.metrics import accuracy_score\n",
    "accuracy_score(sampled_appt.NumStatus, sampled_appt.pred.round())"
   ]
  },
  {
   "cell_type": "code",
   "execution_count": 149,
   "metadata": {},
   "outputs": [
    {
     "name": "stderr",
     "output_type": "stream",
     "text": [
      "/Users/user/anaconda/lib/python3.6/site-packages/ipykernel/__main__.py:9: SettingWithCopyWarning: \n",
      "A value is trying to be set on a copy of a slice from a DataFrame.\n",
      "Try using .loc[row_indexer,col_indexer] = value instead\n",
      "\n",
      "See the caveats in the documentation: http://pandas.pydata.org/pandas-docs/stable/indexing.html#indexing-view-versus-copy\n"
     ]
    },
    {
     "data": {
      "text/plain": [
       "0.70499999999999996"
      ]
     },
     "execution_count": 149,
     "metadata": {},
     "output_type": "execute_result"
    }
   ],
   "source": [
    "#model using Appointment Month, Abs_DaysBetween, Sms_Reminder, Age, Weekday of the appointment\n",
    "\n",
    "feature_cols = ['AppointmentMonth', 'Abs_DaysBetween', 'Sms_Reminder', 'Age', 'Weekday']\n",
    "X = sampled_appt[feature_cols]\n",
    "y = sampled_appt.NumStatus\n",
    "\n",
    "model = Model()\n",
    "model.fit(X, y)\n",
    "sampled_appt['pred'] = model.predict(X)\n",
    "\n",
    "\n",
    "from sklearn.metrics import accuracy_score\n",
    "accuracy_score(sampled_appt.NumStatus, sampled_appt.pred.round())"
   ]
  },
  {
   "cell_type": "code",
   "execution_count": 158,
   "metadata": {},
   "outputs": [
    {
     "name": "stderr",
     "output_type": "stream",
     "text": [
      "/Users/user/anaconda/lib/python3.6/site-packages/ipykernel/__main__.py:9: SettingWithCopyWarning: \n",
      "A value is trying to be set on a copy of a slice from a DataFrame.\n",
      "Try using .loc[row_indexer,col_indexer] = value instead\n",
      "\n",
      "See the caveats in the documentation: http://pandas.pydata.org/pandas-docs/stable/indexing.html#indexing-view-versus-copy\n"
     ]
    },
    {
     "data": {
      "text/plain": [
       "0.70466666666666666"
      ]
     },
     "execution_count": 158,
     "metadata": {},
     "output_type": "execute_result"
    }
   ],
   "source": [
    "#model using Appointment Month, Abs_DaysBetween, Gender, and Weekday of Appointment\n",
    "\n",
    "feature_cols = ['AppointmentMonth', 'Abs_DaysBetween', 'NumGender', 'Weekday']\n",
    "X = sampled_appt[feature_cols]\n",
    "y = sampled_appt.NumStatus\n",
    "\n",
    "model = Model()\n",
    "model.fit(X, y)\n",
    "sampled_appt['pred'] = model.predict(X)\n",
    "\n",
    "\n",
    "from sklearn.metrics import accuracy_score\n",
    "accuracy_score(sampled_appt.NumStatus, sampled_appt.pred.round())"
   ]
  },
  {
   "cell_type": "markdown",
   "metadata": {},
   "source": [
    "**Observation:** It appears that even with the various models, the most influential factors seem to be age and how many days a patient waited before their appointment. Even when adding in Sms_Reminders didn't seem to improve the accuracy score of the model. The model's accuracy score improved marginally, going from 70.46% to 70.49%, when age was incorporated. \n",
    "\n",
    "This suggests that the previous conclusions reached while we were exploring the dataset didn't hold as true as expected (i.e., that Sms_Reminders really influenced if a person was going to show up or not). "
   ]
  },
  {
   "cell_type": "code",
   "execution_count": null,
   "metadata": {
    "collapsed": true
   },
   "outputs": [],
   "source": []
  },
  {
   "cell_type": "code",
   "execution_count": null,
   "metadata": {
    "collapsed": true
   },
   "outputs": [],
   "source": []
  }
 ],
 "metadata": {
  "kernelspec": {
   "display_name": "Python 3",
   "language": "python",
   "name": "python3"
  },
  "language_info": {
   "codemirror_mode": {
    "name": "ipython",
    "version": 3
   },
   "file_extension": ".py",
   "mimetype": "text/x-python",
   "name": "python",
   "nbconvert_exporter": "python",
   "pygments_lexer": "ipython3",
   "version": "3.6.0"
  }
 },
 "nbformat": 4,
 "nbformat_minor": 2
}
