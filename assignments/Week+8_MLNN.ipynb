{
 "cells": [
  {
   "cell_type": "markdown",
   "metadata": {},
   "source": [
    "# Assignment 8\n",
    "Using any dataset that has a categorical feature that needs to be predicted, use several algorithms, preprocessing techniques, feature extraction techniques to fit the data to the model and show the accuracy, confusion matrix, and the classification report. G\n",
    "https://www.kaggle.com/ntnu-testimon/paysim1\n",
    "https://www.kaggle.com/joniarroba/noshowappointments\n",
    "https://archive.ics.uci.edu/ml/datasets.html?format=&task=cla&att=&area=&numAtt=&numIns=&type=&sort=nameUp&view=table\n",
    "https://archive.ics.uci.edu/ml/datasets/default+of+credit+card+clients\n",
    "https://archive.ics.uci.edu/ml/datasets/Adult"
   ]
  },
  {
   "cell_type": "code",
   "execution_count": 1,
   "metadata": {
    "collapsed": true
   },
   "outputs": [],
   "source": [
    "import numpy as np\n",
    "import matplotlib.pyplot as plt\n",
    "from sklearn import svm, datasets, preprocessing, metrics\n",
    "from sklearn.preprocessing import scale, LabelEncoder, OneHotEncoder\n",
    "import pandas as pd\n",
    "from pandas import Series, DataFrame\n",
    "from pylab import rcParams\n",
    "rcParams['figure.figsize'] = 20, 10"
   ]
  },
  {
   "cell_type": "code",
   "execution_count": 2,
   "metadata": {
    "collapsed": true
   },
   "outputs": [],
   "source": [
    "from sklearn.svm import LinearSVC, SVC\n",
    "from sklearn.linear_model import LogisticRegression\n",
    "from sklearn.model_selection import train_test_split\n",
    "\n",
    "import seaborn as sns\n",
    "from sklearn.linear_model import LogisticRegression as Model\n",
    "\n"
   ]
  },
  {
   "cell_type": "code",
   "execution_count": 3,
   "metadata": {},
   "outputs": [
    {
     "name": "stderr",
     "output_type": "stream",
     "text": [
      "/Users/jMac/anaconda/lib/python3.6/site-packages/sklearn/cross_validation.py:44: DeprecationWarning: This module was deprecated in version 0.18 in favor of the model_selection module into which all the refactored classes and functions are moved. Also note that the interface of the new CV iterators are different from that of this module. This module will be removed in 0.20.\n",
      "  \"This module will be removed in 0.20.\", DeprecationWarning)\n"
     ]
    }
   ],
   "source": [
    "from sklearn.metrics import (accuracy_score, \n",
    "                             classification_report, \n",
    "                             confusion_matrix, auc, roc_curve\n",
    "                            )\n",
    "\n",
    "from sklearn import cross_validation"
   ]
  },
  {
   "cell_type": "markdown",
   "metadata": {},
   "source": [
    "## Dataset: Medical Appointment No Show"
   ]
  },
  {
   "cell_type": "markdown",
   "metadata": {},
   "source": [
    "#### *This dataset, made available on kaggle.com, looks at 15 variables across 300,000 medical appointments.  The goal is to predict if a patient is a no-show to their appointment.  I chose this dataset because it had 15 attributes (varying in data types) and thought it would be an interesting problem...and there would be some munging that would need to be done (e.g., parsing out time of appointment, converting strings to numerical values). I have in the past completely missed appointments because I completely forgot I had one scheduled.*  "
   ]
  },
  {
   "cell_type": "code",
   "execution_count": 4,
   "metadata": {
    "collapsed": true
   },
   "outputs": [],
   "source": [
    "#read in dataset\n",
    "\n",
    "appt = pd.read_csv('/Users/jMac/Documents/ML_Portfolio_Morgia/data/No-show-issue-Comma-300k.csv')\n",
    "appt.dropna(inplace=True) #discards all na values"
   ]
  },
  {
   "cell_type": "code",
   "execution_count": 5,
   "metadata": {},
   "outputs": [
    {
     "data": {
      "text/plain": [
       "['Age',\n",
       " 'Gender',\n",
       " 'AppointmentRegistration',\n",
       " 'ApointmentData',\n",
       " 'DayOfTheWeek',\n",
       " 'Status',\n",
       " 'Diabetes',\n",
       " 'Alcoolism',\n",
       " 'HiperTension',\n",
       " 'Handcap',\n",
       " 'Smokes',\n",
       " 'Scholarship',\n",
       " 'Tuberculosis',\n",
       " 'Sms_Reminder',\n",
       " 'AwaitingTime']"
      ]
     },
     "execution_count": 5,
     "metadata": {},
     "output_type": "execute_result"
    }
   ],
   "source": [
    "list(appt.columns)"
   ]
  },
  {
   "cell_type": "code",
   "execution_count": 6,
   "metadata": {},
   "outputs": [
    {
     "data": {
      "text/plain": [
       "Age                         int64\n",
       "Gender                     object\n",
       "AppointmentRegistration    object\n",
       "ApointmentData             object\n",
       "DayOfTheWeek               object\n",
       "Status                     object\n",
       "Diabetes                    int64\n",
       "Alcoolism                   int64\n",
       "HiperTension                int64\n",
       "Handcap                     int64\n",
       "Smokes                      int64\n",
       "Scholarship                 int64\n",
       "Tuberculosis                int64\n",
       "Sms_Reminder                int64\n",
       "AwaitingTime                int64\n",
       "dtype: object"
      ]
     },
     "execution_count": 6,
     "metadata": {},
     "output_type": "execute_result"
    }
   ],
   "source": [
    "appt.dtypes"
   ]
  },
  {
   "cell_type": "code",
   "execution_count": 7,
   "metadata": {
    "collapsed": true,
    "scrolled": false
   },
   "outputs": [],
   "source": [
    "#noticed a few spelling errors in the file and perhaps better naming conventions for the column.  \n",
    "#This converts the current column names to more useful ones.\n",
    "\n",
    "appt.rename(columns = {'AppointmentRegistration':'Scheduled', \n",
    "                      'ApointmentData':'Appointment',\n",
    "                      'Alcoolism':'Alcoholism',\n",
    "                      'HiperTension':'HyperTension',\n",
    "                      'Handcap':'Handicap', \n",
    "                      'Scholarship':'Aid Recipient',\n",
    "                      'AwaitingTime':'DaysBetween'}, inplace=True)\n"
   ]
  },
  {
   "cell_type": "code",
   "execution_count": 8,
   "metadata": {},
   "outputs": [
    {
     "data": {
      "text/plain": [
       "['Age',\n",
       " 'Gender',\n",
       " 'Scheduled',\n",
       " 'Appointment',\n",
       " 'DayOfTheWeek',\n",
       " 'Status',\n",
       " 'Diabetes',\n",
       " 'Alcoholism',\n",
       " 'HyperTension',\n",
       " 'Handicap',\n",
       " 'Smokes',\n",
       " 'Aid Recipient',\n",
       " 'Tuberculosis',\n",
       " 'Sms_Reminder',\n",
       " 'DaysBetween']"
      ]
     },
     "execution_count": 8,
     "metadata": {},
     "output_type": "execute_result"
    }
   ],
   "source": [
    "list(appt.columns)"
   ]
  },
  {
   "cell_type": "markdown",
   "metadata": {},
   "source": [
    "#### convert strings to numeric. Will do this for gender, dayoftheweek, and status"
   ]
  },
  {
   "cell_type": "code",
   "execution_count": 9,
   "metadata": {},
   "outputs": [
    {
     "data": {
      "text/plain": [
       "array(['M', 'F'], dtype=object)"
      ]
     },
     "execution_count": 9,
     "metadata": {},
     "output_type": "execute_result"
    }
   ],
   "source": [
    "#figure out what values exist in the feature: gender\n",
    "appt['Gender'].unique()"
   ]
  },
  {
   "cell_type": "code",
   "execution_count": 10,
   "metadata": {
    "collapsed": true
   },
   "outputs": [],
   "source": [
    "#use a loop to convert M, F to 0, 1 (note: tried using LabelEncoder, it didn't seem to do the function I wanted it to do, which was number then apply as a new column)\n",
    "\n",
    "def num_Gender(Gender):\n",
    "    if Gender == \"M\":\n",
    "        return 0\n",
    "    elif Gender == \"F\":\n",
    "        return 1\n",
    "\n",
    "#add it to the dataframe\n",
    "appt.Gender.apply(num_Gender).head\n",
    "appt['NumGender'] = appt.Gender.apply(num_Gender)\n",
    "\n"
   ]
  },
  {
   "cell_type": "code",
   "execution_count": null,
   "metadata": {},
   "outputs": [
    {
     "data": {
      "text/plain": [
       "array(['Wednesday', 'Tuesday', 'Thursday', 'Friday', 'Monday', 'Saturday',\n",
       "       'Sunday'], dtype=object)"
      ]
     },
     "execution_count": 11,
     "metadata": {},
     "output_type": "execute_result"
    }
   ],
   "source": [
    "#figure out what values exist for dayoftheweek\n",
    "appt['DayOfTheWeek'].unique()"
   ]
  },
  {
   "cell_type": "code",
   "execution_count": null,
   "metadata": {
    "collapsed": true
   },
   "outputs": [],
   "source": [
    "#converted day of the week to numeric using a loop (to control the assignment of numbers)\n",
    "\n",
    "\n",
    "def num_Weekday(DayOfTheWeek):\n",
    "    if DayOfTheWeek == \"Sunday\":\n",
    "        return 1\n",
    "    elif DayOfTheWeek == \"Monday\":\n",
    "        return 2\n",
    "    elif DayOfTheWeek == \"Tuesday\":\n",
    "        return 3\n",
    "    elif DayOfTheWeek == \"Wednesday\":\n",
    "        return 4\n",
    "    elif DayOfTheWeek == \"Thursday\":\n",
    "        return 5\n",
    "    elif DayOfTheWeek == \"Friday\":\n",
    "        return 6\n",
    "    elif DayOfTheWeek == \"Saturday\":\n",
    "        return 7\n",
    "    \n",
    "#add it to the dataframe\n",
    "appt.DayOfTheWeek.apply(num_Weekday).head\n",
    "appt['Weekday'] = appt.DayOfTheWeek.apply(num_Weekday)\n"
   ]
  },
  {
   "cell_type": "code",
   "execution_count": null,
   "metadata": {},
   "outputs": [],
   "source": [
    "#figure out what values exist for status (should be only 2)\n",
    "\n",
    "appt['Status'].unique()"
   ]
  },
  {
   "cell_type": "code",
   "execution_count": null,
   "metadata": {
    "collapsed": true
   },
   "outputs": [],
   "source": [
    "#convert to a numeric value\n",
    "\n",
    "def num_Status(Status):\n",
    "    if Status == \"No-Show\":\n",
    "        return 0\n",
    "    elif Status == \"Show-Up\":\n",
    "        return 1\n",
    "    \n",
    "#add it to the dataframe\n",
    "appt.Status.apply(num_Status).head\n",
    "appt['NumStatus'] = appt.Status.apply(num_Status)\n",
    "\n"
   ]
  },
  {
   "cell_type": "markdown",
   "metadata": {},
   "source": [
    "#### Now relook at the new(er) dataset"
   ]
  },
  {
   "cell_type": "code",
   "execution_count": null,
   "metadata": {},
   "outputs": [],
   "source": [
    "appt.head()"
   ]
  },
  {
   "cell_type": "markdown",
   "metadata": {},
   "source": [
    "#### Convert and parse out date, time values in Scheduled and Appointment columns."
   ]
  },
  {
   "cell_type": "code",
   "execution_count": null,
   "metadata": {
    "collapsed": true
   },
   "outputs": [],
   "source": []
  },
  {
   "cell_type": "code",
   "execution_count": null,
   "metadata": {
    "collapsed": true
   },
   "outputs": [],
   "source": [
    "#split the Scheduled column (i.e., turn 2014-12-16T14:46:25Z to 2014-12-16 14 46 25 using x.split)\n",
    "\n",
    "def parsed_Scheduled(Scheduled):\n",
    "    for letter in Scheduled:\n",
    "        if letter == \"T\":\n",
    "            Scheduled = Scheduled.replace(letter,\" \")\n",
    "        elif letter == \"Z\":\n",
    "            Scheduled = Scheduled.replace(letter,\"\")\n",
    "    return Scheduled\n",
    "\n",
    "def parsed_Appointment(Appointment):\n",
    "    for letter in Appointment:\n",
    "        if letter == \"T\":\n",
    "            Appointment = Appointment.replace(letter,\" \")\n",
    "        elif letter == \"Z\":\n",
    "            Appointment = Appointment.replace(letter,\"\")\n",
    "    return Appointment"
   ]
  },
  {
   "cell_type": "code",
   "execution_count": null,
   "metadata": {
    "collapsed": true
   },
   "outputs": [],
   "source": [
    "#add it to the dataframe\n",
    "appt.Scheduled.apply(parsed_Scheduled).head\n",
    "appt['ParsedScheduled'] = appt.Scheduled.apply(parsed_Scheduled)\n",
    "appt.Appointment.apply(parsed_Appointment).head\n",
    "appt['ParsedAppointment'] = appt.Appointment.apply(parsed_Appointment)\n",
    "\n"
   ]
  },
  {
   "cell_type": "code",
   "execution_count": null,
   "metadata": {
    "collapsed": true
   },
   "outputs": [],
   "source": [
    "\n",
    "#split off information in appointment\n",
    "appt[['AppointmentDate', 'AppointmentTime']] = pd.DataFrame([ x.split(' ') for x in appt['ParsedAppointment'].tolist() ])\n",
    "\n",
    "appt[['AppointmentYear', 'AppointmentMonth', 'AppointmentDay']] = pd.DataFrame([ x.split('-') for x in appt['AppointmentDate'].tolist() ])"
   ]
  },
  {
   "cell_type": "code",
   "execution_count": null,
   "metadata": {
    "collapsed": true
   },
   "outputs": [],
   "source": [
    "#now split the Scheduled Date and Time\n",
    "appt[['ScheduledDate', 'ScheduledTime']] = pd.DataFrame([ x.split(' ') for x in appt['ParsedScheduled'].tolist() ])\n"
   ]
  },
  {
   "cell_type": "code",
   "execution_count": null,
   "metadata": {},
   "outputs": [],
   "source": [
    "#now split ScheduledDate and ScheduledTime, to allow for more refined investigation (hypothesis: perhaps the hour it was scheduled affects people remembering the appointment)\n",
    "\n",
    "appt[['ScheduledYear', 'ScheduledMonth', 'ScheduledDay']] = pd.DataFrame([ x.split('-') for x in appt['ScheduledDate'].tolist() ])\n",
    "\n",
    "appt[['ScheduledHour', 'ScheduledMinute', 'ScheduledSecond']] = pd.DataFrame([ x.split(':') for x in appt['ScheduledTime'].tolist() ])\n",
    "\n",
    "appt.head()"
   ]
  },
  {
   "cell_type": "markdown",
   "metadata": {},
   "source": [
    "**Note:** Apparently there is no useful time stamp on the Appointment time (likely because the default was 00:00:00Z)"
   ]
  },
  {
   "cell_type": "code",
   "execution_count": null,
   "metadata": {},
   "outputs": [],
   "source": [
    "#now we should convert the Days Between appointment Scheduled and Appointment Date to absolute values (instead of negative integers)\n",
    "\n",
    "abs_DaysBetween = appt.DaysBetween.abs()\n",
    "\n",
    "#add it to the dataframe\n",
    "appt['Abs_DaysBetween'] = abs_DaysBetween\n",
    "appt.head()"
   ]
  },
  {
   "cell_type": "code",
   "execution_count": null,
   "metadata": {},
   "outputs": [],
   "source": [
    "appt.dtypes"
   ]
  },
  {
   "cell_type": "code",
   "execution_count": null,
   "metadata": {
    "collapsed": true
   },
   "outputs": [],
   "source": [
    "#odd that the numerical features I created turned out into object, let's fix that...\n",
    "appt[\"AppointmentYear\"] = pd.to_numeric(appt[\"AppointmentYear\"], errors=\"coerce\").fillna(0).astype(\"int64\")\n",
    "appt[\"AppointmentMonth\"] = pd.to_numeric(appt[\"AppointmentMonth\"], errors=\"coerce\").fillna(0).astype(\"int64\")\n",
    "appt[\"AppointmentDay\"] = pd.to_numeric(appt[\"AppointmentDay\"], errors=\"coerce\").fillna(0).astype(\"int64\")\n",
    "appt[\"ScheduledHour\"] = pd.to_numeric(appt[\"ScheduledHour\"], errors=\"coerce\").fillna(0).astype(\"int64\")\n",
    "appt[\"ScheduledMinute\"] = pd.to_numeric(appt[\"ScheduledMinute\"], errors=\"coerce\").fillna(0).astype(\"int64\")\n",
    "appt[\"ScheduledSecond\"] = pd.to_numeric(appt[\"ScheduledSecond\"], errors=\"coerce\").fillna(0).astype(\"int64\")\n",
    "appt[\"ScheduledYear\"] = pd.to_numeric(appt[\"ScheduledYear\"], errors=\"coerce\").fillna(0).astype(\"int64\")\n",
    "appt[\"ScheduledMonth\"] = pd.to_numeric(appt[\"ScheduledMonth\"], errors=\"coerce\").fillna(0).astype(\"int64\")\n",
    "appt[\"ScheduledDay\"] = pd.to_numeric(appt[\"ScheduledDay\"], errors=\"coerce\").fillna(0).astype(\"int64\")\n",
    "\n",
    "#Not all features need to be changed from objects to numeric because I don't plan on using them for the analysis."
   ]
  },
  {
   "cell_type": "code",
   "execution_count": null,
   "metadata": {},
   "outputs": [],
   "source": [
    "#see which columns are numeric\n",
    "\n",
    "num_columns = [col for col, dtype in zip(appt.columns, appt.dtypes) if dtype != 'object']\n",
    "num_columns\n"
   ]
  },
  {
   "cell_type": "code",
   "execution_count": null,
   "metadata": {},
   "outputs": [],
   "source": [
    "len(num_columns)"
   ]
  },
  {
   "cell_type": "code",
   "execution_count": null,
   "metadata": {},
   "outputs": [],
   "source": [
    "appt.head()"
   ]
  },
  {
   "cell_type": "markdown",
   "metadata": {},
   "source": [
    "#### Horray! Now we have parsed out data, formatted, and ready to analyze...with 23 features to play with."
   ]
  },
  {
   "cell_type": "markdown",
   "metadata": {},
   "source": [
    "## Exploring the data (getting a better feel for how it's distributed, etc)"
   ]
  },
  {
   "cell_type": "markdown",
   "metadata": {},
   "source": [
    "##### (1) How many times have we observed a missed appointment in the dataset?"
   ]
  },
  {
   "cell_type": "code",
   "execution_count": null,
   "metadata": {},
   "outputs": [],
   "source": [
    "appt.Status.value_counts()"
   ]
  },
  {
   "cell_type": "markdown",
   "metadata": {},
   "source": [
    "**Observation:** According to the Status feature, patients miss the appointment 43% of the time!  That's shockingly high (and I guess creates quite a bit of revenue for a clinic)."
   ]
  },
  {
   "cell_type": "markdown",
   "metadata": {},
   "source": [
    "##### (2) Which day is the most frequent for appointments?"
   ]
  },
  {
   "cell_type": "code",
   "execution_count": null,
   "metadata": {},
   "outputs": [],
   "source": [
    "import matplotlib.pyplot as plt\n",
    "%matplotlib inline\n",
    "sns.set(font_scale=1.5)\n",
    "\n",
    "sns.countplot(x='DayOfTheWeek', data=appt)"
   ]
  },
  {
   "cell_type": "markdown",
   "metadata": {},
   "source": [
    "**Observation:** It appears that all of the weekdays are quite popular with Wednesday being the most and Friday as the least.  Wednesday and Tuesday appear to be very close. There are probably only a few places open on Saturday, which is why we see some values (I don't think I'll really use that portion of the data because it seems to be an outlier)."
   ]
  },
  {
   "cell_type": "markdown",
   "metadata": {},
   "source": [
    "##### (3) What time is the most popular for scheduling?  (by hour and month)"
   ]
  },
  {
   "cell_type": "code",
   "execution_count": null,
   "metadata": {},
   "outputs": [],
   "source": [
    "sns.countplot(x='ScheduledHour', data=appt)"
   ]
  },
  {
   "cell_type": "code",
   "execution_count": null,
   "metadata": {},
   "outputs": [],
   "source": [
    "sns.countplot(x='ScheduledMonth', data=appt)"
   ]
  },
  {
   "cell_type": "markdown",
   "metadata": {},
   "source": [
    "##### How about for appointments? (Month only because hour is nonexistent)\n"
   ]
  },
  {
   "cell_type": "code",
   "execution_count": null,
   "metadata": {},
   "outputs": [],
   "source": [
    "sns.countplot(x='AppointmentMonth', data=appt)"
   ]
  },
  {
   "cell_type": "markdown",
   "metadata": {},
   "source": [
    "**Observation:** It appears that the most popular time for scheduling appointments is early in the morning or in the midafternoon.  The most popular month for scheduling these appointments (though there's not a ton of deviation) is May and July-October.  The appointment dates roughly follow the scheduling dates."
   ]
  },
  {
   "cell_type": "code",
   "execution_count": null,
   "metadata": {},
   "outputs": [],
   "source": [
    "sns.countplot(x=\"DayOfTheWeek\", hue='Status', data=appt)"
   ]
  },
  {
   "cell_type": "code",
   "execution_count": null,
   "metadata": {},
   "outputs": [],
   "source": [
    "sns.countplot(x=\"ScheduledMonth\", hue='Status', data=appt)"
   ]
  },
  {
   "cell_type": "code",
   "execution_count": null,
   "metadata": {},
   "outputs": [],
   "source": [
    "sns.countplot(x=\"ScheduledYear\", hue='Status', data=appt)"
   ]
  },
  {
   "cell_type": "code",
   "execution_count": null,
   "metadata": {},
   "outputs": [],
   "source": [
    "sns.countplot(x=\"AppointmentMonth\", hue='Status', data=appt)"
   ]
  },
  {
   "cell_type": "code",
   "execution_count": null,
   "metadata": {},
   "outputs": [],
   "source": [
    "sns.countplot(x=\"AppointmentYear\", hue='Status', data=appt)"
   ]
  },
  {
   "cell_type": "markdown",
   "metadata": {},
   "source": [
    "**Observation:** Even when parsing out by Status, it shows a relatively consistent change in status throughout the year. Does this mean that each month a little less than half of the scheduled patients don't show up to their appointments? (also need to discard 2013 ScheduledYear information, because there's too little data for that time)"
   ]
  },
  {
   "cell_type": "markdown",
   "metadata": {},
   "source": [
    "##### (4) Let's take a look at the data by looking at how the the status is affected by the days between the scheduling and the appointment.  Are there points in time where this is more likely to occur?"
   ]
  },
  {
   "cell_type": "code",
   "execution_count": null,
   "metadata": {},
   "outputs": [],
   "source": [
    "max(appt.Abs_DaysBetween)\n"
   ]
  },
  {
   "cell_type": "code",
   "execution_count": null,
   "metadata": {},
   "outputs": [],
   "source": [
    "min(appt.Abs_DaysBetween)"
   ]
  },
  {
   "cell_type": "code",
   "execution_count": null,
   "metadata": {},
   "outputs": [],
   "source": [
    "fig, ax = plt.subplots()\n",
    "#remember that 0 is no-show and 1 is a show-up\n",
    "appt[appt.NumStatus==0].plot(kind='scatter', x='AppointmentMonth', y='Abs_DaysBetween', color='red', alpha=0.1, ax=ax)\n",
    "appt[appt.NumStatus==1].plot(kind='scatter', x='AppointmentMonth', y='Abs_DaysBetween', color='yellow', alpha=0.1, ax=ax)"
   ]
  },
  {
   "cell_type": "code",
   "execution_count": null,
   "metadata": {},
   "outputs": [],
   "source": [
    "fig, ax = plt.subplots()\n",
    "#remember that 0 is no-show and 1 is a show-up\n",
    "appt[appt.NumStatus==0].plot(kind='scatter', x='Sms_Reminder', y='Abs_DaysBetween', color='red', alpha=0.1, ax=ax)\n",
    "appt[appt.NumStatus==1].plot(kind='scatter', x='Sms_Reminder', y='Abs_DaysBetween', color='yellow', alpha=0.1, ax=ax)"
   ]
  },
  {
   "cell_type": "code",
   "execution_count": null,
   "metadata": {},
   "outputs": [],
   "source": [
    "appt[appt.NumStatus==0].Abs_DaysBetween.hist(bins=np.arange(0,50,1), alpha=.4) #dark green, no-show\n",
    "appt[appt.NumStatus==1].Abs_DaysBetween.hist(bins=np.arange(0,50,1), alpha=.4) #light green, show-up\n"
   ]
  },
  {
   "cell_type": "markdown",
   "metadata": {},
   "source": [
    "**Observation:** So it appears that the longer the time passes between the scheduling of an appointment and the appointment date, the more likely folks are to miss their appointment. The second plot clearly shows that the text message reminders are more effective and probably encourage people to schedule these visits more frequently? The third plot shows the ratio between those who show up and those who do not. Porportionally there seems to be a greater probability of folks not showing up to their appointment the further apart the scheduled date is from the appointment date.\n"
   ]
  },
  {
   "cell_type": "markdown",
   "metadata": {
    "collapsed": true
   },
   "source": [
    "## Data Analysis:  Building a Model to Predict No-Shows"
   ]
  },
  {
   "cell_type": "markdown",
   "metadata": {
    "collapsed": true
   },
   "source": [
    "### incorporate accuracy score, classification, and confusion matrix"
   ]
  },
  {
   "cell_type": "markdown",
   "metadata": {
    "collapsed": true
   },
   "source": [
    "Given how the data is distributed when looking at it through various temporal features (scheduled hour, time between schedule and appointment, month of appointment), it appears that a SVM and a Linear Regression approach should be tried. "
   ]
  },
  {
   "cell_type": "markdown",
   "metadata": {
    "collapsed": true
   },
   "source": [
    "### SVM Model"
   ]
  },
  {
   "cell_type": "code",
   "execution_count": null,
   "metadata": {
    "collapsed": true
   },
   "outputs": [],
   "source": []
  },
  {
   "cell_type": "code",
   "execution_count": null,
   "metadata": {
    "collapsed": true
   },
   "outputs": [],
   "source": [
    "#creates a subplot...colored background\n",
    "\n",
    "def plot_svm(i, clf, title, X, y, col1, col2):\n",
    "    \n",
    "    h = .2  # step size in the mesh\n",
    "    # create a mesh to plot in\n",
    "    x_min, x_max = X[col1].min() - 1, X[col1].max() + 1\n",
    "    y_min, y_max = X[col2].min() - 1, X[col2].max() + 1\n",
    "    xx, yy = np.meshgrid(np.arange(x_min, x_max, h), np.arange(y_min, y_max, h))\n",
    "    grid_stack = np.stack([xx.flatten(), yy.flatten()]).T\n",
    "\n",
    "    x1 = X[col1]\n",
    "    x2 = X[col2]\n",
    "    # Plot the decision boundary. For that, we will assign a color to each\n",
    "    # point in the mesh [x_min, x_max]x[y_min, y_max].\n",
    "    plt.subplot(2, 2, i + 1)\n",
    "    plt.subplots_adjust(wspace=0.4, hspace=0.4)\n",
    "\n",
    "    Z = clf.predict(scale(grid_stack)).reshape(xx.shape)\n",
    "    # Put the result into a color plot\n",
    "    plt.contourf(xx, yy, Z, cmap=plt.cm.coolwarm, alpha=0.8)\n",
    "    x_s = preprocessing.scale(X)\n",
    "\n",
    "    # Plot also the training points\n",
    "    plt.scatter(x1, x2, c=y, cmap=plt.cm.coolwarm)\n",
    "    \n",
    "    plt.xlabel(col1)\n",
    "    plt.ylabel(col2)\n",
    "    plt.title(title)"
   ]
  },
  {
   "cell_type": "code",
   "execution_count": null,
   "metadata": {
    "collapsed": true
   },
   "outputs": [],
   "source": [
    "#lets build our inital model looking at the relationship among a patients' Show status, Days Between schedule and appointment, and if a person recieved SMS reminders.\n",
    "col1, col2 ='Abs_DaysBetween', 'Sms_Reminder'\n",
    "\n",
    "X = appt[[col1, col2]]                    \n",
    "y = appt['NumStatus']\n",
    "# create a model to predict if a patient is a no-show.\n",
    "# we create an instance of SVM and fit out data. We do not scale our data since we want to plot the support vectors\n",
    "\n",
    "svc = svm.SVC(kernel='linear', C=1.0).fit(scale(X), y)\n",
    "# model = fitting\n",
    "\n",
    "plot_svm(0, svc,'SVC with linear kernel' , X, y, col1, col2)\n",
    "\n",
    "\n",
    "plt.show()"
   ]
  },
  {
   "cell_type": "code",
   "execution_count": null,
   "metadata": {
    "collapsed": true
   },
   "outputs": [],
   "source": []
  },
  {
   "cell_type": "code",
   "execution_count": null,
   "metadata": {
    "collapsed": true
   },
   "outputs": [],
   "source": []
  },
  {
   "cell_type": "code",
   "execution_count": null,
   "metadata": {
    "collapsed": true
   },
   "outputs": [],
   "source": []
  },
  {
   "cell_type": "code",
   "execution_count": null,
   "metadata": {
    "collapsed": true
   },
   "outputs": [],
   "source": []
  },
  {
   "cell_type": "code",
   "execution_count": null,
   "metadata": {
    "collapsed": true
   },
   "outputs": [],
   "source": []
  },
  {
   "cell_type": "code",
   "execution_count": null,
   "metadata": {
    "collapsed": true
   },
   "outputs": [],
   "source": []
  },
  {
   "cell_type": "code",
   "execution_count": null,
   "metadata": {
    "collapsed": true
   },
   "outputs": [],
   "source": []
  },
  {
   "cell_type": "code",
   "execution_count": null,
   "metadata": {
    "collapsed": true
   },
   "outputs": [],
   "source": []
  },
  {
   "cell_type": "code",
   "execution_count": null,
   "metadata": {
    "collapsed": true
   },
   "outputs": [],
   "source": []
  },
  {
   "cell_type": "code",
   "execution_count": null,
   "metadata": {
    "collapsed": true
   },
   "outputs": [],
   "source": []
  },
  {
   "cell_type": "code",
   "execution_count": null,
   "metadata": {
    "collapsed": true
   },
   "outputs": [],
   "source": []
  },
  {
   "cell_type": "code",
   "execution_count": null,
   "metadata": {
    "collapsed": true
   },
   "outputs": [],
   "source": []
  }
 ],
 "metadata": {
  "kernelspec": {
   "display_name": "Python 3",
   "language": "python",
   "name": "python3"
  },
  "language_info": {
   "codemirror_mode": {
    "name": "ipython",
    "version": 3
   },
   "file_extension": ".py",
   "mimetype": "text/x-python",
   "name": "python",
   "nbconvert_exporter": "python",
   "pygments_lexer": "ipython3",
   "version": "3.6.1"
  }
 },
 "nbformat": 4,
 "nbformat_minor": 2
}
