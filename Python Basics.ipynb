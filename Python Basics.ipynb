### Use pandas and numpy for data import and structuring. You can also use both libraries for basic descriptive statistics. 


# Setting up the Libraries

import numpy as np
import pandas as pd

### remember that you will use np and pd to call on these libraries in your code

# Creating objects

## Series, where s is the object and the series includes these numbers.  Note that np.nan means that you will fill in an empty value with NaN

 s = pd.Series([1, 3, 5, np.nan, 6, 8])

Out[4]: 
0    1.0
1    3.0
2    5.0
3    NaN
4    6.0
5    8.0
dtype: float64

# Creating DataFrame

## Create a DataFrame to place your data into tabular form (i.e., rows and columns). Below is creating the variable (Dates) with intervals.  The dataframe will place entries randomly into one of the four columns

dates = pd.date_range('20130101', periods=6)
df = pd.DataFrame(np.random.randn(6,4), index=dates, columns=list('ABCD'))

## you can also read in and export to csv

df.to_csv('test.csv')
pd.read_csv('test,csv').head()

## in practice.  Reads in csv and outputs the column names 

df = pd.read_csv('FILE PATH')
df.columns

## another example where I define new columns and format them as date-time format. Then I create a new column and it's appended to the df Trips

trips = pd.read_csv('../data/2016-Q1-cabi-trip-history-data.csv')
trips.head()
trips['start'] = pd.to_datetime(trips['Start date'], infer_datetime_format=True)
trips['end'] = pd.to_datetime(trips['End date'], infer_datetime_format=True)

### add in new column which represents hour of day

trips['hour_of_day'] = (trips.start.dt.hour + (trips.start.dt.minute/60).round(2))
trips.head()

## View your new table with the following

df.head ()
df.tail (3) ### returns the last 3 rows
df.append(SERIES, ignore_index=TRUE) ### append additional rows
df['NEW VARIABLE']  = called variable ### creates a column and adds it to existing dataframe

### the following will give you an index, the column names, values, or basic descriptive statistics

df.index
df.columns ### returns column names
df.values
df.describe() ### returns descriptive statistics for each column (count, mean, stdev, min, quartiles)
pd.value_counts(df['COLUMN'].values) ### returns the counts of values in the column


### if you want to transpose your dataframe (switch the order of rows and columns use the following)

df.T

## How to Sort your DataFrame

df.sort_index(axis_1, ascending=False)   ### this sorts by the first column (the name of the rows)

df.sort_values(by='B')  ### this is an ascending sort on the values in column B

## For missing data

df.dropna(how='any')  ### drops any rows missing data
df.fillna(value=7) ### fills in any missing values with 7

# Descriptive Statistics

df.mean()
df.mean(axis = 1) ### finds the means of the 1st column

VARIABLE.value_counts ### returns frequencies of values

# Using a dictionary to keep track of the count of things

def counts(my_list):
    counts = dict()
    for item in my_list:  counts[item] = counts.get(item, 0) + 1
        #do something with item!
    
    return counts

counts([1,2,1,4,3,2,5,9])

### as the above included a for loop, the loop iterates over each of the numbers in the list. The dictionary keeps track of each instance of the number and the operation counts. get cycles through each item and counts the number it appears in the list, and then goes to the next number up and counts that number.

# Using Numpy

## Find the mean of your list 
simple_list = [1,2,1,4,3,2,5,9]

np.mean(simple_list)

## Build an array, a matrix to keep your data together
### create an large length array
np.random.randn(100,10)

# plot things using Pyplot library

import matplotlib.pyplot as plt

### the following plots a histogram

rng = np.random.RandomState(10)
a = np.hstack((rng.normal(size=1000),
              rng.normal(loc=5,scale=1, size=1000)
))

plt.hist(a, bins='auto')
plt.title("Histogram of Array")
plt.show

### the following plots a line graph (remember to set your x and y variables)
plt.plot(x,y)

### plots a scatter plot
plt.scatter(x,y)

# Converting columns into numerical feature columns

### This example runs an if loop through columns in the ChestPain column in our dataframe. 

def chestpain_type(s):
    if s == "typical":
        return 0
    if s == "nontypical":
        return 1
    if s == "asymptomatic":
        return 2
    if s == "nonanginal":
        return 3

heart.ChestPain.apply(chestpain_type).head()

### Now we add in the column for our numerical findings

heart['ChestPain_Type'] = heart.ChestPain.apply(chestpain_type)
heart.head()

